{
 "cells": [
  {
   "cell_type": "code",
   "execution_count": 1,
   "metadata": {},
   "outputs": [],
   "source": [
    "import pandas as pd\n",
    "import numpy as np\n",
    "import matplotlib.pyplot as plt\n",
    "import seaborn as sns\n",
    "%matplotlib inline\n",
    "\n",
    "import math\n",
    "from sklearn.model_selection import train_test_split\n",
    "from sklearn.metrics import precision_recall_curve, mean_squared_error\n",
    "from sklearn.linear_model import LogisticRegression\n",
    "from sklearn.feature_extraction.text import CountVectorizer, TfidfVectorizer\n",
    "from joblib import dump, load\n",
    "\n",
    "from nltk.tokenize import RegexpTokenizer\n",
    "from sklearn.decomposition import TruncatedSVD\n",
    "import xgboost as xgb"
   ]
  },
  {
   "cell_type": "code",
   "execution_count": 2,
   "metadata": {},
   "outputs": [
    {
     "name": "stderr",
     "output_type": "stream",
     "text": [
      "/usr/lib/python3/dist-packages/ipykernel_launcher.py:7: FutureWarning: Sorting because non-concatenation axis is not aligned. A future version\n",
      "of pandas will change to not sort by default.\n",
      "\n",
      "To accept the future behavior, pass 'sort=False'.\n",
      "\n",
      "To retain the current behavior and silence the warning, pass 'sort=True'.\n",
      "\n",
      "  import sys\n"
     ]
    }
   ],
   "source": [
    "train = pd.read_csv('data/train.csv')\n",
    "test = pd.read_csv('data/test.csv')\n",
    "\n",
    "train['train_test'] = 'train'\n",
    "test['train_test'] = 'test'\n",
    "\n",
    "data = pd.concat([train, test])"
   ]
  },
  {
   "cell_type": "code",
   "execution_count": 3,
   "metadata": {},
   "outputs": [
    {
     "data": {
      "text/plain": [
       "(258210, 16)"
      ]
     },
     "execution_count": 3,
     "metadata": {},
     "output_type": "execute_result"
    }
   ],
   "source": [
    "data.shape"
   ]
  },
  {
   "cell_type": "code",
   "execution_count": 4,
   "metadata": {},
   "outputs": [
    {
     "data": {
      "text/plain": [
       "(83210, 16)"
      ]
     },
     "execution_count": 4,
     "metadata": {},
     "output_type": "execute_result"
    }
   ],
   "source": [
    "test.shape"
   ]
  },
  {
   "cell_type": "code",
   "execution_count": 5,
   "metadata": {},
   "outputs": [
    {
     "data": {
      "text/html": [
       "<div>\n",
       "<style scoped>\n",
       "    .dataframe tbody tr th:only-of-type {\n",
       "        vertical-align: middle;\n",
       "    }\n",
       "\n",
       "    .dataframe tbody tr th {\n",
       "        vertical-align: top;\n",
       "    }\n",
       "\n",
       "    .dataframe thead th {\n",
       "        text-align: right;\n",
       "    }\n",
       "</style>\n",
       "<table border=\"1\" class=\"dataframe\">\n",
       "  <thead>\n",
       "    <tr style=\"text-align: right;\">\n",
       "      <th></th>\n",
       "      <th>country</th>\n",
       "      <th>description</th>\n",
       "      <th>designation</th>\n",
       "      <th>id</th>\n",
       "      <th>index</th>\n",
       "      <th>points</th>\n",
       "      <th>price</th>\n",
       "      <th>province</th>\n",
       "      <th>region_1</th>\n",
       "      <th>region_2</th>\n",
       "      <th>taster_name</th>\n",
       "      <th>taster_twitter_handle</th>\n",
       "      <th>title</th>\n",
       "      <th>train_test</th>\n",
       "      <th>variety</th>\n",
       "      <th>winery</th>\n",
       "    </tr>\n",
       "  </thead>\n",
       "  <tbody>\n",
       "    <tr>\n",
       "      <th>0</th>\n",
       "      <td>Portugal</td>\n",
       "      <td>This is a fine rich balanced wine. It has ripe...</td>\n",
       "      <td>Vila Santa Reserva</td>\n",
       "      <td>32027</td>\n",
       "      <td>NaN</td>\n",
       "      <td>88.870874</td>\n",
       "      <td>20.0</td>\n",
       "      <td>Alentejano</td>\n",
       "      <td>NaN</td>\n",
       "      <td>NaN</td>\n",
       "      <td>NaN</td>\n",
       "      <td>NaN</td>\n",
       "      <td>NaN</td>\n",
       "      <td>train</td>\n",
       "      <td>PORTUGUESE RED</td>\n",
       "      <td>J. Portugal Ramos</td>\n",
       "    </tr>\n",
       "    <tr>\n",
       "      <th>1</th>\n",
       "      <td>France</td>\n",
       "      <td>A solid, chunky wine, with a structure that is...</td>\n",
       "      <td>NaN</td>\n",
       "      <td>71079</td>\n",
       "      <td>NaN</td>\n",
       "      <td>88.041695</td>\n",
       "      <td>28.0</td>\n",
       "      <td>Bordeaux</td>\n",
       "      <td>Lalande de Pomerol</td>\n",
       "      <td>NaN</td>\n",
       "      <td>NaN</td>\n",
       "      <td>NaN</td>\n",
       "      <td>NaN</td>\n",
       "      <td>train</td>\n",
       "      <td>BORDEAUX-STYLE RED BLEND</td>\n",
       "      <td>Château Tour Grand Colombier</td>\n",
       "    </tr>\n",
       "    <tr>\n",
       "      <th>2</th>\n",
       "      <td>France</td>\n",
       "      <td>This is powerful and concentrated, with the hi...</td>\n",
       "      <td>NaN</td>\n",
       "      <td>32440</td>\n",
       "      <td>NaN</td>\n",
       "      <td>94.085021</td>\n",
       "      <td>130.0</td>\n",
       "      <td>Bordeaux</td>\n",
       "      <td>Saint-Émilion</td>\n",
       "      <td>NaN</td>\n",
       "      <td>NaN</td>\n",
       "      <td>NaN</td>\n",
       "      <td>NaN</td>\n",
       "      <td>train</td>\n",
       "      <td>BORDEAUX-STYLE RED BLEND</td>\n",
       "      <td>Château Figeac</td>\n",
       "    </tr>\n",
       "    <tr>\n",
       "      <th>3</th>\n",
       "      <td>US</td>\n",
       "      <td>Rich, ripe and oaky, this Petite Sirah charms ...</td>\n",
       "      <td>Thompson Vineyard</td>\n",
       "      <td>124405</td>\n",
       "      <td>NaN</td>\n",
       "      <td>89.869797</td>\n",
       "      <td>34.0</td>\n",
       "      <td>California</td>\n",
       "      <td>Santa Barbara County</td>\n",
       "      <td>Central Coast</td>\n",
       "      <td>NaN</td>\n",
       "      <td>NaN</td>\n",
       "      <td>Jaffurs 2010 Thompson Vineyard Petite Sirah (S...</td>\n",
       "      <td>train</td>\n",
       "      <td>PETITE SIRAH</td>\n",
       "      <td>Jaffurs</td>\n",
       "    </tr>\n",
       "    <tr>\n",
       "      <th>4</th>\n",
       "      <td>US</td>\n",
       "      <td>This wine is a unique in the state blend and f...</td>\n",
       "      <td>McKinley Springs Vineyard</td>\n",
       "      <td>33649</td>\n",
       "      <td>NaN</td>\n",
       "      <td>89.017651</td>\n",
       "      <td>24.0</td>\n",
       "      <td>Washington</td>\n",
       "      <td>Horse Heaven Hills</td>\n",
       "      <td>Columbia Valley</td>\n",
       "      <td>Sean P. Sullivan</td>\n",
       "      <td>@wawinereport</td>\n",
       "      <td>Syncline 2016 McKinley Springs Vineyard Rosé (...</td>\n",
       "      <td>train</td>\n",
       "      <td>ROSé</td>\n",
       "      <td>Syncline</td>\n",
       "    </tr>\n",
       "  </tbody>\n",
       "</table>\n",
       "</div>"
      ],
      "text/plain": [
       "    country                                        description  \\\n",
       "0  Portugal  This is a fine rich balanced wine. It has ripe...   \n",
       "1    France  A solid, chunky wine, with a structure that is...   \n",
       "2    France  This is powerful and concentrated, with the hi...   \n",
       "3        US  Rich, ripe and oaky, this Petite Sirah charms ...   \n",
       "4        US  This wine is a unique in the state blend and f...   \n",
       "\n",
       "                 designation      id  index     points  price    province  \\\n",
       "0         Vila Santa Reserva   32027    NaN  88.870874   20.0  Alentejano   \n",
       "1                        NaN   71079    NaN  88.041695   28.0    Bordeaux   \n",
       "2                        NaN   32440    NaN  94.085021  130.0    Bordeaux   \n",
       "3          Thompson Vineyard  124405    NaN  89.869797   34.0  California   \n",
       "4  McKinley Springs Vineyard   33649    NaN  89.017651   24.0  Washington   \n",
       "\n",
       "               region_1         region_2       taster_name  \\\n",
       "0                   NaN              NaN               NaN   \n",
       "1    Lalande de Pomerol              NaN               NaN   \n",
       "2         Saint-Émilion              NaN               NaN   \n",
       "3  Santa Barbara County    Central Coast               NaN   \n",
       "4    Horse Heaven Hills  Columbia Valley  Sean P. Sullivan   \n",
       "\n",
       "  taster_twitter_handle                                              title  \\\n",
       "0                   NaN                                                NaN   \n",
       "1                   NaN                                                NaN   \n",
       "2                   NaN                                                NaN   \n",
       "3                   NaN  Jaffurs 2010 Thompson Vineyard Petite Sirah (S...   \n",
       "4         @wawinereport  Syncline 2016 McKinley Springs Vineyard Rosé (...   \n",
       "\n",
       "  train_test                   variety                        winery  \n",
       "0      train            PORTUGUESE RED             J. Portugal Ramos  \n",
       "1      train  BORDEAUX-STYLE RED BLEND  Château Tour Grand Colombier  \n",
       "2      train  BORDEAUX-STYLE RED BLEND                Château Figeac  \n",
       "3      train              PETITE SIRAH                       Jaffurs  \n",
       "4      train                      ROSé                      Syncline  "
      ]
     },
     "execution_count": 5,
     "metadata": {},
     "output_type": "execute_result"
    }
   ],
   "source": [
    "data.head()"
   ]
  },
  {
   "cell_type": "code",
   "execution_count": 6,
   "metadata": {},
   "outputs": [
    {
     "data": {
      "text/plain": [
       "0    California\n",
       "dtype: object"
      ]
     },
     "execution_count": 6,
     "metadata": {},
     "output_type": "execute_result"
    }
   ],
   "source": [
    "data['province'].mode()"
   ]
  },
  {
   "cell_type": "code",
   "execution_count": 7,
   "metadata": {},
   "outputs": [],
   "source": [
    "data.variety.fillna(value='PINOT NOIR', inplace=True)"
   ]
  },
  {
   "cell_type": "code",
   "execution_count": 8,
   "metadata": {},
   "outputs": [],
   "source": [
    "data.province.fillna(value='California', inplace=True)"
   ]
  },
  {
   "cell_type": "code",
   "execution_count": 9,
   "metadata": {},
   "outputs": [],
   "source": [
    "#data = data[pd.notnull(data['variety'])]\n",
    "#data = data[pd.notnull(data['province'])]"
   ]
  },
  {
   "cell_type": "code",
   "execution_count": 10,
   "metadata": {},
   "outputs": [
    {
     "name": "stdout",
     "output_type": "stream",
     "text": [
      "<class 'pandas.core.frame.DataFrame'>\n",
      "Int64Index: 258210 entries, 0 to 83209\n",
      "Data columns (total 16 columns):\n",
      "country                  258146 non-null object\n",
      "description              258210 non-null object\n",
      "designation              181120 non-null object\n",
      "id                       258210 non-null int64\n",
      "index                    83210 non-null float64\n",
      "points                   258210 non-null float64\n",
      "price                    175000 non-null float64\n",
      "province                 258210 non-null object\n",
      "region_1                 215793 non-null object\n",
      "region_2                 110996 non-null object\n",
      "taster_name              258210 non-null object\n",
      "taster_twitter_handle    91559 non-null object\n",
      "title                    120975 non-null object\n",
      "train_test               258210 non-null object\n",
      "variety                  258210 non-null object\n",
      "winery                   258210 non-null object\n",
      "dtypes: float64(3), int64(1), object(12)\n",
      "memory usage: 33.5+ MB\n"
     ]
    }
   ],
   "source": [
    "data.taster_name.fillna(value='Roger Voss', inplace=True)\n",
    "data.info()"
   ]
  },
  {
   "cell_type": "code",
   "execution_count": 11,
   "metadata": {},
   "outputs": [
    {
     "name": "stdout",
     "output_type": "stream",
     "text": [
      "<class 'pandas.core.frame.DataFrame'>\n",
      "Int64Index: 258210 entries, 0 to 83209\n",
      "Data columns (total 16 columns):\n",
      "country                  258146 non-null object\n",
      "description              258210 non-null object\n",
      "designation              181120 non-null object\n",
      "id                       258210 non-null int64\n",
      "index                    83210 non-null float64\n",
      "points                   258210 non-null float64\n",
      "price                    175000 non-null float64\n",
      "province                 258210 non-null object\n",
      "region_1                 215793 non-null object\n",
      "region_2                 110996 non-null object\n",
      "taster_name              258210 non-null object\n",
      "taster_twitter_handle    91559 non-null object\n",
      "title                    258210 non-null object\n",
      "train_test               258210 non-null object\n",
      "variety                  258210 non-null object\n",
      "winery                   258210 non-null object\n",
      "dtypes: float64(3), int64(1), object(12)\n",
      "memory usage: 33.5+ MB\n"
     ]
    }
   ],
   "source": [
    "data.title.fillna(value='Gloria Ferrer NV Sonoma Brut Sparkling (Sonoma County)', inplace=True)\n",
    "data.info()"
   ]
  },
  {
   "cell_type": "code",
   "execution_count": 12,
   "metadata": {},
   "outputs": [],
   "source": [
    "data['province'] = pd.Categorical(data['province'])\n",
    "proDummies = pd.get_dummies(data['province'], prefix = 'prov')\n",
    "\n",
    "data['country'] = pd.Categorical(data['country'])\n",
    "countDummies = pd.get_dummies(data['country'], prefix = 'country')\n",
    "\n",
    "data['variety'] = pd.Categorical(data['variety'])\n",
    "varDummies = pd.get_dummies(data['variety'], prefix = 'variety')\n",
    "\n",
    "data['taster_name'] = pd.Categorical(data['taster_name'])\n",
    "tastDummies = pd.get_dummies(data['taster_name'], prefix = 'taster')\n",
    "\n",
    "#data['title'] = pd.Categorical(data['title'])\n",
    "#titleDummies = pd.get_dummies(data['title'], prefix = 'title')"
   ]
  },
  {
   "cell_type": "code",
   "execution_count": 13,
   "metadata": {},
   "outputs": [],
   "source": [
    "def getQuality(points):\n",
    "    if(points <= 85):\n",
    "        return 'bad'\n",
    "    elif(points<=90 ):\n",
    "        return 'ok'\n",
    "    elif(points<=95):\n",
    "        return 'good'\n",
    "    elif(points<=102):\n",
    "        return 'great'\n",
    "    else:\n",
    "        return 'If this gets hit, we did something wrong!'"
   ]
  },
  {
   "cell_type": "code",
   "execution_count": 14,
   "metadata": {},
   "outputs": [],
   "source": [
    "data['quality'] = data['points'].apply(getQuality)\n",
    "cleanup_nums = {\"quality\":     {\"ok\": 2, \"good\": 3, \"bad\": 1, \"great\": 4},\n",
    "                \"priceRange\": {\"1-30\": 1, \"31-50\": 2, \"51-100\": 3, \"Above 100\": 4}}\n",
    "\n",
    "data.replace(cleanup_nums, inplace=True)"
   ]
  },
  {
   "cell_type": "code",
   "execution_count": 15,
   "metadata": {},
   "outputs": [
    {
     "data": {
      "text/html": [
       "<div>\n",
       "<style scoped>\n",
       "    .dataframe tbody tr th:only-of-type {\n",
       "        vertical-align: middle;\n",
       "    }\n",
       "\n",
       "    .dataframe tbody tr th {\n",
       "        vertical-align: top;\n",
       "    }\n",
       "\n",
       "    .dataframe thead th {\n",
       "        text-align: right;\n",
       "    }\n",
       "</style>\n",
       "<table border=\"1\" class=\"dataframe\">\n",
       "  <thead>\n",
       "    <tr style=\"text-align: right;\">\n",
       "      <th></th>\n",
       "      <th>country</th>\n",
       "      <th>description</th>\n",
       "      <th>designation</th>\n",
       "      <th>id</th>\n",
       "      <th>index</th>\n",
       "      <th>points</th>\n",
       "      <th>price</th>\n",
       "      <th>province</th>\n",
       "      <th>region_1</th>\n",
       "      <th>region_2</th>\n",
       "      <th>taster_name</th>\n",
       "      <th>taster_twitter_handle</th>\n",
       "      <th>title</th>\n",
       "      <th>train_test</th>\n",
       "      <th>variety</th>\n",
       "      <th>winery</th>\n",
       "      <th>quality</th>\n",
       "    </tr>\n",
       "  </thead>\n",
       "  <tbody>\n",
       "    <tr>\n",
       "      <th>0</th>\n",
       "      <td>Portugal</td>\n",
       "      <td>This is a fine rich balanced wine. It has ripe...</td>\n",
       "      <td>Vila Santa Reserva</td>\n",
       "      <td>32027</td>\n",
       "      <td>NaN</td>\n",
       "      <td>88.870874</td>\n",
       "      <td>20.0</td>\n",
       "      <td>Alentejano</td>\n",
       "      <td>NaN</td>\n",
       "      <td>NaN</td>\n",
       "      <td>Roger Voss</td>\n",
       "      <td>NaN</td>\n",
       "      <td>Gloria Ferrer NV Sonoma Brut Sparkling (Sonoma...</td>\n",
       "      <td>train</td>\n",
       "      <td>PORTUGUESE RED</td>\n",
       "      <td>J. Portugal Ramos</td>\n",
       "      <td>2</td>\n",
       "    </tr>\n",
       "    <tr>\n",
       "      <th>1</th>\n",
       "      <td>France</td>\n",
       "      <td>A solid, chunky wine, with a structure that is...</td>\n",
       "      <td>NaN</td>\n",
       "      <td>71079</td>\n",
       "      <td>NaN</td>\n",
       "      <td>88.041695</td>\n",
       "      <td>28.0</td>\n",
       "      <td>Bordeaux</td>\n",
       "      <td>Lalande de Pomerol</td>\n",
       "      <td>NaN</td>\n",
       "      <td>Roger Voss</td>\n",
       "      <td>NaN</td>\n",
       "      <td>Gloria Ferrer NV Sonoma Brut Sparkling (Sonoma...</td>\n",
       "      <td>train</td>\n",
       "      <td>BORDEAUX-STYLE RED BLEND</td>\n",
       "      <td>Château Tour Grand Colombier</td>\n",
       "      <td>2</td>\n",
       "    </tr>\n",
       "    <tr>\n",
       "      <th>2</th>\n",
       "      <td>France</td>\n",
       "      <td>This is powerful and concentrated, with the hi...</td>\n",
       "      <td>NaN</td>\n",
       "      <td>32440</td>\n",
       "      <td>NaN</td>\n",
       "      <td>94.085021</td>\n",
       "      <td>130.0</td>\n",
       "      <td>Bordeaux</td>\n",
       "      <td>Saint-Émilion</td>\n",
       "      <td>NaN</td>\n",
       "      <td>Roger Voss</td>\n",
       "      <td>NaN</td>\n",
       "      <td>Gloria Ferrer NV Sonoma Brut Sparkling (Sonoma...</td>\n",
       "      <td>train</td>\n",
       "      <td>BORDEAUX-STYLE RED BLEND</td>\n",
       "      <td>Château Figeac</td>\n",
       "      <td>3</td>\n",
       "    </tr>\n",
       "    <tr>\n",
       "      <th>3</th>\n",
       "      <td>US</td>\n",
       "      <td>Rich, ripe and oaky, this Petite Sirah charms ...</td>\n",
       "      <td>Thompson Vineyard</td>\n",
       "      <td>124405</td>\n",
       "      <td>NaN</td>\n",
       "      <td>89.869797</td>\n",
       "      <td>34.0</td>\n",
       "      <td>California</td>\n",
       "      <td>Santa Barbara County</td>\n",
       "      <td>Central Coast</td>\n",
       "      <td>Roger Voss</td>\n",
       "      <td>NaN</td>\n",
       "      <td>Jaffurs 2010 Thompson Vineyard Petite Sirah (S...</td>\n",
       "      <td>train</td>\n",
       "      <td>PETITE SIRAH</td>\n",
       "      <td>Jaffurs</td>\n",
       "      <td>2</td>\n",
       "    </tr>\n",
       "    <tr>\n",
       "      <th>4</th>\n",
       "      <td>US</td>\n",
       "      <td>This wine is a unique in the state blend and f...</td>\n",
       "      <td>McKinley Springs Vineyard</td>\n",
       "      <td>33649</td>\n",
       "      <td>NaN</td>\n",
       "      <td>89.017651</td>\n",
       "      <td>24.0</td>\n",
       "      <td>Washington</td>\n",
       "      <td>Horse Heaven Hills</td>\n",
       "      <td>Columbia Valley</td>\n",
       "      <td>Sean P. Sullivan</td>\n",
       "      <td>@wawinereport</td>\n",
       "      <td>Syncline 2016 McKinley Springs Vineyard Rosé (...</td>\n",
       "      <td>train</td>\n",
       "      <td>ROSé</td>\n",
       "      <td>Syncline</td>\n",
       "      <td>2</td>\n",
       "    </tr>\n",
       "  </tbody>\n",
       "</table>\n",
       "</div>"
      ],
      "text/plain": [
       "    country                                        description  \\\n",
       "0  Portugal  This is a fine rich balanced wine. It has ripe...   \n",
       "1    France  A solid, chunky wine, with a structure that is...   \n",
       "2    France  This is powerful and concentrated, with the hi...   \n",
       "3        US  Rich, ripe and oaky, this Petite Sirah charms ...   \n",
       "4        US  This wine is a unique in the state blend and f...   \n",
       "\n",
       "                 designation      id  index     points  price    province  \\\n",
       "0         Vila Santa Reserva   32027    NaN  88.870874   20.0  Alentejano   \n",
       "1                        NaN   71079    NaN  88.041695   28.0    Bordeaux   \n",
       "2                        NaN   32440    NaN  94.085021  130.0    Bordeaux   \n",
       "3          Thompson Vineyard  124405    NaN  89.869797   34.0  California   \n",
       "4  McKinley Springs Vineyard   33649    NaN  89.017651   24.0  Washington   \n",
       "\n",
       "               region_1         region_2       taster_name  \\\n",
       "0                   NaN              NaN        Roger Voss   \n",
       "1    Lalande de Pomerol              NaN        Roger Voss   \n",
       "2         Saint-Émilion              NaN        Roger Voss   \n",
       "3  Santa Barbara County    Central Coast        Roger Voss   \n",
       "4    Horse Heaven Hills  Columbia Valley  Sean P. Sullivan   \n",
       "\n",
       "  taster_twitter_handle                                              title  \\\n",
       "0                   NaN  Gloria Ferrer NV Sonoma Brut Sparkling (Sonoma...   \n",
       "1                   NaN  Gloria Ferrer NV Sonoma Brut Sparkling (Sonoma...   \n",
       "2                   NaN  Gloria Ferrer NV Sonoma Brut Sparkling (Sonoma...   \n",
       "3                   NaN  Jaffurs 2010 Thompson Vineyard Petite Sirah (S...   \n",
       "4         @wawinereport  Syncline 2016 McKinley Springs Vineyard Rosé (...   \n",
       "\n",
       "  train_test                   variety                        winery  quality  \n",
       "0      train            PORTUGUESE RED             J. Portugal Ramos        2  \n",
       "1      train  BORDEAUX-STYLE RED BLEND  Château Tour Grand Colombier        2  \n",
       "2      train  BORDEAUX-STYLE RED BLEND                Château Figeac        3  \n",
       "3      train              PETITE SIRAH                       Jaffurs        2  \n",
       "4      train                      ROSé                      Syncline        2  "
      ]
     },
     "execution_count": 15,
     "metadata": {},
     "output_type": "execute_result"
    }
   ],
   "source": [
    "data.head()"
   ]
  },
  {
   "cell_type": "code",
   "execution_count": 16,
   "metadata": {},
   "outputs": [],
   "source": [
    "def make_lower_case(text):\n",
    "    return text.lower()\n",
    "\n",
    "def remove_punctuation(text):\n",
    "    tokenizer = RegexpTokenizer(r'\\w+')\n",
    "    text = tokenizer.tokenize(text)\n",
    "    text = \" \".join(text)\n",
    "    return text"
   ]
  },
  {
   "cell_type": "code",
   "execution_count": 17,
   "metadata": {},
   "outputs": [],
   "source": [
    "data[\"description\"] = data[\"description\"].str.replace('\\d+', '')\n",
    "data[\"description\"] = data.description.apply(func=remove_punctuation)\n",
    "data[\"description\"] = data.description.apply(func=make_lower_case)"
   ]
  },
  {
   "cell_type": "code",
   "execution_count": 18,
   "metadata": {},
   "outputs": [],
   "source": [
    "data[\"variety\"] = data[\"variety\"].str.replace('\\d+', '')\n",
    "data[\"variety\"] = data.variety.apply(func=remove_punctuation)\n",
    "data[\"variety\"] = data.variety.apply(func=make_lower_case)"
   ]
  },
  {
   "cell_type": "code",
   "execution_count": 19,
   "metadata": {},
   "outputs": [],
   "source": [
    "data[\"title\"] = data[\"title\"].str.replace('\\d+', '')\n",
    "data[\"title\"] = data.title.apply(func=remove_punctuation)\n",
    "data[\"title\"] = data.title.apply(func=make_lower_case)"
   ]
  },
  {
   "cell_type": "code",
   "execution_count": 20,
   "metadata": {},
   "outputs": [],
   "source": [
    "tf = TfidfVectorizer(analyzer='word', \n",
    "                     min_df=10,\n",
    "                     ngram_range=(1, 2),\n",
    "                     stop_words='english')\n",
    "svd = TruncatedSVD(n_components=10)"
   ]
  },
  {
   "cell_type": "code",
   "execution_count": 21,
   "metadata": {},
   "outputs": [
    {
     "data": {
      "text/html": [
       "<div>\n",
       "<style scoped>\n",
       "    .dataframe tbody tr th:only-of-type {\n",
       "        vertical-align: middle;\n",
       "    }\n",
       "\n",
       "    .dataframe tbody tr th {\n",
       "        vertical-align: top;\n",
       "    }\n",
       "\n",
       "    .dataframe thead th {\n",
       "        text-align: right;\n",
       "    }\n",
       "</style>\n",
       "<table border=\"1\" class=\"dataframe\">\n",
       "  <thead>\n",
       "    <tr style=\"text-align: right;\">\n",
       "      <th></th>\n",
       "      <th>description_0</th>\n",
       "      <th>description_1</th>\n",
       "      <th>description_2</th>\n",
       "      <th>description_3</th>\n",
       "      <th>description_4</th>\n",
       "      <th>description_5</th>\n",
       "      <th>description_6</th>\n",
       "      <th>description_7</th>\n",
       "      <th>description_8</th>\n",
       "      <th>description_9</th>\n",
       "      <th>description_10</th>\n",
       "      <th>description_11</th>\n",
       "      <th>description_12</th>\n",
       "      <th>description_13</th>\n",
       "      <th>description_14</th>\n",
       "      <th>description_15</th>\n",
       "      <th>description_16</th>\n",
       "      <th>description_17</th>\n",
       "      <th>description_18</th>\n",
       "      <th>description_19</th>\n",
       "    </tr>\n",
       "  </thead>\n",
       "  <tbody>\n",
       "    <tr>\n",
       "      <th>0</th>\n",
       "      <td>0.115367</td>\n",
       "      <td>0.004640</td>\n",
       "      <td>0.114801</td>\n",
       "      <td>0.051542</td>\n",
       "      <td>0.006793</td>\n",
       "      <td>-0.031496</td>\n",
       "      <td>-0.024005</td>\n",
       "      <td>0.041638</td>\n",
       "      <td>0.027456</td>\n",
       "      <td>-0.011197</td>\n",
       "      <td>0.018775</td>\n",
       "      <td>-0.025218</td>\n",
       "      <td>0.007464</td>\n",
       "      <td>-0.033202</td>\n",
       "      <td>-0.003258</td>\n",
       "      <td>0.037280</td>\n",
       "      <td>0.005295</td>\n",
       "      <td>-0.019955</td>\n",
       "      <td>-0.009657</td>\n",
       "      <td>-0.033270</td>\n",
       "    </tr>\n",
       "    <tr>\n",
       "      <th>1</th>\n",
       "      <td>0.119707</td>\n",
       "      <td>0.024873</td>\n",
       "      <td>0.072269</td>\n",
       "      <td>0.021840</td>\n",
       "      <td>-0.011869</td>\n",
       "      <td>-0.064065</td>\n",
       "      <td>0.001466</td>\n",
       "      <td>0.028788</td>\n",
       "      <td>0.014894</td>\n",
       "      <td>0.003608</td>\n",
       "      <td>-0.026451</td>\n",
       "      <td>0.005754</td>\n",
       "      <td>-0.033627</td>\n",
       "      <td>0.032967</td>\n",
       "      <td>-0.061463</td>\n",
       "      <td>0.035623</td>\n",
       "      <td>0.007427</td>\n",
       "      <td>0.021214</td>\n",
       "      <td>-0.001469</td>\n",
       "      <td>-0.008171</td>\n",
       "    </tr>\n",
       "    <tr>\n",
       "      <th>2</th>\n",
       "      <td>0.129262</td>\n",
       "      <td>0.101735</td>\n",
       "      <td>0.087877</td>\n",
       "      <td>0.004010</td>\n",
       "      <td>0.131330</td>\n",
       "      <td>-0.034264</td>\n",
       "      <td>-0.013705</td>\n",
       "      <td>0.004330</td>\n",
       "      <td>0.070871</td>\n",
       "      <td>-0.005494</td>\n",
       "      <td>0.041285</td>\n",
       "      <td>-0.022445</td>\n",
       "      <td>-0.053891</td>\n",
       "      <td>-0.013894</td>\n",
       "      <td>-0.044062</td>\n",
       "      <td>0.074523</td>\n",
       "      <td>0.043519</td>\n",
       "      <td>0.018489</td>\n",
       "      <td>-0.014965</td>\n",
       "      <td>0.015549</td>\n",
       "    </tr>\n",
       "    <tr>\n",
       "      <th>3</th>\n",
       "      <td>0.103500</td>\n",
       "      <td>0.062310</td>\n",
       "      <td>0.012503</td>\n",
       "      <td>-0.064518</td>\n",
       "      <td>-0.019670</td>\n",
       "      <td>-0.063391</td>\n",
       "      <td>-0.014358</td>\n",
       "      <td>-0.007634</td>\n",
       "      <td>0.047376</td>\n",
       "      <td>0.040620</td>\n",
       "      <td>0.001101</td>\n",
       "      <td>-0.020603</td>\n",
       "      <td>-0.026612</td>\n",
       "      <td>0.034218</td>\n",
       "      <td>-0.001922</td>\n",
       "      <td>-0.027749</td>\n",
       "      <td>-0.017213</td>\n",
       "      <td>-0.080654</td>\n",
       "      <td>-0.000797</td>\n",
       "      <td>-0.010556</td>\n",
       "    </tr>\n",
       "    <tr>\n",
       "      <th>4</th>\n",
       "      <td>0.096223</td>\n",
       "      <td>-0.056868</td>\n",
       "      <td>-0.015419</td>\n",
       "      <td>-0.013099</td>\n",
       "      <td>0.023276</td>\n",
       "      <td>0.028224</td>\n",
       "      <td>0.004739</td>\n",
       "      <td>0.015456</td>\n",
       "      <td>-0.026170</td>\n",
       "      <td>0.034948</td>\n",
       "      <td>-0.043395</td>\n",
       "      <td>-0.027959</td>\n",
       "      <td>-0.012161</td>\n",
       "      <td>0.006658</td>\n",
       "      <td>-0.000458</td>\n",
       "      <td>0.015651</td>\n",
       "      <td>-0.020596</td>\n",
       "      <td>0.037515</td>\n",
       "      <td>-0.007767</td>\n",
       "      <td>-0.011396</td>\n",
       "    </tr>\n",
       "  </tbody>\n",
       "</table>\n",
       "</div>"
      ],
      "text/plain": [
       "   description_0  description_1  description_2  description_3  description_4  \\\n",
       "0       0.115367       0.004640       0.114801       0.051542       0.006793   \n",
       "1       0.119707       0.024873       0.072269       0.021840      -0.011869   \n",
       "2       0.129262       0.101735       0.087877       0.004010       0.131330   \n",
       "3       0.103500       0.062310       0.012503      -0.064518      -0.019670   \n",
       "4       0.096223      -0.056868      -0.015419      -0.013099       0.023276   \n",
       "\n",
       "   description_5  description_6  description_7  description_8  description_9  \\\n",
       "0      -0.031496      -0.024005       0.041638       0.027456      -0.011197   \n",
       "1      -0.064065       0.001466       0.028788       0.014894       0.003608   \n",
       "2      -0.034264      -0.013705       0.004330       0.070871      -0.005494   \n",
       "3      -0.063391      -0.014358      -0.007634       0.047376       0.040620   \n",
       "4       0.028224       0.004739       0.015456      -0.026170       0.034948   \n",
       "\n",
       "   description_10  description_11  description_12  description_13  \\\n",
       "0        0.018775       -0.025218        0.007464       -0.033202   \n",
       "1       -0.026451        0.005754       -0.033627        0.032967   \n",
       "2        0.041285       -0.022445       -0.053891       -0.013894   \n",
       "3        0.001101       -0.020603       -0.026612        0.034218   \n",
       "4       -0.043395       -0.027959       -0.012161        0.006658   \n",
       "\n",
       "   description_14  description_15  description_16  description_17  \\\n",
       "0       -0.003258        0.037280        0.005295       -0.019955   \n",
       "1       -0.061463        0.035623        0.007427        0.021214   \n",
       "2       -0.044062        0.074523        0.043519        0.018489   \n",
       "3       -0.001922       -0.027749       -0.017213       -0.080654   \n",
       "4       -0.000458        0.015651       -0.020596        0.037515   \n",
       "\n",
       "   description_18  description_19  \n",
       "0       -0.009657       -0.033270  \n",
       "1       -0.001469       -0.008171  \n",
       "2       -0.014965        0.015549  \n",
       "3       -0.000797       -0.010556  \n",
       "4       -0.007767       -0.011396  "
      ]
     },
     "execution_count": 21,
     "metadata": {},
     "output_type": "execute_result"
    }
   ],
   "source": [
    "#Fit tfidf and svd, and transform training data\n",
    "tfidf_matrix = tf.fit_transform(data.description)\n",
    "desc_features = pd.DataFrame(svd.fit_transform(tfidf_matrix))\n",
    "collist = map(str, range(0, 10))\n",
    "collist = [\"description_\" + s for s in collist]\n",
    "desc_features.columns = collist\n",
    "desc_features.head()"
   ]
  },
  {
   "cell_type": "code",
   "execution_count": 22,
   "metadata": {},
   "outputs": [
    {
     "data": {
      "text/html": [
       "<div>\n",
       "<style scoped>\n",
       "    .dataframe tbody tr th:only-of-type {\n",
       "        vertical-align: middle;\n",
       "    }\n",
       "\n",
       "    .dataframe tbody tr th {\n",
       "        vertical-align: top;\n",
       "    }\n",
       "\n",
       "    .dataframe thead th {\n",
       "        text-align: right;\n",
       "    }\n",
       "</style>\n",
       "<table border=\"1\" class=\"dataframe\">\n",
       "  <thead>\n",
       "    <tr style=\"text-align: right;\">\n",
       "      <th></th>\n",
       "      <th>variety_0</th>\n",
       "      <th>variety_1</th>\n",
       "      <th>variety_2</th>\n",
       "      <th>variety_3</th>\n",
       "      <th>variety_4</th>\n",
       "      <th>variety_5</th>\n",
       "      <th>variety_6</th>\n",
       "      <th>variety_7</th>\n",
       "      <th>variety_8</th>\n",
       "      <th>variety_9</th>\n",
       "      <th>variety_10</th>\n",
       "      <th>variety_11</th>\n",
       "      <th>variety_12</th>\n",
       "      <th>variety_13</th>\n",
       "      <th>variety_14</th>\n",
       "      <th>variety_15</th>\n",
       "      <th>variety_16</th>\n",
       "      <th>variety_17</th>\n",
       "      <th>variety_18</th>\n",
       "      <th>variety_19</th>\n",
       "    </tr>\n",
       "  </thead>\n",
       "  <tbody>\n",
       "    <tr>\n",
       "      <th>0</th>\n",
       "      <td>3.170330e-06</td>\n",
       "      <td>1.301193e-05</td>\n",
       "      <td>4.913885e-02</td>\n",
       "      <td>2.476377e-01</td>\n",
       "      <td>-2.086081e-05</td>\n",
       "      <td>4.367687e-04</td>\n",
       "      <td>5.558884e-05</td>\n",
       "      <td>-2.374665e-06</td>\n",
       "      <td>-2.942376e-05</td>\n",
       "      <td>-0.182168</td>\n",
       "      <td>-0.001047</td>\n",
       "      <td>0.000966</td>\n",
       "      <td>-5.500712e-05</td>\n",
       "      <td>-0.077361</td>\n",
       "      <td>-0.062966</td>\n",
       "      <td>0.864874</td>\n",
       "      <td>7.948663e-04</td>\n",
       "      <td>0.334156</td>\n",
       "      <td>0.003037</td>\n",
       "      <td>-0.000621</td>\n",
       "    </tr>\n",
       "    <tr>\n",
       "      <th>1</th>\n",
       "      <td>1.044208e-05</td>\n",
       "      <td>4.052582e-05</td>\n",
       "      <td>1.488023e-01</td>\n",
       "      <td>7.480533e-01</td>\n",
       "      <td>-4.508678e-05</td>\n",
       "      <td>8.007510e-04</td>\n",
       "      <td>9.949254e-05</td>\n",
       "      <td>-1.131862e-05</td>\n",
       "      <td>-4.672484e-06</td>\n",
       "      <td>0.613722</td>\n",
       "      <td>-0.000767</td>\n",
       "      <td>0.000090</td>\n",
       "      <td>-7.540394e-05</td>\n",
       "      <td>-0.148758</td>\n",
       "      <td>0.027632</td>\n",
       "      <td>0.019447</td>\n",
       "      <td>1.026984e-03</td>\n",
       "      <td>0.052548</td>\n",
       "      <td>0.001962</td>\n",
       "      <td>0.006414</td>\n",
       "    </tr>\n",
       "    <tr>\n",
       "      <th>2</th>\n",
       "      <td>1.044209e-05</td>\n",
       "      <td>4.052581e-05</td>\n",
       "      <td>1.488023e-01</td>\n",
       "      <td>7.480533e-01</td>\n",
       "      <td>-4.508678e-05</td>\n",
       "      <td>8.007510e-04</td>\n",
       "      <td>9.949254e-05</td>\n",
       "      <td>-1.131862e-05</td>\n",
       "      <td>-4.672484e-06</td>\n",
       "      <td>0.613722</td>\n",
       "      <td>-0.000767</td>\n",
       "      <td>0.000090</td>\n",
       "      <td>-7.540394e-05</td>\n",
       "      <td>-0.148758</td>\n",
       "      <td>0.027632</td>\n",
       "      <td>0.019447</td>\n",
       "      <td>1.026984e-03</td>\n",
       "      <td>0.052548</td>\n",
       "      <td>0.001962</td>\n",
       "      <td>0.006414</td>\n",
       "    </tr>\n",
       "    <tr>\n",
       "      <th>3</th>\n",
       "      <td>5.421560e-07</td>\n",
       "      <td>-2.080221e-08</td>\n",
       "      <td>1.239084e-06</td>\n",
       "      <td>-7.050737e-07</td>\n",
       "      <td>5.091452e-05</td>\n",
       "      <td>-5.167684e-05</td>\n",
       "      <td>7.213312e-04</td>\n",
       "      <td>-3.969507e-05</td>\n",
       "      <td>-7.916600e-05</td>\n",
       "      <td>-0.000019</td>\n",
       "      <td>-0.000812</td>\n",
       "      <td>0.000004</td>\n",
       "      <td>-4.545212e-04</td>\n",
       "      <td>0.000076</td>\n",
       "      <td>-0.001203</td>\n",
       "      <td>-0.000788</td>\n",
       "      <td>5.744077e-03</td>\n",
       "      <td>-0.002416</td>\n",
       "      <td>0.015284</td>\n",
       "      <td>0.017756</td>\n",
       "    </tr>\n",
       "    <tr>\n",
       "      <th>4</th>\n",
       "      <td>-1.234976e-10</td>\n",
       "      <td>1.495346e-10</td>\n",
       "      <td>8.341445e-07</td>\n",
       "      <td>4.232235e-06</td>\n",
       "      <td>2.028222e-08</td>\n",
       "      <td>7.988626e-08</td>\n",
       "      <td>2.833158e-08</td>\n",
       "      <td>9.132181e-09</td>\n",
       "      <td>3.220837e-07</td>\n",
       "      <td>-0.000332</td>\n",
       "      <td>0.000013</td>\n",
       "      <td>0.999998</td>\n",
       "      <td>7.758698e-07</td>\n",
       "      <td>-0.000970</td>\n",
       "      <td>0.000167</td>\n",
       "      <td>-0.001154</td>\n",
       "      <td>8.003995e-07</td>\n",
       "      <td>-0.000342</td>\n",
       "      <td>0.000004</td>\n",
       "      <td>0.000004</td>\n",
       "    </tr>\n",
       "  </tbody>\n",
       "</table>\n",
       "</div>"
      ],
      "text/plain": [
       "      variety_0     variety_1     variety_2     variety_3     variety_4  \\\n",
       "0  3.170330e-06  1.301193e-05  4.913885e-02  2.476377e-01 -2.086081e-05   \n",
       "1  1.044208e-05  4.052582e-05  1.488023e-01  7.480533e-01 -4.508678e-05   \n",
       "2  1.044209e-05  4.052581e-05  1.488023e-01  7.480533e-01 -4.508678e-05   \n",
       "3  5.421560e-07 -2.080221e-08  1.239084e-06 -7.050737e-07  5.091452e-05   \n",
       "4 -1.234976e-10  1.495346e-10  8.341445e-07  4.232235e-06  2.028222e-08   \n",
       "\n",
       "      variety_5     variety_6     variety_7     variety_8  variety_9  \\\n",
       "0  4.367687e-04  5.558884e-05 -2.374665e-06 -2.942376e-05  -0.182168   \n",
       "1  8.007510e-04  9.949254e-05 -1.131862e-05 -4.672484e-06   0.613722   \n",
       "2  8.007510e-04  9.949254e-05 -1.131862e-05 -4.672484e-06   0.613722   \n",
       "3 -5.167684e-05  7.213312e-04 -3.969507e-05 -7.916600e-05  -0.000019   \n",
       "4  7.988626e-08  2.833158e-08  9.132181e-09  3.220837e-07  -0.000332   \n",
       "\n",
       "   variety_10  variety_11    variety_12  variety_13  variety_14  variety_15  \\\n",
       "0   -0.001047    0.000966 -5.500712e-05   -0.077361   -0.062966    0.864874   \n",
       "1   -0.000767    0.000090 -7.540394e-05   -0.148758    0.027632    0.019447   \n",
       "2   -0.000767    0.000090 -7.540394e-05   -0.148758    0.027632    0.019447   \n",
       "3   -0.000812    0.000004 -4.545212e-04    0.000076   -0.001203   -0.000788   \n",
       "4    0.000013    0.999998  7.758698e-07   -0.000970    0.000167   -0.001154   \n",
       "\n",
       "     variety_16  variety_17  variety_18  variety_19  \n",
       "0  7.948663e-04    0.334156    0.003037   -0.000621  \n",
       "1  1.026984e-03    0.052548    0.001962    0.006414  \n",
       "2  1.026984e-03    0.052548    0.001962    0.006414  \n",
       "3  5.744077e-03   -0.002416    0.015284    0.017756  \n",
       "4  8.003995e-07   -0.000342    0.000004    0.000004  "
      ]
     },
     "execution_count": 22,
     "metadata": {},
     "output_type": "execute_result"
    }
   ],
   "source": [
    "tfidf_matrix = tf.fit_transform(data.variety)\n",
    "var_features = pd.DataFrame(svd.fit_transform(tfidf_matrix))\n",
    "collist = map(str, range(0, 10))\n",
    "collist = [\"variety_\" + s for s in collist]\n",
    "var_features.columns = collist\n",
    "var_features.head()"
   ]
  },
  {
   "cell_type": "code",
   "execution_count": 23,
   "metadata": {},
   "outputs": [
    {
     "data": {
      "text/html": [
       "<div>\n",
       "<style scoped>\n",
       "    .dataframe tbody tr th:only-of-type {\n",
       "        vertical-align: middle;\n",
       "    }\n",
       "\n",
       "    .dataframe tbody tr th {\n",
       "        vertical-align: top;\n",
       "    }\n",
       "\n",
       "    .dataframe thead th {\n",
       "        text-align: right;\n",
       "    }\n",
       "</style>\n",
       "<table border=\"1\" class=\"dataframe\">\n",
       "  <thead>\n",
       "    <tr style=\"text-align: right;\">\n",
       "      <th></th>\n",
       "      <th>province_0</th>\n",
       "      <th>province_1</th>\n",
       "      <th>province_2</th>\n",
       "      <th>province_3</th>\n",
       "      <th>province_4</th>\n",
       "      <th>province_5</th>\n",
       "      <th>province_6</th>\n",
       "      <th>province_7</th>\n",
       "      <th>province_8</th>\n",
       "      <th>province_9</th>\n",
       "      <th>province_10</th>\n",
       "      <th>province_11</th>\n",
       "      <th>province_12</th>\n",
       "      <th>province_13</th>\n",
       "      <th>province_14</th>\n",
       "      <th>province_15</th>\n",
       "      <th>province_16</th>\n",
       "      <th>province_17</th>\n",
       "      <th>province_18</th>\n",
       "      <th>province_19</th>\n",
       "    </tr>\n",
       "  </thead>\n",
       "  <tbody>\n",
       "    <tr>\n",
       "      <th>0</th>\n",
       "      <td>2.083727e-10</td>\n",
       "      <td>-1.192560e-06</td>\n",
       "      <td>8.937481e-06</td>\n",
       "      <td>-4.340303e-06</td>\n",
       "      <td>1.092370e-05</td>\n",
       "      <td>1.010577e-05</td>\n",
       "      <td>-1.029029e-04</td>\n",
       "      <td>4.968498e-05</td>\n",
       "      <td>-1.076440e-04</td>\n",
       "      <td>-2.528247e-04</td>\n",
       "      <td>-3.464193e-04</td>\n",
       "      <td>2.314199e-04</td>\n",
       "      <td>-4.650287e-04</td>\n",
       "      <td>5.270797e-03</td>\n",
       "      <td>-3.871523e-04</td>\n",
       "      <td>-2.946881e-03</td>\n",
       "      <td>1.172044e-02</td>\n",
       "      <td>-1.230303e-02</td>\n",
       "      <td>-1.681116e-02</td>\n",
       "      <td>1.532929e-02</td>\n",
       "    </tr>\n",
       "    <tr>\n",
       "      <th>1</th>\n",
       "      <td>1.497895e-14</td>\n",
       "      <td>-1.337569e-10</td>\n",
       "      <td>9.352537e-10</td>\n",
       "      <td>1.370770e-09</td>\n",
       "      <td>2.900885e-09</td>\n",
       "      <td>-8.903064e-09</td>\n",
       "      <td>1.000000e+00</td>\n",
       "      <td>-1.488077e-07</td>\n",
       "      <td>6.661216e-08</td>\n",
       "      <td>6.954048e-09</td>\n",
       "      <td>3.141768e-08</td>\n",
       "      <td>-5.304219e-08</td>\n",
       "      <td>-4.578617e-09</td>\n",
       "      <td>-1.576563e-07</td>\n",
       "      <td>4.881231e-08</td>\n",
       "      <td>9.479621e-08</td>\n",
       "      <td>1.090631e-07</td>\n",
       "      <td>8.479020e-08</td>\n",
       "      <td>2.198555e-07</td>\n",
       "      <td>-5.367256e-08</td>\n",
       "    </tr>\n",
       "    <tr>\n",
       "      <th>2</th>\n",
       "      <td>2.814776e-14</td>\n",
       "      <td>-1.438887e-10</td>\n",
       "      <td>8.889552e-10</td>\n",
       "      <td>1.370645e-09</td>\n",
       "      <td>2.900910e-09</td>\n",
       "      <td>-8.903147e-09</td>\n",
       "      <td>1.000000e+00</td>\n",
       "      <td>-1.488077e-07</td>\n",
       "      <td>6.661215e-08</td>\n",
       "      <td>6.954053e-09</td>\n",
       "      <td>3.141769e-08</td>\n",
       "      <td>-5.304219e-08</td>\n",
       "      <td>-4.578633e-09</td>\n",
       "      <td>-1.576563e-07</td>\n",
       "      <td>4.881232e-08</td>\n",
       "      <td>9.479622e-08</td>\n",
       "      <td>1.090631e-07</td>\n",
       "      <td>8.479021e-08</td>\n",
       "      <td>2.198555e-07</td>\n",
       "      <td>-5.367264e-08</td>\n",
       "    </tr>\n",
       "    <tr>\n",
       "      <th>3</th>\n",
       "      <td>1.000000e+00</td>\n",
       "      <td>-1.159038e-14</td>\n",
       "      <td>-1.312586e-13</td>\n",
       "      <td>2.000994e-13</td>\n",
       "      <td>-9.311238e-14</td>\n",
       "      <td>-4.613452e-13</td>\n",
       "      <td>1.649589e-13</td>\n",
       "      <td>-4.171858e-13</td>\n",
       "      <td>-5.032920e-14</td>\n",
       "      <td>2.664294e-15</td>\n",
       "      <td>-1.916228e-14</td>\n",
       "      <td>1.156322e-14</td>\n",
       "      <td>-6.017781e-14</td>\n",
       "      <td>-2.095755e-13</td>\n",
       "      <td>3.396847e-15</td>\n",
       "      <td>1.001830e-14</td>\n",
       "      <td>2.657045e-14</td>\n",
       "      <td>-4.617099e-14</td>\n",
       "      <td>-1.694294e-13</td>\n",
       "      <td>-3.700715e-13</td>\n",
       "    </tr>\n",
       "    <tr>\n",
       "      <th>4</th>\n",
       "      <td>1.171859e-14</td>\n",
       "      <td>1.000000e+00</td>\n",
       "      <td>2.599942e-13</td>\n",
       "      <td>2.320372e-12</td>\n",
       "      <td>-3.031972e-12</td>\n",
       "      <td>-1.814718e-12</td>\n",
       "      <td>2.130189e-11</td>\n",
       "      <td>2.612542e-12</td>\n",
       "      <td>5.177657e-11</td>\n",
       "      <td>2.972108e-11</td>\n",
       "      <td>3.327136e-13</td>\n",
       "      <td>2.152206e-11</td>\n",
       "      <td>8.517406e-11</td>\n",
       "      <td>-3.351135e-10</td>\n",
       "      <td>1.113547e-10</td>\n",
       "      <td>-6.257226e-11</td>\n",
       "      <td>2.034551e-10</td>\n",
       "      <td>-4.973269e-11</td>\n",
       "      <td>4.488236e-10</td>\n",
       "      <td>-1.463879e-10</td>\n",
       "    </tr>\n",
       "  </tbody>\n",
       "</table>\n",
       "</div>"
      ],
      "text/plain": [
       "     province_0    province_1    province_2    province_3    province_4  \\\n",
       "0  2.083727e-10 -1.192560e-06  8.937481e-06 -4.340303e-06  1.092370e-05   \n",
       "1  1.497895e-14 -1.337569e-10  9.352537e-10  1.370770e-09  2.900885e-09   \n",
       "2  2.814776e-14 -1.438887e-10  8.889552e-10  1.370645e-09  2.900910e-09   \n",
       "3  1.000000e+00 -1.159038e-14 -1.312586e-13  2.000994e-13 -9.311238e-14   \n",
       "4  1.171859e-14  1.000000e+00  2.599942e-13  2.320372e-12 -3.031972e-12   \n",
       "\n",
       "     province_5    province_6    province_7    province_8    province_9  \\\n",
       "0  1.010577e-05 -1.029029e-04  4.968498e-05 -1.076440e-04 -2.528247e-04   \n",
       "1 -8.903064e-09  1.000000e+00 -1.488077e-07  6.661216e-08  6.954048e-09   \n",
       "2 -8.903147e-09  1.000000e+00 -1.488077e-07  6.661215e-08  6.954053e-09   \n",
       "3 -4.613452e-13  1.649589e-13 -4.171858e-13 -5.032920e-14  2.664294e-15   \n",
       "4 -1.814718e-12  2.130189e-11  2.612542e-12  5.177657e-11  2.972108e-11   \n",
       "\n",
       "    province_10   province_11   province_12   province_13   province_14  \\\n",
       "0 -3.464193e-04  2.314199e-04 -4.650287e-04  5.270797e-03 -3.871523e-04   \n",
       "1  3.141768e-08 -5.304219e-08 -4.578617e-09 -1.576563e-07  4.881231e-08   \n",
       "2  3.141769e-08 -5.304219e-08 -4.578633e-09 -1.576563e-07  4.881232e-08   \n",
       "3 -1.916228e-14  1.156322e-14 -6.017781e-14 -2.095755e-13  3.396847e-15   \n",
       "4  3.327136e-13  2.152206e-11  8.517406e-11 -3.351135e-10  1.113547e-10   \n",
       "\n",
       "    province_15   province_16   province_17   province_18   province_19  \n",
       "0 -2.946881e-03  1.172044e-02 -1.230303e-02 -1.681116e-02  1.532929e-02  \n",
       "1  9.479621e-08  1.090631e-07  8.479020e-08  2.198555e-07 -5.367256e-08  \n",
       "2  9.479622e-08  1.090631e-07  8.479021e-08  2.198555e-07 -5.367264e-08  \n",
       "3  1.001830e-14  2.657045e-14 -4.617099e-14 -1.694294e-13 -3.700715e-13  \n",
       "4 -6.257226e-11  2.034551e-10 -4.973269e-11  4.488236e-10 -1.463879e-10  "
      ]
     },
     "execution_count": 23,
     "metadata": {},
     "output_type": "execute_result"
    }
   ],
   "source": [
    "prov_features = pd.DataFrame(svd.fit_transform(proDummies.values))\n",
    "collist = map(str, range(0, 10))\n",
    "collist = [\"province_\" + s for s in collist]\n",
    "prov_features.columns = collist\n",
    "prov_features.head()"
   ]
  },
  {
   "cell_type": "code",
   "execution_count": 24,
   "metadata": {},
   "outputs": [],
   "source": [
    "#tfidf_matrix = tf.fit_transform(data.region_1)\n",
    "#reg1_features = pd.DataFrame(svd.fit_transform(tfidf_matrix))\n",
    "#collist = map(str, range(0, 10))\n",
    "#collist = [\"country_\" + s for s in collist]\n",
    "#reg1_features.columns = collist\n",
    "#reg1_features.head()"
   ]
  },
  {
   "cell_type": "code",
   "execution_count": 25,
   "metadata": {},
   "outputs": [
    {
     "data": {
      "text/html": [
       "<div>\n",
       "<style scoped>\n",
       "    .dataframe tbody tr th:only-of-type {\n",
       "        vertical-align: middle;\n",
       "    }\n",
       "\n",
       "    .dataframe tbody tr th {\n",
       "        vertical-align: top;\n",
       "    }\n",
       "\n",
       "    .dataframe thead th {\n",
       "        text-align: right;\n",
       "    }\n",
       "</style>\n",
       "<table border=\"1\" class=\"dataframe\">\n",
       "  <thead>\n",
       "    <tr style=\"text-align: right;\">\n",
       "      <th></th>\n",
       "      <th>country_0</th>\n",
       "      <th>country_1</th>\n",
       "      <th>country_2</th>\n",
       "      <th>country_3</th>\n",
       "      <th>country_4</th>\n",
       "      <th>country_5</th>\n",
       "      <th>country_6</th>\n",
       "      <th>country_7</th>\n",
       "      <th>country_8</th>\n",
       "      <th>country_9</th>\n",
       "    </tr>\n",
       "  </thead>\n",
       "  <tbody>\n",
       "    <tr>\n",
       "      <th>0</th>\n",
       "      <td>5.516678e-15</td>\n",
       "      <td>-4.256875e-14</td>\n",
       "      <td>1.757118e-13</td>\n",
       "      <td>-3.032821e-13</td>\n",
       "      <td>2.289219e-14</td>\n",
       "      <td>1.343912e-13</td>\n",
       "      <td>1.000000e+00</td>\n",
       "      <td>-3.264163e-13</td>\n",
       "      <td>3.345912e-13</td>\n",
       "      <td>2.523423e-13</td>\n",
       "    </tr>\n",
       "    <tr>\n",
       "      <th>1</th>\n",
       "      <td>5.976398e-15</td>\n",
       "      <td>-6.837005e-11</td>\n",
       "      <td>1.000000e+00</td>\n",
       "      <td>5.572619e-15</td>\n",
       "      <td>-1.520452e-15</td>\n",
       "      <td>-8.424279e-16</td>\n",
       "      <td>1.606422e-15</td>\n",
       "      <td>-4.188622e-15</td>\n",
       "      <td>3.599350e-14</td>\n",
       "      <td>-1.331097e-13</td>\n",
       "    </tr>\n",
       "    <tr>\n",
       "      <th>2</th>\n",
       "      <td>1.013479e-15</td>\n",
       "      <td>7.729164e-14</td>\n",
       "      <td>1.000000e+00</td>\n",
       "      <td>-5.286311e-12</td>\n",
       "      <td>7.985281e-15</td>\n",
       "      <td>3.584899e-15</td>\n",
       "      <td>-7.434954e-15</td>\n",
       "      <td>-5.480050e-14</td>\n",
       "      <td>-2.987197e-14</td>\n",
       "      <td>1.510278e-13</td>\n",
       "    </tr>\n",
       "    <tr>\n",
       "      <th>3</th>\n",
       "      <td>1.000000e+00</td>\n",
       "      <td>-1.893373e-15</td>\n",
       "      <td>1.561904e-15</td>\n",
       "      <td>1.427854e-13</td>\n",
       "      <td>3.398976e-13</td>\n",
       "      <td>1.033041e-12</td>\n",
       "      <td>-4.512930e-13</td>\n",
       "      <td>-5.809541e-14</td>\n",
       "      <td>1.726874e-14</td>\n",
       "      <td>-1.503880e-15</td>\n",
       "    </tr>\n",
       "    <tr>\n",
       "      <th>4</th>\n",
       "      <td>1.000000e+00</td>\n",
       "      <td>-8.341652e-14</td>\n",
       "      <td>4.368500e-14</td>\n",
       "      <td>-7.861503e-13</td>\n",
       "      <td>-1.978424e-11</td>\n",
       "      <td>6.054405e-11</td>\n",
       "      <td>-9.568801e-12</td>\n",
       "      <td>9.723300e-15</td>\n",
       "      <td>2.019009e-14</td>\n",
       "      <td>-1.968622e-15</td>\n",
       "    </tr>\n",
       "  </tbody>\n",
       "</table>\n",
       "</div>"
      ],
      "text/plain": [
       "      country_0     country_1     country_2     country_3     country_4  \\\n",
       "0  5.516678e-15 -4.256875e-14  1.757118e-13 -3.032821e-13  2.289219e-14   \n",
       "1  5.976398e-15 -6.837005e-11  1.000000e+00  5.572619e-15 -1.520452e-15   \n",
       "2  1.013479e-15  7.729164e-14  1.000000e+00 -5.286311e-12  7.985281e-15   \n",
       "3  1.000000e+00 -1.893373e-15  1.561904e-15  1.427854e-13  3.398976e-13   \n",
       "4  1.000000e+00 -8.341652e-14  4.368500e-14 -7.861503e-13 -1.978424e-11   \n",
       "\n",
       "      country_5     country_6     country_7     country_8     country_9  \n",
       "0  1.343912e-13  1.000000e+00 -3.264163e-13  3.345912e-13  2.523423e-13  \n",
       "1 -8.424279e-16  1.606422e-15 -4.188622e-15  3.599350e-14 -1.331097e-13  \n",
       "2  3.584899e-15 -7.434954e-15 -5.480050e-14 -2.987197e-14  1.510278e-13  \n",
       "3  1.033041e-12 -4.512930e-13 -5.809541e-14  1.726874e-14 -1.503880e-15  \n",
       "4  6.054405e-11 -9.568801e-12  9.723300e-15  2.019009e-14 -1.968622e-15  "
      ]
     },
     "execution_count": 25,
     "metadata": {},
     "output_type": "execute_result"
    }
   ],
   "source": [
    "#svd = TruncatedSVD(n_components=10)\n",
    "country_features = pd.DataFrame(svd.fit_transform(countDummies.values))\n",
    "collist = map(str, range(0, 10))\n",
    "collist = [\"country_\" + s for s in collist]\n",
    "country_features.columns = collist\n",
    "country_features.head()"
   ]
  },
  {
   "cell_type": "code",
   "execution_count": 26,
   "metadata": {},
   "outputs": [
    {
     "data": {
      "text/plain": [
       "(258210, 70)"
      ]
     },
     "execution_count": 26,
     "metadata": {},
     "output_type": "execute_result"
    }
   ],
   "source": [
    "dd = pd.concat([desc_features, var_features, prov_features, country_features], axis=1)\n",
    "dd.shape"
   ]
  },
  {
   "cell_type": "code",
   "execution_count": 27,
   "metadata": {},
   "outputs": [
    {
     "data": {
      "text/html": [
       "<div>\n",
       "<style scoped>\n",
       "    .dataframe tbody tr th:only-of-type {\n",
       "        vertical-align: middle;\n",
       "    }\n",
       "\n",
       "    .dataframe tbody tr th {\n",
       "        vertical-align: top;\n",
       "    }\n",
       "\n",
       "    .dataframe thead th {\n",
       "        text-align: right;\n",
       "    }\n",
       "</style>\n",
       "<table border=\"1\" class=\"dataframe\">\n",
       "  <thead>\n",
       "    <tr style=\"text-align: right;\">\n",
       "      <th></th>\n",
       "      <th>description_0</th>\n",
       "      <th>description_1</th>\n",
       "      <th>description_2</th>\n",
       "      <th>description_3</th>\n",
       "      <th>description_4</th>\n",
       "      <th>description_5</th>\n",
       "      <th>description_6</th>\n",
       "      <th>description_7</th>\n",
       "      <th>description_8</th>\n",
       "      <th>description_9</th>\n",
       "      <th>...</th>\n",
       "      <th>country_0</th>\n",
       "      <th>country_1</th>\n",
       "      <th>country_2</th>\n",
       "      <th>country_3</th>\n",
       "      <th>country_4</th>\n",
       "      <th>country_5</th>\n",
       "      <th>country_6</th>\n",
       "      <th>country_7</th>\n",
       "      <th>country_8</th>\n",
       "      <th>country_9</th>\n",
       "    </tr>\n",
       "  </thead>\n",
       "  <tbody>\n",
       "    <tr>\n",
       "      <th>0</th>\n",
       "      <td>0.115367</td>\n",
       "      <td>0.004640</td>\n",
       "      <td>0.114801</td>\n",
       "      <td>0.051542</td>\n",
       "      <td>0.006793</td>\n",
       "      <td>-0.031496</td>\n",
       "      <td>-0.024005</td>\n",
       "      <td>0.041638</td>\n",
       "      <td>0.027456</td>\n",
       "      <td>-0.011197</td>\n",
       "      <td>...</td>\n",
       "      <td>5.516678e-15</td>\n",
       "      <td>-4.256875e-14</td>\n",
       "      <td>1.757118e-13</td>\n",
       "      <td>-3.032821e-13</td>\n",
       "      <td>2.289219e-14</td>\n",
       "      <td>1.343912e-13</td>\n",
       "      <td>1.000000e+00</td>\n",
       "      <td>-3.264163e-13</td>\n",
       "      <td>3.345912e-13</td>\n",
       "      <td>2.523423e-13</td>\n",
       "    </tr>\n",
       "    <tr>\n",
       "      <th>1</th>\n",
       "      <td>0.119707</td>\n",
       "      <td>0.024873</td>\n",
       "      <td>0.072269</td>\n",
       "      <td>0.021840</td>\n",
       "      <td>-0.011869</td>\n",
       "      <td>-0.064065</td>\n",
       "      <td>0.001466</td>\n",
       "      <td>0.028788</td>\n",
       "      <td>0.014894</td>\n",
       "      <td>0.003608</td>\n",
       "      <td>...</td>\n",
       "      <td>5.976398e-15</td>\n",
       "      <td>-6.837005e-11</td>\n",
       "      <td>1.000000e+00</td>\n",
       "      <td>5.572619e-15</td>\n",
       "      <td>-1.520452e-15</td>\n",
       "      <td>-8.424279e-16</td>\n",
       "      <td>1.606422e-15</td>\n",
       "      <td>-4.188622e-15</td>\n",
       "      <td>3.599350e-14</td>\n",
       "      <td>-1.331097e-13</td>\n",
       "    </tr>\n",
       "    <tr>\n",
       "      <th>2</th>\n",
       "      <td>0.129262</td>\n",
       "      <td>0.101735</td>\n",
       "      <td>0.087877</td>\n",
       "      <td>0.004010</td>\n",
       "      <td>0.131330</td>\n",
       "      <td>-0.034264</td>\n",
       "      <td>-0.013705</td>\n",
       "      <td>0.004330</td>\n",
       "      <td>0.070871</td>\n",
       "      <td>-0.005494</td>\n",
       "      <td>...</td>\n",
       "      <td>1.013479e-15</td>\n",
       "      <td>7.729164e-14</td>\n",
       "      <td>1.000000e+00</td>\n",
       "      <td>-5.286311e-12</td>\n",
       "      <td>7.985281e-15</td>\n",
       "      <td>3.584899e-15</td>\n",
       "      <td>-7.434954e-15</td>\n",
       "      <td>-5.480050e-14</td>\n",
       "      <td>-2.987197e-14</td>\n",
       "      <td>1.510278e-13</td>\n",
       "    </tr>\n",
       "    <tr>\n",
       "      <th>3</th>\n",
       "      <td>0.103500</td>\n",
       "      <td>0.062310</td>\n",
       "      <td>0.012503</td>\n",
       "      <td>-0.064518</td>\n",
       "      <td>-0.019670</td>\n",
       "      <td>-0.063391</td>\n",
       "      <td>-0.014358</td>\n",
       "      <td>-0.007634</td>\n",
       "      <td>0.047376</td>\n",
       "      <td>0.040620</td>\n",
       "      <td>...</td>\n",
       "      <td>1.000000e+00</td>\n",
       "      <td>-1.893373e-15</td>\n",
       "      <td>1.561904e-15</td>\n",
       "      <td>1.427854e-13</td>\n",
       "      <td>3.398976e-13</td>\n",
       "      <td>1.033041e-12</td>\n",
       "      <td>-4.512930e-13</td>\n",
       "      <td>-5.809541e-14</td>\n",
       "      <td>1.726874e-14</td>\n",
       "      <td>-1.503880e-15</td>\n",
       "    </tr>\n",
       "    <tr>\n",
       "      <th>4</th>\n",
       "      <td>0.096223</td>\n",
       "      <td>-0.056868</td>\n",
       "      <td>-0.015419</td>\n",
       "      <td>-0.013099</td>\n",
       "      <td>0.023276</td>\n",
       "      <td>0.028224</td>\n",
       "      <td>0.004739</td>\n",
       "      <td>0.015456</td>\n",
       "      <td>-0.026170</td>\n",
       "      <td>0.034948</td>\n",
       "      <td>...</td>\n",
       "      <td>1.000000e+00</td>\n",
       "      <td>-8.341652e-14</td>\n",
       "      <td>4.368500e-14</td>\n",
       "      <td>-7.861503e-13</td>\n",
       "      <td>-1.978424e-11</td>\n",
       "      <td>6.054405e-11</td>\n",
       "      <td>-9.568801e-12</td>\n",
       "      <td>9.723300e-15</td>\n",
       "      <td>2.019009e-14</td>\n",
       "      <td>-1.968622e-15</td>\n",
       "    </tr>\n",
       "  </tbody>\n",
       "</table>\n",
       "<p>5 rows × 70 columns</p>\n",
       "</div>"
      ],
      "text/plain": [
       "   description_0  description_1  description_2  description_3  description_4  \\\n",
       "0       0.115367       0.004640       0.114801       0.051542       0.006793   \n",
       "1       0.119707       0.024873       0.072269       0.021840      -0.011869   \n",
       "2       0.129262       0.101735       0.087877       0.004010       0.131330   \n",
       "3       0.103500       0.062310       0.012503      -0.064518      -0.019670   \n",
       "4       0.096223      -0.056868      -0.015419      -0.013099       0.023276   \n",
       "\n",
       "   description_5  description_6  description_7  description_8  description_9  \\\n",
       "0      -0.031496      -0.024005       0.041638       0.027456      -0.011197   \n",
       "1      -0.064065       0.001466       0.028788       0.014894       0.003608   \n",
       "2      -0.034264      -0.013705       0.004330       0.070871      -0.005494   \n",
       "3      -0.063391      -0.014358      -0.007634       0.047376       0.040620   \n",
       "4       0.028224       0.004739       0.015456      -0.026170       0.034948   \n",
       "\n",
       "       ...          country_0     country_1     country_2     country_3  \\\n",
       "0      ...       5.516678e-15 -4.256875e-14  1.757118e-13 -3.032821e-13   \n",
       "1      ...       5.976398e-15 -6.837005e-11  1.000000e+00  5.572619e-15   \n",
       "2      ...       1.013479e-15  7.729164e-14  1.000000e+00 -5.286311e-12   \n",
       "3      ...       1.000000e+00 -1.893373e-15  1.561904e-15  1.427854e-13   \n",
       "4      ...       1.000000e+00 -8.341652e-14  4.368500e-14 -7.861503e-13   \n",
       "\n",
       "      country_4     country_5     country_6     country_7     country_8  \\\n",
       "0  2.289219e-14  1.343912e-13  1.000000e+00 -3.264163e-13  3.345912e-13   \n",
       "1 -1.520452e-15 -8.424279e-16  1.606422e-15 -4.188622e-15  3.599350e-14   \n",
       "2  7.985281e-15  3.584899e-15 -7.434954e-15 -5.480050e-14 -2.987197e-14   \n",
       "3  3.398976e-13  1.033041e-12 -4.512930e-13 -5.809541e-14  1.726874e-14   \n",
       "4 -1.978424e-11  6.054405e-11 -9.568801e-12  9.723300e-15  2.019009e-14   \n",
       "\n",
       "      country_9  \n",
       "0  2.523423e-13  \n",
       "1 -1.331097e-13  \n",
       "2  1.510278e-13  \n",
       "3 -1.503880e-15  \n",
       "4 -1.968622e-15  \n",
       "\n",
       "[5 rows x 70 columns]"
      ]
     },
     "execution_count": 27,
     "metadata": {},
     "output_type": "execute_result"
    }
   ],
   "source": [
    "dd.head()"
   ]
  },
  {
   "cell_type": "code",
   "execution_count": 28,
   "metadata": {},
   "outputs": [
    {
     "data": {
      "text/plain": [
       "(258210, 70)"
      ]
     },
     "execution_count": 28,
     "metadata": {},
     "output_type": "execute_result"
    }
   ],
   "source": [
    "dd.shape"
   ]
  },
  {
   "cell_type": "code",
   "execution_count": 29,
   "metadata": {},
   "outputs": [],
   "source": [
    "#data.drop('index', axis=1, inplace=True)"
   ]
  },
  {
   "cell_type": "code",
   "execution_count": 30,
   "metadata": {},
   "outputs": [],
   "source": [
    "dd['train_test'] = data.train_test.values"
   ]
  },
  {
   "cell_type": "code",
   "execution_count": 31,
   "metadata": {},
   "outputs": [],
   "source": [
    "dd['id'] = data.id.values"
   ]
  },
  {
   "cell_type": "code",
   "execution_count": 32,
   "metadata": {},
   "outputs": [],
   "source": [
    "dd['quality'] = data.quality.values"
   ]
  },
  {
   "cell_type": "code",
   "execution_count": 33,
   "metadata": {},
   "outputs": [],
   "source": [
    "dd['points'] = data.points.values"
   ]
  },
  {
   "cell_type": "code",
   "execution_count": 34,
   "metadata": {},
   "outputs": [],
   "source": [
    "dd['price'] = data.price.values"
   ]
  },
  {
   "cell_type": "code",
   "execution_count": 35,
   "metadata": {},
   "outputs": [
    {
     "data": {
      "text/plain": [
       "(258210, 75)"
      ]
     },
     "execution_count": 35,
     "metadata": {},
     "output_type": "execute_result"
    }
   ],
   "source": [
    "#['id', 'points', 'quality', 'price']\n",
    "final_data = dd.copy()\n",
    "final_data.shape"
   ]
  },
  {
   "cell_type": "code",
   "execution_count": 37,
   "metadata": {},
   "outputs": [],
   "source": [
    "final_data['sum_desc'] = final_data[['description_0', 'description_1', 'description_2', 'description_3',\n",
    "       'description_4', 'description_5', 'description_6', 'description_7',\n",
    "       'description_8', 'description_9']].sum(axis=1)"
   ]
  },
  {
   "cell_type": "code",
   "execution_count": 38,
   "metadata": {},
   "outputs": [],
   "source": [
    "final_data['sum_var'] = final_data[['variety_0', 'variety_1', 'variety_2',\n",
    "       'variety_3', 'variety_4', 'variety_5', 'variety_6', 'variety_7',\n",
    "       'variety_8', 'variety_9']].sum(axis=1)"
   ]
  },
  {
   "cell_type": "code",
   "execution_count": 39,
   "metadata": {},
   "outputs": [],
   "source": [
    "final_data['sum_prov'] = final_data[['province_0', 'province_1', 'province_2',\n",
    "       'province_3', 'province_4', 'province_5', 'province_6', 'province_7',\n",
    "       'province_8', 'province_9']].sum(axis=1)"
   ]
  },
  {
   "cell_type": "code",
   "execution_count": 40,
   "metadata": {},
   "outputs": [],
   "source": [
    "final_data['sum_country'] = final_data[['variety_0', 'variety_1', 'variety_2',\n",
    "       'variety_3', 'variety_4', 'variety_5', 'variety_6', 'variety_7',\n",
    "       'variety_8', 'variety_9']].sum(axis=1)"
   ]
  },
  {
   "cell_type": "code",
   "execution_count": null,
   "metadata": {},
   "outputs": [],
   "source": [
    "final_data['description_0_x2'] = final_data['description_0'].multiply(4)\n",
    "final_data['description_1_x2'] = final_data['description_1'].multiply()\n",
    "final_data['description_2_x2'] = final_data['description_2'].multiply(2)\n",
    "final_data['description_3_x2'] = final_data['description_3'].multiply(2)"
   ]
  },
  {
   "cell_type": "code",
   "execution_count": null,
   "metadata": {},
   "outputs": [],
   "source": []
  },
  {
   "cell_type": "code",
   "execution_count": null,
   "metadata": {},
   "outputs": [],
   "source": []
  },
  {
   "cell_type": "code",
   "execution_count": null,
   "metadata": {},
   "outputs": [],
   "source": []
  },
  {
   "cell_type": "code",
   "execution_count": null,
   "metadata": {},
   "outputs": [],
   "source": []
  },
  {
   "cell_type": "code",
   "execution_count": null,
   "metadata": {},
   "outputs": [],
   "source": []
  },
  {
   "cell_type": "code",
   "execution_count": 41,
   "metadata": {},
   "outputs": [
    {
     "data": {
      "text/html": [
       "<div>\n",
       "<style scoped>\n",
       "    .dataframe tbody tr th:only-of-type {\n",
       "        vertical-align: middle;\n",
       "    }\n",
       "\n",
       "    .dataframe tbody tr th {\n",
       "        vertical-align: top;\n",
       "    }\n",
       "\n",
       "    .dataframe thead th {\n",
       "        text-align: right;\n",
       "    }\n",
       "</style>\n",
       "<table border=\"1\" class=\"dataframe\">\n",
       "  <thead>\n",
       "    <tr style=\"text-align: right;\">\n",
       "      <th></th>\n",
       "      <th>description_0</th>\n",
       "      <th>description_1</th>\n",
       "      <th>description_2</th>\n",
       "      <th>description_3</th>\n",
       "      <th>description_4</th>\n",
       "      <th>description_5</th>\n",
       "      <th>description_6</th>\n",
       "      <th>description_7</th>\n",
       "      <th>description_8</th>\n",
       "      <th>description_9</th>\n",
       "      <th>...</th>\n",
       "      <th>country_9</th>\n",
       "      <th>train_test</th>\n",
       "      <th>id</th>\n",
       "      <th>quality</th>\n",
       "      <th>points</th>\n",
       "      <th>price</th>\n",
       "      <th>sum_desc</th>\n",
       "      <th>sum_var</th>\n",
       "      <th>sum_prov</th>\n",
       "      <th>sum_country</th>\n",
       "    </tr>\n",
       "  </thead>\n",
       "  <tbody>\n",
       "    <tr>\n",
       "      <th>0</th>\n",
       "      <td>0.115367</td>\n",
       "      <td>0.004640</td>\n",
       "      <td>0.114801</td>\n",
       "      <td>0.051542</td>\n",
       "      <td>0.006793</td>\n",
       "      <td>-0.031496</td>\n",
       "      <td>-0.024005</td>\n",
       "      <td>0.041638</td>\n",
       "      <td>0.027456</td>\n",
       "      <td>-0.011197</td>\n",
       "      <td>...</td>\n",
       "      <td>2.523423e-13</td>\n",
       "      <td>train</td>\n",
       "      <td>32027</td>\n",
       "      <td>2</td>\n",
       "      <td>88.870874</td>\n",
       "      <td>20.0</td>\n",
       "      <td>0.295538</td>\n",
       "      <td>0.115064</td>\n",
       "      <td>-0.000389</td>\n",
       "      <td>0.115064</td>\n",
       "    </tr>\n",
       "    <tr>\n",
       "      <th>1</th>\n",
       "      <td>0.119707</td>\n",
       "      <td>0.024873</td>\n",
       "      <td>0.072269</td>\n",
       "      <td>0.021840</td>\n",
       "      <td>-0.011869</td>\n",
       "      <td>-0.064065</td>\n",
       "      <td>0.001466</td>\n",
       "      <td>0.028788</td>\n",
       "      <td>0.014894</td>\n",
       "      <td>0.003608</td>\n",
       "      <td>...</td>\n",
       "      <td>-1.331097e-13</td>\n",
       "      <td>train</td>\n",
       "      <td>71079</td>\n",
       "      <td>2</td>\n",
       "      <td>88.041695</td>\n",
       "      <td>28.0</td>\n",
       "      <td>0.211510</td>\n",
       "      <td>1.511467</td>\n",
       "      <td>1.000000</td>\n",
       "      <td>1.511467</td>\n",
       "    </tr>\n",
       "    <tr>\n",
       "      <th>2</th>\n",
       "      <td>0.129262</td>\n",
       "      <td>0.101735</td>\n",
       "      <td>0.087877</td>\n",
       "      <td>0.004010</td>\n",
       "      <td>0.131330</td>\n",
       "      <td>-0.034264</td>\n",
       "      <td>-0.013705</td>\n",
       "      <td>0.004330</td>\n",
       "      <td>0.070871</td>\n",
       "      <td>-0.005494</td>\n",
       "      <td>...</td>\n",
       "      <td>1.510278e-13</td>\n",
       "      <td>train</td>\n",
       "      <td>32440</td>\n",
       "      <td>3</td>\n",
       "      <td>94.085021</td>\n",
       "      <td>130.0</td>\n",
       "      <td>0.475953</td>\n",
       "      <td>1.511467</td>\n",
       "      <td>1.000000</td>\n",
       "      <td>1.511467</td>\n",
       "    </tr>\n",
       "    <tr>\n",
       "      <th>3</th>\n",
       "      <td>0.103500</td>\n",
       "      <td>0.062310</td>\n",
       "      <td>0.012503</td>\n",
       "      <td>-0.064518</td>\n",
       "      <td>-0.019670</td>\n",
       "      <td>-0.063391</td>\n",
       "      <td>-0.014358</td>\n",
       "      <td>-0.007634</td>\n",
       "      <td>0.047376</td>\n",
       "      <td>0.040620</td>\n",
       "      <td>...</td>\n",
       "      <td>-1.503880e-15</td>\n",
       "      <td>train</td>\n",
       "      <td>124405</td>\n",
       "      <td>2</td>\n",
       "      <td>89.869797</td>\n",
       "      <td>34.0</td>\n",
       "      <td>0.096738</td>\n",
       "      <td>0.000584</td>\n",
       "      <td>1.000000</td>\n",
       "      <td>0.000584</td>\n",
       "    </tr>\n",
       "    <tr>\n",
       "      <th>4</th>\n",
       "      <td>0.096223</td>\n",
       "      <td>-0.056868</td>\n",
       "      <td>-0.015419</td>\n",
       "      <td>-0.013099</td>\n",
       "      <td>0.023276</td>\n",
       "      <td>0.028224</td>\n",
       "      <td>0.004739</td>\n",
       "      <td>0.015456</td>\n",
       "      <td>-0.026170</td>\n",
       "      <td>0.034948</td>\n",
       "      <td>...</td>\n",
       "      <td>-1.968622e-15</td>\n",
       "      <td>train</td>\n",
       "      <td>33649</td>\n",
       "      <td>2</td>\n",
       "      <td>89.017651</td>\n",
       "      <td>24.0</td>\n",
       "      <td>0.091310</td>\n",
       "      <td>-0.000326</td>\n",
       "      <td>1.000000</td>\n",
       "      <td>-0.000326</td>\n",
       "    </tr>\n",
       "  </tbody>\n",
       "</table>\n",
       "<p>5 rows × 79 columns</p>\n",
       "</div>"
      ],
      "text/plain": [
       "   description_0  description_1  description_2  description_3  description_4  \\\n",
       "0       0.115367       0.004640       0.114801       0.051542       0.006793   \n",
       "1       0.119707       0.024873       0.072269       0.021840      -0.011869   \n",
       "2       0.129262       0.101735       0.087877       0.004010       0.131330   \n",
       "3       0.103500       0.062310       0.012503      -0.064518      -0.019670   \n",
       "4       0.096223      -0.056868      -0.015419      -0.013099       0.023276   \n",
       "\n",
       "   description_5  description_6  description_7  description_8  description_9  \\\n",
       "0      -0.031496      -0.024005       0.041638       0.027456      -0.011197   \n",
       "1      -0.064065       0.001466       0.028788       0.014894       0.003608   \n",
       "2      -0.034264      -0.013705       0.004330       0.070871      -0.005494   \n",
       "3      -0.063391      -0.014358      -0.007634       0.047376       0.040620   \n",
       "4       0.028224       0.004739       0.015456      -0.026170       0.034948   \n",
       "\n",
       "      ...          country_9  train_test      id  quality     points  price  \\\n",
       "0     ...       2.523423e-13       train   32027        2  88.870874   20.0   \n",
       "1     ...      -1.331097e-13       train   71079        2  88.041695   28.0   \n",
       "2     ...       1.510278e-13       train   32440        3  94.085021  130.0   \n",
       "3     ...      -1.503880e-15       train  124405        2  89.869797   34.0   \n",
       "4     ...      -1.968622e-15       train   33649        2  89.017651   24.0   \n",
       "\n",
       "   sum_desc   sum_var  sum_prov  sum_country  \n",
       "0  0.295538  0.115064 -0.000389     0.115064  \n",
       "1  0.211510  1.511467  1.000000     1.511467  \n",
       "2  0.475953  1.511467  1.000000     1.511467  \n",
       "3  0.096738  0.000584  1.000000     0.000584  \n",
       "4  0.091310 -0.000326  1.000000    -0.000326  \n",
       "\n",
       "[5 rows x 79 columns]"
      ]
     },
     "execution_count": 41,
     "metadata": {},
     "output_type": "execute_result"
    }
   ],
   "source": [
    "final_data.head()"
   ]
  },
  {
   "cell_type": "code",
   "execution_count": 42,
   "metadata": {},
   "outputs": [],
   "source": [
    "train_data = final_data[final_data['train_test'] == 'train']\n",
    "test_data = final_data[final_data['train_test'] == 'test']"
   ]
  },
  {
   "cell_type": "code",
   "execution_count": 93,
   "metadata": {},
   "outputs": [],
   "source": [
    "#print(final_data.columns.tolist())"
   ]
  },
  {
   "cell_type": "code",
   "execution_count": 73,
   "metadata": {},
   "outputs": [],
   "source": [
    "cols = ['description_0', 'description_1', 'description_2', 'description_3', 'description_4', 'description_5', 'description_6', 'description_7', 'description_8', 'description_9', 'description_10', 'description_11', 'description_12', 'description_13', 'description_14', 'description_15', 'description_16', 'description_17', 'description_18', 'description_19', 'variety_0', 'variety_1', 'variety_2', 'variety_3', 'variety_4', 'variety_5', 'variety_6', 'variety_7', 'variety_8', 'variety_9', 'variety_10', 'variety_11', 'variety_12', 'variety_13', 'variety_14', 'variety_15', 'variety_16', 'variety_17', 'variety_18', 'variety_19', 'province_0', 'province_1', 'province_2', 'province_3', 'province_4', 'province_5', 'province_6', 'province_7', 'province_8', 'province_9', 'province_10', 'province_11', 'province_12', 'province_13', 'province_14', 'province_15', 'province_16', 'province_17', 'province_18', 'province_19', 'country_0', 'country_1', 'country_2', 'country_3', 'country_4', 'country_5', 'country_6', 'country_7', 'country_8', 'country_9', 'points']"
   ]
  },
  {
   "cell_type": "code",
   "execution_count": 74,
   "metadata": {},
   "outputs": [],
   "source": [
    "X = train_data[cols]\n",
    "y = train_data[\"price\"]"
   ]
  },
  {
   "cell_type": "code",
   "execution_count": null,
   "metadata": {},
   "outputs": [],
   "source": []
  },
  {
   "cell_type": "code",
   "execution_count": 75,
   "metadata": {},
   "outputs": [],
   "source": [
    "X_train, X_test, y_train, y_test = train_test_split(X, y, test_size=0.3)"
   ]
  },
  {
   "cell_type": "code",
   "execution_count": 76,
   "metadata": {},
   "outputs": [
    {
     "name": "stdout",
     "output_type": "stream",
     "text": [
      "(52500, 71) (52500,) (122500, 71) (122500,)\n"
     ]
    }
   ],
   "source": [
    "print(X_test.shape, y_test.shape, X_train.shape, y_train.shape)"
   ]
  },
  {
   "cell_type": "code",
   "execution_count": null,
   "metadata": {},
   "outputs": [],
   "source": []
  },
  {
   "cell_type": "code",
   "execution_count": 77,
   "metadata": {},
   "outputs": [
    {
     "name": "stderr",
     "output_type": "stream",
     "text": [
      "/home/aims/.local/lib/python3.7/site-packages/xgboost/core.py:587: FutureWarning: Series.base is deprecated and will be removed in a future version\n",
      "  if getattr(data, 'base', None) is not None and \\\n"
     ]
    }
   ],
   "source": [
    "dtrain = xgb.DMatrix(X_train, label=y_train)\n",
    "dtest = xgb.DMatrix(X_test, label=y_test)"
   ]
  },
  {
   "cell_type": "code",
   "execution_count": 78,
   "metadata": {},
   "outputs": [
    {
     "name": "stdout",
     "output_type": "stream",
     "text": [
      "[0]\ttrain-mae:15.328\n",
      "Will train until train-mae hasn't improved in 10 rounds.\n",
      "[1]\ttrain-mae:14.7451\n",
      "[2]\ttrain-mae:14.5284\n",
      "[3]\ttrain-mae:14.3726\n",
      "[4]\ttrain-mae:14.1675\n",
      "[5]\ttrain-mae:14.1313\n",
      "[6]\ttrain-mae:14.0678\n",
      "[7]\ttrain-mae:13.9748\n",
      "[8]\ttrain-mae:13.73\n",
      "[9]\ttrain-mae:13.6788\n"
     ]
    }
   ],
   "source": [
    "#Set xgboost parameters\n",
    "param = {'max_depth': 3, 'eta': 1, 'subsample':0.5, 'alpha':1}\n",
    "param['nthread'] = 4\n",
    "param['eval_metric'] = 'mae'\n",
    "param['objective'] = 'reg:linear'\n",
    "param['silent'] = 1\n",
    "evallist = [(dtrain, 'train')]\n",
    "num_round = 10\n",
    "\n",
    "#Train model\n",
    "bst = xgb.train(param, dtrain, num_round, evallist, early_stopping_rounds=10)"
   ]
  },
  {
   "cell_type": "code",
   "execution_count": 79,
   "metadata": {},
   "outputs": [],
   "source": [
    "pred = pd.DataFrame(y_test.copy())\n",
    "pred[\"prediction\"] = bst.predict(dtest, ntree_limit=bst.best_ntree_limit)"
   ]
  },
  {
   "cell_type": "code",
   "execution_count": 80,
   "metadata": {},
   "outputs": [
    {
     "name": "stdout",
     "output_type": "stream",
     "text": [
      "Mean Squared Error: 29.24 \n"
     ]
    }
   ],
   "source": [
    "rmse = np.round(np.sqrt(mean_squared_error(y_true=pred[\"price\"], y_pred=pred[\"prediction\"])), 2)\n",
    "print (\"Mean Squared Error: {} \".format(rmse))"
   ]
  },
  {
   "cell_type": "code",
   "execution_count": 81,
   "metadata": {},
   "outputs": [],
   "source": [
    "from sklearn.linear_model import LinearRegression, Ridge\n",
    "from sklearn.ensemble import RandomForestRegressor"
   ]
  },
  {
   "cell_type": "code",
   "execution_count": 82,
   "metadata": {},
   "outputs": [
    {
     "data": {
      "text/plain": [
       "Ridge(alpha=1.0, copy_X=True, fit_intercept=True, max_iter=None,\n",
       "   normalize=False, random_state=None, solver='auto', tol=0.001)"
      ]
     },
     "execution_count": 82,
     "metadata": {},
     "output_type": "execute_result"
    }
   ],
   "source": [
    "lm = Ridge()\n",
    "\n",
    "lm.fit(X_train, y_train)"
   ]
  },
  {
   "cell_type": "code",
   "execution_count": 83,
   "metadata": {},
   "outputs": [
    {
     "name": "stdout",
     "output_type": "stream",
     "text": [
      "-402.95336201599787\n"
     ]
    }
   ],
   "source": [
    "print(lm.intercept_)"
   ]
  },
  {
   "cell_type": "code",
   "execution_count": 84,
   "metadata": {},
   "outputs": [
    {
     "data": {
      "text/plain": [
       "<matplotlib.collections.PathCollection at 0x7fa194e779b0>"
      ]
     },
     "execution_count": 84,
     "metadata": {},
     "output_type": "execute_result"
    },
    {
     "data": {
      "image/png": "[encoded data removed]",
      "text/plain": [
       "<Figure size 432x288 with 1 Axes>"
      ]
     },
     "metadata": {
      "needs_background": "light"
     },
     "output_type": "display_data"
    }
   ],
   "source": [
    "predictions = lm.predict(X_test)\n",
    "plt.scatter(np.log(y_test),predictions)"
   ]
  },
  {
   "cell_type": "code",
   "execution_count": 85,
   "metadata": {},
   "outputs": [
    {
     "name": "stdout",
     "output_type": "stream",
     "text": [
      "RMSE: 31.07531101444151\n"
     ]
    }
   ],
   "source": [
    "print('RMSE:', np.sqrt(mean_squared_error(y_test, predictions)))"
   ]
  },
  {
   "cell_type": "code",
   "execution_count": 86,
   "metadata": {},
   "outputs": [],
   "source": [
    "rf = RandomForestRegressor()"
   ]
  },
  {
   "cell_type": "code",
   "execution_count": 87,
   "metadata": {},
   "outputs": [],
   "source": [
    "rf = RandomForestRegressor(n_estimators = 100, random_state = 42)"
   ]
  },
  {
   "cell_type": "code",
   "execution_count": 88,
   "metadata": {},
   "outputs": [
    {
     "data": {
      "text/plain": [
       "RandomForestRegressor(bootstrap=True, criterion='mse', max_depth=None,\n",
       "           max_features='auto', max_leaf_nodes=None,\n",
       "           min_impurity_decrease=0.0, min_impurity_split=None,\n",
       "           min_samples_leaf=1, min_samples_split=2,\n",
       "           min_weight_fraction_leaf=0.0, n_estimators=100, n_jobs=None,\n",
       "           oob_score=False, random_state=42, verbose=0, warm_start=False)"
      ]
     },
     "execution_count": 88,
     "metadata": {},
     "output_type": "execute_result"
    }
   ],
   "source": [
    "rf.fit(X_train, y_train)"
   ]
  },
  {
   "cell_type": "code",
   "execution_count": 89,
   "metadata": {},
   "outputs": [],
   "source": [
    "predicts = rf.predict(X_test)"
   ]
  },
  {
   "cell_type": "code",
   "execution_count": 90,
   "metadata": {},
   "outputs": [
    {
     "data": {
      "text/plain": [
       "<matplotlib.collections.PathCollection at 0x7fa1a9a198d0>"
      ]
     },
     "execution_count": 90,
     "metadata": {},
     "output_type": "execute_result"
    },
    {
     "data": {
      "image/png": "[encoded data removed]",
      "text/plain": [
       "<Figure size 432x288 with 1 Axes>"
      ]
     },
     "metadata": {
      "needs_background": "light"
     },
     "output_type": "display_data"
    }
   ],
   "source": [
    "plt.scatter(y_test, predicts)"
   ]
  },
  {
   "cell_type": "code",
   "execution_count": 91,
   "metadata": {},
   "outputs": [
    {
     "name": "stdout",
     "output_type": "stream",
     "text": [
      "RMSE: 23.25241351610214\n"
     ]
    }
   ],
   "source": [
    "print('RMSE:', np.sqrt(mean_squared_error(y_test, predicts)))"
   ]
  },
  {
   "cell_type": "code",
   "execution_count": 92,
   "metadata": {},
   "outputs": [
    {
     "data": {
      "image/png": "[encoded data removed]",
      "text/plain": [
       "<Figure size 432x288 with 1 Axes>"
      ]
     },
     "metadata": {
      "needs_background": "light"
     },
     "output_type": "display_data"
    }
   ],
   "source": [
    "importances = rf.feature_importances_\n",
    "features_label = X.columns\n",
    "indices = np. argsort(importances)[::-1]\n",
    "plt.title('Feature Importances')\n",
    "plt.bar(range(X.shape[1]), importances[indices], color=\"green\", align=\"center\")\n",
    "plt.xticks(range(X.shape[1]),features_label, rotation=45)\n",
    "plt.xlim([-1, X.shape[1]])\n",
    "#plt.figure(figsize=(6,10))\n",
    "plt.tight_layout()\n",
    "plt.show()"
   ]
  },
  {
   "cell_type": "code",
   "execution_count": null,
   "metadata": {},
   "outputs": [],
   "source": []
  },
  {
   "cell_type": "code",
   "execution_count": null,
   "metadata": {},
   "outputs": [],
   "source": [
    "#print(test_data.columns.tolist())"
   ]
  },
  {
   "cell_type": "code",
   "execution_count": null,
   "metadata": {},
   "outputs": [],
   "source": [
    "X_test_t = test_data[cols]"
   ]
  },
  {
   "cell_type": "code",
   "execution_count": null,
   "metadata": {},
   "outputs": [],
   "source": [
    "test_data['price'] = rf.predict(X_test_t)\n",
    "test_data['price'].head()"
   ]
  },
  {
   "cell_type": "code",
   "execution_count": null,
   "metadata": {},
   "outputs": [],
   "source": [
    "test_data[['id', 'price']].to_csv('bma_price_predicted.csv', index=False)"
   ]
  },
  {
   "cell_type": "code",
   "execution_count": null,
   "metadata": {},
   "outputs": [],
   "source": [
    "#pd.DataFrame(test_data_sss).to_csv('random_f.csv')"
   ]
  },
  {
   "cell_type": "code",
   "execution_count": null,
   "metadata": {},
   "outputs": [],
   "source": [
    "import pickle"
   ]
  },
  {
   "cell_type": "code",
   "execution_count": null,
   "metadata": {},
   "outputs": [],
   "source": [
    "#pickle.dump(rf,open('rf_model.sav','wb'))"
   ]
  },
  {
   "cell_type": "code",
   "execution_count": null,
   "metadata": {},
   "outputs": [],
   "source": []
  }
 ],
 "metadata": {
  "kernelspec": {
   "display_name": "Python 3",
   "language": "python",
   "name": "python3"
  },
  "language_info": {
   "codemirror_mode": {
    "name": "ipython",
    "version": 3
   },
   "file_extension": ".py",
   "mimetype": "text/x-python",
   "name": "python",
   "nbconvert_exporter": "python",
   "pygments_lexer": "ipython3",
   "version": "3.7.3"
  }
 },
 "nbformat": 4,
 "nbformat_minor": 2
}
