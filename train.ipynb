{
 "cells": [
  {
   "cell_type": "code",
   "execution_count": 1,
   "metadata": {},
   "outputs": [],
   "source": [
    "import pandas as pd\n",
    "import numpy as np\n",
    "import matplotlib.pyplot as plt\n",
    "import seaborn as sns\n",
    "from util import *\n",
    "from sklearn.model_selection import train_test_split\n",
    "from sklearn.linear_model import LinearRegression,Lasso,Ridge\n",
    "from sklearn.ensemble import RandomForestRegressor\n",
    "import xgboost as xgb\n",
    "\n",
    "\n",
    "%matplotlib inline"
   ]
  },
  {
   "cell_type": "code",
   "execution_count": 2,
   "metadata": {},
   "outputs": [
    {
     "data": {
      "text/html": [
       "<div>\n",
       "<style scoped>\n",
       "    .dataframe tbody tr th:only-of-type {\n",
       "        vertical-align: middle;\n",
       "    }\n",
       "\n",
       "    .dataframe tbody tr th {\n",
       "        vertical-align: top;\n",
       "    }\n",
       "\n",
       "    .dataframe thead th {\n",
       "        text-align: right;\n",
       "    }\n",
       "</style>\n",
       "<table border=\"1\" class=\"dataframe\">\n",
       "  <thead>\n",
       "    <tr style=\"text-align: right;\">\n",
       "      <th></th>\n",
       "      <th>Unnamed: 0</th>\n",
       "      <th>points</th>\n",
       "      <th>price</th>\n",
       "      <th>num_description</th>\n",
       "      <th>num_variety</th>\n",
       "      <th>year_code</th>\n",
       "      <th>cat_country</th>\n",
       "      <th>pos_sentiment</th>\n",
       "      <th>neg_sentiment</th>\n",
       "      <th>country_code</th>\n",
       "      <th>province_code</th>\n",
       "      <th>designation_code</th>\n",
       "      <th>point_cat</th>\n",
       "    </tr>\n",
       "  </thead>\n",
       "  <tbody>\n",
       "    <tr>\n",
       "      <th>0</th>\n",
       "      <td>0</td>\n",
       "      <td>88.870874</td>\n",
       "      <td>20.0</td>\n",
       "      <td>0.002999</td>\n",
       "      <td>0.000015</td>\n",
       "      <td>2011.0</td>\n",
       "      <td>1</td>\n",
       "      <td>0.175</td>\n",
       "      <td>0.0</td>\n",
       "      <td>0</td>\n",
       "      <td>0</td>\n",
       "      <td>0</td>\n",
       "      <td>3</td>\n",
       "    </tr>\n",
       "    <tr>\n",
       "      <th>1</th>\n",
       "      <td>1</td>\n",
       "      <td>88.041695</td>\n",
       "      <td>28.0</td>\n",
       "      <td>0.003312</td>\n",
       "      <td>0.000030</td>\n",
       "      <td>2011.0</td>\n",
       "      <td>2</td>\n",
       "      <td>0.236</td>\n",
       "      <td>0.0</td>\n",
       "      <td>1</td>\n",
       "      <td>1</td>\n",
       "      <td>1</td>\n",
       "      <td>3</td>\n",
       "    </tr>\n",
       "  </tbody>\n",
       "</table>\n",
       "</div>"
      ],
      "text/plain": [
       "   Unnamed: 0     points  price  num_description  num_variety  year_code  \\\n",
       "0           0  88.870874   20.0         0.002999     0.000015     2011.0   \n",
       "1           1  88.041695   28.0         0.003312     0.000030     2011.0   \n",
       "\n",
       "   cat_country  pos_sentiment  neg_sentiment  country_code  province_code  \\\n",
       "0            1          0.175            0.0             0              0   \n",
       "1            2          0.236            0.0             1              1   \n",
       "\n",
       "   designation_code  point_cat  \n",
       "0                 0          3  \n",
       "1                 1          3  "
      ]
     },
     "execution_count": 2,
     "metadata": {},
     "output_type": "execute_result"
    }
   ],
   "source": [
    "\n",
    "filtered_data = pd.read_csv('import.csv')\n",
    "filtered_data.head(2)"
   ]
  },
  {
   "cell_type": "code",
   "execution_count": 3,
   "metadata": {},
   "outputs": [
    {
     "data": {
      "text/plain": [
       "Index(['Unnamed: 0', 'points', 'price', 'num_description', 'num_variety',\n",
       "       'year_code', 'cat_country', 'pos_sentiment', 'neg_sentiment',\n",
       "       'country_code', 'province_code', 'designation_code', 'point_cat'],\n",
       "      dtype='object')"
      ]
     },
     "execution_count": 3,
     "metadata": {},
     "output_type": "execute_result"
    }
   ],
   "source": [
    "filtered_data.columns"
   ]
  },
  {
   "cell_type": "code",
   "execution_count": 4,
   "metadata": {},
   "outputs": [],
   "source": [
    "X = filtered_data[['points', 'num_description', 'num_variety','point_cat','pos_sentiment','neg_sentiment']]\n",
    "y = filtered_data['price']"
   ]
  },
  {
   "cell_type": "code",
   "execution_count": 5,
   "metadata": {},
   "outputs": [
    {
     "data": {
      "text/plain": [
       "((34999, 6), (140000, 6), (34999,), (140000,))"
      ]
     },
     "execution_count": 5,
     "metadata": {},
     "output_type": "execute_result"
    }
   ],
   "source": [
    "X_train, X_test, y_train, y_test = train_test_split(X, y, test_size=0.80, random_state=101)\n",
    "\n",
    "X_train.shape, X_test.shape, y_train.shape, y_test.shape"
   ]
  },
  {
   "cell_type": "code",
   "execution_count": 6,
   "metadata": {},
   "outputs": [],
   "source": [
    "X_train = X_train.fillna(X_train.mean())\n",
    "y_train = y_train.fillna(y_train.mean())\n",
    "X_test = X_test.fillna(X_test.mean())\n",
    "y_test = y_test.fillna(y_test.mean())"
   ]
  },
  {
   "cell_type": "code",
   "execution_count": 7,
   "metadata": {},
   "outputs": [
    {
     "data": {
      "text/plain": [
       "LinearRegression(copy_X=True, fit_intercept=True, n_jobs=None, normalize=False)"
      ]
     },
     "execution_count": 7,
     "metadata": {},
     "output_type": "execute_result"
    }
   ],
   "source": [
    "lm = LinearRegression()\n",
    "lm.fit(X_train,y_train)"
   ]
  },
  {
   "cell_type": "code",
   "execution_count": 8,
   "metadata": {},
   "outputs": [],
   "source": [
    "trained_on = X_train.head(3)"
   ]
  },
  {
   "cell_type": "code",
   "execution_count": 9,
   "metadata": {},
   "outputs": [
    {
     "name": "stderr",
     "output_type": "stream",
     "text": [
      "/home/aims/anaconda3/lib/python3.7/site-packages/xgboost/core.py:587: FutureWarning: Series.base is deprecated and will be removed in a future version\n",
      "  if getattr(data, 'base', None) is not None and \\\n"
     ]
    },
    {
     "name": "stdout",
     "output_type": "stream",
     "text": [
      "[21:44:13] WARNING: /workspace/src/objective/regression_obj.cu:152: reg:linear is now deprecated in favor of reg:squarederror.\n"
     ]
    },
    {
     "data": {
      "text/plain": [
       "XGBRegressor(base_score=0.5, booster='gbtree', colsample_bylevel=1,\n",
       "             colsample_bynode=1, colsample_bytree=1, gamma=0,\n",
       "             importance_type='gain', learning_rate=0.1, max_delta_step=0,\n",
       "             max_depth=3, min_child_weight=1, missing=None, n_estimators=100,\n",
       "             n_jobs=1, nthread=None, objective='reg:linear', random_state=42,\n",
       "             reg_alpha=0, reg_lambda=1, scale_pos_weight=1, seed=None,\n",
       "             silent=None, subsample=1, verbosity=1)"
      ]
     },
     "execution_count": 9,
     "metadata": {},
     "output_type": "execute_result"
    }
   ],
   "source": [
    "xgb_model = xgb.XGBRegressor(objective=\"reg:linear\", random_state=42)\n",
    "\n",
    "xgb_model.fit(X_train,y_train)\n"
   ]
  },
  {
   "cell_type": "code",
   "execution_count": 10,
   "metadata": {},
   "outputs": [
    {
     "data": {
      "text/plain": [
       "Ridge(alpha=1.0, copy_X=True, fit_intercept=True, max_iter=None,\n",
       "      normalize=False, random_state=None, solver='auto', tol=0.001)"
      ]
     },
     "execution_count": 10,
     "metadata": {},
     "output_type": "execute_result"
    }
   ],
   "source": [
    "clf = Ridge(alpha=1.0)\n",
    "clf.fit(X_train,y_train)"
   ]
  },
  {
   "cell_type": "code",
   "execution_count": null,
   "metadata": {},
   "outputs": [],
   "source": []
  },
  {
   "cell_type": "code",
   "execution_count": null,
   "metadata": {},
   "outputs": [],
   "source": []
  },
  {
   "cell_type": "code",
   "execution_count": 11,
   "metadata": {},
   "outputs": [
    {
     "name": "stdout",
     "output_type": "stream",
     "text": [
      "-825.4724880709225\n"
     ]
    }
   ],
   "source": [
    "print(lm.intercept_)"
   ]
  },
  {
   "cell_type": "code",
   "execution_count": 12,
   "metadata": {},
   "outputs": [
    {
     "data": {
      "text/html": [
       "<div>\n",
       "<style scoped>\n",
       "    .dataframe tbody tr th:only-of-type {\n",
       "        vertical-align: middle;\n",
       "    }\n",
       "\n",
       "    .dataframe tbody tr th {\n",
       "        vertical-align: top;\n",
       "    }\n",
       "\n",
       "    .dataframe thead th {\n",
       "        text-align: right;\n",
       "    }\n",
       "</style>\n",
       "<table border=\"1\" class=\"dataframe\">\n",
       "  <thead>\n",
       "    <tr style=\"text-align: right;\">\n",
       "      <th></th>\n",
       "      <th>Coefficient</th>\n",
       "    </tr>\n",
       "  </thead>\n",
       "  <tbody>\n",
       "    <tr>\n",
       "      <th>points</th>\n",
       "      <td>10.266393</td>\n",
       "    </tr>\n",
       "    <tr>\n",
       "      <th>num_description</th>\n",
       "      <td>-988.876230</td>\n",
       "    </tr>\n",
       "    <tr>\n",
       "      <th>num_variety</th>\n",
       "      <td>933.591773</td>\n",
       "    </tr>\n",
       "    <tr>\n",
       "      <th>point_cat</th>\n",
       "      <td>-15.253699</td>\n",
       "    </tr>\n",
       "    <tr>\n",
       "      <th>pos_sentiment</th>\n",
       "      <td>-17.667465</td>\n",
       "    </tr>\n",
       "    <tr>\n",
       "      <th>neg_sentiment</th>\n",
       "      <td>67.723921</td>\n",
       "    </tr>\n",
       "  </tbody>\n",
       "</table>\n",
       "</div>"
      ],
      "text/plain": [
       "                 Coefficient\n",
       "points             10.266393\n",
       "num_description  -988.876230\n",
       "num_variety       933.591773\n",
       "point_cat         -15.253699\n",
       "pos_sentiment     -17.667465\n",
       "neg_sentiment      67.723921"
      ]
     },
     "execution_count": 12,
     "metadata": {},
     "output_type": "execute_result"
    }
   ],
   "source": [
    "coeff_df = pd.DataFrame(lm.coef_,X.columns,columns=['Coefficient'])\n",
    "coeff_df"
   ]
  },
  {
   "cell_type": "code",
   "execution_count": 13,
   "metadata": {},
   "outputs": [],
   "source": [
    "import pickle\n",
    "# pickle.dump(lm, open('model33.sav', 'wb'))\n",
    "# loaded_model = pickle.load(open('model33.sav', 'rb'))"
   ]
  },
  {
   "cell_type": "code",
   "execution_count": 14,
   "metadata": {},
   "outputs": [
    {
     "data": {
      "text/plain": [
       "<matplotlib.collections.PathCollection at 0x7ff1ac340b38>"
      ]
     },
     "execution_count": 14,
     "metadata": {},
     "output_type": "execute_result"
    },
    {
     "data": {
      "image/png": "[encoded data removed]",
      "text/plain": [
       "<Figure size 432x288 with 1 Axes>"
      ]
     },
     "metadata": {
      "needs_background": "light"
     },
     "output_type": "display_data"
    }
   ],
   "source": [
    "predictions = lm.predict(X_test)\n",
    "plt.scatter(np.log(y_test),predictions)"
   ]
  },
  {
   "cell_type": "code",
   "execution_count": 15,
   "metadata": {},
   "outputs": [
    {
     "data": {
      "image/png": "[encoded data removed]",
      "text/plain": [
       "<Figure size 432x288 with 1 Axes>"
      ]
     },
     "metadata": {
      "needs_background": "light"
     },
     "output_type": "display_data"
    }
   ],
   "source": [
    "sns.distplot((y_test-predictions),bins=50);"
   ]
  },
  {
   "cell_type": "code",
   "execution_count": null,
   "metadata": {},
   "outputs": [],
   "source": []
  },
  {
   "cell_type": "code",
   "execution_count": null,
   "metadata": {},
   "outputs": [],
   "source": []
  },
  {
   "cell_type": "code",
   "execution_count": 16,
   "metadata": {},
   "outputs": [
    {
     "name": "stdout",
     "output_type": "stream",
     "text": [
      "MAE: 16.4346147883571\n",
      "MSE: 1129.5551301770658\n",
      "RMSE: 33.60885493701126\n"
     ]
    }
   ],
   "source": [
    "from sklearn import metrics\n",
    "\n",
    "print('MAE:', metrics.mean_absolute_error(y_test, predictions))\n",
    "print('MSE:', metrics.mean_squared_error(y_test, predictions))\n",
    "print('RMSE:', np.sqrt(metrics.mean_squared_error(y_test, predictions)))"
   ]
  },
  {
   "cell_type": "code",
   "execution_count": 17,
   "metadata": {},
   "outputs": [
    {
     "name": "stdout",
     "output_type": "stream",
     "text": [
      "32.5450321974617\n"
     ]
    }
   ],
   "source": [
    "y_pred = xgb_model.predict(X_test)\n",
    "mse=metrics.mean_squared_error(y_test, y_pred)\n",
    "\n",
    "print(np.sqrt(mse))"
   ]
  },
  {
   "cell_type": "code",
   "execution_count": 18,
   "metadata": {},
   "outputs": [
    {
     "data": {
      "text/plain": [
       "33.64629688185667"
      ]
     },
     "execution_count": 18,
     "metadata": {},
     "output_type": "execute_result"
    }
   ],
   "source": [
    "y_prediction = clf.predict(X_test)\n",
    "mse_r=metrics.mean_squared_error(y_test, y_prediction)\n",
    "np.sqrt(mse_r)"
   ]
  },
  {
   "cell_type": "code",
   "execution_count": 21,
   "metadata": {},
   "outputs": [
    {
     "data": {
      "text/plain": [
       "<matplotlib.collections.PathCollection at 0x7ff1abf67978>"
      ]
     },
     "execution_count": 21,
     "metadata": {},
     "output_type": "execute_result"
    },
    {
     "data": {
      "image/png": "[encoded data removed]",
      "text/plain": [
       "<Figure size 432x288 with 1 Axes>"
      ]
     },
     "metadata": {
      "needs_background": "light"
     },
     "output_type": "display_data"
    }
   ],
   "source": [
    "plt.scatter(np.log(y_test),y_prediction)"
   ]
  },
  {
   "cell_type": "code",
   "execution_count": 22,
   "metadata": {},
   "outputs": [
    {
     "data": {
      "image/png": "[encoded data removed]",
      "text/plain": [
       "<Figure size 432x288 with 1 Axes>"
      ]
     },
     "metadata": {
      "needs_background": "light"
     },
     "output_type": "display_data"
    }
   ],
   "source": [
    "sns.distplot((np.log(y_test)-y_prediction),bins=50);"
   ]
  },
  {
   "cell_type": "markdown",
   "metadata": {},
   "source": [
    "## Generate test results"
   ]
  },
  {
   "cell_type": "code",
   "execution_count": 23,
   "metadata": {},
   "outputs": [],
   "source": [
    "test_data = pd.read_csv('data/test.csv')\n",
    "\n",
    "wine_data = pd.read_csv('data/train.csv')\n",
    "\n",
    "wine_data['title'] = wine_data.title.fillna('No title ')\n",
    "wine_data['year_code'] = wine_data['title'].apply(lambda x: get_year(x))\n",
    "wine_data['year_code'] = wine_data.year_code.fillna(int(wine_data.year_code.mean()))\n",
    "\n",
    "country_price = wine_data[['country','price']]\n",
    "country_price = country_price.groupby(['country'])['price'].mean().reset_index()\n",
    "wine_data['title'] = wine_data.title.fillna('No title ')\n",
    "wine_data['country'] = wine_data.country.fillna('No Country')\n",
    "wine_data['province'] = wine_data.province.fillna('No province')\n",
    "wine_data['designation'] = wine_data.designation.fillna('No designation')\n",
    "wine_data['winery'] = wine_data.winery.fillna('No winery')\n",
    "wine_data.head(2)\n",
    "\n",
    "\n",
    "countries = list(wine_data['country'].unique())\n",
    "province = list(wine_data['province'].unique())\n",
    "# variety = list(wine_data['variety'].unique())\n",
    "designation = list(wine_data['designation'].unique())\n",
    "titles = list(wine_data['title'].unique())\n",
    "winery = list(wine_data['winery'].unique())"
   ]
  },
  {
   "cell_type": "code",
   "execution_count": 24,
   "metadata": {},
   "outputs": [],
   "source": [
    "import mca\n",
    "test_data = test_data[pd.notnull(test_data['description'])]\n",
    "test_data = test_data[pd.notnull(test_data['variety'])]\n",
    "\n",
    "test_data['title'] = test_data.title.fillna('No title ')\n",
    "test_data['country'] = test_data.country.fillna('No Country')\n",
    "test_data['province'] = test_data.province.fillna('No province')\n",
    "test_data['designation'] = test_data.designation.fillna('No designation')\n",
    "test_data['winery'] = test_data.winery.fillna('No winery')\n",
    "\n",
    "\n",
    "test_data['num_description'] = extract_text(test_data['description'])\n",
    "test_data['num_variety'] = extract_text(test_data['variety'])\n",
    "\n",
    "test_data['title'] = test_data.title.fillna('No title ')\n",
    "test_data['year_code'] = test_data['title'].apply(lambda x: get_year(x))\n",
    "test_data['year_code'] = test_data.year_code.fillna(int(test_data.year_code.mean()))\n",
    "\n",
    "country_price = wine_data[['country','price']]\n",
    "country_price = country_price.groupby(['country'])['price'].mean().reset_index()\n",
    "\n",
    "countries = list(test_data['country'].unique())\n",
    "test_data['cat_country'] = test_data['country'].apply(lambda x:get_average(x,country_price))\n",
    "\n",
    "test_data['pos_sentiment'] = test_data['description'].apply(lambda x: sentiment_analyzer_scores(x,'pos'))\n",
    "\n",
    "test_data['neg_sentiment'] = test_data['description'].apply(lambda x: sentiment_analyzer_scores(x,'neg'))\n",
    "\n",
    "test_data['country_code'] = test_data['country'].apply(lambda x: get_country_num(x,countries) if x in countries else get_country_num('No Country',countries))\n",
    "\n",
    "test_data['province_code'] = test_data['province'].apply(lambda x: get_province(x,province) if x in province else get_province('No province',province))\n",
    "\n",
    "# test_data['variety_code'] = test_data['variety'].apply(lambda x: get_variety(x,variety))\n",
    "\n",
    "test_data['designation_code'] = test_data['designation'].apply(lambda x: get_designation(x,designation) if x in designation else get_designation('No designation',designation))\n",
    "\n",
    "test_data['winery'] = test_data['winery'].apply(lambda x: get_winery(x,winery) if x in winery else get_winery('No winery',winery))\n",
    "\n",
    "# test_data['year_code'] = test_data['title'].apply(lambda x: get_year(x))\n",
    "\n",
    "test_data['point_cat'] = test_data['points'].apply(lambda x:get_points(x))\n",
    "\n",
    "filtered_data = test_data[['points', 'price','num_description', 'num_variety',\n",
    "       'year_code', 'cat_country', 'pos_sentiment', 'neg_sentiment',\n",
    "       'country_code', 'province_code', 'designation_code', 'point_cat']]\n",
    "\n"
   ]
  },
  {
   "cell_type": "code",
   "execution_count": 25,
   "metadata": {},
   "outputs": [],
   "source": [
    "cou = mca.dummy(filtered_data[['cat_country']])\n",
    "cou.columns = ['country1','country2','country3']\n"
   ]
  },
  {
   "cell_type": "code",
   "execution_count": 26,
   "metadata": {},
   "outputs": [],
   "source": [
    "\n",
    "\n",
    "finalDf = pd.concat([cou, filtered_data], axis = 1)\n",
    "\n",
    "# finalDf = finalDf.drop(['cat_country'],axis=1)"
   ]
  },
  {
   "cell_type": "code",
   "execution_count": 27,
   "metadata": {},
   "outputs": [
    {
     "data": {
      "text/plain": [
       "Index(['country1', 'country2', 'country3', 'points', 'price',\n",
       "       'num_description', 'num_variety', 'year_code', 'cat_country',\n",
       "       'pos_sentiment', 'neg_sentiment', 'country_code', 'province_code',\n",
       "       'designation_code', 'point_cat'],\n",
       "      dtype='object')"
      ]
     },
     "execution_count": 27,
     "metadata": {},
     "output_type": "execute_result"
    }
   ],
   "source": [
    "finalDf.columns"
   ]
  },
  {
   "cell_type": "code",
   "execution_count": 28,
   "metadata": {},
   "outputs": [
    {
     "data": {
      "text/html": [
       "<div>\n",
       "<style scoped>\n",
       "    .dataframe tbody tr th:only-of-type {\n",
       "        vertical-align: middle;\n",
       "    }\n",
       "\n",
       "    .dataframe tbody tr th {\n",
       "        vertical-align: top;\n",
       "    }\n",
       "\n",
       "    .dataframe thead th {\n",
       "        text-align: right;\n",
       "    }\n",
       "</style>\n",
       "<table border=\"1\" class=\"dataframe\">\n",
       "  <thead>\n",
       "    <tr style=\"text-align: right;\">\n",
       "      <th></th>\n",
       "      <th>points</th>\n",
       "      <th>num_description</th>\n",
       "      <th>num_variety</th>\n",
       "      <th>year_code</th>\n",
       "      <th>cat_country</th>\n",
       "      <th>pos_sentiment</th>\n",
       "      <th>neg_sentiment</th>\n",
       "      <th>country_code</th>\n",
       "      <th>province_code</th>\n",
       "      <th>designation_code</th>\n",
       "      <th>point_cat</th>\n",
       "    </tr>\n",
       "  </thead>\n",
       "  <tbody>\n",
       "    <tr>\n",
       "      <th>0</th>\n",
       "      <td>95.036469</td>\n",
       "      <td>0.004043</td>\n",
       "      <td>0.001063</td>\n",
       "      <td>2007.0</td>\n",
       "      <td>2</td>\n",
       "      <td>0.214</td>\n",
       "      <td>0.044</td>\n",
       "      <td>0</td>\n",
       "      <td>2</td>\n",
       "      <td>11070</td>\n",
       "      <td>4</td>\n",
       "    </tr>\n",
       "    <tr>\n",
       "      <th>1</th>\n",
       "      <td>90.966405</td>\n",
       "      <td>0.003308</td>\n",
       "      <td>0.000012</td>\n",
       "      <td>2012.0</td>\n",
       "      <td>2</td>\n",
       "      <td>0.171</td>\n",
       "      <td>0.000</td>\n",
       "      <td>1</td>\n",
       "      <td>73</td>\n",
       "      <td>1</td>\n",
       "      <td>4</td>\n",
       "    </tr>\n",
       "    <tr>\n",
       "      <th>2</th>\n",
       "      <td>88.964358</td>\n",
       "      <td>0.004595</td>\n",
       "      <td>0.000378</td>\n",
       "      <td>2013.0</td>\n",
       "      <td>2</td>\n",
       "      <td>0.053</td>\n",
       "      <td>0.000</td>\n",
       "      <td>0</td>\n",
       "      <td>2</td>\n",
       "      <td>22</td>\n",
       "      <td>3</td>\n",
       "    </tr>\n",
       "  </tbody>\n",
       "</table>\n",
       "</div>"
      ],
      "text/plain": [
       "      points  num_description  num_variety  year_code  cat_country  \\\n",
       "0  95.036469         0.004043     0.001063     2007.0            2   \n",
       "1  90.966405         0.003308     0.000012     2012.0            2   \n",
       "2  88.964358         0.004595     0.000378     2013.0            2   \n",
       "\n",
       "   pos_sentiment  neg_sentiment  country_code  province_code  \\\n",
       "0          0.214          0.044             0              2   \n",
       "1          0.171          0.000             1             73   \n",
       "2          0.053          0.000             0              2   \n",
       "\n",
       "   designation_code  point_cat  \n",
       "0             11070          4  \n",
       "1                 1          4  \n",
       "2                22          3  "
      ]
     },
     "execution_count": 28,
     "metadata": {},
     "output_type": "execute_result"
    }
   ],
   "source": [
    "tempo = finalDf[['points', 'num_description', 'num_variety',\n",
    "       'year_code', 'cat_country', 'pos_sentiment', 'neg_sentiment',\n",
    "       'country_code', 'province_code', 'designation_code', 'point_cat']]\n",
    "tempo.head(3)"
   ]
  },
  {
   "cell_type": "code",
   "execution_count": null,
   "metadata": {},
   "outputs": [],
   "source": []
  },
  {
   "cell_type": "code",
   "execution_count": null,
   "metadata": {},
   "outputs": [],
   "source": [
    "trained_on.head(2)"
   ]
  },
  {
   "cell_type": "code",
   "execution_count": null,
   "metadata": {},
   "outputs": [],
   "source": [
    "tempo.head(2)"
   ]
  },
  {
   "cell_type": "code",
   "execution_count": null,
   "metadata": {},
   "outputs": [],
   "source": []
  },
  {
   "cell_type": "code",
   "execution_count": 25,
   "metadata": {},
   "outputs": [
    {
     "name": "stdout",
     "output_type": "stream",
     "text": [
      "<class 'pandas.core.frame.DataFrame'>\n",
      "Int64Index: 83210 entries, 0 to 83209\n",
      "Data columns (total 11 columns):\n",
      "points              83210 non-null float64\n",
      "num_description     83210 non-null float64\n",
      "num_variety         83210 non-null float64\n",
      "year_code           83210 non-null float64\n",
      "cat_country         83210 non-null int64\n",
      "pos_sentiment       83210 non-null float64\n",
      "neg_sentiment       83210 non-null float64\n",
      "country_code        83210 non-null int64\n",
      "province_code       83210 non-null int64\n",
      "designation_code    83210 non-null int64\n",
      "point_cat           83210 non-null int64\n",
      "dtypes: float64(6), int64(5)\n",
      "memory usage: 7.6 MB\n"
     ]
    }
   ],
   "source": [
    "tempo.info()"
   ]
  },
  {
   "cell_type": "code",
   "execution_count": 27,
   "metadata": {},
   "outputs": [],
   "source": [
    "predictions = lm.predict(tempo)"
   ]
  },
  {
   "cell_type": "code",
   "execution_count": 28,
   "metadata": {},
   "outputs": [],
   "source": [
    "xjpredictions = xgb_model.predict(tempo)"
   ]
  },
  {
   "cell_type": "code",
   "execution_count": null,
   "metadata": {},
   "outputs": [],
   "source": [
    "clfpredictions = clf.predict(tempo)"
   ]
  },
  {
   "cell_type": "code",
   "execution_count": 29,
   "metadata": {},
   "outputs": [],
   "source": [
    "pd.DataFrame(predictions).to_csv('sample7.csv')\n",
    "pd.DataFrame(xjpredictions).to_csv('sample8.csv')\n",
    "pd.DataFrame(clfpredictions).to_csv('sample9.csv')"
   ]
  },
  {
   "cell_type": "code",
   "execution_count": null,
   "metadata": {},
   "outputs": [],
   "source": []
  }
 ],
 "metadata": {
  "kernelspec": {
   "display_name": "Python 3",
   "language": "python",
   "name": "python3"
  },
  "language_info": {
   "codemirror_mode": {
    "name": "ipython",
    "version": 3
   },
   "file_extension": ".py",
   "mimetype": "text/x-python",
   "name": "python",
   "nbconvert_exporter": "python",
   "pygments_lexer": "ipython3",
   "version": "3.7.3"
  }
 },
 "nbformat": 4,
 "nbformat_minor": 2
}
