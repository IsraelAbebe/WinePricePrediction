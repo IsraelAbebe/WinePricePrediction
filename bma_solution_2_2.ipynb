{
 "cells": [
  {
   "cell_type": "code",
   "execution_count": 1,
   "metadata": {},
   "outputs": [],
   "source": [
    "import pandas as pd\n",
    "import numpy as np\n",
    "import matplotlib.pyplot as plt\n",
    "import seaborn as sns\n",
    "%matplotlib inline\n",
    "\n",
    "import math\n",
    "from sklearn.model_selection import train_test_split\n",
    "from sklearn.metrics import precision_recall_curve, mean_squared_error\n",
    "from sklearn.linear_model import LogisticRegression\n",
    "from sklearn.feature_extraction.text import CountVectorizer, TfidfVectorizer\n",
    "from joblib import dump, load\n",
    "\n",
    "from nltk.tokenize import RegexpTokenizer\n",
    "from sklearn.decomposition import TruncatedSVD\n",
    "import xgboost as xgb"
   ]
  },
  {
   "cell_type": "code",
   "execution_count": 2,
   "metadata": {},
   "outputs": [
    {
     "name": "stderr",
     "output_type": "stream",
     "text": [
      "/usr/lib/python3/dist-packages/ipykernel_launcher.py:7: FutureWarning: Sorting because non-concatenation axis is not aligned. A future version\n",
      "of pandas will change to not sort by default.\n",
      "\n",
      "To accept the future behavior, pass 'sort=False'.\n",
      "\n",
      "To retain the current behavior and silence the warning, pass 'sort=True'.\n",
      "\n",
      "  import sys\n"
     ]
    }
   ],
   "source": [
    "train = pd.read_csv('data/train.csv')\n",
    "test = pd.read_csv('data/test.csv')\n",
    "\n",
    "train['train_test'] = 'train'\n",
    "test['train_test'] = 'test'\n",
    "\n",
    "data = pd.concat([train, test])"
   ]
  },
  {
   "cell_type": "code",
   "execution_count": 3,
   "metadata": {},
   "outputs": [
    {
     "data": {
      "text/html": [
       "<div>\n",
       "<style scoped>\n",
       "    .dataframe tbody tr th:only-of-type {\n",
       "        vertical-align: middle;\n",
       "    }\n",
       "\n",
       "    .dataframe tbody tr th {\n",
       "        vertical-align: top;\n",
       "    }\n",
       "\n",
       "    .dataframe thead th {\n",
       "        text-align: right;\n",
       "    }\n",
       "</style>\n",
       "<table border=\"1\" class=\"dataframe\">\n",
       "  <thead>\n",
       "    <tr style=\"text-align: right;\">\n",
       "      <th></th>\n",
       "      <th>country</th>\n",
       "      <th>description</th>\n",
       "      <th>designation</th>\n",
       "      <th>id</th>\n",
       "      <th>index</th>\n",
       "      <th>points</th>\n",
       "      <th>price</th>\n",
       "      <th>province</th>\n",
       "      <th>region_1</th>\n",
       "      <th>region_2</th>\n",
       "      <th>taster_name</th>\n",
       "      <th>taster_twitter_handle</th>\n",
       "      <th>title</th>\n",
       "      <th>train_test</th>\n",
       "      <th>variety</th>\n",
       "      <th>winery</th>\n",
       "    </tr>\n",
       "  </thead>\n",
       "  <tbody>\n",
       "    <tr>\n",
       "      <th>0</th>\n",
       "      <td>Portugal</td>\n",
       "      <td>This is a fine rich balanced wine. It has ripe...</td>\n",
       "      <td>Vila Santa Reserva</td>\n",
       "      <td>32027</td>\n",
       "      <td>NaN</td>\n",
       "      <td>88.870874</td>\n",
       "      <td>20.0</td>\n",
       "      <td>Alentejano</td>\n",
       "      <td>NaN</td>\n",
       "      <td>NaN</td>\n",
       "      <td>NaN</td>\n",
       "      <td>NaN</td>\n",
       "      <td>NaN</td>\n",
       "      <td>train</td>\n",
       "      <td>PORTUGUESE RED</td>\n",
       "      <td>J. Portugal Ramos</td>\n",
       "    </tr>\n",
       "    <tr>\n",
       "      <th>1</th>\n",
       "      <td>France</td>\n",
       "      <td>A solid, chunky wine, with a structure that is...</td>\n",
       "      <td>NaN</td>\n",
       "      <td>71079</td>\n",
       "      <td>NaN</td>\n",
       "      <td>88.041695</td>\n",
       "      <td>28.0</td>\n",
       "      <td>Bordeaux</td>\n",
       "      <td>Lalande de Pomerol</td>\n",
       "      <td>NaN</td>\n",
       "      <td>NaN</td>\n",
       "      <td>NaN</td>\n",
       "      <td>NaN</td>\n",
       "      <td>train</td>\n",
       "      <td>BORDEAUX-STYLE RED BLEND</td>\n",
       "      <td>Château Tour Grand Colombier</td>\n",
       "    </tr>\n",
       "    <tr>\n",
       "      <th>2</th>\n",
       "      <td>France</td>\n",
       "      <td>This is powerful and concentrated, with the hi...</td>\n",
       "      <td>NaN</td>\n",
       "      <td>32440</td>\n",
       "      <td>NaN</td>\n",
       "      <td>94.085021</td>\n",
       "      <td>130.0</td>\n",
       "      <td>Bordeaux</td>\n",
       "      <td>Saint-Émilion</td>\n",
       "      <td>NaN</td>\n",
       "      <td>NaN</td>\n",
       "      <td>NaN</td>\n",
       "      <td>NaN</td>\n",
       "      <td>train</td>\n",
       "      <td>BORDEAUX-STYLE RED BLEND</td>\n",
       "      <td>Château Figeac</td>\n",
       "    </tr>\n",
       "    <tr>\n",
       "      <th>3</th>\n",
       "      <td>US</td>\n",
       "      <td>Rich, ripe and oaky, this Petite Sirah charms ...</td>\n",
       "      <td>Thompson Vineyard</td>\n",
       "      <td>124405</td>\n",
       "      <td>NaN</td>\n",
       "      <td>89.869797</td>\n",
       "      <td>34.0</td>\n",
       "      <td>California</td>\n",
       "      <td>Santa Barbara County</td>\n",
       "      <td>Central Coast</td>\n",
       "      <td>NaN</td>\n",
       "      <td>NaN</td>\n",
       "      <td>Jaffurs 2010 Thompson Vineyard Petite Sirah (S...</td>\n",
       "      <td>train</td>\n",
       "      <td>PETITE SIRAH</td>\n",
       "      <td>Jaffurs</td>\n",
       "    </tr>\n",
       "    <tr>\n",
       "      <th>4</th>\n",
       "      <td>US</td>\n",
       "      <td>This wine is a unique in the state blend and f...</td>\n",
       "      <td>McKinley Springs Vineyard</td>\n",
       "      <td>33649</td>\n",
       "      <td>NaN</td>\n",
       "      <td>89.017651</td>\n",
       "      <td>24.0</td>\n",
       "      <td>Washington</td>\n",
       "      <td>Horse Heaven Hills</td>\n",
       "      <td>Columbia Valley</td>\n",
       "      <td>Sean P. Sullivan</td>\n",
       "      <td>@wawinereport</td>\n",
       "      <td>Syncline 2016 McKinley Springs Vineyard Rosé (...</td>\n",
       "      <td>train</td>\n",
       "      <td>ROSé</td>\n",
       "      <td>Syncline</td>\n",
       "    </tr>\n",
       "  </tbody>\n",
       "</table>\n",
       "</div>"
      ],
      "text/plain": [
       "    country                                        description  \\\n",
       "0  Portugal  This is a fine rich balanced wine. It has ripe...   \n",
       "1    France  A solid, chunky wine, with a structure that is...   \n",
       "2    France  This is powerful and concentrated, with the hi...   \n",
       "3        US  Rich, ripe and oaky, this Petite Sirah charms ...   \n",
       "4        US  This wine is a unique in the state blend and f...   \n",
       "\n",
       "                 designation      id  index     points  price    province  \\\n",
       "0         Vila Santa Reserva   32027    NaN  88.870874   20.0  Alentejano   \n",
       "1                        NaN   71079    NaN  88.041695   28.0    Bordeaux   \n",
       "2                        NaN   32440    NaN  94.085021  130.0    Bordeaux   \n",
       "3          Thompson Vineyard  124405    NaN  89.869797   34.0  California   \n",
       "4  McKinley Springs Vineyard   33649    NaN  89.017651   24.0  Washington   \n",
       "\n",
       "               region_1         region_2       taster_name  \\\n",
       "0                   NaN              NaN               NaN   \n",
       "1    Lalande de Pomerol              NaN               NaN   \n",
       "2         Saint-Émilion              NaN               NaN   \n",
       "3  Santa Barbara County    Central Coast               NaN   \n",
       "4    Horse Heaven Hills  Columbia Valley  Sean P. Sullivan   \n",
       "\n",
       "  taster_twitter_handle                                              title  \\\n",
       "0                   NaN                                                NaN   \n",
       "1                   NaN                                                NaN   \n",
       "2                   NaN                                                NaN   \n",
       "3                   NaN  Jaffurs 2010 Thompson Vineyard Petite Sirah (S...   \n",
       "4         @wawinereport  Syncline 2016 McKinley Springs Vineyard Rosé (...   \n",
       "\n",
       "  train_test                   variety                        winery  \n",
       "0      train            PORTUGUESE RED             J. Portugal Ramos  \n",
       "1      train  BORDEAUX-STYLE RED BLEND  Château Tour Grand Colombier  \n",
       "2      train  BORDEAUX-STYLE RED BLEND                Château Figeac  \n",
       "3      train              PETITE SIRAH                       Jaffurs  \n",
       "4      train                      ROSé                      Syncline  "
      ]
     },
     "execution_count": 3,
     "metadata": {},
     "output_type": "execute_result"
    }
   ],
   "source": [
    "data.head()"
   ]
  },
  {
   "cell_type": "code",
   "execution_count": 4,
   "metadata": {},
   "outputs": [],
   "source": [
    "data.variety.fillna(value='PINOT NOIR', inplace=True)"
   ]
  },
  {
   "cell_type": "code",
   "execution_count": 5,
   "metadata": {},
   "outputs": [],
   "source": [
    "data.province.fillna(value='California', inplace=True)"
   ]
  },
  {
   "cell_type": "code",
   "execution_count": 6,
   "metadata": {},
   "outputs": [],
   "source": [
    "#data = data[pd.notnull(data['variety'])]\n",
    "#data = data[pd.notnull(data['province'])]"
   ]
  },
  {
   "cell_type": "code",
   "execution_count": 7,
   "metadata": {},
   "outputs": [],
   "source": [
    "data.taster_name.fillna(value='Roger Voss', inplace=True)"
   ]
  },
  {
   "cell_type": "code",
   "execution_count": 8,
   "metadata": {},
   "outputs": [],
   "source": [
    "data.title.fillna(value='Gloria Ferrer NV Sonoma Brut Sparkling (Sonoma County)', inplace=True)\n"
   ]
  },
  {
   "cell_type": "code",
   "execution_count": 9,
   "metadata": {},
   "outputs": [],
   "source": [
    "data['province'] = pd.Categorical(data['province'])\n",
    "proDummies = pd.get_dummies(data['province'], prefix = 'prov')\n",
    "\n",
    "data['country'] = pd.Categorical(data['country'])\n",
    "countDummies = pd.get_dummies(data['country'], prefix = 'country')\n",
    "\n",
    "data['variety'] = pd.Categorical(data['variety'])\n",
    "varDummies = pd.get_dummies(data['variety'], prefix = 'variety')\n",
    "\n",
    "data['taster_name'] = pd.Categorical(data['taster_name'])\n",
    "tastDummies = pd.get_dummies(data['taster_name'], prefix = 'taster')\n",
    "\n",
    "#data['title'] = pd.Categorical(data['title'])\n",
    "#titleDummies = pd.get_dummies(data['title'], prefix = 'title')"
   ]
  },
  {
   "cell_type": "code",
   "execution_count": 10,
   "metadata": {},
   "outputs": [],
   "source": [
    "def getQuality(points):\n",
    "    if(points <= 85):\n",
    "        return 'bad'\n",
    "    elif(points<=90 ):\n",
    "        return 'ok'\n",
    "    elif(points<=95):\n",
    "        return 'good'\n",
    "    elif(points<=102):\n",
    "        return 'great'\n",
    "    else:\n",
    "        return 'If this gets hit, we did something wrong!'"
   ]
  },
  {
   "cell_type": "code",
   "execution_count": 11,
   "metadata": {},
   "outputs": [],
   "source": [
    "data['quality'] = data['points'].apply(getQuality)\n",
    "cleanup_nums = {\"quality\":     {\"ok\": 2, \"good\": 3, \"bad\": 1, \"great\": 4},\n",
    "                \"priceRange\": {\"1-30\": 1, \"31-50\": 2, \"51-100\": 3, \"Above 100\": 4}}\n",
    "\n",
    "data.replace(cleanup_nums, inplace=True)"
   ]
  },
  {
   "cell_type": "code",
   "execution_count": 12,
   "metadata": {},
   "outputs": [
    {
     "data": {
      "text/html": [
       "<div>\n",
       "<style scoped>\n",
       "    .dataframe tbody tr th:only-of-type {\n",
       "        vertical-align: middle;\n",
       "    }\n",
       "\n",
       "    .dataframe tbody tr th {\n",
       "        vertical-align: top;\n",
       "    }\n",
       "\n",
       "    .dataframe thead th {\n",
       "        text-align: right;\n",
       "    }\n",
       "</style>\n",
       "<table border=\"1\" class=\"dataframe\">\n",
       "  <thead>\n",
       "    <tr style=\"text-align: right;\">\n",
       "      <th></th>\n",
       "      <th>country</th>\n",
       "      <th>description</th>\n",
       "      <th>designation</th>\n",
       "      <th>id</th>\n",
       "      <th>index</th>\n",
       "      <th>points</th>\n",
       "      <th>price</th>\n",
       "      <th>province</th>\n",
       "      <th>region_1</th>\n",
       "      <th>region_2</th>\n",
       "      <th>taster_name</th>\n",
       "      <th>taster_twitter_handle</th>\n",
       "      <th>title</th>\n",
       "      <th>train_test</th>\n",
       "      <th>variety</th>\n",
       "      <th>winery</th>\n",
       "      <th>quality</th>\n",
       "    </tr>\n",
       "  </thead>\n",
       "  <tbody>\n",
       "    <tr>\n",
       "      <th>0</th>\n",
       "      <td>Portugal</td>\n",
       "      <td>This is a fine rich balanced wine. It has ripe...</td>\n",
       "      <td>Vila Santa Reserva</td>\n",
       "      <td>32027</td>\n",
       "      <td>NaN</td>\n",
       "      <td>88.870874</td>\n",
       "      <td>20.0</td>\n",
       "      <td>Alentejano</td>\n",
       "      <td>NaN</td>\n",
       "      <td>NaN</td>\n",
       "      <td>Roger Voss</td>\n",
       "      <td>NaN</td>\n",
       "      <td>Gloria Ferrer NV Sonoma Brut Sparkling (Sonoma...</td>\n",
       "      <td>train</td>\n",
       "      <td>PORTUGUESE RED</td>\n",
       "      <td>J. Portugal Ramos</td>\n",
       "      <td>2</td>\n",
       "    </tr>\n",
       "    <tr>\n",
       "      <th>1</th>\n",
       "      <td>France</td>\n",
       "      <td>A solid, chunky wine, with a structure that is...</td>\n",
       "      <td>NaN</td>\n",
       "      <td>71079</td>\n",
       "      <td>NaN</td>\n",
       "      <td>88.041695</td>\n",
       "      <td>28.0</td>\n",
       "      <td>Bordeaux</td>\n",
       "      <td>Lalande de Pomerol</td>\n",
       "      <td>NaN</td>\n",
       "      <td>Roger Voss</td>\n",
       "      <td>NaN</td>\n",
       "      <td>Gloria Ferrer NV Sonoma Brut Sparkling (Sonoma...</td>\n",
       "      <td>train</td>\n",
       "      <td>BORDEAUX-STYLE RED BLEND</td>\n",
       "      <td>Château Tour Grand Colombier</td>\n",
       "      <td>2</td>\n",
       "    </tr>\n",
       "  </tbody>\n",
       "</table>\n",
       "</div>"
      ],
      "text/plain": [
       "    country                                        description  \\\n",
       "0  Portugal  This is a fine rich balanced wine. It has ripe...   \n",
       "1    France  A solid, chunky wine, with a structure that is...   \n",
       "\n",
       "          designation     id  index     points  price    province  \\\n",
       "0  Vila Santa Reserva  32027    NaN  88.870874   20.0  Alentejano   \n",
       "1                 NaN  71079    NaN  88.041695   28.0    Bordeaux   \n",
       "\n",
       "             region_1 region_2 taster_name taster_twitter_handle  \\\n",
       "0                 NaN      NaN  Roger Voss                   NaN   \n",
       "1  Lalande de Pomerol      NaN  Roger Voss                   NaN   \n",
       "\n",
       "                                               title train_test  \\\n",
       "0  Gloria Ferrer NV Sonoma Brut Sparkling (Sonoma...      train   \n",
       "1  Gloria Ferrer NV Sonoma Brut Sparkling (Sonoma...      train   \n",
       "\n",
       "                    variety                        winery  quality  \n",
       "0            PORTUGUESE RED             J. Portugal Ramos        2  \n",
       "1  BORDEAUX-STYLE RED BLEND  Château Tour Grand Colombier        2  "
      ]
     },
     "execution_count": 12,
     "metadata": {},
     "output_type": "execute_result"
    }
   ],
   "source": [
    "data.head(2)"
   ]
  },
  {
   "cell_type": "code",
   "execution_count": 13,
   "metadata": {},
   "outputs": [],
   "source": [
    "def make_lower_case(text):\n",
    "    return text.lower()\n",
    "\n",
    "def remove_punctuation(text):\n",
    "    tokenizer = RegexpTokenizer(r'\\w+')\n",
    "    text = tokenizer.tokenize(text)\n",
    "    text = \" \".join(text)\n",
    "    return text"
   ]
  },
  {
   "cell_type": "code",
   "execution_count": 14,
   "metadata": {},
   "outputs": [],
   "source": [
    "data[\"description\"] = data[\"description\"].str.replace('\\d+', '')\n",
    "data[\"description\"] = data.description.apply(func=remove_punctuation)\n",
    "data[\"description\"] = data.description.apply(func=make_lower_case)"
   ]
  },
  {
   "cell_type": "code",
   "execution_count": 15,
   "metadata": {},
   "outputs": [],
   "source": [
    "data[\"variety\"] = data[\"variety\"].str.replace('\\d+', '')\n",
    "data[\"variety\"] = data.variety.apply(func=remove_punctuation)\n",
    "data[\"variety\"] = data.variety.apply(func=make_lower_case)"
   ]
  },
  {
   "cell_type": "code",
   "execution_count": 16,
   "metadata": {},
   "outputs": [],
   "source": [
    "data[\"title\"] = data[\"title\"].str.replace('\\d+', '')\n",
    "data[\"title\"] = data.title.apply(func=remove_punctuation)\n",
    "data[\"title\"] = data.title.apply(func=make_lower_case)"
   ]
  },
  {
   "cell_type": "code",
   "execution_count": 17,
   "metadata": {},
   "outputs": [],
   "source": [
    "tf = TfidfVectorizer(analyzer='word', \n",
    "                     min_df=10,\n",
    "                     ngram_range=(1, 2),\n",
    "                     stop_words='english')\n",
    "svd = TruncatedSVD(n_components=100)"
   ]
  },
  {
   "cell_type": "code",
   "execution_count": 18,
   "metadata": {},
   "outputs": [
    {
     "name": "stdout",
     "output_type": "stream",
     "text": [
      "(258210, 94009)\n"
     ]
    },
    {
     "data": {
      "text/html": [
       "<div>\n",
       "<style scoped>\n",
       "    .dataframe tbody tr th:only-of-type {\n",
       "        vertical-align: middle;\n",
       "    }\n",
       "\n",
       "    .dataframe tbody tr th {\n",
       "        vertical-align: top;\n",
       "    }\n",
       "\n",
       "    .dataframe thead th {\n",
       "        text-align: right;\n",
       "    }\n",
       "</style>\n",
       "<table border=\"1\" class=\"dataframe\">\n",
       "  <thead>\n",
       "    <tr style=\"text-align: right;\">\n",
       "      <th></th>\n",
       "      <th>description_0</th>\n",
       "      <th>description_1</th>\n",
       "      <th>description_2</th>\n",
       "      <th>description_3</th>\n",
       "      <th>description_4</th>\n",
       "      <th>description_5</th>\n",
       "      <th>description_6</th>\n",
       "      <th>description_7</th>\n",
       "      <th>description_8</th>\n",
       "      <th>description_9</th>\n",
       "      <th>...</th>\n",
       "      <th>description_90</th>\n",
       "      <th>description_91</th>\n",
       "      <th>description_92</th>\n",
       "      <th>description_93</th>\n",
       "      <th>description_94</th>\n",
       "      <th>description_95</th>\n",
       "      <th>description_96</th>\n",
       "      <th>description_97</th>\n",
       "      <th>description_98</th>\n",
       "      <th>description_99</th>\n",
       "    </tr>\n",
       "  </thead>\n",
       "  <tbody>\n",
       "    <tr>\n",
       "      <th>0</th>\n",
       "      <td>0.115367</td>\n",
       "      <td>0.004636</td>\n",
       "      <td>0.114803</td>\n",
       "      <td>0.051522</td>\n",
       "      <td>0.006657</td>\n",
       "      <td>-0.030244</td>\n",
       "      <td>-0.025000</td>\n",
       "      <td>0.041972</td>\n",
       "      <td>0.028911</td>\n",
       "      <td>-0.010496</td>\n",
       "      <td>...</td>\n",
       "      <td>0.007634</td>\n",
       "      <td>-0.039814</td>\n",
       "      <td>-0.049792</td>\n",
       "      <td>0.001087</td>\n",
       "      <td>0.014499</td>\n",
       "      <td>-0.002223</td>\n",
       "      <td>-0.008103</td>\n",
       "      <td>-0.022440</td>\n",
       "      <td>-0.004361</td>\n",
       "      <td>-0.024764</td>\n",
       "    </tr>\n",
       "    <tr>\n",
       "      <th>1</th>\n",
       "      <td>0.119707</td>\n",
       "      <td>0.024791</td>\n",
       "      <td>0.072113</td>\n",
       "      <td>0.021115</td>\n",
       "      <td>-0.011476</td>\n",
       "      <td>-0.062648</td>\n",
       "      <td>-0.000370</td>\n",
       "      <td>0.031289</td>\n",
       "      <td>0.015392</td>\n",
       "      <td>0.004811</td>\n",
       "      <td>...</td>\n",
       "      <td>-0.017970</td>\n",
       "      <td>-0.022855</td>\n",
       "      <td>-0.046821</td>\n",
       "      <td>-0.055060</td>\n",
       "      <td>0.007859</td>\n",
       "      <td>-0.001449</td>\n",
       "      <td>0.029534</td>\n",
       "      <td>-0.015895</td>\n",
       "      <td>0.029230</td>\n",
       "      <td>0.021590</td>\n",
       "    </tr>\n",
       "    <tr>\n",
       "      <th>2</th>\n",
       "      <td>0.129262</td>\n",
       "      <td>0.101702</td>\n",
       "      <td>0.087817</td>\n",
       "      <td>0.003713</td>\n",
       "      <td>0.131584</td>\n",
       "      <td>-0.033413</td>\n",
       "      <td>-0.016847</td>\n",
       "      <td>0.006005</td>\n",
       "      <td>0.069128</td>\n",
       "      <td>-0.006386</td>\n",
       "      <td>...</td>\n",
       "      <td>0.039654</td>\n",
       "      <td>-0.009324</td>\n",
       "      <td>-0.031001</td>\n",
       "      <td>-0.015154</td>\n",
       "      <td>-0.000021</td>\n",
       "      <td>-0.020974</td>\n",
       "      <td>0.012956</td>\n",
       "      <td>-0.029917</td>\n",
       "      <td>0.011128</td>\n",
       "      <td>0.014558</td>\n",
       "    </tr>\n",
       "    <tr>\n",
       "      <th>3</th>\n",
       "      <td>0.103500</td>\n",
       "      <td>0.062245</td>\n",
       "      <td>0.012420</td>\n",
       "      <td>-0.064549</td>\n",
       "      <td>-0.020325</td>\n",
       "      <td>-0.063674</td>\n",
       "      <td>-0.015062</td>\n",
       "      <td>-0.008192</td>\n",
       "      <td>0.045339</td>\n",
       "      <td>0.048647</td>\n",
       "      <td>...</td>\n",
       "      <td>0.014208</td>\n",
       "      <td>0.005733</td>\n",
       "      <td>-0.005161</td>\n",
       "      <td>-0.032666</td>\n",
       "      <td>0.017241</td>\n",
       "      <td>-0.013232</td>\n",
       "      <td>-0.002666</td>\n",
       "      <td>0.013726</td>\n",
       "      <td>-0.036283</td>\n",
       "      <td>-0.036276</td>\n",
       "    </tr>\n",
       "    <tr>\n",
       "      <th>4</th>\n",
       "      <td>0.096223</td>\n",
       "      <td>-0.056786</td>\n",
       "      <td>-0.015269</td>\n",
       "      <td>-0.012826</td>\n",
       "      <td>0.023463</td>\n",
       "      <td>0.028226</td>\n",
       "      <td>0.005504</td>\n",
       "      <td>0.016063</td>\n",
       "      <td>-0.026481</td>\n",
       "      <td>0.030409</td>\n",
       "      <td>...</td>\n",
       "      <td>0.000366</td>\n",
       "      <td>0.022666</td>\n",
       "      <td>-0.026078</td>\n",
       "      <td>-0.005888</td>\n",
       "      <td>0.011081</td>\n",
       "      <td>-0.005803</td>\n",
       "      <td>0.014026</td>\n",
       "      <td>-0.024345</td>\n",
       "      <td>-0.020775</td>\n",
       "      <td>-0.002401</td>\n",
       "    </tr>\n",
       "  </tbody>\n",
       "</table>\n",
       "<p>5 rows × 100 columns</p>\n",
       "</div>"
      ],
      "text/plain": [
       "   description_0  description_1  description_2  description_3  description_4  \\\n",
       "0       0.115367       0.004636       0.114803       0.051522       0.006657   \n",
       "1       0.119707       0.024791       0.072113       0.021115      -0.011476   \n",
       "2       0.129262       0.101702       0.087817       0.003713       0.131584   \n",
       "3       0.103500       0.062245       0.012420      -0.064549      -0.020325   \n",
       "4       0.096223      -0.056786      -0.015269      -0.012826       0.023463   \n",
       "\n",
       "   description_5  description_6  description_7  description_8  description_9  \\\n",
       "0      -0.030244      -0.025000       0.041972       0.028911      -0.010496   \n",
       "1      -0.062648      -0.000370       0.031289       0.015392       0.004811   \n",
       "2      -0.033413      -0.016847       0.006005       0.069128      -0.006386   \n",
       "3      -0.063674      -0.015062      -0.008192       0.045339       0.048647   \n",
       "4       0.028226       0.005504       0.016063      -0.026481       0.030409   \n",
       "\n",
       "        ...        description_90  description_91  description_92  \\\n",
       "0       ...              0.007634       -0.039814       -0.049792   \n",
       "1       ...             -0.017970       -0.022855       -0.046821   \n",
       "2       ...              0.039654       -0.009324       -0.031001   \n",
       "3       ...              0.014208        0.005733       -0.005161   \n",
       "4       ...              0.000366        0.022666       -0.026078   \n",
       "\n",
       "   description_93  description_94  description_95  description_96  \\\n",
       "0        0.001087        0.014499       -0.002223       -0.008103   \n",
       "1       -0.055060        0.007859       -0.001449        0.029534   \n",
       "2       -0.015154       -0.000021       -0.020974        0.012956   \n",
       "3       -0.032666        0.017241       -0.013232       -0.002666   \n",
       "4       -0.005888        0.011081       -0.005803        0.014026   \n",
       "\n",
       "   description_97  description_98  description_99  \n",
       "0       -0.022440       -0.004361       -0.024764  \n",
       "1       -0.015895        0.029230        0.021590  \n",
       "2       -0.029917        0.011128        0.014558  \n",
       "3        0.013726       -0.036283       -0.036276  \n",
       "4       -0.024345       -0.020775       -0.002401  \n",
       "\n",
       "[5 rows x 100 columns]"
      ]
     },
     "execution_count": 18,
     "metadata": {},
     "output_type": "execute_result"
    }
   ],
   "source": [
    "#Fit tfidf and svd, and transform training data\n",
    "tfidf_matrix = tf.fit_transform(data.description)\n",
    "print(tfidf_matrix.shape)\n",
    "desc_features = pd.DataFrame(svd.fit_transform(tfidf_matrix))\n",
    "collist = map(str, range(0, 100))\n",
    "collist = [\"description_\" + s for s in collist]\n",
    "desc_features.columns = collist\n",
    "desc_features.head()"
   ]
  },
  {
   "cell_type": "code",
   "execution_count": 19,
   "metadata": {},
   "outputs": [
    {
     "data": {
      "text/html": [
       "<div>\n",
       "<style scoped>\n",
       "    .dataframe tbody tr th:only-of-type {\n",
       "        vertical-align: middle;\n",
       "    }\n",
       "\n",
       "    .dataframe tbody tr th {\n",
       "        vertical-align: top;\n",
       "    }\n",
       "\n",
       "    .dataframe thead th {\n",
       "        text-align: right;\n",
       "    }\n",
       "</style>\n",
       "<table border=\"1\" class=\"dataframe\">\n",
       "  <thead>\n",
       "    <tr style=\"text-align: right;\">\n",
       "      <th></th>\n",
       "      <th>variety_0</th>\n",
       "      <th>variety_1</th>\n",
       "      <th>variety_2</th>\n",
       "      <th>variety_3</th>\n",
       "      <th>variety_4</th>\n",
       "      <th>variety_5</th>\n",
       "      <th>variety_6</th>\n",
       "      <th>variety_7</th>\n",
       "      <th>variety_8</th>\n",
       "      <th>variety_9</th>\n",
       "    </tr>\n",
       "  </thead>\n",
       "  <tbody>\n",
       "    <tr>\n",
       "      <th>0</th>\n",
       "      <td>3.554817e-06</td>\n",
       "      <td>1.321170e-05</td>\n",
       "      <td>4.913868e-02</td>\n",
       "      <td>0.247637</td>\n",
       "      <td>0.000022</td>\n",
       "      <td>0.000504</td>\n",
       "      <td>4.401445e-05</td>\n",
       "      <td>0.000186</td>\n",
       "      <td>-0.000477</td>\n",
       "      <td>-0.182606</td>\n",
       "    </tr>\n",
       "    <tr>\n",
       "      <th>1</th>\n",
       "      <td>1.037505e-05</td>\n",
       "      <td>4.051445e-05</td>\n",
       "      <td>1.488023e-01</td>\n",
       "      <td>0.748054</td>\n",
       "      <td>-0.000063</td>\n",
       "      <td>0.000758</td>\n",
       "      <td>8.711956e-05</td>\n",
       "      <td>-0.000025</td>\n",
       "      <td>-0.000224</td>\n",
       "      <td>0.613893</td>\n",
       "    </tr>\n",
       "    <tr>\n",
       "      <th>2</th>\n",
       "      <td>1.037504e-05</td>\n",
       "      <td>4.051444e-05</td>\n",
       "      <td>1.488023e-01</td>\n",
       "      <td>0.748054</td>\n",
       "      <td>-0.000063</td>\n",
       "      <td>0.000758</td>\n",
       "      <td>8.711956e-05</td>\n",
       "      <td>-0.000025</td>\n",
       "      <td>-0.000224</td>\n",
       "      <td>0.613893</td>\n",
       "    </tr>\n",
       "    <tr>\n",
       "      <th>3</th>\n",
       "      <td>3.096453e-07</td>\n",
       "      <td>9.704166e-07</td>\n",
       "      <td>5.104758e-07</td>\n",
       "      <td>-0.000001</td>\n",
       "      <td>-0.000009</td>\n",
       "      <td>-0.000046</td>\n",
       "      <td>7.826015e-04</td>\n",
       "      <td>0.000383</td>\n",
       "      <td>-0.001378</td>\n",
       "      <td>-0.000467</td>\n",
       "    </tr>\n",
       "    <tr>\n",
       "      <th>4</th>\n",
       "      <td>4.706509e-09</td>\n",
       "      <td>-1.395028e-08</td>\n",
       "      <td>8.682955e-07</td>\n",
       "      <td>0.000004</td>\n",
       "      <td>-0.000008</td>\n",
       "      <td>-0.000004</td>\n",
       "      <td>1.585286e-07</td>\n",
       "      <td>-0.000034</td>\n",
       "      <td>0.000042</td>\n",
       "      <td>-0.000367</td>\n",
       "    </tr>\n",
       "  </tbody>\n",
       "</table>\n",
       "</div>"
      ],
      "text/plain": [
       "      variety_0     variety_1     variety_2  variety_3  variety_4  variety_5  \\\n",
       "0  3.554817e-06  1.321170e-05  4.913868e-02   0.247637   0.000022   0.000504   \n",
       "1  1.037505e-05  4.051445e-05  1.488023e-01   0.748054  -0.000063   0.000758   \n",
       "2  1.037504e-05  4.051444e-05  1.488023e-01   0.748054  -0.000063   0.000758   \n",
       "3  3.096453e-07  9.704166e-07  5.104758e-07  -0.000001  -0.000009  -0.000046   \n",
       "4  4.706509e-09 -1.395028e-08  8.682955e-07   0.000004  -0.000008  -0.000004   \n",
       "\n",
       "      variety_6  variety_7  variety_8  variety_9  \n",
       "0  4.401445e-05   0.000186  -0.000477  -0.182606  \n",
       "1  8.711956e-05  -0.000025  -0.000224   0.613893  \n",
       "2  8.711956e-05  -0.000025  -0.000224   0.613893  \n",
       "3  7.826015e-04   0.000383  -0.001378  -0.000467  \n",
       "4  1.585286e-07  -0.000034   0.000042  -0.000367  "
      ]
     },
     "execution_count": 19,
     "metadata": {},
     "output_type": "execute_result"
    }
   ],
   "source": [
    "tfidf_matrix = tf.fit_transform(data.variety)\n",
    "svd = TruncatedSVD(n_components=10)\n",
    "var_features = pd.DataFrame(svd.fit_transform(tfidf_matrix))\n",
    "collist = map(str, range(0, 10))\n",
    "collist = [\"variety_\" + s for s in collist]\n",
    "var_features.columns = collist\n",
    "var_features.head()"
   ]
  },
  {
   "cell_type": "code",
   "execution_count": 20,
   "metadata": {},
   "outputs": [
    {
     "data": {
      "text/html": [
       "<div>\n",
       "<style scoped>\n",
       "    .dataframe tbody tr th:only-of-type {\n",
       "        vertical-align: middle;\n",
       "    }\n",
       "\n",
       "    .dataframe tbody tr th {\n",
       "        vertical-align: top;\n",
       "    }\n",
       "\n",
       "    .dataframe thead th {\n",
       "        text-align: right;\n",
       "    }\n",
       "</style>\n",
       "<table border=\"1\" class=\"dataframe\">\n",
       "  <thead>\n",
       "    <tr style=\"text-align: right;\">\n",
       "      <th></th>\n",
       "      <th>province_0</th>\n",
       "      <th>province_1</th>\n",
       "      <th>province_2</th>\n",
       "      <th>province_3</th>\n",
       "      <th>province_4</th>\n",
       "      <th>province_5</th>\n",
       "      <th>province_6</th>\n",
       "      <th>province_7</th>\n",
       "      <th>province_8</th>\n",
       "      <th>province_9</th>\n",
       "    </tr>\n",
       "  </thead>\n",
       "  <tbody>\n",
       "    <tr>\n",
       "      <th>0</th>\n",
       "      <td>-1.931522e-09</td>\n",
       "      <td>1.857487e-06</td>\n",
       "      <td>-1.778172e-05</td>\n",
       "      <td>6.973988e-05</td>\n",
       "      <td>-7.953516e-05</td>\n",
       "      <td>9.222137e-05</td>\n",
       "      <td>-2.718437e-04</td>\n",
       "      <td>1.464819e-04</td>\n",
       "      <td>8.404838e-04</td>\n",
       "      <td>-6.395285e-04</td>\n",
       "    </tr>\n",
       "    <tr>\n",
       "      <th>1</th>\n",
       "      <td>-4.048326e-12</td>\n",
       "      <td>6.378265e-08</td>\n",
       "      <td>-3.356244e-07</td>\n",
       "      <td>1.470044e-06</td>\n",
       "      <td>-1.292386e-05</td>\n",
       "      <td>1.516791e-05</td>\n",
       "      <td>9.999926e-01</td>\n",
       "      <td>3.073662e-05</td>\n",
       "      <td>1.369581e-05</td>\n",
       "      <td>4.881347e-05</td>\n",
       "    </tr>\n",
       "    <tr>\n",
       "      <th>2</th>\n",
       "      <td>-4.047687e-12</td>\n",
       "      <td>6.378343e-08</td>\n",
       "      <td>-3.356171e-07</td>\n",
       "      <td>1.470050e-06</td>\n",
       "      <td>-1.292386e-05</td>\n",
       "      <td>1.516791e-05</td>\n",
       "      <td>9.999926e-01</td>\n",
       "      <td>3.073662e-05</td>\n",
       "      <td>1.369581e-05</td>\n",
       "      <td>4.881347e-05</td>\n",
       "    </tr>\n",
       "    <tr>\n",
       "      <th>3</th>\n",
       "      <td>1.000000e+00</td>\n",
       "      <td>3.286889e-15</td>\n",
       "      <td>7.688128e-15</td>\n",
       "      <td>5.641616e-14</td>\n",
       "      <td>-5.900364e-14</td>\n",
       "      <td>-4.357905e-14</td>\n",
       "      <td>9.970831e-14</td>\n",
       "      <td>3.753023e-14</td>\n",
       "      <td>1.448460e-14</td>\n",
       "      <td>3.776289e-14</td>\n",
       "    </tr>\n",
       "    <tr>\n",
       "      <th>4</th>\n",
       "      <td>3.763676e-15</td>\n",
       "      <td>1.000000e+00</td>\n",
       "      <td>-1.336011e-09</td>\n",
       "      <td>6.481104e-09</td>\n",
       "      <td>-8.687150e-09</td>\n",
       "      <td>8.474905e-09</td>\n",
       "      <td>-5.936420e-09</td>\n",
       "      <td>3.321330e-09</td>\n",
       "      <td>1.190673e-09</td>\n",
       "      <td>-9.127659e-09</td>\n",
       "    </tr>\n",
       "  </tbody>\n",
       "</table>\n",
       "</div>"
      ],
      "text/plain": [
       "     province_0    province_1    province_2    province_3    province_4  \\\n",
       "0 -1.931522e-09  1.857487e-06 -1.778172e-05  6.973988e-05 -7.953516e-05   \n",
       "1 -4.048326e-12  6.378265e-08 -3.356244e-07  1.470044e-06 -1.292386e-05   \n",
       "2 -4.047687e-12  6.378343e-08 -3.356171e-07  1.470050e-06 -1.292386e-05   \n",
       "3  1.000000e+00  3.286889e-15  7.688128e-15  5.641616e-14 -5.900364e-14   \n",
       "4  3.763676e-15  1.000000e+00 -1.336011e-09  6.481104e-09 -8.687150e-09   \n",
       "\n",
       "     province_5    province_6    province_7    province_8    province_9  \n",
       "0  9.222137e-05 -2.718437e-04  1.464819e-04  8.404838e-04 -6.395285e-04  \n",
       "1  1.516791e-05  9.999926e-01  3.073662e-05  1.369581e-05  4.881347e-05  \n",
       "2  1.516791e-05  9.999926e-01  3.073662e-05  1.369581e-05  4.881347e-05  \n",
       "3 -4.357905e-14  9.970831e-14  3.753023e-14  1.448460e-14  3.776289e-14  \n",
       "4  8.474905e-09 -5.936420e-09  3.321330e-09  1.190673e-09 -9.127659e-09  "
      ]
     },
     "execution_count": 20,
     "metadata": {},
     "output_type": "execute_result"
    }
   ],
   "source": [
    "svd = TruncatedSVD(n_components=10)\n",
    "prov_features = pd.DataFrame(svd.fit_transform(proDummies.values))\n",
    "collist = map(str, range(0, 10))\n",
    "collist = [\"province_\" + s for s in collist]\n",
    "prov_features.columns = collist\n",
    "prov_features.head()"
   ]
  },
  {
   "cell_type": "code",
   "execution_count": 21,
   "metadata": {},
   "outputs": [],
   "source": [
    "#tfidf_matrix = tf.fit_transform(data.region_1)\n",
    "#reg1_features = pd.DataFrame(svd.fit_transform(tfidf_matrix))\n",
    "#collist = map(str, range(0, 10))\n",
    "#collist = [\"country_\" + s for s in collist]\n",
    "#reg1_features.columns = collist\n",
    "#reg1_features.head()"
   ]
  },
  {
   "cell_type": "code",
   "execution_count": 22,
   "metadata": {},
   "outputs": [],
   "source": [
    "# country_features = pd.DataFrame(svd.fit_transform(countDummies.values))\n",
    "# collist = map(str, range(0, 10))\n",
    "# collist = [\"country_\" + s for s in collist]\n",
    "# country_features.columns = collist\n",
    "# country_features.head()"
   ]
  },
  {
   "cell_type": "code",
   "execution_count": 23,
   "metadata": {},
   "outputs": [
    {
     "data": {
      "text/plain": [
       "(258210, 120)"
      ]
     },
     "execution_count": 23,
     "metadata": {},
     "output_type": "execute_result"
    }
   ],
   "source": [
    "# dd = pd.concat([desc_features, var_features, prov_features, country_features], axis=1)\n",
    "dd = pd.concat([desc_features, var_features, prov_features], axis=1)\n",
    "dd.shape"
   ]
  },
  {
   "cell_type": "code",
   "execution_count": 24,
   "metadata": {},
   "outputs": [],
   "source": [
    "#data.drop('index', axis=1, inplace=True)"
   ]
  },
  {
   "cell_type": "code",
   "execution_count": 25,
   "metadata": {},
   "outputs": [],
   "source": [
    "dd['train_test'] = data.train_test.values"
   ]
  },
  {
   "cell_type": "code",
   "execution_count": 26,
   "metadata": {},
   "outputs": [],
   "source": [
    "dd['id'] = data.id.values"
   ]
  },
  {
   "cell_type": "code",
   "execution_count": 27,
   "metadata": {},
   "outputs": [],
   "source": [
    "dd['quality'] = data.quality.values"
   ]
  },
  {
   "cell_type": "code",
   "execution_count": 28,
   "metadata": {},
   "outputs": [],
   "source": [
    "dd['points'] = data.points.values"
   ]
  },
  {
   "cell_type": "code",
   "execution_count": 29,
   "metadata": {},
   "outputs": [],
   "source": [
    "dd['price'] = data.price.values"
   ]
  },
  {
   "cell_type": "code",
   "execution_count": 30,
   "metadata": {},
   "outputs": [
    {
     "data": {
      "text/plain": [
       "(258210, 125)"
      ]
     },
     "execution_count": 30,
     "metadata": {},
     "output_type": "execute_result"
    }
   ],
   "source": [
    "#['id', 'points', 'quality', 'price']\n",
    "final_data = dd.copy()\n",
    "final_data.shape"
   ]
  },
  {
   "cell_type": "code",
   "execution_count": null,
   "metadata": {},
   "outputs": [],
   "source": []
  },
  {
   "cell_type": "code",
   "execution_count": 31,
   "metadata": {},
   "outputs": [],
   "source": [
    "final_data['div_points'] = final_data['points'].values / 2\n",
    "final_data['div_points_4'] = final_data['points'].values / 4\n",
    "final_data['div_points_8'] = final_data['points'].values / 8"
   ]
  },
  {
   "cell_type": "code",
   "execution_count": 32,
   "metadata": {},
   "outputs": [],
   "source": [
    "final_data['sum_desc'] = final_data[desc_features.columns.tolist()].sum(axis=1)\n",
    "# final_data['sum_var'] = final_data[['variety_0', 'variety_1', 'variety_2',\n",
    "#        'variety_3', 'variety_4', 'variety_5', 'variety_6', 'variety_7',\n",
    "#        'variety_8', 'variety_9']].sum(axis=1)\n",
    "# final_data['sum_prov'] = final_data[['province_0', 'province_1', 'province_2',\n",
    "#        'province_3', 'province_4', 'province_5', 'province_6', 'province_7',\n",
    "#        'province_8', 'province_9']].sum(axis=1)\n",
    "# final_data['sum_country'] = final_data[['variety_0', 'variety_1', 'variety_2',\n",
    "#        'variety_3', 'variety_4', 'variety_5', 'variety_6', 'variety_7',\n",
    "#        'variety_8', 'variety_9']].sum(axis=1)"
   ]
  },
  {
   "cell_type": "code",
   "execution_count": 33,
   "metadata": {},
   "outputs": [],
   "source": [
    "# final_data['description_0_x4'] = final_data['description_0'].multiply(4)\n",
    "# final_data['description_0_x4'].head()"
   ]
  },
  {
   "cell_type": "code",
   "execution_count": 34,
   "metadata": {},
   "outputs": [],
   "source": [
    "# final_data['description_1_x4'] = final_data['description_1'].multiply(4)\n",
    "# final_data['description_1_x4'].head()"
   ]
  },
  {
   "cell_type": "code",
   "execution_count": 35,
   "metadata": {},
   "outputs": [
    {
     "data": {
      "text/html": [
       "<div>\n",
       "<style scoped>\n",
       "    .dataframe tbody tr th:only-of-type {\n",
       "        vertical-align: middle;\n",
       "    }\n",
       "\n",
       "    .dataframe tbody tr th {\n",
       "        vertical-align: top;\n",
       "    }\n",
       "\n",
       "    .dataframe thead th {\n",
       "        text-align: right;\n",
       "    }\n",
       "</style>\n",
       "<table border=\"1\" class=\"dataframe\">\n",
       "  <thead>\n",
       "    <tr style=\"text-align: right;\">\n",
       "      <th></th>\n",
       "      <th>description_0</th>\n",
       "      <th>description_1</th>\n",
       "      <th>description_2</th>\n",
       "      <th>description_3</th>\n",
       "      <th>description_4</th>\n",
       "      <th>description_5</th>\n",
       "      <th>description_6</th>\n",
       "      <th>description_7</th>\n",
       "      <th>description_8</th>\n",
       "      <th>description_9</th>\n",
       "      <th>...</th>\n",
       "      <th>province_9</th>\n",
       "      <th>train_test</th>\n",
       "      <th>id</th>\n",
       "      <th>quality</th>\n",
       "      <th>points</th>\n",
       "      <th>price</th>\n",
       "      <th>div_points</th>\n",
       "      <th>div_points_4</th>\n",
       "      <th>div_points_8</th>\n",
       "      <th>sum_desc</th>\n",
       "    </tr>\n",
       "  </thead>\n",
       "  <tbody>\n",
       "    <tr>\n",
       "      <th>0</th>\n",
       "      <td>0.115367</td>\n",
       "      <td>0.004636</td>\n",
       "      <td>0.114803</td>\n",
       "      <td>0.051522</td>\n",
       "      <td>0.006657</td>\n",
       "      <td>-0.030244</td>\n",
       "      <td>-0.025000</td>\n",
       "      <td>0.041972</td>\n",
       "      <td>0.028911</td>\n",
       "      <td>-0.010496</td>\n",
       "      <td>...</td>\n",
       "      <td>-6.395285e-04</td>\n",
       "      <td>train</td>\n",
       "      <td>32027</td>\n",
       "      <td>2</td>\n",
       "      <td>88.870874</td>\n",
       "      <td>20.0</td>\n",
       "      <td>44.435437</td>\n",
       "      <td>22.217719</td>\n",
       "      <td>11.108859</td>\n",
       "      <td>0.167713</td>\n",
       "    </tr>\n",
       "    <tr>\n",
       "      <th>1</th>\n",
       "      <td>0.119707</td>\n",
       "      <td>0.024791</td>\n",
       "      <td>0.072113</td>\n",
       "      <td>0.021115</td>\n",
       "      <td>-0.011476</td>\n",
       "      <td>-0.062648</td>\n",
       "      <td>-0.000370</td>\n",
       "      <td>0.031289</td>\n",
       "      <td>0.015392</td>\n",
       "      <td>0.004811</td>\n",
       "      <td>...</td>\n",
       "      <td>4.881347e-05</td>\n",
       "      <td>train</td>\n",
       "      <td>71079</td>\n",
       "      <td>2</td>\n",
       "      <td>88.041695</td>\n",
       "      <td>28.0</td>\n",
       "      <td>44.020848</td>\n",
       "      <td>22.010424</td>\n",
       "      <td>11.005212</td>\n",
       "      <td>-0.085931</td>\n",
       "    </tr>\n",
       "    <tr>\n",
       "      <th>2</th>\n",
       "      <td>0.129262</td>\n",
       "      <td>0.101702</td>\n",
       "      <td>0.087817</td>\n",
       "      <td>0.003713</td>\n",
       "      <td>0.131584</td>\n",
       "      <td>-0.033413</td>\n",
       "      <td>-0.016847</td>\n",
       "      <td>0.006005</td>\n",
       "      <td>0.069128</td>\n",
       "      <td>-0.006386</td>\n",
       "      <td>...</td>\n",
       "      <td>4.881347e-05</td>\n",
       "      <td>train</td>\n",
       "      <td>32440</td>\n",
       "      <td>3</td>\n",
       "      <td>94.085021</td>\n",
       "      <td>130.0</td>\n",
       "      <td>47.042511</td>\n",
       "      <td>23.521255</td>\n",
       "      <td>11.760628</td>\n",
       "      <td>0.509493</td>\n",
       "    </tr>\n",
       "    <tr>\n",
       "      <th>3</th>\n",
       "      <td>0.103500</td>\n",
       "      <td>0.062245</td>\n",
       "      <td>0.012420</td>\n",
       "      <td>-0.064549</td>\n",
       "      <td>-0.020325</td>\n",
       "      <td>-0.063674</td>\n",
       "      <td>-0.015062</td>\n",
       "      <td>-0.008192</td>\n",
       "      <td>0.045339</td>\n",
       "      <td>0.048647</td>\n",
       "      <td>...</td>\n",
       "      <td>3.776289e-14</td>\n",
       "      <td>train</td>\n",
       "      <td>124405</td>\n",
       "      <td>2</td>\n",
       "      <td>89.869797</td>\n",
       "      <td>34.0</td>\n",
       "      <td>44.934899</td>\n",
       "      <td>22.467449</td>\n",
       "      <td>11.233725</td>\n",
       "      <td>-0.184511</td>\n",
       "    </tr>\n",
       "    <tr>\n",
       "      <th>4</th>\n",
       "      <td>0.096223</td>\n",
       "      <td>-0.056786</td>\n",
       "      <td>-0.015269</td>\n",
       "      <td>-0.012826</td>\n",
       "      <td>0.023463</td>\n",
       "      <td>0.028226</td>\n",
       "      <td>0.005504</td>\n",
       "      <td>0.016063</td>\n",
       "      <td>-0.026481</td>\n",
       "      <td>0.030409</td>\n",
       "      <td>...</td>\n",
       "      <td>-9.127659e-09</td>\n",
       "      <td>train</td>\n",
       "      <td>33649</td>\n",
       "      <td>2</td>\n",
       "      <td>89.017651</td>\n",
       "      <td>24.0</td>\n",
       "      <td>44.508825</td>\n",
       "      <td>22.254413</td>\n",
       "      <td>11.127206</td>\n",
       "      <td>0.201946</td>\n",
       "    </tr>\n",
       "  </tbody>\n",
       "</table>\n",
       "<p>5 rows × 129 columns</p>\n",
       "</div>"
      ],
      "text/plain": [
       "   description_0  description_1  description_2  description_3  description_4  \\\n",
       "0       0.115367       0.004636       0.114803       0.051522       0.006657   \n",
       "1       0.119707       0.024791       0.072113       0.021115      -0.011476   \n",
       "2       0.129262       0.101702       0.087817       0.003713       0.131584   \n",
       "3       0.103500       0.062245       0.012420      -0.064549      -0.020325   \n",
       "4       0.096223      -0.056786      -0.015269      -0.012826       0.023463   \n",
       "\n",
       "   description_5  description_6  description_7  description_8  description_9  \\\n",
       "0      -0.030244      -0.025000       0.041972       0.028911      -0.010496   \n",
       "1      -0.062648      -0.000370       0.031289       0.015392       0.004811   \n",
       "2      -0.033413      -0.016847       0.006005       0.069128      -0.006386   \n",
       "3      -0.063674      -0.015062      -0.008192       0.045339       0.048647   \n",
       "4       0.028226       0.005504       0.016063      -0.026481       0.030409   \n",
       "\n",
       "     ...       province_9  train_test      id  quality     points  price  \\\n",
       "0    ...    -6.395285e-04       train   32027        2  88.870874   20.0   \n",
       "1    ...     4.881347e-05       train   71079        2  88.041695   28.0   \n",
       "2    ...     4.881347e-05       train   32440        3  94.085021  130.0   \n",
       "3    ...     3.776289e-14       train  124405        2  89.869797   34.0   \n",
       "4    ...    -9.127659e-09       train   33649        2  89.017651   24.0   \n",
       "\n",
       "   div_points  div_points_4  div_points_8  sum_desc  \n",
       "0   44.435437     22.217719     11.108859  0.167713  \n",
       "1   44.020848     22.010424     11.005212 -0.085931  \n",
       "2   47.042511     23.521255     11.760628  0.509493  \n",
       "3   44.934899     22.467449     11.233725 -0.184511  \n",
       "4   44.508825     22.254413     11.127206  0.201946  \n",
       "\n",
       "[5 rows x 129 columns]"
      ]
     },
     "execution_count": 35,
     "metadata": {},
     "output_type": "execute_result"
    }
   ],
   "source": [
    "#final_data['div_points'].head(10)\n",
    "final_data.head()"
   ]
  },
  {
   "cell_type": "code",
   "execution_count": 36,
   "metadata": {},
   "outputs": [],
   "source": [
    "from sklearn.linear_model import LinearRegression, Ridge\n",
    "from sklearn.ensemble import RandomForestRegressor\n",
    "from sklearn.preprocessing import PolynomialFeatures"
   ]
  },
  {
   "cell_type": "code",
   "execution_count": 37,
   "metadata": {},
   "outputs": [
    {
     "data": {
      "text/plain": [
       "array([[8.88708744e+01, 2.00000000e+00, 7.89803232e+03, 1.77741749e+02,\n",
       "        4.00000000e+00],\n",
       "       [8.80416953e+01, 2.00000000e+00, 7.75134011e+03, 1.76083391e+02,\n",
       "        4.00000000e+00],\n",
       "       [9.40850213e+01, 3.00000000e+00, 8.85199123e+03, 2.82255064e+02,\n",
       "        9.00000000e+00],\n",
       "       ...,\n",
       "       [8.90575848e+01, 2.00000000e+00, 7.93125341e+03, 1.78115170e+02,\n",
       "        4.00000000e+00],\n",
       "       [8.49079088e+01, 1.00000000e+00, 7.20935297e+03, 8.49079088e+01,\n",
       "        1.00000000e+00],\n",
       "       [9.20387015e+01, 3.00000000e+00, 8.47112258e+03, 2.76116105e+02,\n",
       "        9.00000000e+00]])"
      ]
     },
     "execution_count": 37,
     "metadata": {},
     "output_type": "execute_result"
    }
   ],
   "source": [
    "pf = PolynomialFeatures(degree=2, interaction_only=False,  \n",
    "                        include_bias=False)\n",
    "res = pf.fit_transform(final_data[['points', 'quality']])\n",
    "res"
   ]
  },
  {
   "cell_type": "code",
   "execution_count": 38,
   "metadata": {},
   "outputs": [],
   "source": [
    "#pd.DataFrame(pf.powers_, columns=['points_degree',  'quality_degree'])"
   ]
  },
  {
   "cell_type": "code",
   "execution_count": 39,
   "metadata": {},
   "outputs": [
    {
     "data": {
      "text/html": [
       "<div>\n",
       "<style scoped>\n",
       "    .dataframe tbody tr th:only-of-type {\n",
       "        vertical-align: middle;\n",
       "    }\n",
       "\n",
       "    .dataframe tbody tr th {\n",
       "        vertical-align: top;\n",
       "    }\n",
       "\n",
       "    .dataframe thead th {\n",
       "        text-align: right;\n",
       "    }\n",
       "</style>\n",
       "<table border=\"1\" class=\"dataframe\">\n",
       "  <thead>\n",
       "    <tr style=\"text-align: right;\">\n",
       "      <th></th>\n",
       "      <th>points</th>\n",
       "      <th>quality</th>\n",
       "      <th>points^2</th>\n",
       "      <th>points x quality</th>\n",
       "      <th>quality^2</th>\n",
       "    </tr>\n",
       "  </thead>\n",
       "  <tbody>\n",
       "    <tr>\n",
       "      <th>0</th>\n",
       "      <td>88.870874</td>\n",
       "      <td>2.0</td>\n",
       "      <td>7898.032315</td>\n",
       "      <td>177.741749</td>\n",
       "      <td>4.0</td>\n",
       "    </tr>\n",
       "    <tr>\n",
       "      <th>1</th>\n",
       "      <td>88.041695</td>\n",
       "      <td>2.0</td>\n",
       "      <td>7751.340111</td>\n",
       "      <td>176.083391</td>\n",
       "      <td>4.0</td>\n",
       "    </tr>\n",
       "    <tr>\n",
       "      <th>2</th>\n",
       "      <td>94.085021</td>\n",
       "      <td>3.0</td>\n",
       "      <td>8851.991227</td>\n",
       "      <td>282.255064</td>\n",
       "      <td>9.0</td>\n",
       "    </tr>\n",
       "    <tr>\n",
       "      <th>3</th>\n",
       "      <td>89.869797</td>\n",
       "      <td>2.0</td>\n",
       "      <td>8076.580454</td>\n",
       "      <td>179.739594</td>\n",
       "      <td>4.0</td>\n",
       "    </tr>\n",
       "    <tr>\n",
       "      <th>4</th>\n",
       "      <td>89.017651</td>\n",
       "      <td>2.0</td>\n",
       "      <td>7924.142166</td>\n",
       "      <td>178.035302</td>\n",
       "      <td>4.0</td>\n",
       "    </tr>\n",
       "  </tbody>\n",
       "</table>\n",
       "</div>"
      ],
      "text/plain": [
       "      points  quality     points^2  points x quality  quality^2\n",
       "0  88.870874      2.0  7898.032315        177.741749        4.0\n",
       "1  88.041695      2.0  7751.340111        176.083391        4.0\n",
       "2  94.085021      3.0  8851.991227        282.255064        9.0\n",
       "3  89.869797      2.0  8076.580454        179.739594        4.0\n",
       "4  89.017651      2.0  7924.142166        178.035302        4.0"
      ]
     },
     "execution_count": 39,
     "metadata": {},
     "output_type": "execute_result"
    }
   ],
   "source": [
    "intr_features = pd.DataFrame(res, columns=['points', 'quality',  \n",
    "                                           'points^2', \n",
    "                                           'points x quality',  \n",
    "                                           'quality^2'])\n",
    "intr_features.head(5)"
   ]
  },
  {
   "cell_type": "code",
   "execution_count": 40,
   "metadata": {},
   "outputs": [],
   "source": [
    "intr_features['points_log'] = np.log((1 + intr_features['points']))\n",
    "intr_features['points x quality_log'] = np.log((1 + intr_features['points x quality']))\n",
    "intr_features['points^2_log'] = np.log((1 + intr_features['points^2']))\n",
    "\n",
    "import scipy.stats as spstats\n",
    "\n",
    "l, opt_lambda = spstats.boxcox(intr_features['points'].values)\n",
    "\n",
    "intr_features['points_boxcox_lambda_opt'] = spstats.boxcox((1 + intr_features['points']), \n",
    "                                          lmbda=opt_lambda)\n",
    "intr_features['points^2_boxcox_lambda_opt'] = spstats.boxcox((1 + intr_features['points^2']), \n",
    "                                          lmbda=opt_lambda)\n",
    "intr_features['points x quality_boxcox_lambda_opt'] = spstats.boxcox((1 + intr_features['points x quality']), \n",
    "                                          lmbda=opt_lambda)"
   ]
  },
  {
   "cell_type": "code",
   "execution_count": 41,
   "metadata": {},
   "outputs": [
    {
     "data": {
      "text/html": [
       "<div>\n",
       "<style scoped>\n",
       "    .dataframe tbody tr th:only-of-type {\n",
       "        vertical-align: middle;\n",
       "    }\n",
       "\n",
       "    .dataframe tbody tr th {\n",
       "        vertical-align: top;\n",
       "    }\n",
       "\n",
       "    .dataframe thead th {\n",
       "        text-align: right;\n",
       "    }\n",
       "</style>\n",
       "<table border=\"1\" class=\"dataframe\">\n",
       "  <thead>\n",
       "    <tr style=\"text-align: right;\">\n",
       "      <th></th>\n",
       "      <th>points</th>\n",
       "      <th>quality</th>\n",
       "      <th>points^2</th>\n",
       "      <th>points x quality</th>\n",
       "      <th>quality^2</th>\n",
       "      <th>points_log</th>\n",
       "      <th>points x quality_log</th>\n",
       "      <th>points^2_log</th>\n",
       "      <th>points_boxcox_lambda_opt</th>\n",
       "      <th>points^2_boxcox_lambda_opt</th>\n",
       "      <th>points x quality_boxcox_lambda_opt</th>\n",
       "    </tr>\n",
       "  </thead>\n",
       "  <tbody>\n",
       "    <tr>\n",
       "      <th>0</th>\n",
       "      <td>88.870874</td>\n",
       "      <td>2.0</td>\n",
       "      <td>7898.032315</td>\n",
       "      <td>177.741749</td>\n",
       "      <td>4.0</td>\n",
       "      <td>4.498374</td>\n",
       "      <td>5.185942</td>\n",
       "      <td>8.974496</td>\n",
       "      <td>5.046263</td>\n",
       "      <td>11.334832</td>\n",
       "      <td>5.922886</td>\n",
       "    </tr>\n",
       "    <tr>\n",
       "      <th>1</th>\n",
       "      <td>88.041695</td>\n",
       "      <td>2.0</td>\n",
       "      <td>7751.340111</td>\n",
       "      <td>176.083391</td>\n",
       "      <td>4.0</td>\n",
       "      <td>4.489105</td>\n",
       "      <td>5.176621</td>\n",
       "      <td>8.955750</td>\n",
       "      <td>5.034650</td>\n",
       "      <td>11.305444</td>\n",
       "      <td>5.910799</td>\n",
       "    </tr>\n",
       "    <tr>\n",
       "      <th>2</th>\n",
       "      <td>94.085021</td>\n",
       "      <td>3.0</td>\n",
       "      <td>8851.991227</td>\n",
       "      <td>282.255064</td>\n",
       "      <td>9.0</td>\n",
       "      <td>4.554771</td>\n",
       "      <td>5.646348</td>\n",
       "      <td>9.088511</td>\n",
       "      <td>5.117035</td>\n",
       "      <td>11.514180</td>\n",
       "      <td>6.527014</td>\n",
       "    </tr>\n",
       "    <tr>\n",
       "      <th>3</th>\n",
       "      <td>89.869797</td>\n",
       "      <td>2.0</td>\n",
       "      <td>8076.580454</td>\n",
       "      <td>179.739594</td>\n",
       "      <td>4.0</td>\n",
       "      <td>4.509428</td>\n",
       "      <td>5.197057</td>\n",
       "      <td>8.996848</td>\n",
       "      <td>5.060118</td>\n",
       "      <td>11.369912</td>\n",
       "      <td>5.937307</td>\n",
       "    </tr>\n",
       "    <tr>\n",
       "      <th>4</th>\n",
       "      <td>89.017651</td>\n",
       "      <td>2.0</td>\n",
       "      <td>7924.142166</td>\n",
       "      <td>178.035302</td>\n",
       "      <td>4.0</td>\n",
       "      <td>4.500006</td>\n",
       "      <td>5.187583</td>\n",
       "      <td>8.977796</td>\n",
       "      <td>5.048308</td>\n",
       "      <td>11.340009</td>\n",
       "      <td>5.925015</td>\n",
       "    </tr>\n",
       "  </tbody>\n",
       "</table>\n",
       "</div>"
      ],
      "text/plain": [
       "      points  quality     points^2  points x quality  quality^2  points_log  \\\n",
       "0  88.870874      2.0  7898.032315        177.741749        4.0    4.498374   \n",
       "1  88.041695      2.0  7751.340111        176.083391        4.0    4.489105   \n",
       "2  94.085021      3.0  8851.991227        282.255064        9.0    4.554771   \n",
       "3  89.869797      2.0  8076.580454        179.739594        4.0    4.509428   \n",
       "4  89.017651      2.0  7924.142166        178.035302        4.0    4.500006   \n",
       "\n",
       "   points x quality_log  points^2_log  points_boxcox_lambda_opt  \\\n",
       "0              5.185942      8.974496                  5.046263   \n",
       "1              5.176621      8.955750                  5.034650   \n",
       "2              5.646348      9.088511                  5.117035   \n",
       "3              5.197057      8.996848                  5.060118   \n",
       "4              5.187583      8.977796                  5.048308   \n",
       "\n",
       "   points^2_boxcox_lambda_opt  points x quality_boxcox_lambda_opt  \n",
       "0                   11.334832                            5.922886  \n",
       "1                   11.305444                            5.910799  \n",
       "2                   11.514180                            6.527014  \n",
       "3                   11.369912                            5.937307  \n",
       "4                   11.340009                            5.925015  "
      ]
     },
     "execution_count": 41,
     "metadata": {},
     "output_type": "execute_result"
    }
   ],
   "source": [
    "intr_features.head()"
   ]
  },
  {
   "cell_type": "code",
   "execution_count": 42,
   "metadata": {},
   "outputs": [],
   "source": [
    "intr_features.drop(['points', 'quality'], inplace=True, axis=1)"
   ]
  },
  {
   "cell_type": "code",
   "execution_count": 43,
   "metadata": {},
   "outputs": [],
   "source": [
    "ff = pd.concat([final_data, intr_features], axis=1)"
   ]
  },
  {
   "cell_type": "code",
   "execution_count": 44,
   "metadata": {},
   "outputs": [
    {
     "name": "stdout",
     "output_type": "stream",
     "text": [
      "(258210, 138)\n"
     ]
    }
   ],
   "source": [
    "print(ff.shape)"
   ]
  },
  {
   "cell_type": "code",
   "execution_count": 45,
   "metadata": {},
   "outputs": [],
   "source": [
    "train_ff = ff[ff['train_test'] == 'train']\n",
    "test_ff = ff[ff['train_test'] == 'test']"
   ]
  },
  {
   "cell_type": "code",
   "execution_count": 46,
   "metadata": {},
   "outputs": [],
   "source": [
    "# c = ['points_log', 'points x quality_log', 'points_boxcox_lambda_opt','points^2_boxcox_lambda_opt', 'points x quality_boxcox_lambda_opt']"
   ]
  },
  {
   "cell_type": "code",
   "execution_count": 47,
   "metadata": {},
   "outputs": [],
   "source": [
    "#col = ['description_0', 'description_1', 'description_2', 'description_3', 'description_4', 'description_5', 'description_6', 'description_7', 'description_8', 'description_9', 'sum_desc', 'description_0_x4', 'description_1_x4', 'points', 'points^2', 'points_log', 'points^2_log', 'points x quality_log', 'points_boxcox_lambda_opt','points^2_boxcox_lambda_opt', 'points x quality_boxcox_lambda_opt']\n",
    "#col = ['description_0', 'description_1', 'description_2', 'description_3', 'description_4', 'description_5', 'description_6', 'description_7', 'description_8', 'description_9', 'variety_0', 'variety_1', 'variety_2', 'variety_3', 'variety_4', 'variety_5', 'variety_6', 'variety_7', 'variety_8', 'variety_9', 'province_0', 'province_1', 'province_2', 'province_3', 'province_4', 'province_5', 'province_6', 'province_7', 'province_8', 'province_9', 'country_0', 'country_1', 'country_2', 'country_3', 'country_4', 'country_5', 'country_6', 'country_7', 'country_8', 'country_9', 'sum_desc', 'sum_var', 'sum_prov', 'sum_country', 'description_0_x4', 'description_1_x4', 'points', 'points^2']"
   ]
  },
  {
   "cell_type": "code",
   "execution_count": 48,
   "metadata": {},
   "outputs": [],
   "source": [
    "#print(intr_features.columns.tolist())\n",
    "#cc = ['points^2', 'points x quality', 'points_log', 'points_boxcox_lambda_opt', 'points^2_boxcox_lambda_opt', 'points x quality_boxcox_lambda_opt']"
   ]
  },
  {
   "cell_type": "code",
   "execution_count": 49,
   "metadata": {},
   "outputs": [],
   "source": [
    "#cc1 = ['points^2', 'points_log', 'points_boxcox_lambda_opt', 'points^2_boxcox_lambda_opt']"
   ]
  },
  {
   "cell_type": "code",
   "execution_count": 50,
   "metadata": {},
   "outputs": [],
   "source": [
    "#print(train_ff.columns.tolist())"
   ]
  },
  {
   "cell_type": "code",
   "execution_count": 51,
   "metadata": {},
   "outputs": [],
   "source": [
    "cols = desc_features.columns.tolist()+var_features.columns.tolist()+prov_features.columns.tolist()+ ['points', 'div_points', 'div_points_4', 'div_points_8', 'sum_desc', 'points^2', 'points x quality', 'points_log', 'points x quality_log', 'points^2_log', 'points_boxcox_lambda_opt', 'points^2_boxcox_lambda_opt', 'points x quality_boxcox_lambda_opt']"
   ]
  },
  {
   "cell_type": "code",
   "execution_count": 52,
   "metadata": {},
   "outputs": [],
   "source": [
    "X = train_ff[cols]\n",
    "y = train_ff[\"price\"]"
   ]
  },
  {
   "cell_type": "code",
   "execution_count": 53,
   "metadata": {},
   "outputs": [],
   "source": [
    "X_train, X_test, y_train, y_test = train_test_split(X, y, test_size=0.3)"
   ]
  },
  {
   "cell_type": "code",
   "execution_count": 54,
   "metadata": {},
   "outputs": [],
   "source": [
    "import lightgbm as lgb\n",
    "from sklearn import metrics\n",
    "from sklearn.model_selection import GridSearchCV"
   ]
  },
  {
   "cell_type": "code",
   "execution_count": 55,
   "metadata": {},
   "outputs": [
    {
     "data": {
      "text/plain": [
       "LGBMRegressor(boosting_type='gbdt', class_weight=None, colsample_bytree=1.0,\n",
       "       importance_type='split', learning_rate=0.1, max_depth=-1,\n",
       "       min_child_samples=20, min_child_weight=0.001, min_split_gain=0.0,\n",
       "       n_estimators=100, n_jobs=-1, num_leaves=31, objective=None,\n",
       "       random_state=None, reg_alpha=0.0, reg_lambda=0.0, silent=True,\n",
       "       subsample=1.0, subsample_for_bin=200000, subsample_freq=0)"
      ]
     },
     "execution_count": 55,
     "metadata": {},
     "output_type": "execute_result"
    }
   ],
   "source": [
    "lg = lgb.LGBMRegressor()\n",
    "lg.fit(X_train,y_train)\n"
   ]
  },
  {
   "cell_type": "code",
   "execution_count": 56,
   "metadata": {},
   "outputs": [],
   "source": [
    "lb_pred = lg.predict(X_test)"
   ]
  },
  {
   "cell_type": "code",
   "execution_count": 57,
   "metadata": {},
   "outputs": [
    {
     "name": "stdout",
     "output_type": "stream",
     "text": [
      "RMSE: 28.154361589321407\n"
     ]
    }
   ],
   "source": [
    "print('RMSE:', np.sqrt(mean_squared_error(y_test, lb_pred)))"
   ]
  },
  {
   "cell_type": "code",
   "execution_count": 58,
   "metadata": {},
   "outputs": [],
   "source": [
    "model = xgb.XGBRegressor()"
   ]
  },
  {
   "cell_type": "code",
   "execution_count": null,
   "metadata": {},
   "outputs": [
    {
     "name": "stdout",
     "output_type": "stream",
     "text": [
      "[20:49:32] WARNING: /workspace/src/objective/regression_obj.cu:152: reg:linear is now deprecated in favor of reg:squarederror.\n"
     ]
    },
    {
     "name": "stderr",
     "output_type": "stream",
     "text": [
      "/home/aims/.local/lib/python3.7/site-packages/xgboost/core.py:587: FutureWarning: Series.base is deprecated and will be removed in a future version\n",
      "  if getattr(data, 'base', None) is not None and \\\n"
     ]
    }
   ],
   "source": [
    "model.fit(X_train, y_train)"
   ]
  },
  {
   "cell_type": "code",
   "execution_count": null,
   "metadata": {},
   "outputs": [],
   "source": [
    "xgb_pred = model.predict(X_test)"
   ]
  },
  {
   "cell_type": "code",
   "execution_count": null,
   "metadata": {},
   "outputs": [],
   "source": [
    "print('RMSE:', np.sqrt(mean_squared_error(y_test, xgb_pred)))"
   ]
  },
  {
   "cell_type": "code",
   "execution_count": null,
   "metadata": {},
   "outputs": [],
   "source": []
  },
  {
   "cell_type": "code",
   "execution_count": null,
   "metadata": {},
   "outputs": [],
   "source": [
    "lm = Ridge()\n",
    "\n",
    "lm.fit(X_train, y_train)"
   ]
  },
  {
   "cell_type": "code",
   "execution_count": null,
   "metadata": {},
   "outputs": [],
   "source": [
    "print(lm.intercept_)"
   ]
  },
  {
   "cell_type": "code",
   "execution_count": null,
   "metadata": {},
   "outputs": [],
   "source": [
    "predictions = lm.predict(X_test)\n",
    "plt.scatter(np.log(y_test),predictions)"
   ]
  },
  {
   "cell_type": "code",
   "execution_count": null,
   "metadata": {},
   "outputs": [],
   "source": [
    "print('RMSE:', np.sqrt(mean_squared_error(y_test, predictions)))"
   ]
  },
  {
   "cell_type": "code",
   "execution_count": null,
   "metadata": {},
   "outputs": [],
   "source": [
    "accuracy = lm.score(X_test, y_test)\n",
    "print (\"Accuracy is {}\".format(accuracy))"
   ]
  },
  {
   "cell_type": "code",
   "execution_count": null,
   "metadata": {},
   "outputs": [],
   "source": [
    "rf = RandomForestRegressor()"
   ]
  },
  {
   "cell_type": "code",
   "execution_count": null,
   "metadata": {},
   "outputs": [],
   "source": [
    "rf = RandomForestRegressor(n_estimators = 10, random_state = 42)"
   ]
  },
  {
   "cell_type": "code",
   "execution_count": null,
   "metadata": {},
   "outputs": [],
   "source": [
    "rf.fit(X_train, y_train)"
   ]
  },
  {
   "cell_type": "code",
   "execution_count": null,
   "metadata": {},
   "outputs": [],
   "source": [
    "predicts = rf.predict(X_test)"
   ]
  },
  {
   "cell_type": "code",
   "execution_count": null,
   "metadata": {},
   "outputs": [],
   "source": [
    "print(y_test.shape, predicts.shape)"
   ]
  },
  {
   "cell_type": "code",
   "execution_count": null,
   "metadata": {},
   "outputs": [],
   "source": [
    "plt.scatter(y_test, predicts)"
   ]
  },
  {
   "cell_type": "code",
   "execution_count": null,
   "metadata": {},
   "outputs": [],
   "source": [
    "print('RMSE:', np.sqrt(mean_squared_error(y_test, predicts)))"
   ]
  },
  {
   "cell_type": "code",
   "execution_count": null,
   "metadata": {},
   "outputs": [],
   "source": [
    "importance = pd.concat([pd.DataFrame(X_train.columns),pd.DataFrame(rf.feature_importances_)],axis=1)\n",
    "importance.columns = ['feature','value']\n",
    "\n",
    "plt.figure(figsize=(15,8))\n",
    "sns.barplot(x=\"feature\", y=\"value\", data=importance).set_xticklabels(rotation=90,labels=X_train.columns)\n",
    "print('')"
   ]
  },
  {
   "cell_type": "code",
   "execution_count": null,
   "metadata": {},
   "outputs": [],
   "source": [
    "nnnn"
   ]
  },
  {
   "cell_type": "code",
   "execution_count": null,
   "metadata": {},
   "outputs": [],
   "source": [
    "#print(test_data.columns.tolist())"
   ]
  },
  {
   "cell_type": "code",
   "execution_count": null,
   "metadata": {},
   "outputs": [],
   "source": [
    "X_test_t = test_ff[cols]"
   ]
  },
  {
   "cell_type": "code",
   "execution_count": null,
   "metadata": {},
   "outputs": [],
   "source": [
    "test_ff['price'] = rf.predict(X_test_t)\n",
    "test_ff['price'].head(10)"
   ]
  },
  {
   "cell_type": "code",
   "execution_count": null,
   "metadata": {},
   "outputs": [],
   "source": [
    "test_ff['price_lm'] = lm.predict(X_test_t)\n",
    "test_ff['price_lm'].head(10)"
   ]
  },
  {
   "cell_type": "code",
   "execution_count": null,
   "metadata": {},
   "outputs": [],
   "source": [
    "test_ff['price_xgb'] = model.predict(X_test_t)\n",
    "test_ff['price_xgb'].head(10)"
   ]
  },
  {
   "cell_type": "code",
   "execution_count": null,
   "metadata": {},
   "outputs": [],
   "source": [
    "test_ff.head()"
   ]
  },
  {
   "cell_type": "code",
   "execution_count": null,
   "metadata": {},
   "outputs": [],
   "source": [
    "nnn"
   ]
  },
  {
   "cell_type": "code",
   "execution_count": null,
   "metadata": {},
   "outputs": [],
   "source": [
    "test_ff[['id', 'price']].to_csv('bma_predicted_rf_rmse23_11.csv', index=False)"
   ]
  },
  {
   "cell_type": "code",
   "execution_count": null,
   "metadata": {},
   "outputs": [],
   "source": [
    "#pd.DataFrame(test_data_sss).to_csv('random_f.csv')"
   ]
  },
  {
   "cell_type": "code",
   "execution_count": null,
   "metadata": {},
   "outputs": [],
   "source": [
    "import pickle"
   ]
  },
  {
   "cell_type": "code",
   "execution_count": null,
   "metadata": {},
   "outputs": [],
   "source": [
    "pickle.dump(rf,open('rf_model_rmse23_19.sav','wb'))"
   ]
  },
  {
   "cell_type": "code",
   "execution_count": null,
   "metadata": {},
   "outputs": [],
   "source": []
  }
 ],
 "metadata": {
  "kernelspec": {
   "display_name": "Python 3",
   "language": "python",
   "name": "python3"
  },
  "language_info": {
   "codemirror_mode": {
    "name": "ipython",
    "version": 3
   },
   "file_extension": ".py",
   "mimetype": "text/x-python",
   "name": "python",
   "nbconvert_exporter": "python",
   "pygments_lexer": "ipython3",
   "version": "3.7.3"
  }
 },
 "nbformat": 4,
 "nbformat_minor": 2
}
