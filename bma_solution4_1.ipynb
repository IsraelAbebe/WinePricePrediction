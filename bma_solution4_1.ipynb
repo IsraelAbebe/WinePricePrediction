{
 "cells": [
  {
   "cell_type": "code",
   "execution_count": 1,
   "metadata": {},
   "outputs": [],
   "source": [
    "import pandas as pd\n",
    "import numpy as np\n",
    "import matplotlib.pyplot as plt\n",
    "import seaborn as sns\n",
    "%matplotlib inline\n",
    "\n",
    "import math\n",
    "from sklearn.model_selection import train_test_split\n",
    "from sklearn.metrics import precision_recall_curve, mean_squared_error\n",
    "from sklearn.linear_model import LogisticRegression\n",
    "from sklearn.feature_extraction.text import CountVectorizer, TfidfVectorizer\n",
    "from joblib import dump, load\n",
    "\n",
    "from nltk.tokenize import RegexpTokenizer\n",
    "from sklearn.decomposition import TruncatedSVD\n",
    "import xgboost as xgb"
   ]
  },
  {
   "cell_type": "code",
   "execution_count": 2,
   "metadata": {},
   "outputs": [
    {
     "name": "stderr",
     "output_type": "stream",
     "text": [
      "/usr/lib/python3/dist-packages/ipykernel_launcher.py:7: FutureWarning: Sorting because non-concatenation axis is not aligned. A future version\n",
      "of pandas will change to not sort by default.\n",
      "\n",
      "To accept the future behavior, pass 'sort=False'.\n",
      "\n",
      "To retain the current behavior and silence the warning, pass 'sort=True'.\n",
      "\n",
      "  import sys\n"
     ]
    }
   ],
   "source": [
    "train = pd.read_csv('data/train.csv')\n",
    "test = pd.read_csv('data/test.csv')\n",
    "\n",
    "train['train_test'] = 'train'\n",
    "test['train_test'] = 'test'\n",
    "\n",
    "data = pd.concat([train, test])"
   ]
  },
  {
   "cell_type": "code",
   "execution_count": 3,
   "metadata": {},
   "outputs": [
    {
     "data": {
      "text/plain": [
       "(258210, 16)"
      ]
     },
     "execution_count": 3,
     "metadata": {},
     "output_type": "execute_result"
    }
   ],
   "source": [
    "data.shape"
   ]
  },
  {
   "cell_type": "code",
   "execution_count": 4,
   "metadata": {},
   "outputs": [
    {
     "data": {
      "text/plain": [
       "(83210, 16)"
      ]
     },
     "execution_count": 4,
     "metadata": {},
     "output_type": "execute_result"
    }
   ],
   "source": [
    "test.shape"
   ]
  },
  {
   "cell_type": "code",
   "execution_count": 5,
   "metadata": {},
   "outputs": [
    {
     "data": {
      "text/html": [
       "<div>\n",
       "<style scoped>\n",
       "    .dataframe tbody tr th:only-of-type {\n",
       "        vertical-align: middle;\n",
       "    }\n",
       "\n",
       "    .dataframe tbody tr th {\n",
       "        vertical-align: top;\n",
       "    }\n",
       "\n",
       "    .dataframe thead th {\n",
       "        text-align: right;\n",
       "    }\n",
       "</style>\n",
       "<table border=\"1\" class=\"dataframe\">\n",
       "  <thead>\n",
       "    <tr style=\"text-align: right;\">\n",
       "      <th></th>\n",
       "      <th>country</th>\n",
       "      <th>description</th>\n",
       "      <th>designation</th>\n",
       "      <th>id</th>\n",
       "      <th>index</th>\n",
       "      <th>points</th>\n",
       "      <th>price</th>\n",
       "      <th>province</th>\n",
       "      <th>region_1</th>\n",
       "      <th>region_2</th>\n",
       "      <th>taster_name</th>\n",
       "      <th>taster_twitter_handle</th>\n",
       "      <th>title</th>\n",
       "      <th>train_test</th>\n",
       "      <th>variety</th>\n",
       "      <th>winery</th>\n",
       "    </tr>\n",
       "  </thead>\n",
       "  <tbody>\n",
       "    <tr>\n",
       "      <th>0</th>\n",
       "      <td>Portugal</td>\n",
       "      <td>This is a fine rich balanced wine. It has ripe...</td>\n",
       "      <td>Vila Santa Reserva</td>\n",
       "      <td>32027</td>\n",
       "      <td>NaN</td>\n",
       "      <td>88.870874</td>\n",
       "      <td>20.0</td>\n",
       "      <td>Alentejano</td>\n",
       "      <td>NaN</td>\n",
       "      <td>NaN</td>\n",
       "      <td>NaN</td>\n",
       "      <td>NaN</td>\n",
       "      <td>NaN</td>\n",
       "      <td>train</td>\n",
       "      <td>PORTUGUESE RED</td>\n",
       "      <td>J. Portugal Ramos</td>\n",
       "    </tr>\n",
       "    <tr>\n",
       "      <th>1</th>\n",
       "      <td>France</td>\n",
       "      <td>A solid, chunky wine, with a structure that is...</td>\n",
       "      <td>NaN</td>\n",
       "      <td>71079</td>\n",
       "      <td>NaN</td>\n",
       "      <td>88.041695</td>\n",
       "      <td>28.0</td>\n",
       "      <td>Bordeaux</td>\n",
       "      <td>Lalande de Pomerol</td>\n",
       "      <td>NaN</td>\n",
       "      <td>NaN</td>\n",
       "      <td>NaN</td>\n",
       "      <td>NaN</td>\n",
       "      <td>train</td>\n",
       "      <td>BORDEAUX-STYLE RED BLEND</td>\n",
       "      <td>Château Tour Grand Colombier</td>\n",
       "    </tr>\n",
       "    <tr>\n",
       "      <th>2</th>\n",
       "      <td>France</td>\n",
       "      <td>This is powerful and concentrated, with the hi...</td>\n",
       "      <td>NaN</td>\n",
       "      <td>32440</td>\n",
       "      <td>NaN</td>\n",
       "      <td>94.085021</td>\n",
       "      <td>130.0</td>\n",
       "      <td>Bordeaux</td>\n",
       "      <td>Saint-Émilion</td>\n",
       "      <td>NaN</td>\n",
       "      <td>NaN</td>\n",
       "      <td>NaN</td>\n",
       "      <td>NaN</td>\n",
       "      <td>train</td>\n",
       "      <td>BORDEAUX-STYLE RED BLEND</td>\n",
       "      <td>Château Figeac</td>\n",
       "    </tr>\n",
       "    <tr>\n",
       "      <th>3</th>\n",
       "      <td>US</td>\n",
       "      <td>Rich, ripe and oaky, this Petite Sirah charms ...</td>\n",
       "      <td>Thompson Vineyard</td>\n",
       "      <td>124405</td>\n",
       "      <td>NaN</td>\n",
       "      <td>89.869797</td>\n",
       "      <td>34.0</td>\n",
       "      <td>California</td>\n",
       "      <td>Santa Barbara County</td>\n",
       "      <td>Central Coast</td>\n",
       "      <td>NaN</td>\n",
       "      <td>NaN</td>\n",
       "      <td>Jaffurs 2010 Thompson Vineyard Petite Sirah (S...</td>\n",
       "      <td>train</td>\n",
       "      <td>PETITE SIRAH</td>\n",
       "      <td>Jaffurs</td>\n",
       "    </tr>\n",
       "    <tr>\n",
       "      <th>4</th>\n",
       "      <td>US</td>\n",
       "      <td>This wine is a unique in the state blend and f...</td>\n",
       "      <td>McKinley Springs Vineyard</td>\n",
       "      <td>33649</td>\n",
       "      <td>NaN</td>\n",
       "      <td>89.017651</td>\n",
       "      <td>24.0</td>\n",
       "      <td>Washington</td>\n",
       "      <td>Horse Heaven Hills</td>\n",
       "      <td>Columbia Valley</td>\n",
       "      <td>Sean P. Sullivan</td>\n",
       "      <td>@wawinereport</td>\n",
       "      <td>Syncline 2016 McKinley Springs Vineyard Rosé (...</td>\n",
       "      <td>train</td>\n",
       "      <td>ROSé</td>\n",
       "      <td>Syncline</td>\n",
       "    </tr>\n",
       "  </tbody>\n",
       "</table>\n",
       "</div>"
      ],
      "text/plain": [
       "    country                                        description  \\\n",
       "0  Portugal  This is a fine rich balanced wine. It has ripe...   \n",
       "1    France  A solid, chunky wine, with a structure that is...   \n",
       "2    France  This is powerful and concentrated, with the hi...   \n",
       "3        US  Rich, ripe and oaky, this Petite Sirah charms ...   \n",
       "4        US  This wine is a unique in the state blend and f...   \n",
       "\n",
       "                 designation      id  index     points  price    province  \\\n",
       "0         Vila Santa Reserva   32027    NaN  88.870874   20.0  Alentejano   \n",
       "1                        NaN   71079    NaN  88.041695   28.0    Bordeaux   \n",
       "2                        NaN   32440    NaN  94.085021  130.0    Bordeaux   \n",
       "3          Thompson Vineyard  124405    NaN  89.869797   34.0  California   \n",
       "4  McKinley Springs Vineyard   33649    NaN  89.017651   24.0  Washington   \n",
       "\n",
       "               region_1         region_2       taster_name  \\\n",
       "0                   NaN              NaN               NaN   \n",
       "1    Lalande de Pomerol              NaN               NaN   \n",
       "2         Saint-Émilion              NaN               NaN   \n",
       "3  Santa Barbara County    Central Coast               NaN   \n",
       "4    Horse Heaven Hills  Columbia Valley  Sean P. Sullivan   \n",
       "\n",
       "  taster_twitter_handle                                              title  \\\n",
       "0                   NaN                                                NaN   \n",
       "1                   NaN                                                NaN   \n",
       "2                   NaN                                                NaN   \n",
       "3                   NaN  Jaffurs 2010 Thompson Vineyard Petite Sirah (S...   \n",
       "4         @wawinereport  Syncline 2016 McKinley Springs Vineyard Rosé (...   \n",
       "\n",
       "  train_test                   variety                        winery  \n",
       "0      train            PORTUGUESE RED             J. Portugal Ramos  \n",
       "1      train  BORDEAUX-STYLE RED BLEND  Château Tour Grand Colombier  \n",
       "2      train  BORDEAUX-STYLE RED BLEND                Château Figeac  \n",
       "3      train              PETITE SIRAH                       Jaffurs  \n",
       "4      train                      ROSé                      Syncline  "
      ]
     },
     "execution_count": 5,
     "metadata": {},
     "output_type": "execute_result"
    }
   ],
   "source": [
    "data.head()"
   ]
  },
  {
   "cell_type": "code",
   "execution_count": 6,
   "metadata": {},
   "outputs": [
    {
     "data": {
      "text/plain": [
       "0    California\n",
       "dtype: object"
      ]
     },
     "execution_count": 6,
     "metadata": {},
     "output_type": "execute_result"
    }
   ],
   "source": [
    "data['province'].mode()"
   ]
  },
  {
   "cell_type": "code",
   "execution_count": 7,
   "metadata": {},
   "outputs": [],
   "source": [
    "data.variety.fillna(value='PINOT NOIR', inplace=True)"
   ]
  },
  {
   "cell_type": "code",
   "execution_count": 8,
   "metadata": {},
   "outputs": [],
   "source": [
    "data.province.fillna(value='California', inplace=True)"
   ]
  },
  {
   "cell_type": "code",
   "execution_count": 9,
   "metadata": {},
   "outputs": [],
   "source": [
    "#data = data[pd.notnull(data['variety'])]\n",
    "#data = data[pd.notnull(data['province'])]"
   ]
  },
  {
   "cell_type": "code",
   "execution_count": 10,
   "metadata": {},
   "outputs": [
    {
     "name": "stdout",
     "output_type": "stream",
     "text": [
      "<class 'pandas.core.frame.DataFrame'>\n",
      "Int64Index: 258210 entries, 0 to 83209\n",
      "Data columns (total 16 columns):\n",
      "country                  258146 non-null object\n",
      "description              258210 non-null object\n",
      "designation              181120 non-null object\n",
      "id                       258210 non-null int64\n",
      "index                    83210 non-null float64\n",
      "points                   258210 non-null float64\n",
      "price                    175000 non-null float64\n",
      "province                 258210 non-null object\n",
      "region_1                 215793 non-null object\n",
      "region_2                 110996 non-null object\n",
      "taster_name              258210 non-null object\n",
      "taster_twitter_handle    91559 non-null object\n",
      "title                    120975 non-null object\n",
      "train_test               258210 non-null object\n",
      "variety                  258210 non-null object\n",
      "winery                   258210 non-null object\n",
      "dtypes: float64(3), int64(1), object(12)\n",
      "memory usage: 33.5+ MB\n"
     ]
    }
   ],
   "source": [
    "data.taster_name.fillna(value='Roger Voss', inplace=True)\n",
    "data.info()"
   ]
  },
  {
   "cell_type": "code",
   "execution_count": 11,
   "metadata": {},
   "outputs": [
    {
     "name": "stdout",
     "output_type": "stream",
     "text": [
      "<class 'pandas.core.frame.DataFrame'>\n",
      "Int64Index: 258210 entries, 0 to 83209\n",
      "Data columns (total 16 columns):\n",
      "country                  258146 non-null object\n",
      "description              258210 non-null object\n",
      "designation              181120 non-null object\n",
      "id                       258210 non-null int64\n",
      "index                    83210 non-null float64\n",
      "points                   258210 non-null float64\n",
      "price                    175000 non-null float64\n",
      "province                 258210 non-null object\n",
      "region_1                 215793 non-null object\n",
      "region_2                 110996 non-null object\n",
      "taster_name              258210 non-null object\n",
      "taster_twitter_handle    91559 non-null object\n",
      "title                    258210 non-null object\n",
      "train_test               258210 non-null object\n",
      "variety                  258210 non-null object\n",
      "winery                   258210 non-null object\n",
      "dtypes: float64(3), int64(1), object(12)\n",
      "memory usage: 33.5+ MB\n"
     ]
    }
   ],
   "source": [
    "data.title.fillna(value='Gloria Ferrer NV Sonoma Brut Sparkling (Sonoma County)', inplace=True)\n",
    "data.info()"
   ]
  },
  {
   "cell_type": "code",
   "execution_count": 12,
   "metadata": {},
   "outputs": [],
   "source": [
    "data['province'] = pd.Categorical(data['province'])\n",
    "proDummies = pd.get_dummies(data['province'], prefix = 'prov')\n",
    "\n",
    "data['country'] = pd.Categorical(data['country'])\n",
    "countDummies = pd.get_dummies(data['country'], prefix = 'country')\n",
    "\n",
    "data['variety'] = pd.Categorical(data['variety'])\n",
    "varDummies = pd.get_dummies(data['variety'], prefix = 'variety')\n",
    "\n",
    "data['taster_name'] = pd.Categorical(data['taster_name'])\n",
    "tastDummies = pd.get_dummies(data['taster_name'], prefix = 'taster')\n",
    "\n",
    "#data['title'] = pd.Categorical(data['title'])\n",
    "#titleDummies = pd.get_dummies(data['title'], prefix = 'title')"
   ]
  },
  {
   "cell_type": "code",
   "execution_count": 13,
   "metadata": {},
   "outputs": [],
   "source": [
    "def getQuality(points):\n",
    "    if(points <= 85):\n",
    "        return 'bad'\n",
    "    elif(points<=90 ):\n",
    "        return 'ok'\n",
    "    elif(points<=95):\n",
    "        return 'good'\n",
    "    elif(points<=102):\n",
    "        return 'great'\n",
    "    else:\n",
    "        return 'If this gets hit, we did something wrong!'"
   ]
  },
  {
   "cell_type": "code",
   "execution_count": 14,
   "metadata": {},
   "outputs": [],
   "source": [
    "data['quality'] = data['points'].apply(getQuality)\n",
    "cleanup_nums = {\"quality\":     {\"ok\": 2, \"good\": 3, \"bad\": 1, \"great\": 4},\n",
    "                \"priceRange\": {\"1-30\": 1, \"31-50\": 2, \"51-100\": 3, \"Above 100\": 4}}\n",
    "\n",
    "data.replace(cleanup_nums, inplace=True)"
   ]
  },
  {
   "cell_type": "code",
   "execution_count": 15,
   "metadata": {},
   "outputs": [
    {
     "data": {
      "text/html": [
       "<div>\n",
       "<style scoped>\n",
       "    .dataframe tbody tr th:only-of-type {\n",
       "        vertical-align: middle;\n",
       "    }\n",
       "\n",
       "    .dataframe tbody tr th {\n",
       "        vertical-align: top;\n",
       "    }\n",
       "\n",
       "    .dataframe thead th {\n",
       "        text-align: right;\n",
       "    }\n",
       "</style>\n",
       "<table border=\"1\" class=\"dataframe\">\n",
       "  <thead>\n",
       "    <tr style=\"text-align: right;\">\n",
       "      <th></th>\n",
       "      <th>country</th>\n",
       "      <th>description</th>\n",
       "      <th>designation</th>\n",
       "      <th>id</th>\n",
       "      <th>index</th>\n",
       "      <th>points</th>\n",
       "      <th>price</th>\n",
       "      <th>province</th>\n",
       "      <th>region_1</th>\n",
       "      <th>region_2</th>\n",
       "      <th>taster_name</th>\n",
       "      <th>taster_twitter_handle</th>\n",
       "      <th>title</th>\n",
       "      <th>train_test</th>\n",
       "      <th>variety</th>\n",
       "      <th>winery</th>\n",
       "      <th>quality</th>\n",
       "    </tr>\n",
       "  </thead>\n",
       "  <tbody>\n",
       "    <tr>\n",
       "      <th>0</th>\n",
       "      <td>Portugal</td>\n",
       "      <td>This is a fine rich balanced wine. It has ripe...</td>\n",
       "      <td>Vila Santa Reserva</td>\n",
       "      <td>32027</td>\n",
       "      <td>NaN</td>\n",
       "      <td>88.870874</td>\n",
       "      <td>20.0</td>\n",
       "      <td>Alentejano</td>\n",
       "      <td>NaN</td>\n",
       "      <td>NaN</td>\n",
       "      <td>Roger Voss</td>\n",
       "      <td>NaN</td>\n",
       "      <td>Gloria Ferrer NV Sonoma Brut Sparkling (Sonoma...</td>\n",
       "      <td>train</td>\n",
       "      <td>PORTUGUESE RED</td>\n",
       "      <td>J. Portugal Ramos</td>\n",
       "      <td>2</td>\n",
       "    </tr>\n",
       "    <tr>\n",
       "      <th>1</th>\n",
       "      <td>France</td>\n",
       "      <td>A solid, chunky wine, with a structure that is...</td>\n",
       "      <td>NaN</td>\n",
       "      <td>71079</td>\n",
       "      <td>NaN</td>\n",
       "      <td>88.041695</td>\n",
       "      <td>28.0</td>\n",
       "      <td>Bordeaux</td>\n",
       "      <td>Lalande de Pomerol</td>\n",
       "      <td>NaN</td>\n",
       "      <td>Roger Voss</td>\n",
       "      <td>NaN</td>\n",
       "      <td>Gloria Ferrer NV Sonoma Brut Sparkling (Sonoma...</td>\n",
       "      <td>train</td>\n",
       "      <td>BORDEAUX-STYLE RED BLEND</td>\n",
       "      <td>Château Tour Grand Colombier</td>\n",
       "      <td>2</td>\n",
       "    </tr>\n",
       "    <tr>\n",
       "      <th>2</th>\n",
       "      <td>France</td>\n",
       "      <td>This is powerful and concentrated, with the hi...</td>\n",
       "      <td>NaN</td>\n",
       "      <td>32440</td>\n",
       "      <td>NaN</td>\n",
       "      <td>94.085021</td>\n",
       "      <td>130.0</td>\n",
       "      <td>Bordeaux</td>\n",
       "      <td>Saint-Émilion</td>\n",
       "      <td>NaN</td>\n",
       "      <td>Roger Voss</td>\n",
       "      <td>NaN</td>\n",
       "      <td>Gloria Ferrer NV Sonoma Brut Sparkling (Sonoma...</td>\n",
       "      <td>train</td>\n",
       "      <td>BORDEAUX-STYLE RED BLEND</td>\n",
       "      <td>Château Figeac</td>\n",
       "      <td>3</td>\n",
       "    </tr>\n",
       "    <tr>\n",
       "      <th>3</th>\n",
       "      <td>US</td>\n",
       "      <td>Rich, ripe and oaky, this Petite Sirah charms ...</td>\n",
       "      <td>Thompson Vineyard</td>\n",
       "      <td>124405</td>\n",
       "      <td>NaN</td>\n",
       "      <td>89.869797</td>\n",
       "      <td>34.0</td>\n",
       "      <td>California</td>\n",
       "      <td>Santa Barbara County</td>\n",
       "      <td>Central Coast</td>\n",
       "      <td>Roger Voss</td>\n",
       "      <td>NaN</td>\n",
       "      <td>Jaffurs 2010 Thompson Vineyard Petite Sirah (S...</td>\n",
       "      <td>train</td>\n",
       "      <td>PETITE SIRAH</td>\n",
       "      <td>Jaffurs</td>\n",
       "      <td>2</td>\n",
       "    </tr>\n",
       "    <tr>\n",
       "      <th>4</th>\n",
       "      <td>US</td>\n",
       "      <td>This wine is a unique in the state blend and f...</td>\n",
       "      <td>McKinley Springs Vineyard</td>\n",
       "      <td>33649</td>\n",
       "      <td>NaN</td>\n",
       "      <td>89.017651</td>\n",
       "      <td>24.0</td>\n",
       "      <td>Washington</td>\n",
       "      <td>Horse Heaven Hills</td>\n",
       "      <td>Columbia Valley</td>\n",
       "      <td>Sean P. Sullivan</td>\n",
       "      <td>@wawinereport</td>\n",
       "      <td>Syncline 2016 McKinley Springs Vineyard Rosé (...</td>\n",
       "      <td>train</td>\n",
       "      <td>ROSé</td>\n",
       "      <td>Syncline</td>\n",
       "      <td>2</td>\n",
       "    </tr>\n",
       "  </tbody>\n",
       "</table>\n",
       "</div>"
      ],
      "text/plain": [
       "    country                                        description  \\\n",
       "0  Portugal  This is a fine rich balanced wine. It has ripe...   \n",
       "1    France  A solid, chunky wine, with a structure that is...   \n",
       "2    France  This is powerful and concentrated, with the hi...   \n",
       "3        US  Rich, ripe and oaky, this Petite Sirah charms ...   \n",
       "4        US  This wine is a unique in the state blend and f...   \n",
       "\n",
       "                 designation      id  index     points  price    province  \\\n",
       "0         Vila Santa Reserva   32027    NaN  88.870874   20.0  Alentejano   \n",
       "1                        NaN   71079    NaN  88.041695   28.0    Bordeaux   \n",
       "2                        NaN   32440    NaN  94.085021  130.0    Bordeaux   \n",
       "3          Thompson Vineyard  124405    NaN  89.869797   34.0  California   \n",
       "4  McKinley Springs Vineyard   33649    NaN  89.017651   24.0  Washington   \n",
       "\n",
       "               region_1         region_2       taster_name  \\\n",
       "0                   NaN              NaN        Roger Voss   \n",
       "1    Lalande de Pomerol              NaN        Roger Voss   \n",
       "2         Saint-Émilion              NaN        Roger Voss   \n",
       "3  Santa Barbara County    Central Coast        Roger Voss   \n",
       "4    Horse Heaven Hills  Columbia Valley  Sean P. Sullivan   \n",
       "\n",
       "  taster_twitter_handle                                              title  \\\n",
       "0                   NaN  Gloria Ferrer NV Sonoma Brut Sparkling (Sonoma...   \n",
       "1                   NaN  Gloria Ferrer NV Sonoma Brut Sparkling (Sonoma...   \n",
       "2                   NaN  Gloria Ferrer NV Sonoma Brut Sparkling (Sonoma...   \n",
       "3                   NaN  Jaffurs 2010 Thompson Vineyard Petite Sirah (S...   \n",
       "4         @wawinereport  Syncline 2016 McKinley Springs Vineyard Rosé (...   \n",
       "\n",
       "  train_test                   variety                        winery  quality  \n",
       "0      train            PORTUGUESE RED             J. Portugal Ramos        2  \n",
       "1      train  BORDEAUX-STYLE RED BLEND  Château Tour Grand Colombier        2  \n",
       "2      train  BORDEAUX-STYLE RED BLEND                Château Figeac        3  \n",
       "3      train              PETITE SIRAH                       Jaffurs        2  \n",
       "4      train                      ROSé                      Syncline        2  "
      ]
     },
     "execution_count": 15,
     "metadata": {},
     "output_type": "execute_result"
    }
   ],
   "source": [
    "data.head()"
   ]
  },
  {
   "cell_type": "code",
   "execution_count": 16,
   "metadata": {},
   "outputs": [],
   "source": [
    "def make_lower_case(text):\n",
    "    return text.lower()\n",
    "\n",
    "def remove_punctuation(text):\n",
    "    tokenizer = RegexpTokenizer(r'\\w+')\n",
    "    text = tokenizer.tokenize(text)\n",
    "    text = \" \".join(text)\n",
    "    return text"
   ]
  },
  {
   "cell_type": "code",
   "execution_count": 17,
   "metadata": {},
   "outputs": [],
   "source": [
    "data[\"description\"] = data[\"description\"].str.replace('\\d+', '')\n",
    "data[\"description\"] = data.description.apply(func=remove_punctuation)\n",
    "data[\"description\"] = data.description.apply(func=make_lower_case)"
   ]
  },
  {
   "cell_type": "code",
   "execution_count": 18,
   "metadata": {},
   "outputs": [],
   "source": [
    "data[\"variety\"] = data[\"variety\"].str.replace('\\d+', '')\n",
    "data[\"variety\"] = data.variety.apply(func=remove_punctuation)\n",
    "data[\"variety\"] = data.variety.apply(func=make_lower_case)"
   ]
  },
  {
   "cell_type": "code",
   "execution_count": 19,
   "metadata": {},
   "outputs": [],
   "source": [
    "data[\"title\"] = data[\"title\"].str.replace('\\d+', '')\n",
    "data[\"title\"] = data.title.apply(func=remove_punctuation)\n",
    "data[\"title\"] = data.title.apply(func=make_lower_case)"
   ]
  },
  {
   "cell_type": "code",
   "execution_count": 20,
   "metadata": {},
   "outputs": [],
   "source": [
    "tf = TfidfVectorizer(analyzer='word', \n",
    "                     min_df=10,\n",
    "                     ngram_range=(1, 2),\n",
    "                     stop_words='english')\n",
    "svd = TruncatedSVD(n_components=10)"
   ]
  },
  {
   "cell_type": "code",
   "execution_count": 21,
   "metadata": {},
   "outputs": [
    {
     "data": {
      "text/html": [
       "<div>\n",
       "<style scoped>\n",
       "    .dataframe tbody tr th:only-of-type {\n",
       "        vertical-align: middle;\n",
       "    }\n",
       "\n",
       "    .dataframe tbody tr th {\n",
       "        vertical-align: top;\n",
       "    }\n",
       "\n",
       "    .dataframe thead th {\n",
       "        text-align: right;\n",
       "    }\n",
       "</style>\n",
       "<table border=\"1\" class=\"dataframe\">\n",
       "  <thead>\n",
       "    <tr style=\"text-align: right;\">\n",
       "      <th></th>\n",
       "      <th>description_0</th>\n",
       "      <th>description_1</th>\n",
       "      <th>description_2</th>\n",
       "      <th>description_3</th>\n",
       "      <th>description_4</th>\n",
       "      <th>description_5</th>\n",
       "      <th>description_6</th>\n",
       "      <th>description_7</th>\n",
       "      <th>description_8</th>\n",
       "      <th>description_9</th>\n",
       "    </tr>\n",
       "  </thead>\n",
       "  <tbody>\n",
       "    <tr>\n",
       "      <th>0</th>\n",
       "      <td>0.115367</td>\n",
       "      <td>0.004577</td>\n",
       "      <td>0.114576</td>\n",
       "      <td>0.052600</td>\n",
       "      <td>0.007053</td>\n",
       "      <td>-0.030140</td>\n",
       "      <td>-0.028567</td>\n",
       "      <td>0.048136</td>\n",
       "      <td>0.033518</td>\n",
       "      <td>-0.001952</td>\n",
       "    </tr>\n",
       "    <tr>\n",
       "      <th>1</th>\n",
       "      <td>0.119707</td>\n",
       "      <td>0.024781</td>\n",
       "      <td>0.072052</td>\n",
       "      <td>0.020810</td>\n",
       "      <td>-0.011434</td>\n",
       "      <td>-0.058942</td>\n",
       "      <td>-0.000670</td>\n",
       "      <td>0.032345</td>\n",
       "      <td>0.002842</td>\n",
       "      <td>-0.003907</td>\n",
       "    </tr>\n",
       "    <tr>\n",
       "      <th>2</th>\n",
       "      <td>0.129262</td>\n",
       "      <td>0.101736</td>\n",
       "      <td>0.087996</td>\n",
       "      <td>0.003767</td>\n",
       "      <td>0.132171</td>\n",
       "      <td>-0.029115</td>\n",
       "      <td>-0.018475</td>\n",
       "      <td>0.021211</td>\n",
       "      <td>0.070716</td>\n",
       "      <td>-0.015295</td>\n",
       "    </tr>\n",
       "    <tr>\n",
       "      <th>3</th>\n",
       "      <td>0.103500</td>\n",
       "      <td>0.062100</td>\n",
       "      <td>0.012877</td>\n",
       "      <td>-0.065643</td>\n",
       "      <td>-0.018954</td>\n",
       "      <td>-0.061941</td>\n",
       "      <td>-0.012243</td>\n",
       "      <td>0.002271</td>\n",
       "      <td>0.044861</td>\n",
       "      <td>0.040505</td>\n",
       "    </tr>\n",
       "    <tr>\n",
       "      <th>4</th>\n",
       "      <td>0.096223</td>\n",
       "      <td>-0.056756</td>\n",
       "      <td>-0.015456</td>\n",
       "      <td>-0.013961</td>\n",
       "      <td>0.023635</td>\n",
       "      <td>0.028859</td>\n",
       "      <td>0.007216</td>\n",
       "      <td>0.016768</td>\n",
       "      <td>-0.041583</td>\n",
       "      <td>0.021444</td>\n",
       "    </tr>\n",
       "  </tbody>\n",
       "</table>\n",
       "</div>"
      ],
      "text/plain": [
       "   description_0  description_1  description_2  description_3  description_4  \\\n",
       "0       0.115367       0.004577       0.114576       0.052600       0.007053   \n",
       "1       0.119707       0.024781       0.072052       0.020810      -0.011434   \n",
       "2       0.129262       0.101736       0.087996       0.003767       0.132171   \n",
       "3       0.103500       0.062100       0.012877      -0.065643      -0.018954   \n",
       "4       0.096223      -0.056756      -0.015456      -0.013961       0.023635   \n",
       "\n",
       "   description_5  description_6  description_7  description_8  description_9  \n",
       "0      -0.030140      -0.028567       0.048136       0.033518      -0.001952  \n",
       "1      -0.058942      -0.000670       0.032345       0.002842      -0.003907  \n",
       "2      -0.029115      -0.018475       0.021211       0.070716      -0.015295  \n",
       "3      -0.061941      -0.012243       0.002271       0.044861       0.040505  \n",
       "4       0.028859       0.007216       0.016768      -0.041583       0.021444  "
      ]
     },
     "execution_count": 21,
     "metadata": {},
     "output_type": "execute_result"
    }
   ],
   "source": [
    "#Fit tfidf and svd, and transform training data\n",
    "tfidf_matrix = tf.fit_transform(data.description)\n",
    "desc_features = pd.DataFrame(svd.fit_transform(tfidf_matrix))\n",
    "collist = map(str, range(0, 10))\n",
    "collist = [\"description_\" + s for s in collist]\n",
    "desc_features.columns = collist\n",
    "desc_features.head()"
   ]
  },
  {
   "cell_type": "code",
   "execution_count": 22,
   "metadata": {},
   "outputs": [
    {
     "data": {
      "text/html": [
       "<div>\n",
       "<style scoped>\n",
       "    .dataframe tbody tr th:only-of-type {\n",
       "        vertical-align: middle;\n",
       "    }\n",
       "\n",
       "    .dataframe tbody tr th {\n",
       "        vertical-align: top;\n",
       "    }\n",
       "\n",
       "    .dataframe thead th {\n",
       "        text-align: right;\n",
       "    }\n",
       "</style>\n",
       "<table border=\"1\" class=\"dataframe\">\n",
       "  <thead>\n",
       "    <tr style=\"text-align: right;\">\n",
       "      <th></th>\n",
       "      <th>variety_0</th>\n",
       "      <th>variety_1</th>\n",
       "      <th>variety_2</th>\n",
       "      <th>variety_3</th>\n",
       "      <th>variety_4</th>\n",
       "      <th>variety_5</th>\n",
       "      <th>variety_6</th>\n",
       "      <th>variety_7</th>\n",
       "      <th>variety_8</th>\n",
       "      <th>variety_9</th>\n",
       "    </tr>\n",
       "  </thead>\n",
       "  <tbody>\n",
       "    <tr>\n",
       "      <th>0</th>\n",
       "      <td>3.032120e-06</td>\n",
       "      <td>1.337161e-05</td>\n",
       "      <td>4.913872e-02</td>\n",
       "      <td>0.247638</td>\n",
       "      <td>-0.000035</td>\n",
       "      <td>0.000428</td>\n",
       "      <td>0.000055</td>\n",
       "      <td>0.000004</td>\n",
       "      <td>-0.000091</td>\n",
       "      <td>-0.182187</td>\n",
       "    </tr>\n",
       "    <tr>\n",
       "      <th>1</th>\n",
       "      <td>1.040262e-05</td>\n",
       "      <td>4.049609e-05</td>\n",
       "      <td>1.488026e-01</td>\n",
       "      <td>0.748054</td>\n",
       "      <td>-0.000036</td>\n",
       "      <td>0.000818</td>\n",
       "      <td>0.000092</td>\n",
       "      <td>0.000042</td>\n",
       "      <td>0.000326</td>\n",
       "      <td>0.613835</td>\n",
       "    </tr>\n",
       "    <tr>\n",
       "      <th>2</th>\n",
       "      <td>1.040261e-05</td>\n",
       "      <td>4.049612e-05</td>\n",
       "      <td>1.488026e-01</td>\n",
       "      <td>0.748054</td>\n",
       "      <td>-0.000036</td>\n",
       "      <td>0.000818</td>\n",
       "      <td>0.000092</td>\n",
       "      <td>0.000042</td>\n",
       "      <td>0.000326</td>\n",
       "      <td>0.613835</td>\n",
       "    </tr>\n",
       "    <tr>\n",
       "      <th>3</th>\n",
       "      <td>1.468151e-06</td>\n",
       "      <td>7.432294e-07</td>\n",
       "      <td>1.078796e-06</td>\n",
       "      <td>0.000001</td>\n",
       "      <td>-0.000019</td>\n",
       "      <td>0.000098</td>\n",
       "      <td>0.000635</td>\n",
       "      <td>0.000047</td>\n",
       "      <td>0.000512</td>\n",
       "      <td>0.001781</td>\n",
       "    </tr>\n",
       "    <tr>\n",
       "      <th>4</th>\n",
       "      <td>7.455420e-08</td>\n",
       "      <td>-7.984201e-08</td>\n",
       "      <td>8.913762e-07</td>\n",
       "      <td>0.000004</td>\n",
       "      <td>0.000011</td>\n",
       "      <td>0.000032</td>\n",
       "      <td>-0.000007</td>\n",
       "      <td>0.000039</td>\n",
       "      <td>0.000435</td>\n",
       "      <td>-0.000146</td>\n",
       "    </tr>\n",
       "  </tbody>\n",
       "</table>\n",
       "</div>"
      ],
      "text/plain": [
       "      variety_0     variety_1     variety_2  variety_3  variety_4  variety_5  \\\n",
       "0  3.032120e-06  1.337161e-05  4.913872e-02   0.247638  -0.000035   0.000428   \n",
       "1  1.040262e-05  4.049609e-05  1.488026e-01   0.748054  -0.000036   0.000818   \n",
       "2  1.040261e-05  4.049612e-05  1.488026e-01   0.748054  -0.000036   0.000818   \n",
       "3  1.468151e-06  7.432294e-07  1.078796e-06   0.000001  -0.000019   0.000098   \n",
       "4  7.455420e-08 -7.984201e-08  8.913762e-07   0.000004   0.000011   0.000032   \n",
       "\n",
       "   variety_6  variety_7  variety_8  variety_9  \n",
       "0   0.000055   0.000004  -0.000091  -0.182187  \n",
       "1   0.000092   0.000042   0.000326   0.613835  \n",
       "2   0.000092   0.000042   0.000326   0.613835  \n",
       "3   0.000635   0.000047   0.000512   0.001781  \n",
       "4  -0.000007   0.000039   0.000435  -0.000146  "
      ]
     },
     "execution_count": 22,
     "metadata": {},
     "output_type": "execute_result"
    }
   ],
   "source": [
    "tfidf_matrix = tf.fit_transform(data.variety)\n",
    "var_features = pd.DataFrame(svd.fit_transform(tfidf_matrix))\n",
    "collist = map(str, range(0, 10))\n",
    "collist = [\"variety_\" + s for s in collist]\n",
    "var_features.columns = collist\n",
    "var_features.head()"
   ]
  },
  {
   "cell_type": "code",
   "execution_count": 23,
   "metadata": {},
   "outputs": [
    {
     "data": {
      "text/html": [
       "<div>\n",
       "<style scoped>\n",
       "    .dataframe tbody tr th:only-of-type {\n",
       "        vertical-align: middle;\n",
       "    }\n",
       "\n",
       "    .dataframe tbody tr th {\n",
       "        vertical-align: top;\n",
       "    }\n",
       "\n",
       "    .dataframe thead th {\n",
       "        text-align: right;\n",
       "    }\n",
       "</style>\n",
       "<table border=\"1\" class=\"dataframe\">\n",
       "  <thead>\n",
       "    <tr style=\"text-align: right;\">\n",
       "      <th></th>\n",
       "      <th>province_0</th>\n",
       "      <th>province_1</th>\n",
       "      <th>province_2</th>\n",
       "      <th>province_3</th>\n",
       "      <th>province_4</th>\n",
       "      <th>province_5</th>\n",
       "      <th>province_6</th>\n",
       "      <th>province_7</th>\n",
       "      <th>province_8</th>\n",
       "      <th>province_9</th>\n",
       "    </tr>\n",
       "  </thead>\n",
       "  <tbody>\n",
       "    <tr>\n",
       "      <th>0</th>\n",
       "      <td>5.925336e-11</td>\n",
       "      <td>1.200996e-06</td>\n",
       "      <td>-1.956747e-05</td>\n",
       "      <td>4.007309e-05</td>\n",
       "      <td>-6.045768e-06</td>\n",
       "      <td>-8.888895e-07</td>\n",
       "      <td>1.114052e-04</td>\n",
       "      <td>4.880635e-04</td>\n",
       "      <td>-4.205231e-04</td>\n",
       "      <td>-7.296001e-04</td>\n",
       "    </tr>\n",
       "    <tr>\n",
       "      <th>1</th>\n",
       "      <td>2.235818e-11</td>\n",
       "      <td>5.183323e-08</td>\n",
       "      <td>6.757844e-07</td>\n",
       "      <td>2.860715e-07</td>\n",
       "      <td>3.872704e-06</td>\n",
       "      <td>-1.234165e-05</td>\n",
       "      <td>9.999944e-01</td>\n",
       "      <td>-2.807267e-05</td>\n",
       "      <td>3.056361e-05</td>\n",
       "      <td>5.552538e-07</td>\n",
       "    </tr>\n",
       "    <tr>\n",
       "      <th>2</th>\n",
       "      <td>2.233295e-11</td>\n",
       "      <td>5.187322e-08</td>\n",
       "      <td>6.758526e-07</td>\n",
       "      <td>2.860965e-07</td>\n",
       "      <td>3.872704e-06</td>\n",
       "      <td>-1.234165e-05</td>\n",
       "      <td>9.999944e-01</td>\n",
       "      <td>-2.807267e-05</td>\n",
       "      <td>3.056361e-05</td>\n",
       "      <td>5.552538e-07</td>\n",
       "    </tr>\n",
       "    <tr>\n",
       "      <th>3</th>\n",
       "      <td>1.000000e+00</td>\n",
       "      <td>1.347806e-16</td>\n",
       "      <td>2.235682e-14</td>\n",
       "      <td>9.660473e-14</td>\n",
       "      <td>1.436970e-13</td>\n",
       "      <td>-1.486608e-13</td>\n",
       "      <td>-8.377258e-14</td>\n",
       "      <td>1.477783e-13</td>\n",
       "      <td>-4.773117e-13</td>\n",
       "      <td>-6.445777e-13</td>\n",
       "    </tr>\n",
       "    <tr>\n",
       "      <th>4</th>\n",
       "      <td>-5.012247e-14</td>\n",
       "      <td>1.000000e+00</td>\n",
       "      <td>1.367473e-09</td>\n",
       "      <td>1.677271e-09</td>\n",
       "      <td>2.400934e-09</td>\n",
       "      <td>-5.038300e-09</td>\n",
       "      <td>-5.069317e-09</td>\n",
       "      <td>2.907881e-09</td>\n",
       "      <td>-7.206291e-09</td>\n",
       "      <td>-6.635802e-10</td>\n",
       "    </tr>\n",
       "  </tbody>\n",
       "</table>\n",
       "</div>"
      ],
      "text/plain": [
       "     province_0    province_1    province_2    province_3    province_4  \\\n",
       "0  5.925336e-11  1.200996e-06 -1.956747e-05  4.007309e-05 -6.045768e-06   \n",
       "1  2.235818e-11  5.183323e-08  6.757844e-07  2.860715e-07  3.872704e-06   \n",
       "2  2.233295e-11  5.187322e-08  6.758526e-07  2.860965e-07  3.872704e-06   \n",
       "3  1.000000e+00  1.347806e-16  2.235682e-14  9.660473e-14  1.436970e-13   \n",
       "4 -5.012247e-14  1.000000e+00  1.367473e-09  1.677271e-09  2.400934e-09   \n",
       "\n",
       "     province_5    province_6    province_7    province_8    province_9  \n",
       "0 -8.888895e-07  1.114052e-04  4.880635e-04 -4.205231e-04 -7.296001e-04  \n",
       "1 -1.234165e-05  9.999944e-01 -2.807267e-05  3.056361e-05  5.552538e-07  \n",
       "2 -1.234165e-05  9.999944e-01 -2.807267e-05  3.056361e-05  5.552538e-07  \n",
       "3 -1.486608e-13 -8.377258e-14  1.477783e-13 -4.773117e-13 -6.445777e-13  \n",
       "4 -5.038300e-09 -5.069317e-09  2.907881e-09 -7.206291e-09 -6.635802e-10  "
      ]
     },
     "execution_count": 23,
     "metadata": {},
     "output_type": "execute_result"
    }
   ],
   "source": [
    "prov_features = pd.DataFrame(svd.fit_transform(proDummies.values))\n",
    "collist = map(str, range(0, 10))\n",
    "collist = [\"province_\" + s for s in collist]\n",
    "prov_features.columns = collist\n",
    "prov_features.head()"
   ]
  },
  {
   "cell_type": "code",
   "execution_count": 24,
   "metadata": {},
   "outputs": [],
   "source": [
    "#tfidf_matrix = tf.fit_transform(data.region_1)\n",
    "#reg1_features = pd.DataFrame(svd.fit_transform(tfidf_matrix))\n",
    "#collist = map(str, range(0, 10))\n",
    "#collist = [\"country_\" + s for s in collist]\n",
    "#reg1_features.columns = collist\n",
    "#reg1_features.head()"
   ]
  },
  {
   "cell_type": "code",
   "execution_count": 25,
   "metadata": {},
   "outputs": [
    {
     "data": {
      "text/html": [
       "<div>\n",
       "<style scoped>\n",
       "    .dataframe tbody tr th:only-of-type {\n",
       "        vertical-align: middle;\n",
       "    }\n",
       "\n",
       "    .dataframe tbody tr th {\n",
       "        vertical-align: top;\n",
       "    }\n",
       "\n",
       "    .dataframe thead th {\n",
       "        text-align: right;\n",
       "    }\n",
       "</style>\n",
       "<table border=\"1\" class=\"dataframe\">\n",
       "  <thead>\n",
       "    <tr style=\"text-align: right;\">\n",
       "      <th></th>\n",
       "      <th>country_0</th>\n",
       "      <th>country_1</th>\n",
       "      <th>country_2</th>\n",
       "      <th>country_3</th>\n",
       "      <th>country_4</th>\n",
       "      <th>country_5</th>\n",
       "      <th>country_6</th>\n",
       "      <th>country_7</th>\n",
       "      <th>country_8</th>\n",
       "      <th>country_9</th>\n",
       "    </tr>\n",
       "  </thead>\n",
       "  <tbody>\n",
       "    <tr>\n",
       "      <th>0</th>\n",
       "      <td>-2.232226e-14</td>\n",
       "      <td>2.051388e-14</td>\n",
       "      <td>9.843308e-14</td>\n",
       "      <td>-2.381584e-14</td>\n",
       "      <td>3.717691e-13</td>\n",
       "      <td>2.898950e-14</td>\n",
       "      <td>1.000000e+00</td>\n",
       "      <td>1.251659e-14</td>\n",
       "      <td>2.758115e-14</td>\n",
       "      <td>5.855669e-14</td>\n",
       "    </tr>\n",
       "    <tr>\n",
       "      <th>1</th>\n",
       "      <td>-3.134754e-13</td>\n",
       "      <td>-1.605158e-10</td>\n",
       "      <td>1.000000e+00</td>\n",
       "      <td>-3.491195e-14</td>\n",
       "      <td>7.262601e-13</td>\n",
       "      <td>-3.633779e-14</td>\n",
       "      <td>1.980195e-13</td>\n",
       "      <td>2.794431e-13</td>\n",
       "      <td>4.481598e-14</td>\n",
       "      <td>5.388354e-15</td>\n",
       "    </tr>\n",
       "    <tr>\n",
       "      <th>2</th>\n",
       "      <td>-3.503589e-15</td>\n",
       "      <td>5.773532e-15</td>\n",
       "      <td>1.000000e+00</td>\n",
       "      <td>-1.240638e-14</td>\n",
       "      <td>-1.503551e-14</td>\n",
       "      <td>-1.559713e-14</td>\n",
       "      <td>7.495633e-14</td>\n",
       "      <td>1.095209e-13</td>\n",
       "      <td>4.775375e-14</td>\n",
       "      <td>1.849564e-14</td>\n",
       "    </tr>\n",
       "    <tr>\n",
       "      <th>3</th>\n",
       "      <td>1.000000e+00</td>\n",
       "      <td>-5.406059e-16</td>\n",
       "      <td>1.896116e-15</td>\n",
       "      <td>-2.112569e-13</td>\n",
       "      <td>-7.238449e-14</td>\n",
       "      <td>5.827077e-14</td>\n",
       "      <td>2.874840e-13</td>\n",
       "      <td>5.262341e-14</td>\n",
       "      <td>3.665465e-15</td>\n",
       "      <td>-8.260387e-15</td>\n",
       "    </tr>\n",
       "    <tr>\n",
       "      <th>4</th>\n",
       "      <td>1.000000e+00</td>\n",
       "      <td>-8.663049e-14</td>\n",
       "      <td>2.848422e-14</td>\n",
       "      <td>-9.255579e-12</td>\n",
       "      <td>-1.328876e-11</td>\n",
       "      <td>1.436682e-11</td>\n",
       "      <td>1.229377e-11</td>\n",
       "      <td>5.227233e-12</td>\n",
       "      <td>-3.490477e-15</td>\n",
       "      <td>2.938576e-15</td>\n",
       "    </tr>\n",
       "  </tbody>\n",
       "</table>\n",
       "</div>"
      ],
      "text/plain": [
       "      country_0     country_1     country_2     country_3     country_4  \\\n",
       "0 -2.232226e-14  2.051388e-14  9.843308e-14 -2.381584e-14  3.717691e-13   \n",
       "1 -3.134754e-13 -1.605158e-10  1.000000e+00 -3.491195e-14  7.262601e-13   \n",
       "2 -3.503589e-15  5.773532e-15  1.000000e+00 -1.240638e-14 -1.503551e-14   \n",
       "3  1.000000e+00 -5.406059e-16  1.896116e-15 -2.112569e-13 -7.238449e-14   \n",
       "4  1.000000e+00 -8.663049e-14  2.848422e-14 -9.255579e-12 -1.328876e-11   \n",
       "\n",
       "      country_5     country_6     country_7     country_8     country_9  \n",
       "0  2.898950e-14  1.000000e+00  1.251659e-14  2.758115e-14  5.855669e-14  \n",
       "1 -3.633779e-14  1.980195e-13  2.794431e-13  4.481598e-14  5.388354e-15  \n",
       "2 -1.559713e-14  7.495633e-14  1.095209e-13  4.775375e-14  1.849564e-14  \n",
       "3  5.827077e-14  2.874840e-13  5.262341e-14  3.665465e-15 -8.260387e-15  \n",
       "4  1.436682e-11  1.229377e-11  5.227233e-12 -3.490477e-15  2.938576e-15  "
      ]
     },
     "execution_count": 25,
     "metadata": {},
     "output_type": "execute_result"
    }
   ],
   "source": [
    "country_features = pd.DataFrame(svd.fit_transform(countDummies.values))\n",
    "collist = map(str, range(0, 10))\n",
    "collist = [\"country_\" + s for s in collist]\n",
    "country_features.columns = collist\n",
    "country_features.head()"
   ]
  },
  {
   "cell_type": "code",
   "execution_count": 26,
   "metadata": {},
   "outputs": [
    {
     "data": {
      "text/plain": [
       "(258210, 40)"
      ]
     },
     "execution_count": 26,
     "metadata": {},
     "output_type": "execute_result"
    }
   ],
   "source": [
    "dd = pd.concat([desc_features, var_features, prov_features, country_features], axis=1)\n",
    "dd.shape"
   ]
  },
  {
   "cell_type": "code",
   "execution_count": 27,
   "metadata": {},
   "outputs": [
    {
     "data": {
      "text/html": [
       "<div>\n",
       "<style scoped>\n",
       "    .dataframe tbody tr th:only-of-type {\n",
       "        vertical-align: middle;\n",
       "    }\n",
       "\n",
       "    .dataframe tbody tr th {\n",
       "        vertical-align: top;\n",
       "    }\n",
       "\n",
       "    .dataframe thead th {\n",
       "        text-align: right;\n",
       "    }\n",
       "</style>\n",
       "<table border=\"1\" class=\"dataframe\">\n",
       "  <thead>\n",
       "    <tr style=\"text-align: right;\">\n",
       "      <th></th>\n",
       "      <th>description_0</th>\n",
       "      <th>description_1</th>\n",
       "      <th>description_2</th>\n",
       "      <th>description_3</th>\n",
       "      <th>description_4</th>\n",
       "      <th>description_5</th>\n",
       "      <th>description_6</th>\n",
       "      <th>description_7</th>\n",
       "      <th>description_8</th>\n",
       "      <th>description_9</th>\n",
       "      <th>...</th>\n",
       "      <th>country_0</th>\n",
       "      <th>country_1</th>\n",
       "      <th>country_2</th>\n",
       "      <th>country_3</th>\n",
       "      <th>country_4</th>\n",
       "      <th>country_5</th>\n",
       "      <th>country_6</th>\n",
       "      <th>country_7</th>\n",
       "      <th>country_8</th>\n",
       "      <th>country_9</th>\n",
       "    </tr>\n",
       "  </thead>\n",
       "  <tbody>\n",
       "    <tr>\n",
       "      <th>0</th>\n",
       "      <td>0.115367</td>\n",
       "      <td>0.004577</td>\n",
       "      <td>0.114576</td>\n",
       "      <td>0.052600</td>\n",
       "      <td>0.007053</td>\n",
       "      <td>-0.030140</td>\n",
       "      <td>-0.028567</td>\n",
       "      <td>0.048136</td>\n",
       "      <td>0.033518</td>\n",
       "      <td>-0.001952</td>\n",
       "      <td>...</td>\n",
       "      <td>-2.232226e-14</td>\n",
       "      <td>2.051388e-14</td>\n",
       "      <td>9.843308e-14</td>\n",
       "      <td>-2.381584e-14</td>\n",
       "      <td>3.717691e-13</td>\n",
       "      <td>2.898950e-14</td>\n",
       "      <td>1.000000e+00</td>\n",
       "      <td>1.251659e-14</td>\n",
       "      <td>2.758115e-14</td>\n",
       "      <td>5.855669e-14</td>\n",
       "    </tr>\n",
       "    <tr>\n",
       "      <th>1</th>\n",
       "      <td>0.119707</td>\n",
       "      <td>0.024781</td>\n",
       "      <td>0.072052</td>\n",
       "      <td>0.020810</td>\n",
       "      <td>-0.011434</td>\n",
       "      <td>-0.058942</td>\n",
       "      <td>-0.000670</td>\n",
       "      <td>0.032345</td>\n",
       "      <td>0.002842</td>\n",
       "      <td>-0.003907</td>\n",
       "      <td>...</td>\n",
       "      <td>-3.134754e-13</td>\n",
       "      <td>-1.605158e-10</td>\n",
       "      <td>1.000000e+00</td>\n",
       "      <td>-3.491195e-14</td>\n",
       "      <td>7.262601e-13</td>\n",
       "      <td>-3.633779e-14</td>\n",
       "      <td>1.980195e-13</td>\n",
       "      <td>2.794431e-13</td>\n",
       "      <td>4.481598e-14</td>\n",
       "      <td>5.388354e-15</td>\n",
       "    </tr>\n",
       "    <tr>\n",
       "      <th>2</th>\n",
       "      <td>0.129262</td>\n",
       "      <td>0.101736</td>\n",
       "      <td>0.087996</td>\n",
       "      <td>0.003767</td>\n",
       "      <td>0.132171</td>\n",
       "      <td>-0.029115</td>\n",
       "      <td>-0.018475</td>\n",
       "      <td>0.021211</td>\n",
       "      <td>0.070716</td>\n",
       "      <td>-0.015295</td>\n",
       "      <td>...</td>\n",
       "      <td>-3.503589e-15</td>\n",
       "      <td>5.773532e-15</td>\n",
       "      <td>1.000000e+00</td>\n",
       "      <td>-1.240638e-14</td>\n",
       "      <td>-1.503551e-14</td>\n",
       "      <td>-1.559713e-14</td>\n",
       "      <td>7.495633e-14</td>\n",
       "      <td>1.095209e-13</td>\n",
       "      <td>4.775375e-14</td>\n",
       "      <td>1.849564e-14</td>\n",
       "    </tr>\n",
       "    <tr>\n",
       "      <th>3</th>\n",
       "      <td>0.103500</td>\n",
       "      <td>0.062100</td>\n",
       "      <td>0.012877</td>\n",
       "      <td>-0.065643</td>\n",
       "      <td>-0.018954</td>\n",
       "      <td>-0.061941</td>\n",
       "      <td>-0.012243</td>\n",
       "      <td>0.002271</td>\n",
       "      <td>0.044861</td>\n",
       "      <td>0.040505</td>\n",
       "      <td>...</td>\n",
       "      <td>1.000000e+00</td>\n",
       "      <td>-5.406059e-16</td>\n",
       "      <td>1.896116e-15</td>\n",
       "      <td>-2.112569e-13</td>\n",
       "      <td>-7.238449e-14</td>\n",
       "      <td>5.827077e-14</td>\n",
       "      <td>2.874840e-13</td>\n",
       "      <td>5.262341e-14</td>\n",
       "      <td>3.665465e-15</td>\n",
       "      <td>-8.260387e-15</td>\n",
       "    </tr>\n",
       "    <tr>\n",
       "      <th>4</th>\n",
       "      <td>0.096223</td>\n",
       "      <td>-0.056756</td>\n",
       "      <td>-0.015456</td>\n",
       "      <td>-0.013961</td>\n",
       "      <td>0.023635</td>\n",
       "      <td>0.028859</td>\n",
       "      <td>0.007216</td>\n",
       "      <td>0.016768</td>\n",
       "      <td>-0.041583</td>\n",
       "      <td>0.021444</td>\n",
       "      <td>...</td>\n",
       "      <td>1.000000e+00</td>\n",
       "      <td>-8.663049e-14</td>\n",
       "      <td>2.848422e-14</td>\n",
       "      <td>-9.255579e-12</td>\n",
       "      <td>-1.328876e-11</td>\n",
       "      <td>1.436682e-11</td>\n",
       "      <td>1.229377e-11</td>\n",
       "      <td>5.227233e-12</td>\n",
       "      <td>-3.490477e-15</td>\n",
       "      <td>2.938576e-15</td>\n",
       "    </tr>\n",
       "  </tbody>\n",
       "</table>\n",
       "<p>5 rows × 40 columns</p>\n",
       "</div>"
      ],
      "text/plain": [
       "   description_0  description_1  description_2  description_3  description_4  \\\n",
       "0       0.115367       0.004577       0.114576       0.052600       0.007053   \n",
       "1       0.119707       0.024781       0.072052       0.020810      -0.011434   \n",
       "2       0.129262       0.101736       0.087996       0.003767       0.132171   \n",
       "3       0.103500       0.062100       0.012877      -0.065643      -0.018954   \n",
       "4       0.096223      -0.056756      -0.015456      -0.013961       0.023635   \n",
       "\n",
       "   description_5  description_6  description_7  description_8  description_9  \\\n",
       "0      -0.030140      -0.028567       0.048136       0.033518      -0.001952   \n",
       "1      -0.058942      -0.000670       0.032345       0.002842      -0.003907   \n",
       "2      -0.029115      -0.018475       0.021211       0.070716      -0.015295   \n",
       "3      -0.061941      -0.012243       0.002271       0.044861       0.040505   \n",
       "4       0.028859       0.007216       0.016768      -0.041583       0.021444   \n",
       "\n",
       "       ...          country_0     country_1     country_2     country_3  \\\n",
       "0      ...      -2.232226e-14  2.051388e-14  9.843308e-14 -2.381584e-14   \n",
       "1      ...      -3.134754e-13 -1.605158e-10  1.000000e+00 -3.491195e-14   \n",
       "2      ...      -3.503589e-15  5.773532e-15  1.000000e+00 -1.240638e-14   \n",
       "3      ...       1.000000e+00 -5.406059e-16  1.896116e-15 -2.112569e-13   \n",
       "4      ...       1.000000e+00 -8.663049e-14  2.848422e-14 -9.255579e-12   \n",
       "\n",
       "      country_4     country_5     country_6     country_7     country_8  \\\n",
       "0  3.717691e-13  2.898950e-14  1.000000e+00  1.251659e-14  2.758115e-14   \n",
       "1  7.262601e-13 -3.633779e-14  1.980195e-13  2.794431e-13  4.481598e-14   \n",
       "2 -1.503551e-14 -1.559713e-14  7.495633e-14  1.095209e-13  4.775375e-14   \n",
       "3 -7.238449e-14  5.827077e-14  2.874840e-13  5.262341e-14  3.665465e-15   \n",
       "4 -1.328876e-11  1.436682e-11  1.229377e-11  5.227233e-12 -3.490477e-15   \n",
       "\n",
       "      country_9  \n",
       "0  5.855669e-14  \n",
       "1  5.388354e-15  \n",
       "2  1.849564e-14  \n",
       "3 -8.260387e-15  \n",
       "4  2.938576e-15  \n",
       "\n",
       "[5 rows x 40 columns]"
      ]
     },
     "execution_count": 27,
     "metadata": {},
     "output_type": "execute_result"
    }
   ],
   "source": [
    "dd.head()"
   ]
  },
  {
   "cell_type": "code",
   "execution_count": 28,
   "metadata": {},
   "outputs": [
    {
     "data": {
      "text/plain": [
       "(258210, 40)"
      ]
     },
     "execution_count": 28,
     "metadata": {},
     "output_type": "execute_result"
    }
   ],
   "source": [
    "dd.shape"
   ]
  },
  {
   "cell_type": "code",
   "execution_count": 29,
   "metadata": {},
   "outputs": [],
   "source": [
    "#data.drop('index', axis=1, inplace=True)"
   ]
  },
  {
   "cell_type": "code",
   "execution_count": 30,
   "metadata": {},
   "outputs": [],
   "source": [
    "dd['train_test'] = data.train_test.values"
   ]
  },
  {
   "cell_type": "code",
   "execution_count": 31,
   "metadata": {},
   "outputs": [],
   "source": [
    "dd['id'] = data.id.values"
   ]
  },
  {
   "cell_type": "code",
   "execution_count": 32,
   "metadata": {},
   "outputs": [],
   "source": [
    "dd['quality'] = data.quality.values"
   ]
  },
  {
   "cell_type": "code",
   "execution_count": 33,
   "metadata": {},
   "outputs": [],
   "source": [
    "dd['points'] = data.points.values"
   ]
  },
  {
   "cell_type": "code",
   "execution_count": 34,
   "metadata": {},
   "outputs": [],
   "source": [
    "dd['price'] = data.price.values"
   ]
  },
  {
   "cell_type": "code",
   "execution_count": 35,
   "metadata": {},
   "outputs": [
    {
     "data": {
      "text/plain": [
       "(258210, 45)"
      ]
     },
     "execution_count": 35,
     "metadata": {},
     "output_type": "execute_result"
    }
   ],
   "source": [
    "#['id', 'points', 'quality', 'price']\n",
    "final_data = dd.copy()\n",
    "final_data.shape"
   ]
  },
  {
   "cell_type": "code",
   "execution_count": 36,
   "metadata": {},
   "outputs": [],
   "source": [
    "final_data['div_points'] = final_data['points'].values / 2\n",
    "final_data['div_points_4'] = final_data['points'].values / 4\n",
    "final_data['div_points_8'] = final_data['points'].values / 8"
   ]
  },
  {
   "cell_type": "code",
   "execution_count": 37,
   "metadata": {},
   "outputs": [],
   "source": [
    "final_data['sum_desc'] = final_data[['description_0', 'description_1', 'description_2', 'description_3',\n",
    "       'description_4', 'description_5', 'description_6', 'description_7',\n",
    "       'description_8', 'description_9']].sum(axis=1)\n",
    "final_data['sum_var'] = final_data[['variety_0', 'variety_1', 'variety_2',\n",
    "       'variety_3', 'variety_4', 'variety_5', 'variety_6', 'variety_7',\n",
    "       'variety_8', 'variety_9']].sum(axis=1)\n",
    "final_data['sum_prov'] = final_data[['province_0', 'province_1', 'province_2',\n",
    "       'province_3', 'province_4', 'province_5', 'province_6', 'province_7',\n",
    "       'province_8', 'province_9']].sum(axis=1)\n",
    "final_data['sum_country'] = final_data[['variety_0', 'variety_1', 'variety_2',\n",
    "       'variety_3', 'variety_4', 'variety_5', 'variety_6', 'variety_7',\n",
    "       'variety_8', 'variety_9']].sum(axis=1)"
   ]
  },
  {
   "cell_type": "code",
   "execution_count": 38,
   "metadata": {},
   "outputs": [
    {
     "data": {
      "text/plain": [
       "0    0.461469\n",
       "1    0.478829\n",
       "2    0.517048\n",
       "3    0.413999\n",
       "4    0.384893\n",
       "Name: description_0_x4, dtype: float64"
      ]
     },
     "execution_count": 38,
     "metadata": {},
     "output_type": "execute_result"
    }
   ],
   "source": [
    "final_data['description_0_x4'] = final_data['description_0'].multiply(4)\n",
    "final_data['description_0_x4'].head()"
   ]
  },
  {
   "cell_type": "code",
   "execution_count": 39,
   "metadata": {},
   "outputs": [
    {
     "data": {
      "text/plain": [
       "0    0.018310\n",
       "1    0.099122\n",
       "2    0.406945\n",
       "3    0.248401\n",
       "4   -0.227026\n",
       "Name: description_1_x4, dtype: float64"
      ]
     },
     "execution_count": 39,
     "metadata": {},
     "output_type": "execute_result"
    }
   ],
   "source": [
    "final_data['description_1_x4'] = final_data['description_1'].multiply(4)\n",
    "final_data['description_1_x4'].head()"
   ]
  },
  {
   "cell_type": "code",
   "execution_count": null,
   "metadata": {},
   "outputs": [],
   "source": []
  },
  {
   "cell_type": "code",
   "execution_count": 40,
   "metadata": {},
   "outputs": [
    {
     "data": {
      "text/html": [
       "<div>\n",
       "<style scoped>\n",
       "    .dataframe tbody tr th:only-of-type {\n",
       "        vertical-align: middle;\n",
       "    }\n",
       "\n",
       "    .dataframe tbody tr th {\n",
       "        vertical-align: top;\n",
       "    }\n",
       "\n",
       "    .dataframe thead th {\n",
       "        text-align: right;\n",
       "    }\n",
       "</style>\n",
       "<table border=\"1\" class=\"dataframe\">\n",
       "  <thead>\n",
       "    <tr style=\"text-align: right;\">\n",
       "      <th></th>\n",
       "      <th>description_0</th>\n",
       "      <th>description_1</th>\n",
       "      <th>description_2</th>\n",
       "      <th>description_3</th>\n",
       "      <th>description_4</th>\n",
       "      <th>description_5</th>\n",
       "      <th>description_6</th>\n",
       "      <th>description_7</th>\n",
       "      <th>description_8</th>\n",
       "      <th>description_9</th>\n",
       "      <th>...</th>\n",
       "      <th>price</th>\n",
       "      <th>div_points</th>\n",
       "      <th>div_points_4</th>\n",
       "      <th>div_points_8</th>\n",
       "      <th>sum_desc</th>\n",
       "      <th>sum_var</th>\n",
       "      <th>sum_prov</th>\n",
       "      <th>sum_country</th>\n",
       "      <th>description_0_x4</th>\n",
       "      <th>description_1_x4</th>\n",
       "    </tr>\n",
       "  </thead>\n",
       "  <tbody>\n",
       "    <tr>\n",
       "      <th>0</th>\n",
       "      <td>0.115367</td>\n",
       "      <td>0.004577</td>\n",
       "      <td>0.114576</td>\n",
       "      <td>0.052600</td>\n",
       "      <td>0.007053</td>\n",
       "      <td>-0.030140</td>\n",
       "      <td>-0.028567</td>\n",
       "      <td>0.048136</td>\n",
       "      <td>0.033518</td>\n",
       "      <td>-0.001952</td>\n",
       "      <td>...</td>\n",
       "      <td>20.0</td>\n",
       "      <td>44.435437</td>\n",
       "      <td>22.217719</td>\n",
       "      <td>11.108859</td>\n",
       "      <td>0.315168</td>\n",
       "      <td>0.114967</td>\n",
       "      <td>-0.000536</td>\n",
       "      <td>0.114967</td>\n",
       "      <td>0.461469</td>\n",
       "      <td>0.018310</td>\n",
       "    </tr>\n",
       "    <tr>\n",
       "      <th>1</th>\n",
       "      <td>0.119707</td>\n",
       "      <td>0.024781</td>\n",
       "      <td>0.072052</td>\n",
       "      <td>0.020810</td>\n",
       "      <td>-0.011434</td>\n",
       "      <td>-0.058942</td>\n",
       "      <td>-0.000670</td>\n",
       "      <td>0.032345</td>\n",
       "      <td>0.002842</td>\n",
       "      <td>-0.003907</td>\n",
       "      <td>...</td>\n",
       "      <td>28.0</td>\n",
       "      <td>44.020848</td>\n",
       "      <td>22.010424</td>\n",
       "      <td>11.005212</td>\n",
       "      <td>0.197584</td>\n",
       "      <td>1.511985</td>\n",
       "      <td>0.999990</td>\n",
       "      <td>1.511985</td>\n",
       "      <td>0.478829</td>\n",
       "      <td>0.099122</td>\n",
       "    </tr>\n",
       "    <tr>\n",
       "      <th>2</th>\n",
       "      <td>0.129262</td>\n",
       "      <td>0.101736</td>\n",
       "      <td>0.087996</td>\n",
       "      <td>0.003767</td>\n",
       "      <td>0.132171</td>\n",
       "      <td>-0.029115</td>\n",
       "      <td>-0.018475</td>\n",
       "      <td>0.021211</td>\n",
       "      <td>0.070716</td>\n",
       "      <td>-0.015295</td>\n",
       "      <td>...</td>\n",
       "      <td>130.0</td>\n",
       "      <td>47.042511</td>\n",
       "      <td>23.521255</td>\n",
       "      <td>11.760628</td>\n",
       "      <td>0.483973</td>\n",
       "      <td>1.511985</td>\n",
       "      <td>0.999990</td>\n",
       "      <td>1.511985</td>\n",
       "      <td>0.517048</td>\n",
       "      <td>0.406945</td>\n",
       "    </tr>\n",
       "    <tr>\n",
       "      <th>3</th>\n",
       "      <td>0.103500</td>\n",
       "      <td>0.062100</td>\n",
       "      <td>0.012877</td>\n",
       "      <td>-0.065643</td>\n",
       "      <td>-0.018954</td>\n",
       "      <td>-0.061941</td>\n",
       "      <td>-0.012243</td>\n",
       "      <td>0.002271</td>\n",
       "      <td>0.044861</td>\n",
       "      <td>0.040505</td>\n",
       "      <td>...</td>\n",
       "      <td>34.0</td>\n",
       "      <td>44.934899</td>\n",
       "      <td>22.467449</td>\n",
       "      <td>11.233725</td>\n",
       "      <td>0.107335</td>\n",
       "      <td>0.003058</td>\n",
       "      <td>1.000000</td>\n",
       "      <td>0.003058</td>\n",
       "      <td>0.413999</td>\n",
       "      <td>0.248401</td>\n",
       "    </tr>\n",
       "    <tr>\n",
       "      <th>4</th>\n",
       "      <td>0.096223</td>\n",
       "      <td>-0.056756</td>\n",
       "      <td>-0.015456</td>\n",
       "      <td>-0.013961</td>\n",
       "      <td>0.023635</td>\n",
       "      <td>0.028859</td>\n",
       "      <td>0.007216</td>\n",
       "      <td>0.016768</td>\n",
       "      <td>-0.041583</td>\n",
       "      <td>0.021444</td>\n",
       "      <td>...</td>\n",
       "      <td>24.0</td>\n",
       "      <td>44.508825</td>\n",
       "      <td>22.254413</td>\n",
       "      <td>11.127206</td>\n",
       "      <td>0.066389</td>\n",
       "      <td>0.000369</td>\n",
       "      <td>1.000000</td>\n",
       "      <td>0.000369</td>\n",
       "      <td>0.384893</td>\n",
       "      <td>-0.227026</td>\n",
       "    </tr>\n",
       "  </tbody>\n",
       "</table>\n",
       "<p>5 rows × 54 columns</p>\n",
       "</div>"
      ],
      "text/plain": [
       "   description_0  description_1  description_2  description_3  description_4  \\\n",
       "0       0.115367       0.004577       0.114576       0.052600       0.007053   \n",
       "1       0.119707       0.024781       0.072052       0.020810      -0.011434   \n",
       "2       0.129262       0.101736       0.087996       0.003767       0.132171   \n",
       "3       0.103500       0.062100       0.012877      -0.065643      -0.018954   \n",
       "4       0.096223      -0.056756      -0.015456      -0.013961       0.023635   \n",
       "\n",
       "   description_5  description_6  description_7  description_8  description_9  \\\n",
       "0      -0.030140      -0.028567       0.048136       0.033518      -0.001952   \n",
       "1      -0.058942      -0.000670       0.032345       0.002842      -0.003907   \n",
       "2      -0.029115      -0.018475       0.021211       0.070716      -0.015295   \n",
       "3      -0.061941      -0.012243       0.002271       0.044861       0.040505   \n",
       "4       0.028859       0.007216       0.016768      -0.041583       0.021444   \n",
       "\n",
       "         ...         price  div_points  div_points_4  div_points_8  sum_desc  \\\n",
       "0        ...          20.0   44.435437     22.217719     11.108859  0.315168   \n",
       "1        ...          28.0   44.020848     22.010424     11.005212  0.197584   \n",
       "2        ...         130.0   47.042511     23.521255     11.760628  0.483973   \n",
       "3        ...          34.0   44.934899     22.467449     11.233725  0.107335   \n",
       "4        ...          24.0   44.508825     22.254413     11.127206  0.066389   \n",
       "\n",
       "    sum_var  sum_prov  sum_country  description_0_x4  description_1_x4  \n",
       "0  0.114967 -0.000536     0.114967          0.461469          0.018310  \n",
       "1  1.511985  0.999990     1.511985          0.478829          0.099122  \n",
       "2  1.511985  0.999990     1.511985          0.517048          0.406945  \n",
       "3  0.003058  1.000000     0.003058          0.413999          0.248401  \n",
       "4  0.000369  1.000000     0.000369          0.384893         -0.227026  \n",
       "\n",
       "[5 rows x 54 columns]"
      ]
     },
     "execution_count": 40,
     "metadata": {},
     "output_type": "execute_result"
    }
   ],
   "source": [
    "#final_data['div_points'].head(10)\n",
    "final_data.head()"
   ]
  },
  {
   "cell_type": "code",
   "execution_count": 41,
   "metadata": {},
   "outputs": [],
   "source": [
    "train_data = final_data[final_data['train_test'] == 'train']\n",
    "test_data = final_data[final_data['train_test'] == 'test']"
   ]
  },
  {
   "cell_type": "code",
   "execution_count": 42,
   "metadata": {},
   "outputs": [
    {
     "name": "stdout",
     "output_type": "stream",
     "text": [
      "(175000, 54)\n",
      "(83210, 54)\n"
     ]
    }
   ],
   "source": [
    "print(train_data.shape)\n",
    "print(test_data.shape)"
   ]
  },
  {
   "cell_type": "code",
   "execution_count": 43,
   "metadata": {},
   "outputs": [],
   "source": [
    "#cols = ['description_0', 'description_1', 'description_2', 'description_3', 'description_4', 'description_5', 'description_6', 'description_7', 'description_8', 'description_9', 'variety_0', 'variety_1', 'variety_2', 'variety_3', 'variety_4', 'variety_5', 'variety_6', 'variety_7', 'variety_8', 'variety_9', 'province_0', 'province_1', 'province_2', 'province_3', 'province_4', 'province_5', 'province_6', 'province_7', 'province_8', 'province_9', 'country_0', 'country_1', 'country_2', 'country_3', 'country_4', 'country_5', 'country_6', 'country_7', 'country_8', 'country_9', 'sum_desc', 'sum_var', 'sum_prov', 'sum_country', 'description_0_x4', 'description_1_x4']\n",
    "#cols2 = ['points', 'quality']"
   ]
  },
  {
   "cell_type": "code",
   "execution_count": 44,
   "metadata": {},
   "outputs": [],
   "source": [
    "#X = train_data[cols2]\n",
    "#y = train_data[\"price\"]"
   ]
  },
  {
   "cell_type": "code",
   "execution_count": 45,
   "metadata": {},
   "outputs": [],
   "source": [
    "#X_train, X_test, y_train, y_test = train_test_split(X, y, test_size=0.3)"
   ]
  },
  {
   "cell_type": "code",
   "execution_count": 46,
   "metadata": {},
   "outputs": [],
   "source": [
    "#print(X_train.shape, X_test.shape, y_train.shape, y_test.shape)"
   ]
  },
  {
   "cell_type": "code",
   "execution_count": null,
   "metadata": {},
   "outputs": [],
   "source": []
  },
  {
   "cell_type": "code",
   "execution_count": 47,
   "metadata": {},
   "outputs": [],
   "source": [
    "from sklearn.linear_model import LinearRegression, Ridge\n",
    "from sklearn.ensemble import RandomForestRegressor\n",
    "from sklearn.preprocessing import PolynomialFeatures"
   ]
  },
  {
   "cell_type": "code",
   "execution_count": 48,
   "metadata": {
    "scrolled": true
   },
   "outputs": [
    {
     "data": {
      "text/plain": [
       "array([[8.88708744e+01, 2.00000000e+00, 7.89803232e+03, 1.77741749e+02,\n",
       "        4.00000000e+00],\n",
       "       [8.80416953e+01, 2.00000000e+00, 7.75134011e+03, 1.76083391e+02,\n",
       "        4.00000000e+00],\n",
       "       [9.40850213e+01, 3.00000000e+00, 8.85199123e+03, 2.82255064e+02,\n",
       "        9.00000000e+00],\n",
       "       ...,\n",
       "       [8.90575848e+01, 2.00000000e+00, 7.93125341e+03, 1.78115170e+02,\n",
       "        4.00000000e+00],\n",
       "       [8.49079088e+01, 1.00000000e+00, 7.20935297e+03, 8.49079088e+01,\n",
       "        1.00000000e+00],\n",
       "       [9.20387015e+01, 3.00000000e+00, 8.47112258e+03, 2.76116105e+02,\n",
       "        9.00000000e+00]])"
      ]
     },
     "execution_count": 48,
     "metadata": {},
     "output_type": "execute_result"
    }
   ],
   "source": [
    "pf = PolynomialFeatures(degree=2, interaction_only=False,  \n",
    "                        include_bias=False)\n",
    "res = pf.fit_transform(final_data[['points', 'quality']])\n",
    "res"
   ]
  },
  {
   "cell_type": "code",
   "execution_count": 49,
   "metadata": {},
   "outputs": [
    {
     "data": {
      "text/html": [
       "<div>\n",
       "<style scoped>\n",
       "    .dataframe tbody tr th:only-of-type {\n",
       "        vertical-align: middle;\n",
       "    }\n",
       "\n",
       "    .dataframe tbody tr th {\n",
       "        vertical-align: top;\n",
       "    }\n",
       "\n",
       "    .dataframe thead th {\n",
       "        text-align: right;\n",
       "    }\n",
       "</style>\n",
       "<table border=\"1\" class=\"dataframe\">\n",
       "  <thead>\n",
       "    <tr style=\"text-align: right;\">\n",
       "      <th></th>\n",
       "      <th>points_degree</th>\n",
       "      <th>quality_degree</th>\n",
       "    </tr>\n",
       "  </thead>\n",
       "  <tbody>\n",
       "    <tr>\n",
       "      <th>0</th>\n",
       "      <td>1</td>\n",
       "      <td>0</td>\n",
       "    </tr>\n",
       "    <tr>\n",
       "      <th>1</th>\n",
       "      <td>0</td>\n",
       "      <td>1</td>\n",
       "    </tr>\n",
       "    <tr>\n",
       "      <th>2</th>\n",
       "      <td>2</td>\n",
       "      <td>0</td>\n",
       "    </tr>\n",
       "    <tr>\n",
       "      <th>3</th>\n",
       "      <td>1</td>\n",
       "      <td>1</td>\n",
       "    </tr>\n",
       "    <tr>\n",
       "      <th>4</th>\n",
       "      <td>0</td>\n",
       "      <td>2</td>\n",
       "    </tr>\n",
       "  </tbody>\n",
       "</table>\n",
       "</div>"
      ],
      "text/plain": [
       "   points_degree  quality_degree\n",
       "0              1               0\n",
       "1              0               1\n",
       "2              2               0\n",
       "3              1               1\n",
       "4              0               2"
      ]
     },
     "execution_count": 49,
     "metadata": {},
     "output_type": "execute_result"
    }
   ],
   "source": [
    "pd.DataFrame(pf.powers_, columns=['points_degree',  \n",
    "                                  'quality_degree'])"
   ]
  },
  {
   "cell_type": "code",
   "execution_count": 129,
   "metadata": {},
   "outputs": [
    {
     "data": {
      "text/html": [
       "<div>\n",
       "<style scoped>\n",
       "    .dataframe tbody tr th:only-of-type {\n",
       "        vertical-align: middle;\n",
       "    }\n",
       "\n",
       "    .dataframe tbody tr th {\n",
       "        vertical-align: top;\n",
       "    }\n",
       "\n",
       "    .dataframe thead th {\n",
       "        text-align: right;\n",
       "    }\n",
       "</style>\n",
       "<table border=\"1\" class=\"dataframe\">\n",
       "  <thead>\n",
       "    <tr style=\"text-align: right;\">\n",
       "      <th></th>\n",
       "      <th>points</th>\n",
       "      <th>quality</th>\n",
       "      <th>points^2</th>\n",
       "      <th>points x quality</th>\n",
       "      <th>quality^2</th>\n",
       "    </tr>\n",
       "  </thead>\n",
       "  <tbody>\n",
       "    <tr>\n",
       "      <th>0</th>\n",
       "      <td>88.870874</td>\n",
       "      <td>2.0</td>\n",
       "      <td>7898.032315</td>\n",
       "      <td>177.741749</td>\n",
       "      <td>4.0</td>\n",
       "    </tr>\n",
       "    <tr>\n",
       "      <th>1</th>\n",
       "      <td>88.041695</td>\n",
       "      <td>2.0</td>\n",
       "      <td>7751.340111</td>\n",
       "      <td>176.083391</td>\n",
       "      <td>4.0</td>\n",
       "    </tr>\n",
       "    <tr>\n",
       "      <th>2</th>\n",
       "      <td>94.085021</td>\n",
       "      <td>3.0</td>\n",
       "      <td>8851.991227</td>\n",
       "      <td>282.255064</td>\n",
       "      <td>9.0</td>\n",
       "    </tr>\n",
       "    <tr>\n",
       "      <th>3</th>\n",
       "      <td>89.869797</td>\n",
       "      <td>2.0</td>\n",
       "      <td>8076.580454</td>\n",
       "      <td>179.739594</td>\n",
       "      <td>4.0</td>\n",
       "    </tr>\n",
       "    <tr>\n",
       "      <th>4</th>\n",
       "      <td>89.017651</td>\n",
       "      <td>2.0</td>\n",
       "      <td>7924.142166</td>\n",
       "      <td>178.035302</td>\n",
       "      <td>4.0</td>\n",
       "    </tr>\n",
       "  </tbody>\n",
       "</table>\n",
       "</div>"
      ],
      "text/plain": [
       "      points  quality     points^2  points x quality  quality^2\n",
       "0  88.870874      2.0  7898.032315        177.741749        4.0\n",
       "1  88.041695      2.0  7751.340111        176.083391        4.0\n",
       "2  94.085021      3.0  8851.991227        282.255064        9.0\n",
       "3  89.869797      2.0  8076.580454        179.739594        4.0\n",
       "4  89.017651      2.0  7924.142166        178.035302        4.0"
      ]
     },
     "execution_count": 129,
     "metadata": {},
     "output_type": "execute_result"
    }
   ],
   "source": [
    "intr_features = pd.DataFrame(res, columns=['points', 'quality',  \n",
    "                                           'points^2', \n",
    "                                           'points x quality',  \n",
    "                                           'quality^2'])\n",
    "intr_features.head(5)"
   ]
  },
  {
   "cell_type": "code",
   "execution_count": 130,
   "metadata": {},
   "outputs": [],
   "source": [
    "intr_features['points_log'] = np.log((1 + intr_features['points']))"
   ]
  },
  {
   "cell_type": "code",
   "execution_count": 131,
   "metadata": {},
   "outputs": [],
   "source": [
    "intr_features['points^2_log'] = np.log((1 + intr_features['points^2']))"
   ]
  },
  {
   "cell_type": "code",
   "execution_count": 132,
   "metadata": {},
   "outputs": [],
   "source": [
    "intr_features['points x quality_log'] = np.log((1 + intr_features['points x quality']))"
   ]
  },
  {
   "cell_type": "code",
   "execution_count": 133,
   "metadata": {},
   "outputs": [],
   "source": [
    "import scipy.stats as spstats"
   ]
  },
  {
   "cell_type": "code",
   "execution_count": 134,
   "metadata": {},
   "outputs": [],
   "source": [
    "#intr_features['points_boxcox_lambda_0'] = spstats.boxcox((1 + intr_features['points']), lmbda=0)"
   ]
  },
  {
   "cell_type": "code",
   "execution_count": 135,
   "metadata": {},
   "outputs": [],
   "source": [
    "#intr_features['points^2_boxcox_lambda_0'] = spstats.boxcox((1 + intr_features['points^2']), lmbda=0)"
   ]
  },
  {
   "cell_type": "code",
   "execution_count": 136,
   "metadata": {},
   "outputs": [],
   "source": [
    "#intr_features['points x quality_boxcox_lambda_0'] = spstats.boxcox((1 + intr_features['points x quality']), lmbda=0)"
   ]
  },
  {
   "cell_type": "code",
   "execution_count": 172,
   "metadata": {},
   "outputs": [],
   "source": [
    "l, opt_lambda = spstats.boxcox(intr_features['points'].values)\n",
    "#opt_lambda"
   ]
  },
  {
   "cell_type": "code",
   "execution_count": 138,
   "metadata": {},
   "outputs": [],
   "source": [
    "intr_features['points_boxcox_lambda_opt'] = spstats.boxcox((1 + intr_features['points']), \n",
    "                                          lmbda=opt_lambda)"
   ]
  },
  {
   "cell_type": "code",
   "execution_count": 139,
   "metadata": {},
   "outputs": [],
   "source": [
    "intr_features['points^2_boxcox_lambda_opt'] = spstats.boxcox((1 + intr_features['points^2']), \n",
    "                                          lmbda=opt_lambda)"
   ]
  },
  {
   "cell_type": "code",
   "execution_count": 140,
   "metadata": {},
   "outputs": [],
   "source": [
    "intr_features['points x quality_boxcox_lambda_opt'] = spstats.boxcox((1 + intr_features['points x quality']), \n",
    "                                          lmbda=opt_lambda)"
   ]
  },
  {
   "cell_type": "code",
   "execution_count": 141,
   "metadata": {},
   "outputs": [
    {
     "data": {
      "text/html": [
       "<div>\n",
       "<style scoped>\n",
       "    .dataframe tbody tr th:only-of-type {\n",
       "        vertical-align: middle;\n",
       "    }\n",
       "\n",
       "    .dataframe tbody tr th {\n",
       "        vertical-align: top;\n",
       "    }\n",
       "\n",
       "    .dataframe thead th {\n",
       "        text-align: right;\n",
       "    }\n",
       "</style>\n",
       "<table border=\"1\" class=\"dataframe\">\n",
       "  <thead>\n",
       "    <tr style=\"text-align: right;\">\n",
       "      <th></th>\n",
       "      <th>points</th>\n",
       "      <th>quality</th>\n",
       "      <th>points^2</th>\n",
       "      <th>points x quality</th>\n",
       "      <th>quality^2</th>\n",
       "      <th>points_log</th>\n",
       "      <th>points^2_log</th>\n",
       "      <th>points x quality_log</th>\n",
       "      <th>points_boxcox_lambda_opt</th>\n",
       "      <th>points^2_boxcox_lambda_opt</th>\n",
       "      <th>points x quality_boxcox_lambda_opt</th>\n",
       "    </tr>\n",
       "  </thead>\n",
       "  <tbody>\n",
       "    <tr>\n",
       "      <th>0</th>\n",
       "      <td>88.870874</td>\n",
       "      <td>2.0</td>\n",
       "      <td>7898.032315</td>\n",
       "      <td>177.741749</td>\n",
       "      <td>4.0</td>\n",
       "      <td>4.498374</td>\n",
       "      <td>8.974496</td>\n",
       "      <td>5.185942</td>\n",
       "      <td>5.046263</td>\n",
       "      <td>11.334832</td>\n",
       "      <td>5.922886</td>\n",
       "    </tr>\n",
       "    <tr>\n",
       "      <th>1</th>\n",
       "      <td>88.041695</td>\n",
       "      <td>2.0</td>\n",
       "      <td>7751.340111</td>\n",
       "      <td>176.083391</td>\n",
       "      <td>4.0</td>\n",
       "      <td>4.489105</td>\n",
       "      <td>8.955750</td>\n",
       "      <td>5.176621</td>\n",
       "      <td>5.034650</td>\n",
       "      <td>11.305444</td>\n",
       "      <td>5.910799</td>\n",
       "    </tr>\n",
       "    <tr>\n",
       "      <th>2</th>\n",
       "      <td>94.085021</td>\n",
       "      <td>3.0</td>\n",
       "      <td>8851.991227</td>\n",
       "      <td>282.255064</td>\n",
       "      <td>9.0</td>\n",
       "      <td>4.554771</td>\n",
       "      <td>9.088511</td>\n",
       "      <td>5.646348</td>\n",
       "      <td>5.117035</td>\n",
       "      <td>11.514180</td>\n",
       "      <td>6.527014</td>\n",
       "    </tr>\n",
       "    <tr>\n",
       "      <th>3</th>\n",
       "      <td>89.869797</td>\n",
       "      <td>2.0</td>\n",
       "      <td>8076.580454</td>\n",
       "      <td>179.739594</td>\n",
       "      <td>4.0</td>\n",
       "      <td>4.509428</td>\n",
       "      <td>8.996848</td>\n",
       "      <td>5.197057</td>\n",
       "      <td>5.060118</td>\n",
       "      <td>11.369912</td>\n",
       "      <td>5.937307</td>\n",
       "    </tr>\n",
       "    <tr>\n",
       "      <th>4</th>\n",
       "      <td>89.017651</td>\n",
       "      <td>2.0</td>\n",
       "      <td>7924.142166</td>\n",
       "      <td>178.035302</td>\n",
       "      <td>4.0</td>\n",
       "      <td>4.500006</td>\n",
       "      <td>8.977796</td>\n",
       "      <td>5.187583</td>\n",
       "      <td>5.048308</td>\n",
       "      <td>11.340009</td>\n",
       "      <td>5.925015</td>\n",
       "    </tr>\n",
       "  </tbody>\n",
       "</table>\n",
       "</div>"
      ],
      "text/plain": [
       "      points  quality     points^2  points x quality  quality^2  points_log  \\\n",
       "0  88.870874      2.0  7898.032315        177.741749        4.0    4.498374   \n",
       "1  88.041695      2.0  7751.340111        176.083391        4.0    4.489105   \n",
       "2  94.085021      3.0  8851.991227        282.255064        9.0    4.554771   \n",
       "3  89.869797      2.0  8076.580454        179.739594        4.0    4.509428   \n",
       "4  89.017651      2.0  7924.142166        178.035302        4.0    4.500006   \n",
       "\n",
       "   points^2_log  points x quality_log  points_boxcox_lambda_opt  \\\n",
       "0      8.974496              5.185942                  5.046263   \n",
       "1      8.955750              5.176621                  5.034650   \n",
       "2      9.088511              5.646348                  5.117035   \n",
       "3      8.996848              5.197057                  5.060118   \n",
       "4      8.977796              5.187583                  5.048308   \n",
       "\n",
       "   points^2_boxcox_lambda_opt  points x quality_boxcox_lambda_opt  \n",
       "0                   11.334832                            5.922886  \n",
       "1                   11.305444                            5.910799  \n",
       "2                   11.514180                            6.527014  \n",
       "3                   11.369912                            5.937307  \n",
       "4                   11.340009                            5.925015  "
      ]
     },
     "execution_count": 141,
     "metadata": {},
     "output_type": "execute_result"
    }
   ],
   "source": [
    "intr_features.head()"
   ]
  },
  {
   "cell_type": "code",
   "execution_count": null,
   "metadata": {},
   "outputs": [],
   "source": []
  },
  {
   "cell_type": "code",
   "execution_count": 142,
   "metadata": {},
   "outputs": [
    {
     "name": "stdout",
     "output_type": "stream",
     "text": [
      "(258210, 11)\n"
     ]
    }
   ],
   "source": [
    "print(intr_features.shape)"
   ]
  },
  {
   "cell_type": "code",
   "execution_count": 143,
   "metadata": {},
   "outputs": [],
   "source": [
    "#intr_features.drop(['quality', 'quality^2'], inplace=True, axis=1)"
   ]
  },
  {
   "cell_type": "code",
   "execution_count": 144,
   "metadata": {},
   "outputs": [],
   "source": [
    "final_data_c = final_data.drop(['points', 'quality'], axis=1)"
   ]
  },
  {
   "cell_type": "code",
   "execution_count": 145,
   "metadata": {},
   "outputs": [],
   "source": [
    "ff = pd.concat([final_data_c, intr_features], axis=1)"
   ]
  },
  {
   "cell_type": "code",
   "execution_count": 146,
   "metadata": {},
   "outputs": [
    {
     "name": "stdout",
     "output_type": "stream",
     "text": [
      "(258210, 63)\n"
     ]
    }
   ],
   "source": [
    "print(ff.shape)"
   ]
  },
  {
   "cell_type": "code",
   "execution_count": 147,
   "metadata": {},
   "outputs": [],
   "source": [
    "train_ff = ff[ff['train_test'] == 'train']\n",
    "test_ff = ff[ff['train_test'] == 'test']"
   ]
  },
  {
   "cell_type": "code",
   "execution_count": 148,
   "metadata": {},
   "outputs": [],
   "source": [
    "col_old3 = ['description_0', 'description_1', 'description_2', 'description_3', 'description_4', 'description_5', 'description_6', 'description_7', 'description_8', 'description_9', 'variety_2', 'variety_4', 'variety_6', 'variety_7', 'variety_9', 'province_0', 'province_5', 'province_6', 'province_7', 'province_9', 'country_0', 'country_2', 'country_9', 'sum_desc', 'sum_prov', 'description_0_x4', 'description_1_x4']\n",
    "col_old2 = ['description_0', 'description_1', 'description_2', 'description_3', 'description_4', 'description_5', 'description_6', 'description_7', 'description_8', 'description_9', 'variety_2', 'variety_4', 'variety_6', 'variety_7', 'variety_9', 'province_5', 'province_6', 'province_7', 'province_9', 'country_0', 'sum_desc', 'sum_prov', 'description_0_x4', 'description_1_x4']\n",
    "col_old1 = ['description_0', 'description_1', 'description_2', 'description_3', 'description_4', 'description_5', 'description_6', 'description_7', 'description_8', 'description_9', 'variety_7', 'province_6', 'sum_desc', 'sum_prov', 'description_0_x4', 'description_1_x4']\n",
    "col0 = ['description_0', 'description_1', 'description_2', 'description_3', 'description_4', 'description_5', 'description_6', 'description_7', 'description_8', 'description_9', 'province_6', 'sum_desc', 'sum_prov', 'description_0_x4', 'description_1_x4']\n",
    "col00 = ['description_2', 'description_7', 'description_8', 'province_6', 'sum_prov', 'points_boxcox_lambda_opt']\n",
    "col = ['description_0', 'description_1', 'description_2', 'description_3', 'description_4', 'description_5', 'description_6', 'description_7', 'description_8', 'description_9', 'variety_0', 'variety_1', 'variety_2', 'variety_3', 'variety_4', 'variety_5', 'variety_6', 'variety_7', 'variety_8', 'variety_9', 'province_0', 'province_1', 'province_2', 'province_3', 'province_4', 'province_5', 'province_6', 'province_7', 'province_8', 'province_9', 'country_0', 'country_1', 'country_2', 'country_3', 'country_4', 'country_5', 'country_6', 'country_7', 'country_8', 'country_9', 'sum_desc', 'sum_var', 'sum_prov', 'sum_country', 'description_0_x4', 'description_1_x4']\n",
    "\n",
    "X = train_ff[col + intr_features.columns.tolist()]\n",
    "y = train_ff[\"price\"]"
   ]
  },
  {
   "cell_type": "code",
   "execution_count": 149,
   "metadata": {},
   "outputs": [],
   "source": [
    "X_train, X_test, y_train, y_test = train_test_split(X, y, test_size=0.3)"
   ]
  },
  {
   "cell_type": "code",
   "execution_count": 150,
   "metadata": {},
   "outputs": [
    {
     "name": "stdout",
     "output_type": "stream",
     "text": [
      "['description_0', 'description_1', 'description_2', 'description_3', 'description_4', 'description_5', 'description_6', 'description_7', 'description_8', 'description_9', 'variety_0', 'variety_1', 'variety_2', 'variety_3', 'variety_4', 'variety_5', 'variety_6', 'variety_7', 'variety_8', 'variety_9', 'province_0', 'province_1', 'province_2', 'province_3', 'province_4', 'province_5', 'province_6', 'province_7', 'province_8', 'province_9', 'country_0', 'country_1', 'country_2', 'country_3', 'country_4', 'country_5', 'country_6', 'country_7', 'country_8', 'country_9', 'sum_desc', 'sum_var', 'sum_prov', 'sum_country', 'description_0_x4', 'description_1_x4', 'points', 'quality', 'points^2', 'points x quality', 'quality^2', 'points_log', 'points^2_log', 'points x quality_log', 'points_boxcox_lambda_opt', 'points^2_boxcox_lambda_opt', 'points x quality_boxcox_lambda_opt']\n"
     ]
    }
   ],
   "source": [
    "print(X_train.columns.tolist())"
   ]
  },
  {
   "cell_type": "code",
   "execution_count": null,
   "metadata": {},
   "outputs": [],
   "source": []
  },
  {
   "cell_type": "code",
   "execution_count": 173,
   "metadata": {},
   "outputs": [
    {
     "name": "stderr",
     "output_type": "stream",
     "text": [
      "/home/aims/.local/lib/python3.7/site-packages/xgboost/core.py:587: FutureWarning: Series.base is deprecated and will be removed in a future version\n",
      "  if getattr(data, 'base', None) is not None and \\\n"
     ]
    },
    {
     "name": "stdout",
     "output_type": "stream",
     "text": [
      "[0]\ttrain-rmse:29.993\n",
      "Will train until train-rmse hasn't improved in 10 rounds.\n",
      "[1]\ttrain-rmse:29.1757\n",
      "[2]\ttrain-rmse:28.8028\n",
      "[3]\ttrain-rmse:28.1655\n",
      "[4]\ttrain-rmse:27.6221\n",
      "[5]\ttrain-rmse:27.3047\n",
      "[6]\ttrain-rmse:27.1348\n",
      "[7]\ttrain-rmse:26.9765\n",
      "[8]\ttrain-rmse:26.7551\n",
      "[9]\ttrain-rmse:26.6956\n",
      "Mean Squared Error: 33.99 \n"
     ]
    }
   ],
   "source": [
    "dtrain = xgb.DMatrix(X_train, label=y_train)\n",
    "dtest = xgb.DMatrix(X_test, label=y_test)\n",
    "#Set xgboost parameters\n",
    "param = {'max_depth': 3, 'eta': 1, 'subsample':0.5, 'alpha':1}\n",
    "param['nthread'] = 4\n",
    "param['eval_metric'] = 'rmse'\n",
    "param['objective'] = 'reg:linear'\n",
    "param['silent'] = 1\n",
    "evallist = [(dtrain, 'train')]\n",
    "num_round = 10\n",
    "\n",
    "#Train model\n",
    "bst = xgb.train(param, dtrain, num_round, evallist, early_stopping_rounds=10)\n",
    "\n",
    "pred = pd.DataFrame(y_test.copy())\n",
    "pred[\"prediction\"] = bst.predict(dtest, ntree_limit=bst.best_ntree_limit)\n",
    "rmse = np.round(np.sqrt(mean_squared_error(y_true=pred[\"price\"], y_pred=pred[\"prediction\"])), 2)\n",
    "print (\"Mean Squared Error: {} \".format(rmse))"
   ]
  },
  {
   "cell_type": "code",
   "execution_count": null,
   "metadata": {},
   "outputs": [],
   "source": []
  },
  {
   "cell_type": "code",
   "execution_count": 152,
   "metadata": {},
   "outputs": [
    {
     "data": {
      "text/plain": [
       "Ridge(alpha=1.0, copy_X=True, fit_intercept=True, max_iter=None,\n",
       "   normalize=False, random_state=None, solver='auto', tol=0.001)"
      ]
     },
     "execution_count": 152,
     "metadata": {},
     "output_type": "execute_result"
    }
   ],
   "source": [
    "lm = Ridge()\n",
    "\n",
    "lm.fit(X_train, y_train)"
   ]
  },
  {
   "cell_type": "code",
   "execution_count": 153,
   "metadata": {},
   "outputs": [
    {
     "name": "stdout",
     "output_type": "stream",
     "text": [
      "5616.1798828261735\n"
     ]
    }
   ],
   "source": [
    "print(lm.intercept_)"
   ]
  },
  {
   "cell_type": "code",
   "execution_count": 154,
   "metadata": {},
   "outputs": [
    {
     "data": {
      "text/plain": [
       "<matplotlib.collections.PathCollection at 0x7f25196f0860>"
      ]
     },
     "execution_count": 154,
     "metadata": {},
     "output_type": "execute_result"
    },
    {
     "data": {
      "image/png": "[encoded data removed]",
      "text/plain": [
       "<Figure size 432x288 with 1 Axes>"
      ]
     },
     "metadata": {
      "needs_background": "light"
     },
     "output_type": "display_data"
    }
   ],
   "source": [
    "predictions = lm.predict(X_test)\n",
    "plt.scatter(np.log(y_test),predictions)"
   ]
  },
  {
   "cell_type": "code",
   "execution_count": 155,
   "metadata": {},
   "outputs": [
    {
     "name": "stdout",
     "output_type": "stream",
     "text": [
      "RMSE: 35.4555051666766\n"
     ]
    }
   ],
   "source": [
    "print('RMSE:', np.sqrt(mean_squared_error(y_test, predictions)))"
   ]
  },
  {
   "cell_type": "code",
   "execution_count": 156,
   "metadata": {},
   "outputs": [
    {
     "name": "stdout",
     "output_type": "stream",
     "text": [
      "Accuracy is 0.2952315470321625\n"
     ]
    }
   ],
   "source": [
    "accuracy = lm.score(X_test, y_test)\n",
    "print (\"Accuracy is {}\".format(accuracy))"
   ]
  },
  {
   "cell_type": "code",
   "execution_count": 157,
   "metadata": {},
   "outputs": [],
   "source": [
    "rf = RandomForestRegressor()"
   ]
  },
  {
   "cell_type": "code",
   "execution_count": 165,
   "metadata": {},
   "outputs": [],
   "source": [
    "rf = RandomForestRegressor(n_estimators = 10, random_state = 42)"
   ]
  },
  {
   "cell_type": "code",
   "execution_count": 166,
   "metadata": {},
   "outputs": [
    {
     "data": {
      "text/plain": [
       "RandomForestRegressor(bootstrap=True, criterion='mse', max_depth=None,\n",
       "           max_features='auto', max_leaf_nodes=None,\n",
       "           min_impurity_decrease=0.0, min_impurity_split=None,\n",
       "           min_samples_leaf=1, min_samples_split=2,\n",
       "           min_weight_fraction_leaf=0.0, n_estimators=10, n_jobs=None,\n",
       "           oob_score=False, random_state=42, verbose=0, warm_start=False)"
      ]
     },
     "execution_count": 166,
     "metadata": {},
     "output_type": "execute_result"
    }
   ],
   "source": [
    "rf.fit(X_train, y_train)"
   ]
  },
  {
   "cell_type": "code",
   "execution_count": 167,
   "metadata": {},
   "outputs": [],
   "source": [
    "predicts = rf.predict(X_test)"
   ]
  },
  {
   "cell_type": "code",
   "execution_count": 168,
   "metadata": {},
   "outputs": [
    {
     "name": "stdout",
     "output_type": "stream",
     "text": [
      "(52500,) (52500,)\n"
     ]
    }
   ],
   "source": [
    "print(y_test.shape, predicts.shape)"
   ]
  },
  {
   "cell_type": "code",
   "execution_count": 169,
   "metadata": {},
   "outputs": [
    {
     "data": {
      "text/plain": [
       "<matplotlib.collections.PathCollection at 0x7f25195f4080>"
      ]
     },
     "execution_count": 169,
     "metadata": {},
     "output_type": "execute_result"
    },
    {
     "data": {
      "image/png": "[encoded data removed]",
      "text/plain": [
       "<Figure size 432x288 with 1 Axes>"
      ]
     },
     "metadata": {
      "needs_background": "light"
     },
     "output_type": "display_data"
    }
   ],
   "source": [
    "plt.scatter(y_test, predicts)"
   ]
  },
  {
   "cell_type": "code",
   "execution_count": 170,
   "metadata": {},
   "outputs": [
    {
     "name": "stdout",
     "output_type": "stream",
     "text": [
      "RMSE: 29.1836758545073\n"
     ]
    }
   ],
   "source": [
    "print('RMSE:', np.sqrt(mean_squared_error(y_test, predicts)))"
   ]
  },
  {
   "cell_type": "code",
   "execution_count": 171,
   "metadata": {},
   "outputs": [
    {
     "name": "stdout",
     "output_type": "stream",
     "text": [
      "\n"
     ]
    },
    {
     "data": {
      "image/png": "[encoded data removed]",
      "text/plain": [
       "<Figure size 1080x576 with 1 Axes>"
      ]
     },
     "metadata": {
      "needs_background": "light"
     },
     "output_type": "display_data"
    }
   ],
   "source": [
    "importance = pd.concat([pd.DataFrame(X_train.columns),pd.DataFrame(rf.feature_importances_)],axis=1)\n",
    "importance.columns = ['feature','value']\n",
    "\n",
    "plt.figure(figsize=(15,8))\n",
    "sns.barplot(x=\"feature\", y=\"value\", data=importance).set_xticklabels(rotation=90,labels=X_train.columns)\n",
    "print('')"
   ]
  },
  {
   "cell_type": "code",
   "execution_count": null,
   "metadata": {},
   "outputs": [],
   "source": [
    "nnn"
   ]
  },
  {
   "cell_type": "code",
   "execution_count": null,
   "metadata": {},
   "outputs": [],
   "source": [
    "#print(test_data.columns.tolist())"
   ]
  },
  {
   "cell_type": "code",
   "execution_count": 175,
   "metadata": {},
   "outputs": [],
   "source": [
    "X_test_t = test_ff[col + intr_features.columns.tolist()]"
   ]
  },
  {
   "cell_type": "code",
   "execution_count": 176,
   "metadata": {},
   "outputs": [
    {
     "name": "stdout",
     "output_type": "stream",
     "text": [
      "(122500, 57) (83210, 57)\n"
     ]
    }
   ],
   "source": [
    "print(X_train.shape, X_test_t.shape)"
   ]
  },
  {
   "cell_type": "code",
   "execution_count": 178,
   "metadata": {},
   "outputs": [
    {
     "name": "stderr",
     "output_type": "stream",
     "text": [
      "/usr/lib/python3/dist-packages/ipykernel_launcher.py:1: SettingWithCopyWarning: \n",
      "A value is trying to be set on a copy of a slice from a DataFrame.\n",
      "Try using .loc[row_indexer,col_indexer] = value instead\n",
      "\n",
      "See the caveats in the documentation: http://pandas.pydata.org/pandas-docs/stable/indexing.html#indexing-view-versus-copy\n",
      "  \"\"\"Entry point for launching an IPython kernel.\n"
     ]
    },
    {
     "data": {
      "text/plain": [
       "175000    123.0\n",
       "175001     67.9\n",
       "175002     32.6\n",
       "175003     26.6\n",
       "175004     20.3\n",
       "175005     21.7\n",
       "175006     12.2\n",
       "175007     29.3\n",
       "175008     19.2\n",
       "175009     58.3\n",
       "Name: price, dtype: float64"
      ]
     },
     "execution_count": 178,
     "metadata": {},
     "output_type": "execute_result"
    }
   ],
   "source": [
    "test_ff['price'] = rf.predict(X_test_t)\n",
    "test_ff['price'].head(10)"
   ]
  },
  {
   "cell_type": "code",
   "execution_count": 180,
   "metadata": {},
   "outputs": [],
   "source": [
    "#!pip3 install lightgbm"
   ]
  },
  {
   "cell_type": "code",
   "execution_count": null,
   "metadata": {},
   "outputs": [],
   "source": [
    "test_ff[['id', 'price']].to_csv('bma_price_predicted_rmse_lm29_86.csv', index=False)"
   ]
  },
  {
   "cell_type": "code",
   "execution_count": null,
   "metadata": {},
   "outputs": [],
   "source": [
    "#pd.DataFrame(test_data_sss).to_csv('random_f.csv')"
   ]
  },
  {
   "cell_type": "code",
   "execution_count": null,
   "metadata": {},
   "outputs": [],
   "source": [
    "import pickle"
   ]
  },
  {
   "cell_type": "code",
   "execution_count": null,
   "metadata": {},
   "outputs": [],
   "source": [
    "pickle.dump(rf,open('rf_model_rmse23_19.sav','wb'))"
   ]
  },
  {
   "cell_type": "code",
   "execution_count": null,
   "metadata": {},
   "outputs": [],
   "source": []
  }
 ],
 "metadata": {
  "kernelspec": {
   "display_name": "Python 3",
   "language": "python",
   "name": "python3"
  },
  "language_info": {
   "codemirror_mode": {
    "name": "ipython",
    "version": 3
   },
   "file_extension": ".py",
   "mimetype": "text/x-python",
   "name": "python",
   "nbconvert_exporter": "python",
   "pygments_lexer": "ipython3",
   "version": "3.7.3"
  }
 },
 "nbformat": 4,
 "nbformat_minor": 2
}
