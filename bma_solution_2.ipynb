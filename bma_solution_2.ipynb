{
 "cells": [
  {
   "cell_type": "code",
   "execution_count": 1,
   "metadata": {},
   "outputs": [],
   "source": [
    "import pandas as pd\n",
    "import numpy as np\n",
    "import matplotlib.pyplot as plt\n",
    "import seaborn as sns\n",
    "%matplotlib inline\n",
    "\n",
    "import math\n",
    "from sklearn.model_selection import train_test_split\n",
    "from sklearn.metrics import precision_recall_curve, mean_squared_error\n",
    "from sklearn.linear_model import LogisticRegression\n",
    "from sklearn.feature_extraction.text import CountVectorizer, TfidfVectorizer\n",
    "from joblib import dump, load\n",
    "\n",
    "from nltk.tokenize import RegexpTokenizer\n",
    "from sklearn.decomposition import TruncatedSVD\n",
    "import xgboost as xgb"
   ]
  },
  {
   "cell_type": "code",
   "execution_count": 2,
   "metadata": {},
   "outputs": [
    {
     "name": "stderr",
     "output_type": "stream",
     "text": [
      "/usr/lib/python3/dist-packages/ipykernel_launcher.py:7: FutureWarning: Sorting because non-concatenation axis is not aligned. A future version\n",
      "of pandas will change to not sort by default.\n",
      "\n",
      "To accept the future behavior, pass 'sort=False'.\n",
      "\n",
      "To retain the current behavior and silence the warning, pass 'sort=True'.\n",
      "\n",
      "  import sys\n"
     ]
    }
   ],
   "source": [
    "train = pd.read_csv('data/train.csv')\n",
    "test = pd.read_csv('data/test.csv')\n",
    "\n",
    "train['train_test'] = 'train'\n",
    "test['train_test'] = 'test'\n",
    "\n",
    "data = pd.concat([train, test])"
   ]
  },
  {
   "cell_type": "code",
   "execution_count": 3,
   "metadata": {},
   "outputs": [
    {
     "data": {
      "text/html": [
       "<div>\n",
       "<style scoped>\n",
       "    .dataframe tbody tr th:only-of-type {\n",
       "        vertical-align: middle;\n",
       "    }\n",
       "\n",
       "    .dataframe tbody tr th {\n",
       "        vertical-align: top;\n",
       "    }\n",
       "\n",
       "    .dataframe thead th {\n",
       "        text-align: right;\n",
       "    }\n",
       "</style>\n",
       "<table border=\"1\" class=\"dataframe\">\n",
       "  <thead>\n",
       "    <tr style=\"text-align: right;\">\n",
       "      <th></th>\n",
       "      <th>country</th>\n",
       "      <th>description</th>\n",
       "      <th>designation</th>\n",
       "      <th>id</th>\n",
       "      <th>index</th>\n",
       "      <th>points</th>\n",
       "      <th>price</th>\n",
       "      <th>province</th>\n",
       "      <th>region_1</th>\n",
       "      <th>region_2</th>\n",
       "      <th>taster_name</th>\n",
       "      <th>taster_twitter_handle</th>\n",
       "      <th>title</th>\n",
       "      <th>train_test</th>\n",
       "      <th>variety</th>\n",
       "      <th>winery</th>\n",
       "    </tr>\n",
       "  </thead>\n",
       "  <tbody>\n",
       "    <tr>\n",
       "      <th>0</th>\n",
       "      <td>Portugal</td>\n",
       "      <td>This is a fine rich balanced wine. It has ripe...</td>\n",
       "      <td>Vila Santa Reserva</td>\n",
       "      <td>32027</td>\n",
       "      <td>NaN</td>\n",
       "      <td>88.870874</td>\n",
       "      <td>20.0</td>\n",
       "      <td>Alentejano</td>\n",
       "      <td>NaN</td>\n",
       "      <td>NaN</td>\n",
       "      <td>NaN</td>\n",
       "      <td>NaN</td>\n",
       "      <td>NaN</td>\n",
       "      <td>train</td>\n",
       "      <td>PORTUGUESE RED</td>\n",
       "      <td>J. Portugal Ramos</td>\n",
       "    </tr>\n",
       "    <tr>\n",
       "      <th>1</th>\n",
       "      <td>France</td>\n",
       "      <td>A solid, chunky wine, with a structure that is...</td>\n",
       "      <td>NaN</td>\n",
       "      <td>71079</td>\n",
       "      <td>NaN</td>\n",
       "      <td>88.041695</td>\n",
       "      <td>28.0</td>\n",
       "      <td>Bordeaux</td>\n",
       "      <td>Lalande de Pomerol</td>\n",
       "      <td>NaN</td>\n",
       "      <td>NaN</td>\n",
       "      <td>NaN</td>\n",
       "      <td>NaN</td>\n",
       "      <td>train</td>\n",
       "      <td>BORDEAUX-STYLE RED BLEND</td>\n",
       "      <td>Château Tour Grand Colombier</td>\n",
       "    </tr>\n",
       "    <tr>\n",
       "      <th>2</th>\n",
       "      <td>France</td>\n",
       "      <td>This is powerful and concentrated, with the hi...</td>\n",
       "      <td>NaN</td>\n",
       "      <td>32440</td>\n",
       "      <td>NaN</td>\n",
       "      <td>94.085021</td>\n",
       "      <td>130.0</td>\n",
       "      <td>Bordeaux</td>\n",
       "      <td>Saint-Émilion</td>\n",
       "      <td>NaN</td>\n",
       "      <td>NaN</td>\n",
       "      <td>NaN</td>\n",
       "      <td>NaN</td>\n",
       "      <td>train</td>\n",
       "      <td>BORDEAUX-STYLE RED BLEND</td>\n",
       "      <td>Château Figeac</td>\n",
       "    </tr>\n",
       "    <tr>\n",
       "      <th>3</th>\n",
       "      <td>US</td>\n",
       "      <td>Rich, ripe and oaky, this Petite Sirah charms ...</td>\n",
       "      <td>Thompson Vineyard</td>\n",
       "      <td>124405</td>\n",
       "      <td>NaN</td>\n",
       "      <td>89.869797</td>\n",
       "      <td>34.0</td>\n",
       "      <td>California</td>\n",
       "      <td>Santa Barbara County</td>\n",
       "      <td>Central Coast</td>\n",
       "      <td>NaN</td>\n",
       "      <td>NaN</td>\n",
       "      <td>Jaffurs 2010 Thompson Vineyard Petite Sirah (S...</td>\n",
       "      <td>train</td>\n",
       "      <td>PETITE SIRAH</td>\n",
       "      <td>Jaffurs</td>\n",
       "    </tr>\n",
       "    <tr>\n",
       "      <th>4</th>\n",
       "      <td>US</td>\n",
       "      <td>This wine is a unique in the state blend and f...</td>\n",
       "      <td>McKinley Springs Vineyard</td>\n",
       "      <td>33649</td>\n",
       "      <td>NaN</td>\n",
       "      <td>89.017651</td>\n",
       "      <td>24.0</td>\n",
       "      <td>Washington</td>\n",
       "      <td>Horse Heaven Hills</td>\n",
       "      <td>Columbia Valley</td>\n",
       "      <td>Sean P. Sullivan</td>\n",
       "      <td>@wawinereport</td>\n",
       "      <td>Syncline 2016 McKinley Springs Vineyard Rosé (...</td>\n",
       "      <td>train</td>\n",
       "      <td>ROSé</td>\n",
       "      <td>Syncline</td>\n",
       "    </tr>\n",
       "  </tbody>\n",
       "</table>\n",
       "</div>"
      ],
      "text/plain": [
       "    country                                        description  \\\n",
       "0  Portugal  This is a fine rich balanced wine. It has ripe...   \n",
       "1    France  A solid, chunky wine, with a structure that is...   \n",
       "2    France  This is powerful and concentrated, with the hi...   \n",
       "3        US  Rich, ripe and oaky, this Petite Sirah charms ...   \n",
       "4        US  This wine is a unique in the state blend and f...   \n",
       "\n",
       "                 designation      id  index     points  price    province  \\\n",
       "0         Vila Santa Reserva   32027    NaN  88.870874   20.0  Alentejano   \n",
       "1                        NaN   71079    NaN  88.041695   28.0    Bordeaux   \n",
       "2                        NaN   32440    NaN  94.085021  130.0    Bordeaux   \n",
       "3          Thompson Vineyard  124405    NaN  89.869797   34.0  California   \n",
       "4  McKinley Springs Vineyard   33649    NaN  89.017651   24.0  Washington   \n",
       "\n",
       "               region_1         region_2       taster_name  \\\n",
       "0                   NaN              NaN               NaN   \n",
       "1    Lalande de Pomerol              NaN               NaN   \n",
       "2         Saint-Émilion              NaN               NaN   \n",
       "3  Santa Barbara County    Central Coast               NaN   \n",
       "4    Horse Heaven Hills  Columbia Valley  Sean P. Sullivan   \n",
       "\n",
       "  taster_twitter_handle                                              title  \\\n",
       "0                   NaN                                                NaN   \n",
       "1                   NaN                                                NaN   \n",
       "2                   NaN                                                NaN   \n",
       "3                   NaN  Jaffurs 2010 Thompson Vineyard Petite Sirah (S...   \n",
       "4         @wawinereport  Syncline 2016 McKinley Springs Vineyard Rosé (...   \n",
       "\n",
       "  train_test                   variety                        winery  \n",
       "0      train            PORTUGUESE RED             J. Portugal Ramos  \n",
       "1      train  BORDEAUX-STYLE RED BLEND  Château Tour Grand Colombier  \n",
       "2      train  BORDEAUX-STYLE RED BLEND                Château Figeac  \n",
       "3      train              PETITE SIRAH                       Jaffurs  \n",
       "4      train                      ROSé                      Syncline  "
      ]
     },
     "execution_count": 3,
     "metadata": {},
     "output_type": "execute_result"
    }
   ],
   "source": [
    "data.head()"
   ]
  },
  {
   "cell_type": "code",
   "execution_count": 4,
   "metadata": {},
   "outputs": [],
   "source": [
    "data.variety.fillna(value='PINOT NOIR', inplace=True)"
   ]
  },
  {
   "cell_type": "code",
   "execution_count": 5,
   "metadata": {},
   "outputs": [],
   "source": [
    "data.province.fillna(value='California', inplace=True)"
   ]
  },
  {
   "cell_type": "code",
   "execution_count": 6,
   "metadata": {},
   "outputs": [],
   "source": [
    "#data = data[pd.notnull(data['variety'])]\n",
    "#data = data[pd.notnull(data['province'])]"
   ]
  },
  {
   "cell_type": "code",
   "execution_count": 7,
   "metadata": {},
   "outputs": [],
   "source": [
    "data.taster_name.fillna(value='Roger Voss', inplace=True)"
   ]
  },
  {
   "cell_type": "code",
   "execution_count": 8,
   "metadata": {},
   "outputs": [],
   "source": [
    "data.title.fillna(value='Gloria Ferrer NV Sonoma Brut Sparkling (Sonoma County)', inplace=True)\n"
   ]
  },
  {
   "cell_type": "code",
   "execution_count": 9,
   "metadata": {},
   "outputs": [],
   "source": [
    "data['province'] = pd.Categorical(data['province'])\n",
    "proDummies = pd.get_dummies(data['province'], prefix = 'prov')\n",
    "\n",
    "data['country'] = pd.Categorical(data['country'])\n",
    "countDummies = pd.get_dummies(data['country'], prefix = 'country')\n",
    "\n",
    "data['variety'] = pd.Categorical(data['variety'])\n",
    "varDummies = pd.get_dummies(data['variety'], prefix = 'variety')\n",
    "\n",
    "data['taster_name'] = pd.Categorical(data['taster_name'])\n",
    "tastDummies = pd.get_dummies(data['taster_name'], prefix = 'taster')\n",
    "\n",
    "#data['title'] = pd.Categorical(data['title'])\n",
    "#titleDummies = pd.get_dummies(data['title'], prefix = 'title')"
   ]
  },
  {
   "cell_type": "code",
   "execution_count": 10,
   "metadata": {},
   "outputs": [],
   "source": [
    "def getQuality(points):\n",
    "    if(points <= 85):\n",
    "        return 'bad'\n",
    "    elif(points<=90 ):\n",
    "        return 'ok'\n",
    "    elif(points<=95):\n",
    "        return 'good'\n",
    "    elif(points<=102):\n",
    "        return 'great'\n",
    "    else:\n",
    "        return 'If this gets hit, we did something wrong!'"
   ]
  },
  {
   "cell_type": "code",
   "execution_count": 11,
   "metadata": {},
   "outputs": [],
   "source": [
    "data['quality'] = data['points'].apply(getQuality)\n",
    "cleanup_nums = {\"quality\":     {\"ok\": 2, \"good\": 3, \"bad\": 1, \"great\": 4},\n",
    "                \"priceRange\": {\"1-30\": 1, \"31-50\": 2, \"51-100\": 3, \"Above 100\": 4}}\n",
    "\n",
    "data.replace(cleanup_nums, inplace=True)"
   ]
  },
  {
   "cell_type": "code",
   "execution_count": 12,
   "metadata": {},
   "outputs": [
    {
     "data": {
      "text/html": [
       "<div>\n",
       "<style scoped>\n",
       "    .dataframe tbody tr th:only-of-type {\n",
       "        vertical-align: middle;\n",
       "    }\n",
       "\n",
       "    .dataframe tbody tr th {\n",
       "        vertical-align: top;\n",
       "    }\n",
       "\n",
       "    .dataframe thead th {\n",
       "        text-align: right;\n",
       "    }\n",
       "</style>\n",
       "<table border=\"1\" class=\"dataframe\">\n",
       "  <thead>\n",
       "    <tr style=\"text-align: right;\">\n",
       "      <th></th>\n",
       "      <th>country</th>\n",
       "      <th>description</th>\n",
       "      <th>designation</th>\n",
       "      <th>id</th>\n",
       "      <th>index</th>\n",
       "      <th>points</th>\n",
       "      <th>price</th>\n",
       "      <th>province</th>\n",
       "      <th>region_1</th>\n",
       "      <th>region_2</th>\n",
       "      <th>taster_name</th>\n",
       "      <th>taster_twitter_handle</th>\n",
       "      <th>title</th>\n",
       "      <th>train_test</th>\n",
       "      <th>variety</th>\n",
       "      <th>winery</th>\n",
       "      <th>quality</th>\n",
       "    </tr>\n",
       "  </thead>\n",
       "  <tbody>\n",
       "    <tr>\n",
       "      <th>0</th>\n",
       "      <td>Portugal</td>\n",
       "      <td>This is a fine rich balanced wine. It has ripe...</td>\n",
       "      <td>Vila Santa Reserva</td>\n",
       "      <td>32027</td>\n",
       "      <td>NaN</td>\n",
       "      <td>88.870874</td>\n",
       "      <td>20.0</td>\n",
       "      <td>Alentejano</td>\n",
       "      <td>NaN</td>\n",
       "      <td>NaN</td>\n",
       "      <td>Roger Voss</td>\n",
       "      <td>NaN</td>\n",
       "      <td>Gloria Ferrer NV Sonoma Brut Sparkling (Sonoma...</td>\n",
       "      <td>train</td>\n",
       "      <td>PORTUGUESE RED</td>\n",
       "      <td>J. Portugal Ramos</td>\n",
       "      <td>2</td>\n",
       "    </tr>\n",
       "    <tr>\n",
       "      <th>1</th>\n",
       "      <td>France</td>\n",
       "      <td>A solid, chunky wine, with a structure that is...</td>\n",
       "      <td>NaN</td>\n",
       "      <td>71079</td>\n",
       "      <td>NaN</td>\n",
       "      <td>88.041695</td>\n",
       "      <td>28.0</td>\n",
       "      <td>Bordeaux</td>\n",
       "      <td>Lalande de Pomerol</td>\n",
       "      <td>NaN</td>\n",
       "      <td>Roger Voss</td>\n",
       "      <td>NaN</td>\n",
       "      <td>Gloria Ferrer NV Sonoma Brut Sparkling (Sonoma...</td>\n",
       "      <td>train</td>\n",
       "      <td>BORDEAUX-STYLE RED BLEND</td>\n",
       "      <td>Château Tour Grand Colombier</td>\n",
       "      <td>2</td>\n",
       "    </tr>\n",
       "  </tbody>\n",
       "</table>\n",
       "</div>"
      ],
      "text/plain": [
       "    country                                        description  \\\n",
       "0  Portugal  This is a fine rich balanced wine. It has ripe...   \n",
       "1    France  A solid, chunky wine, with a structure that is...   \n",
       "\n",
       "          designation     id  index     points  price    province  \\\n",
       "0  Vila Santa Reserva  32027    NaN  88.870874   20.0  Alentejano   \n",
       "1                 NaN  71079    NaN  88.041695   28.0    Bordeaux   \n",
       "\n",
       "             region_1 region_2 taster_name taster_twitter_handle  \\\n",
       "0                 NaN      NaN  Roger Voss                   NaN   \n",
       "1  Lalande de Pomerol      NaN  Roger Voss                   NaN   \n",
       "\n",
       "                                               title train_test  \\\n",
       "0  Gloria Ferrer NV Sonoma Brut Sparkling (Sonoma...      train   \n",
       "1  Gloria Ferrer NV Sonoma Brut Sparkling (Sonoma...      train   \n",
       "\n",
       "                    variety                        winery  quality  \n",
       "0            PORTUGUESE RED             J. Portugal Ramos        2  \n",
       "1  BORDEAUX-STYLE RED BLEND  Château Tour Grand Colombier        2  "
      ]
     },
     "execution_count": 12,
     "metadata": {},
     "output_type": "execute_result"
    }
   ],
   "source": [
    "data.head(2)"
   ]
  },
  {
   "cell_type": "code",
   "execution_count": 13,
   "metadata": {},
   "outputs": [],
   "source": [
    "def make_lower_case(text):\n",
    "    return text.lower()\n",
    "\n",
    "def remove_punctuation(text):\n",
    "    tokenizer = RegexpTokenizer(r'\\w+')\n",
    "    text = tokenizer.tokenize(text)\n",
    "    text = \" \".join(text)\n",
    "    return text"
   ]
  },
  {
   "cell_type": "code",
   "execution_count": 14,
   "metadata": {},
   "outputs": [],
   "source": [
    "data[\"description\"] = data[\"description\"].str.replace('\\d+', '')\n",
    "data[\"description\"] = data.description.apply(func=remove_punctuation)\n",
    "data[\"description\"] = data.description.apply(func=make_lower_case)"
   ]
  },
  {
   "cell_type": "code",
   "execution_count": 15,
   "metadata": {},
   "outputs": [],
   "source": [
    "data[\"variety\"] = data[\"variety\"].str.replace('\\d+', '')\n",
    "data[\"variety\"] = data.variety.apply(func=remove_punctuation)\n",
    "data[\"variety\"] = data.variety.apply(func=make_lower_case)"
   ]
  },
  {
   "cell_type": "code",
   "execution_count": 16,
   "metadata": {},
   "outputs": [],
   "source": [
    "data[\"title\"] = data[\"title\"].str.replace('\\d+', '')\n",
    "data[\"title\"] = data.title.apply(func=remove_punctuation)\n",
    "data[\"title\"] = data.title.apply(func=make_lower_case)"
   ]
  },
  {
   "cell_type": "code",
   "execution_count": 19,
   "metadata": {},
   "outputs": [],
   "source": [
    "tf = TfidfVectorizer(analyzer='word', \n",
    "                     min_df=10,\n",
    "                     ngram_range=(1, 2),\n",
    "                     stop_words='english')\n",
    "svd = TruncatedSVD(n_components=100)"
   ]
  },
  {
   "cell_type": "code",
   "execution_count": 20,
   "metadata": {},
   "outputs": [
    {
     "name": "stdout",
     "output_type": "stream",
     "text": [
      "(258210, 94009)\n"
     ]
    },
    {
     "data": {
      "text/html": [
       "<div>\n",
       "<style scoped>\n",
       "    .dataframe tbody tr th:only-of-type {\n",
       "        vertical-align: middle;\n",
       "    }\n",
       "\n",
       "    .dataframe tbody tr th {\n",
       "        vertical-align: top;\n",
       "    }\n",
       "\n",
       "    .dataframe thead th {\n",
       "        text-align: right;\n",
       "    }\n",
       "</style>\n",
       "<table border=\"1\" class=\"dataframe\">\n",
       "  <thead>\n",
       "    <tr style=\"text-align: right;\">\n",
       "      <th></th>\n",
       "      <th>description_0</th>\n",
       "      <th>description_1</th>\n",
       "      <th>description_2</th>\n",
       "      <th>description_3</th>\n",
       "      <th>description_4</th>\n",
       "      <th>description_5</th>\n",
       "      <th>description_6</th>\n",
       "      <th>description_7</th>\n",
       "      <th>description_8</th>\n",
       "      <th>description_9</th>\n",
       "      <th>...</th>\n",
       "      <th>description_90</th>\n",
       "      <th>description_91</th>\n",
       "      <th>description_92</th>\n",
       "      <th>description_93</th>\n",
       "      <th>description_94</th>\n",
       "      <th>description_95</th>\n",
       "      <th>description_96</th>\n",
       "      <th>description_97</th>\n",
       "      <th>description_98</th>\n",
       "      <th>description_99</th>\n",
       "    </tr>\n",
       "  </thead>\n",
       "  <tbody>\n",
       "    <tr>\n",
       "      <th>0</th>\n",
       "      <td>0.115367</td>\n",
       "      <td>0.004635</td>\n",
       "      <td>0.114810</td>\n",
       "      <td>0.051503</td>\n",
       "      <td>0.006626</td>\n",
       "      <td>-0.030224</td>\n",
       "      <td>-0.025017</td>\n",
       "      <td>0.041989</td>\n",
       "      <td>0.028879</td>\n",
       "      <td>-0.010722</td>\n",
       "      <td>...</td>\n",
       "      <td>-0.001145</td>\n",
       "      <td>-0.005890</td>\n",
       "      <td>-0.020837</td>\n",
       "      <td>0.026162</td>\n",
       "      <td>0.047702</td>\n",
       "      <td>-0.002310</td>\n",
       "      <td>0.025185</td>\n",
       "      <td>0.016502</td>\n",
       "      <td>-0.014583</td>\n",
       "      <td>-0.023557</td>\n",
       "    </tr>\n",
       "    <tr>\n",
       "      <th>1</th>\n",
       "      <td>0.119707</td>\n",
       "      <td>0.024787</td>\n",
       "      <td>0.072113</td>\n",
       "      <td>0.021125</td>\n",
       "      <td>-0.011383</td>\n",
       "      <td>-0.062714</td>\n",
       "      <td>-0.000388</td>\n",
       "      <td>0.031308</td>\n",
       "      <td>0.015452</td>\n",
       "      <td>0.004678</td>\n",
       "      <td>...</td>\n",
       "      <td>0.008465</td>\n",
       "      <td>-0.006591</td>\n",
       "      <td>0.004663</td>\n",
       "      <td>-0.002114</td>\n",
       "      <td>-0.032946</td>\n",
       "      <td>0.005621</td>\n",
       "      <td>0.043270</td>\n",
       "      <td>-0.052529</td>\n",
       "      <td>0.021468</td>\n",
       "      <td>-0.014920</td>\n",
       "    </tr>\n",
       "    <tr>\n",
       "      <th>2</th>\n",
       "      <td>0.129262</td>\n",
       "      <td>0.101701</td>\n",
       "      <td>0.087819</td>\n",
       "      <td>0.003697</td>\n",
       "      <td>0.131599</td>\n",
       "      <td>-0.033489</td>\n",
       "      <td>-0.016941</td>\n",
       "      <td>0.006029</td>\n",
       "      <td>0.069171</td>\n",
       "      <td>-0.006437</td>\n",
       "      <td>...</td>\n",
       "      <td>0.014777</td>\n",
       "      <td>-0.021273</td>\n",
       "      <td>-0.004589</td>\n",
       "      <td>-0.017153</td>\n",
       "      <td>-0.042588</td>\n",
       "      <td>0.042764</td>\n",
       "      <td>0.027396</td>\n",
       "      <td>-0.018518</td>\n",
       "      <td>0.016041</td>\n",
       "      <td>0.032323</td>\n",
       "    </tr>\n",
       "    <tr>\n",
       "      <th>3</th>\n",
       "      <td>0.103500</td>\n",
       "      <td>0.062243</td>\n",
       "      <td>0.012432</td>\n",
       "      <td>-0.064512</td>\n",
       "      <td>-0.020306</td>\n",
       "      <td>-0.063626</td>\n",
       "      <td>-0.014884</td>\n",
       "      <td>-0.008086</td>\n",
       "      <td>0.045269</td>\n",
       "      <td>0.048528</td>\n",
       "      <td>...</td>\n",
       "      <td>-0.021261</td>\n",
       "      <td>-0.014641</td>\n",
       "      <td>0.049239</td>\n",
       "      <td>0.029474</td>\n",
       "      <td>-0.005462</td>\n",
       "      <td>0.062283</td>\n",
       "      <td>-0.034340</td>\n",
       "      <td>-0.033734</td>\n",
       "      <td>0.001570</td>\n",
       "      <td>-0.021269</td>\n",
       "    </tr>\n",
       "    <tr>\n",
       "      <th>4</th>\n",
       "      <td>0.096223</td>\n",
       "      <td>-0.056788</td>\n",
       "      <td>-0.015269</td>\n",
       "      <td>-0.012827</td>\n",
       "      <td>0.023453</td>\n",
       "      <td>0.028192</td>\n",
       "      <td>0.005492</td>\n",
       "      <td>0.016030</td>\n",
       "      <td>-0.026365</td>\n",
       "      <td>0.030248</td>\n",
       "      <td>...</td>\n",
       "      <td>0.008535</td>\n",
       "      <td>0.006225</td>\n",
       "      <td>-0.008858</td>\n",
       "      <td>0.009995</td>\n",
       "      <td>0.009698</td>\n",
       "      <td>-0.015669</td>\n",
       "      <td>-0.022837</td>\n",
       "      <td>0.025574</td>\n",
       "      <td>0.003234</td>\n",
       "      <td>0.006497</td>\n",
       "    </tr>\n",
       "  </tbody>\n",
       "</table>\n",
       "<p>5 rows × 100 columns</p>\n",
       "</div>"
      ],
      "text/plain": [
       "   description_0  description_1  description_2  description_3  description_4  \\\n",
       "0       0.115367       0.004635       0.114810       0.051503       0.006626   \n",
       "1       0.119707       0.024787       0.072113       0.021125      -0.011383   \n",
       "2       0.129262       0.101701       0.087819       0.003697       0.131599   \n",
       "3       0.103500       0.062243       0.012432      -0.064512      -0.020306   \n",
       "4       0.096223      -0.056788      -0.015269      -0.012827       0.023453   \n",
       "\n",
       "   description_5  description_6  description_7  description_8  description_9  \\\n",
       "0      -0.030224      -0.025017       0.041989       0.028879      -0.010722   \n",
       "1      -0.062714      -0.000388       0.031308       0.015452       0.004678   \n",
       "2      -0.033489      -0.016941       0.006029       0.069171      -0.006437   \n",
       "3      -0.063626      -0.014884      -0.008086       0.045269       0.048528   \n",
       "4       0.028192       0.005492       0.016030      -0.026365       0.030248   \n",
       "\n",
       "        ...        description_90  description_91  description_92  \\\n",
       "0       ...             -0.001145       -0.005890       -0.020837   \n",
       "1       ...              0.008465       -0.006591        0.004663   \n",
       "2       ...              0.014777       -0.021273       -0.004589   \n",
       "3       ...             -0.021261       -0.014641        0.049239   \n",
       "4       ...              0.008535        0.006225       -0.008858   \n",
       "\n",
       "   description_93  description_94  description_95  description_96  \\\n",
       "0        0.026162        0.047702       -0.002310        0.025185   \n",
       "1       -0.002114       -0.032946        0.005621        0.043270   \n",
       "2       -0.017153       -0.042588        0.042764        0.027396   \n",
       "3        0.029474       -0.005462        0.062283       -0.034340   \n",
       "4        0.009995        0.009698       -0.015669       -0.022837   \n",
       "\n",
       "   description_97  description_98  description_99  \n",
       "0        0.016502       -0.014583       -0.023557  \n",
       "1       -0.052529        0.021468       -0.014920  \n",
       "2       -0.018518        0.016041        0.032323  \n",
       "3       -0.033734        0.001570       -0.021269  \n",
       "4        0.025574        0.003234        0.006497  \n",
       "\n",
       "[5 rows x 100 columns]"
      ]
     },
     "execution_count": 20,
     "metadata": {},
     "output_type": "execute_result"
    }
   ],
   "source": [
    "#Fit tfidf and svd, and transform training data\n",
    "tfidf_matrix = tf.fit_transform(data.description)\n",
    "print(tfidf_matrix.shape)\n",
    "desc_features = pd.DataFrame(svd.fit_transform(tfidf_matrix))\n",
    "collist = map(str, range(0, 100))\n",
    "collist = [\"description_\" + s for s in collist]\n",
    "desc_features.columns = collist\n",
    "desc_features.head()"
   ]
  },
  {
   "cell_type": "code",
   "execution_count": 21,
   "metadata": {},
   "outputs": [],
   "source": [
    "# tfidf_matrix = tf.fit_transform(data.variety)\n",
    "# var_features = pd.DataFrame(svd.fit_transform(tfidf_matrix))\n",
    "# collist = map(str, range(0, 10))\n",
    "# collist = [\"variety_\" + s for s in collist]\n",
    "# var_features.columns = collist\n",
    "# var_features.head()"
   ]
  },
  {
   "cell_type": "code",
   "execution_count": 22,
   "metadata": {},
   "outputs": [],
   "source": [
    "# prov_features = pd.DataFrame(svd.fit_transform(proDummies.values))\n",
    "# collist = map(str, range(0, 10))\n",
    "# collist = [\"province_\" + s for s in collist]\n",
    "# prov_features.columns = collist\n",
    "# prov_features.head()"
   ]
  },
  {
   "cell_type": "code",
   "execution_count": 24,
   "metadata": {},
   "outputs": [],
   "source": [
    "#tfidf_matrix = tf.fit_transform(data.region_1)\n",
    "#reg1_features = pd.DataFrame(svd.fit_transform(tfidf_matrix))\n",
    "#collist = map(str, range(0, 10))\n",
    "#collist = [\"country_\" + s for s in collist]\n",
    "#reg1_features.columns = collist\n",
    "#reg1_features.head()"
   ]
  },
  {
   "cell_type": "code",
   "execution_count": 23,
   "metadata": {},
   "outputs": [],
   "source": [
    "# country_features = pd.DataFrame(svd.fit_transform(countDummies.values))\n",
    "# collist = map(str, range(0, 10))\n",
    "# collist = [\"country_\" + s for s in collist]\n",
    "# country_features.columns = collist\n",
    "# country_features.head()"
   ]
  },
  {
   "cell_type": "code",
   "execution_count": 24,
   "metadata": {},
   "outputs": [
    {
     "data": {
      "text/plain": [
       "(258210, 100)"
      ]
     },
     "execution_count": 24,
     "metadata": {},
     "output_type": "execute_result"
    }
   ],
   "source": [
    "# dd = pd.concat([desc_features, var_features, prov_features, country_features], axis=1)\n",
    "dd = pd.concat([desc_features], axis=1)\n",
    "dd.shape"
   ]
  },
  {
   "cell_type": "code",
   "execution_count": 25,
   "metadata": {},
   "outputs": [],
   "source": [
    "#data.drop('index', axis=1, inplace=True)"
   ]
  },
  {
   "cell_type": "code",
   "execution_count": 26,
   "metadata": {},
   "outputs": [],
   "source": [
    "dd['train_test'] = data.train_test.values"
   ]
  },
  {
   "cell_type": "code",
   "execution_count": 27,
   "metadata": {},
   "outputs": [],
   "source": [
    "dd['id'] = data.id.values"
   ]
  },
  {
   "cell_type": "code",
   "execution_count": 28,
   "metadata": {},
   "outputs": [],
   "source": [
    "dd['quality'] = data.quality.values"
   ]
  },
  {
   "cell_type": "code",
   "execution_count": 29,
   "metadata": {},
   "outputs": [],
   "source": [
    "dd['points'] = data.points.values"
   ]
  },
  {
   "cell_type": "code",
   "execution_count": 30,
   "metadata": {},
   "outputs": [],
   "source": [
    "dd['price'] = data.price.values"
   ]
  },
  {
   "cell_type": "code",
   "execution_count": 31,
   "metadata": {},
   "outputs": [
    {
     "data": {
      "text/plain": [
       "(258210, 105)"
      ]
     },
     "execution_count": 31,
     "metadata": {},
     "output_type": "execute_result"
    }
   ],
   "source": [
    "#['id', 'points', 'quality', 'price']\n",
    "final_data = dd.copy()\n",
    "final_data.shape"
   ]
  },
  {
   "cell_type": "code",
   "execution_count": null,
   "metadata": {},
   "outputs": [],
   "source": []
  },
  {
   "cell_type": "code",
   "execution_count": 32,
   "metadata": {},
   "outputs": [],
   "source": [
    "final_data['div_points'] = final_data['points'].values / 2\n",
    "final_data['div_points_4'] = final_data['points'].values / 4\n",
    "final_data['div_points_8'] = final_data['points'].values / 8"
   ]
  },
  {
   "cell_type": "code",
   "execution_count": 35,
   "metadata": {},
   "outputs": [],
   "source": [
    "final_data['sum_desc'] = final_data[desc_features.columns.tolist()].sum(axis=1)\n",
    "# final_data['sum_var'] = final_data[['variety_0', 'variety_1', 'variety_2',\n",
    "#        'variety_3', 'variety_4', 'variety_5', 'variety_6', 'variety_7',\n",
    "#        'variety_8', 'variety_9']].sum(axis=1)\n",
    "# final_data['sum_prov'] = final_data[['province_0', 'province_1', 'province_2',\n",
    "#        'province_3', 'province_4', 'province_5', 'province_6', 'province_7',\n",
    "#        'province_8', 'province_9']].sum(axis=1)\n",
    "# final_data['sum_country'] = final_data[['variety_0', 'variety_1', 'variety_2',\n",
    "#        'variety_3', 'variety_4', 'variety_5', 'variety_6', 'variety_7',\n",
    "#        'variety_8', 'variety_9']].sum(axis=1)"
   ]
  },
  {
   "cell_type": "code",
   "execution_count": 36,
   "metadata": {},
   "outputs": [],
   "source": [
    "# final_data['description_0_x4'] = final_data['description_0'].multiply(4)\n",
    "# final_data['description_0_x4'].head()"
   ]
  },
  {
   "cell_type": "code",
   "execution_count": 37,
   "metadata": {},
   "outputs": [],
   "source": [
    "# final_data['description_1_x4'] = final_data['description_1'].multiply(4)\n",
    "# final_data['description_1_x4'].head()"
   ]
  },
  {
   "cell_type": "code",
   "execution_count": 38,
   "metadata": {},
   "outputs": [
    {
     "data": {
      "text/html": [
       "<div>\n",
       "<style scoped>\n",
       "    .dataframe tbody tr th:only-of-type {\n",
       "        vertical-align: middle;\n",
       "    }\n",
       "\n",
       "    .dataframe tbody tr th {\n",
       "        vertical-align: top;\n",
       "    }\n",
       "\n",
       "    .dataframe thead th {\n",
       "        text-align: right;\n",
       "    }\n",
       "</style>\n",
       "<table border=\"1\" class=\"dataframe\">\n",
       "  <thead>\n",
       "    <tr style=\"text-align: right;\">\n",
       "      <th></th>\n",
       "      <th>description_0</th>\n",
       "      <th>description_1</th>\n",
       "      <th>description_2</th>\n",
       "      <th>description_3</th>\n",
       "      <th>description_4</th>\n",
       "      <th>description_5</th>\n",
       "      <th>description_6</th>\n",
       "      <th>description_7</th>\n",
       "      <th>description_8</th>\n",
       "      <th>description_9</th>\n",
       "      <th>...</th>\n",
       "      <th>description_99</th>\n",
       "      <th>train_test</th>\n",
       "      <th>id</th>\n",
       "      <th>quality</th>\n",
       "      <th>points</th>\n",
       "      <th>price</th>\n",
       "      <th>div_points</th>\n",
       "      <th>div_points_4</th>\n",
       "      <th>div_points_8</th>\n",
       "      <th>sum_desc</th>\n",
       "    </tr>\n",
       "  </thead>\n",
       "  <tbody>\n",
       "    <tr>\n",
       "      <th>0</th>\n",
       "      <td>0.115367</td>\n",
       "      <td>0.004635</td>\n",
       "      <td>0.114810</td>\n",
       "      <td>0.051503</td>\n",
       "      <td>0.006626</td>\n",
       "      <td>-0.030224</td>\n",
       "      <td>-0.025017</td>\n",
       "      <td>0.041989</td>\n",
       "      <td>0.028879</td>\n",
       "      <td>-0.010722</td>\n",
       "      <td>...</td>\n",
       "      <td>-0.023557</td>\n",
       "      <td>train</td>\n",
       "      <td>32027</td>\n",
       "      <td>2</td>\n",
       "      <td>88.870874</td>\n",
       "      <td>20.0</td>\n",
       "      <td>44.435437</td>\n",
       "      <td>22.217719</td>\n",
       "      <td>11.108859</td>\n",
       "      <td>0.346464</td>\n",
       "    </tr>\n",
       "    <tr>\n",
       "      <th>1</th>\n",
       "      <td>0.119707</td>\n",
       "      <td>0.024787</td>\n",
       "      <td>0.072113</td>\n",
       "      <td>0.021125</td>\n",
       "      <td>-0.011383</td>\n",
       "      <td>-0.062714</td>\n",
       "      <td>-0.000388</td>\n",
       "      <td>0.031308</td>\n",
       "      <td>0.015452</td>\n",
       "      <td>0.004678</td>\n",
       "      <td>...</td>\n",
       "      <td>-0.014920</td>\n",
       "      <td>train</td>\n",
       "      <td>71079</td>\n",
       "      <td>2</td>\n",
       "      <td>88.041695</td>\n",
       "      <td>28.0</td>\n",
       "      <td>44.020848</td>\n",
       "      <td>22.010424</td>\n",
       "      <td>11.005212</td>\n",
       "      <td>0.039473</td>\n",
       "    </tr>\n",
       "    <tr>\n",
       "      <th>2</th>\n",
       "      <td>0.129262</td>\n",
       "      <td>0.101701</td>\n",
       "      <td>0.087819</td>\n",
       "      <td>0.003697</td>\n",
       "      <td>0.131599</td>\n",
       "      <td>-0.033489</td>\n",
       "      <td>-0.016941</td>\n",
       "      <td>0.006029</td>\n",
       "      <td>0.069171</td>\n",
       "      <td>-0.006437</td>\n",
       "      <td>...</td>\n",
       "      <td>0.032323</td>\n",
       "      <td>train</td>\n",
       "      <td>32440</td>\n",
       "      <td>3</td>\n",
       "      <td>94.085021</td>\n",
       "      <td>130.0</td>\n",
       "      <td>47.042511</td>\n",
       "      <td>23.521255</td>\n",
       "      <td>11.760628</td>\n",
       "      <td>0.403504</td>\n",
       "    </tr>\n",
       "    <tr>\n",
       "      <th>3</th>\n",
       "      <td>0.103500</td>\n",
       "      <td>0.062243</td>\n",
       "      <td>0.012432</td>\n",
       "      <td>-0.064512</td>\n",
       "      <td>-0.020306</td>\n",
       "      <td>-0.063626</td>\n",
       "      <td>-0.014884</td>\n",
       "      <td>-0.008086</td>\n",
       "      <td>0.045269</td>\n",
       "      <td>0.048528</td>\n",
       "      <td>...</td>\n",
       "      <td>-0.021269</td>\n",
       "      <td>train</td>\n",
       "      <td>124405</td>\n",
       "      <td>2</td>\n",
       "      <td>89.869797</td>\n",
       "      <td>34.0</td>\n",
       "      <td>44.934899</td>\n",
       "      <td>22.467449</td>\n",
       "      <td>11.233725</td>\n",
       "      <td>0.151633</td>\n",
       "    </tr>\n",
       "    <tr>\n",
       "      <th>4</th>\n",
       "      <td>0.096223</td>\n",
       "      <td>-0.056788</td>\n",
       "      <td>-0.015269</td>\n",
       "      <td>-0.012827</td>\n",
       "      <td>0.023453</td>\n",
       "      <td>0.028192</td>\n",
       "      <td>0.005492</td>\n",
       "      <td>0.016030</td>\n",
       "      <td>-0.026365</td>\n",
       "      <td>0.030248</td>\n",
       "      <td>...</td>\n",
       "      <td>0.006497</td>\n",
       "      <td>train</td>\n",
       "      <td>33649</td>\n",
       "      <td>2</td>\n",
       "      <td>89.017651</td>\n",
       "      <td>24.0</td>\n",
       "      <td>44.508825</td>\n",
       "      <td>22.254413</td>\n",
       "      <td>11.127206</td>\n",
       "      <td>-0.064729</td>\n",
       "    </tr>\n",
       "  </tbody>\n",
       "</table>\n",
       "<p>5 rows × 109 columns</p>\n",
       "</div>"
      ],
      "text/plain": [
       "   description_0  description_1  description_2  description_3  description_4  \\\n",
       "0       0.115367       0.004635       0.114810       0.051503       0.006626   \n",
       "1       0.119707       0.024787       0.072113       0.021125      -0.011383   \n",
       "2       0.129262       0.101701       0.087819       0.003697       0.131599   \n",
       "3       0.103500       0.062243       0.012432      -0.064512      -0.020306   \n",
       "4       0.096223      -0.056788      -0.015269      -0.012827       0.023453   \n",
       "\n",
       "   description_5  description_6  description_7  description_8  description_9  \\\n",
       "0      -0.030224      -0.025017       0.041989       0.028879      -0.010722   \n",
       "1      -0.062714      -0.000388       0.031308       0.015452       0.004678   \n",
       "2      -0.033489      -0.016941       0.006029       0.069171      -0.006437   \n",
       "3      -0.063626      -0.014884      -0.008086       0.045269       0.048528   \n",
       "4       0.028192       0.005492       0.016030      -0.026365       0.030248   \n",
       "\n",
       "     ...     description_99  train_test      id  quality     points  price  \\\n",
       "0    ...          -0.023557       train   32027        2  88.870874   20.0   \n",
       "1    ...          -0.014920       train   71079        2  88.041695   28.0   \n",
       "2    ...           0.032323       train   32440        3  94.085021  130.0   \n",
       "3    ...          -0.021269       train  124405        2  89.869797   34.0   \n",
       "4    ...           0.006497       train   33649        2  89.017651   24.0   \n",
       "\n",
       "   div_points  div_points_4  div_points_8  sum_desc  \n",
       "0   44.435437     22.217719     11.108859  0.346464  \n",
       "1   44.020848     22.010424     11.005212  0.039473  \n",
       "2   47.042511     23.521255     11.760628  0.403504  \n",
       "3   44.934899     22.467449     11.233725  0.151633  \n",
       "4   44.508825     22.254413     11.127206 -0.064729  \n",
       "\n",
       "[5 rows x 109 columns]"
      ]
     },
     "execution_count": 38,
     "metadata": {},
     "output_type": "execute_result"
    }
   ],
   "source": [
    "#final_data['div_points'].head(10)\n",
    "final_data.head()"
   ]
  },
  {
   "cell_type": "code",
   "execution_count": 82,
   "metadata": {},
   "outputs": [],
   "source": [
    "from sklearn.linear_model import LinearRegression, RidgeCV\n",
    "from sklearn.ensemble import RandomForestRegressor\n",
    "from sklearn.preprocessing import PolynomialFeatures"
   ]
  },
  {
   "cell_type": "code",
   "execution_count": 40,
   "metadata": {},
   "outputs": [
    {
     "data": {
      "text/plain": [
       "array([[8.88708744e+01, 2.00000000e+00, 7.89803232e+03, 1.77741749e+02,\n",
       "        4.00000000e+00],\n",
       "       [8.80416953e+01, 2.00000000e+00, 7.75134011e+03, 1.76083391e+02,\n",
       "        4.00000000e+00],\n",
       "       [9.40850213e+01, 3.00000000e+00, 8.85199123e+03, 2.82255064e+02,\n",
       "        9.00000000e+00],\n",
       "       ...,\n",
       "       [8.90575848e+01, 2.00000000e+00, 7.93125341e+03, 1.78115170e+02,\n",
       "        4.00000000e+00],\n",
       "       [8.49079088e+01, 1.00000000e+00, 7.20935297e+03, 8.49079088e+01,\n",
       "        1.00000000e+00],\n",
       "       [9.20387015e+01, 3.00000000e+00, 8.47112258e+03, 2.76116105e+02,\n",
       "        9.00000000e+00]])"
      ]
     },
     "execution_count": 40,
     "metadata": {},
     "output_type": "execute_result"
    }
   ],
   "source": [
    "pf = PolynomialFeatures(degree=2, interaction_only=False,  \n",
    "                        include_bias=False)\n",
    "res = pf.fit_transform(final_data[['points', 'quality']])\n",
    "res"
   ]
  },
  {
   "cell_type": "code",
   "execution_count": 41,
   "metadata": {},
   "outputs": [],
   "source": [
    "#pd.DataFrame(pf.powers_, columns=['points_degree',  'quality_degree'])"
   ]
  },
  {
   "cell_type": "code",
   "execution_count": 43,
   "metadata": {},
   "outputs": [
    {
     "data": {
      "text/html": [
       "<div>\n",
       "<style scoped>\n",
       "    .dataframe tbody tr th:only-of-type {\n",
       "        vertical-align: middle;\n",
       "    }\n",
       "\n",
       "    .dataframe tbody tr th {\n",
       "        vertical-align: top;\n",
       "    }\n",
       "\n",
       "    .dataframe thead th {\n",
       "        text-align: right;\n",
       "    }\n",
       "</style>\n",
       "<table border=\"1\" class=\"dataframe\">\n",
       "  <thead>\n",
       "    <tr style=\"text-align: right;\">\n",
       "      <th></th>\n",
       "      <th>points</th>\n",
       "      <th>quality</th>\n",
       "      <th>points^2</th>\n",
       "      <th>points x quality</th>\n",
       "      <th>quality^2</th>\n",
       "    </tr>\n",
       "  </thead>\n",
       "  <tbody>\n",
       "    <tr>\n",
       "      <th>0</th>\n",
       "      <td>88.870874</td>\n",
       "      <td>2.0</td>\n",
       "      <td>7898.032315</td>\n",
       "      <td>177.741749</td>\n",
       "      <td>4.0</td>\n",
       "    </tr>\n",
       "    <tr>\n",
       "      <th>1</th>\n",
       "      <td>88.041695</td>\n",
       "      <td>2.0</td>\n",
       "      <td>7751.340111</td>\n",
       "      <td>176.083391</td>\n",
       "      <td>4.0</td>\n",
       "    </tr>\n",
       "    <tr>\n",
       "      <th>2</th>\n",
       "      <td>94.085021</td>\n",
       "      <td>3.0</td>\n",
       "      <td>8851.991227</td>\n",
       "      <td>282.255064</td>\n",
       "      <td>9.0</td>\n",
       "    </tr>\n",
       "    <tr>\n",
       "      <th>3</th>\n",
       "      <td>89.869797</td>\n",
       "      <td>2.0</td>\n",
       "      <td>8076.580454</td>\n",
       "      <td>179.739594</td>\n",
       "      <td>4.0</td>\n",
       "    </tr>\n",
       "    <tr>\n",
       "      <th>4</th>\n",
       "      <td>89.017651</td>\n",
       "      <td>2.0</td>\n",
       "      <td>7924.142166</td>\n",
       "      <td>178.035302</td>\n",
       "      <td>4.0</td>\n",
       "    </tr>\n",
       "  </tbody>\n",
       "</table>\n",
       "</div>"
      ],
      "text/plain": [
       "      points  quality     points^2  points x quality  quality^2\n",
       "0  88.870874      2.0  7898.032315        177.741749        4.0\n",
       "1  88.041695      2.0  7751.340111        176.083391        4.0\n",
       "2  94.085021      3.0  8851.991227        282.255064        9.0\n",
       "3  89.869797      2.0  8076.580454        179.739594        4.0\n",
       "4  89.017651      2.0  7924.142166        178.035302        4.0"
      ]
     },
     "execution_count": 43,
     "metadata": {},
     "output_type": "execute_result"
    }
   ],
   "source": [
    "intr_features = pd.DataFrame(res, columns=['points', 'quality',  \n",
    "                                           'points^2', \n",
    "                                           'points x quality',  \n",
    "                                           'quality^2'])\n",
    "intr_features.head(5)"
   ]
  },
  {
   "cell_type": "code",
   "execution_count": 44,
   "metadata": {},
   "outputs": [],
   "source": [
    "intr_features['points_log'] = np.log((1 + intr_features['points']))\n",
    "intr_features['points x quality_log'] = np.log((1 + intr_features['points x quality']))\n",
    "intr_features['points^2_log'] = np.log((1 + intr_features['points^2']))\n",
    "\n",
    "import scipy.stats as spstats\n",
    "\n",
    "l, opt_lambda = spstats.boxcox(intr_features['points'].values)\n",
    "\n",
    "intr_features['points_boxcox_lambda_opt'] = spstats.boxcox((1 + intr_features['points']), \n",
    "                                          lmbda=opt_lambda)\n",
    "intr_features['points^2_boxcox_lambda_opt'] = spstats.boxcox((1 + intr_features['points^2']), \n",
    "                                          lmbda=opt_lambda)\n",
    "intr_features['points x quality_boxcox_lambda_opt'] = spstats.boxcox((1 + intr_features['points x quality']), \n",
    "                                          lmbda=opt_lambda)"
   ]
  },
  {
   "cell_type": "code",
   "execution_count": 45,
   "metadata": {},
   "outputs": [
    {
     "data": {
      "text/html": [
       "<div>\n",
       "<style scoped>\n",
       "    .dataframe tbody tr th:only-of-type {\n",
       "        vertical-align: middle;\n",
       "    }\n",
       "\n",
       "    .dataframe tbody tr th {\n",
       "        vertical-align: top;\n",
       "    }\n",
       "\n",
       "    .dataframe thead th {\n",
       "        text-align: right;\n",
       "    }\n",
       "</style>\n",
       "<table border=\"1\" class=\"dataframe\">\n",
       "  <thead>\n",
       "    <tr style=\"text-align: right;\">\n",
       "      <th></th>\n",
       "      <th>points</th>\n",
       "      <th>quality</th>\n",
       "      <th>points^2</th>\n",
       "      <th>points x quality</th>\n",
       "      <th>quality^2</th>\n",
       "      <th>points_log</th>\n",
       "      <th>points x quality_log</th>\n",
       "      <th>points^2_log</th>\n",
       "      <th>points_boxcox_lambda_opt</th>\n",
       "      <th>points^2_boxcox_lambda_opt</th>\n",
       "      <th>points x quality_boxcox_lambda_opt</th>\n",
       "    </tr>\n",
       "  </thead>\n",
       "  <tbody>\n",
       "    <tr>\n",
       "      <th>0</th>\n",
       "      <td>88.870874</td>\n",
       "      <td>2.0</td>\n",
       "      <td>7898.032315</td>\n",
       "      <td>177.741749</td>\n",
       "      <td>4.0</td>\n",
       "      <td>4.498374</td>\n",
       "      <td>5.185942</td>\n",
       "      <td>8.974496</td>\n",
       "      <td>5.046263</td>\n",
       "      <td>11.334832</td>\n",
       "      <td>5.922886</td>\n",
       "    </tr>\n",
       "    <tr>\n",
       "      <th>1</th>\n",
       "      <td>88.041695</td>\n",
       "      <td>2.0</td>\n",
       "      <td>7751.340111</td>\n",
       "      <td>176.083391</td>\n",
       "      <td>4.0</td>\n",
       "      <td>4.489105</td>\n",
       "      <td>5.176621</td>\n",
       "      <td>8.955750</td>\n",
       "      <td>5.034650</td>\n",
       "      <td>11.305444</td>\n",
       "      <td>5.910799</td>\n",
       "    </tr>\n",
       "    <tr>\n",
       "      <th>2</th>\n",
       "      <td>94.085021</td>\n",
       "      <td>3.0</td>\n",
       "      <td>8851.991227</td>\n",
       "      <td>282.255064</td>\n",
       "      <td>9.0</td>\n",
       "      <td>4.554771</td>\n",
       "      <td>5.646348</td>\n",
       "      <td>9.088511</td>\n",
       "      <td>5.117035</td>\n",
       "      <td>11.514180</td>\n",
       "      <td>6.527014</td>\n",
       "    </tr>\n",
       "    <tr>\n",
       "      <th>3</th>\n",
       "      <td>89.869797</td>\n",
       "      <td>2.0</td>\n",
       "      <td>8076.580454</td>\n",
       "      <td>179.739594</td>\n",
       "      <td>4.0</td>\n",
       "      <td>4.509428</td>\n",
       "      <td>5.197057</td>\n",
       "      <td>8.996848</td>\n",
       "      <td>5.060118</td>\n",
       "      <td>11.369912</td>\n",
       "      <td>5.937307</td>\n",
       "    </tr>\n",
       "    <tr>\n",
       "      <th>4</th>\n",
       "      <td>89.017651</td>\n",
       "      <td>2.0</td>\n",
       "      <td>7924.142166</td>\n",
       "      <td>178.035302</td>\n",
       "      <td>4.0</td>\n",
       "      <td>4.500006</td>\n",
       "      <td>5.187583</td>\n",
       "      <td>8.977796</td>\n",
       "      <td>5.048308</td>\n",
       "      <td>11.340009</td>\n",
       "      <td>5.925015</td>\n",
       "    </tr>\n",
       "  </tbody>\n",
       "</table>\n",
       "</div>"
      ],
      "text/plain": [
       "      points  quality     points^2  points x quality  quality^2  points_log  \\\n",
       "0  88.870874      2.0  7898.032315        177.741749        4.0    4.498374   \n",
       "1  88.041695      2.0  7751.340111        176.083391        4.0    4.489105   \n",
       "2  94.085021      3.0  8851.991227        282.255064        9.0    4.554771   \n",
       "3  89.869797      2.0  8076.580454        179.739594        4.0    4.509428   \n",
       "4  89.017651      2.0  7924.142166        178.035302        4.0    4.500006   \n",
       "\n",
       "   points x quality_log  points^2_log  points_boxcox_lambda_opt  \\\n",
       "0              5.185942      8.974496                  5.046263   \n",
       "1              5.176621      8.955750                  5.034650   \n",
       "2              5.646348      9.088511                  5.117035   \n",
       "3              5.197057      8.996848                  5.060118   \n",
       "4              5.187583      8.977796                  5.048308   \n",
       "\n",
       "   points^2_boxcox_lambda_opt  points x quality_boxcox_lambda_opt  \n",
       "0                   11.334832                            5.922886  \n",
       "1                   11.305444                            5.910799  \n",
       "2                   11.514180                            6.527014  \n",
       "3                   11.369912                            5.937307  \n",
       "4                   11.340009                            5.925015  "
      ]
     },
     "execution_count": 45,
     "metadata": {},
     "output_type": "execute_result"
    }
   ],
   "source": [
    "intr_features.head()"
   ]
  },
  {
   "cell_type": "code",
   "execution_count": 46,
   "metadata": {},
   "outputs": [],
   "source": [
    "intr_features.drop(['points', 'quality'], inplace=True, axis=1)"
   ]
  },
  {
   "cell_type": "code",
   "execution_count": 47,
   "metadata": {},
   "outputs": [],
   "source": [
    "ff = pd.concat([final_data, intr_features], axis=1)"
   ]
  },
  {
   "cell_type": "code",
   "execution_count": 48,
   "metadata": {},
   "outputs": [
    {
     "name": "stdout",
     "output_type": "stream",
     "text": [
      "(258210, 118)\n"
     ]
    }
   ],
   "source": [
    "print(ff.shape)"
   ]
  },
  {
   "cell_type": "code",
   "execution_count": 49,
   "metadata": {},
   "outputs": [],
   "source": [
    "train_ff = ff[ff['train_test'] == 'train']\n",
    "test_ff = ff[ff['train_test'] == 'test']"
   ]
  },
  {
   "cell_type": "code",
   "execution_count": 50,
   "metadata": {},
   "outputs": [],
   "source": [
    "# c = ['points_log', 'points x quality_log', 'points_boxcox_lambda_opt','points^2_boxcox_lambda_opt', 'points x quality_boxcox_lambda_opt']"
   ]
  },
  {
   "cell_type": "code",
   "execution_count": 51,
   "metadata": {},
   "outputs": [],
   "source": [
    "#col = ['description_0', 'description_1', 'description_2', 'description_3', 'description_4', 'description_5', 'description_6', 'description_7', 'description_8', 'description_9', 'sum_desc', 'description_0_x4', 'description_1_x4', 'points', 'points^2', 'points_log', 'points^2_log', 'points x quality_log', 'points_boxcox_lambda_opt','points^2_boxcox_lambda_opt', 'points x quality_boxcox_lambda_opt']\n",
    "#col = ['description_0', 'description_1', 'description_2', 'description_3', 'description_4', 'description_5', 'description_6', 'description_7', 'description_8', 'description_9', 'variety_0', 'variety_1', 'variety_2', 'variety_3', 'variety_4', 'variety_5', 'variety_6', 'variety_7', 'variety_8', 'variety_9', 'province_0', 'province_1', 'province_2', 'province_3', 'province_4', 'province_5', 'province_6', 'province_7', 'province_8', 'province_9', 'country_0', 'country_1', 'country_2', 'country_3', 'country_4', 'country_5', 'country_6', 'country_7', 'country_8', 'country_9', 'sum_desc', 'sum_var', 'sum_prov', 'sum_country', 'description_0_x4', 'description_1_x4', 'points', 'points^2']"
   ]
  },
  {
   "cell_type": "code",
   "execution_count": 52,
   "metadata": {},
   "outputs": [],
   "source": [
    "#print(intr_features.columns.tolist())\n",
    "#cc = ['points^2', 'points x quality', 'points_log', 'points_boxcox_lambda_opt', 'points^2_boxcox_lambda_opt', 'points x quality_boxcox_lambda_opt']"
   ]
  },
  {
   "cell_type": "code",
   "execution_count": 53,
   "metadata": {},
   "outputs": [],
   "source": [
    "#cc1 = ['points^2', 'points_log', 'points_boxcox_lambda_opt', 'points^2_boxcox_lambda_opt']"
   ]
  },
  {
   "cell_type": "code",
   "execution_count": 57,
   "metadata": {},
   "outputs": [],
   "source": [
    "#print(train_ff.columns.tolist())"
   ]
  },
  {
   "cell_type": "code",
   "execution_count": 58,
   "metadata": {},
   "outputs": [],
   "source": [
    "cols = desc_features.columns.tolist() + ['quality', 'points', 'div_points', 'div_points_4', 'div_points_8', 'sum_desc', 'points^2', 'points x quality', 'quality^2', 'points_log', 'points x quality_log', 'points^2_log', 'points_boxcox_lambda_opt', 'points^2_boxcox_lambda_opt', 'points x quality_boxcox_lambda_opt']"
   ]
  },
  {
   "cell_type": "code",
   "execution_count": 59,
   "metadata": {},
   "outputs": [],
   "source": [
    "X = train_ff[cols]\n",
    "y = train_ff[\"price\"]"
   ]
  },
  {
   "cell_type": "code",
   "execution_count": 60,
   "metadata": {},
   "outputs": [],
   "source": [
    "X_train, X_test, y_train, y_test = train_test_split(X, y, test_size=0.3)"
   ]
  },
  {
   "cell_type": "code",
   "execution_count": 61,
   "metadata": {},
   "outputs": [],
   "source": [
    "import lightgbm as lgb\n",
    "from sklearn import metrics\n",
    "from sklearn.model_selection import GridSearchCV"
   ]
  },
  {
   "cell_type": "code",
   "execution_count": 62,
   "metadata": {},
   "outputs": [
    {
     "data": {
      "text/plain": [
       "LGBMRegressor(boosting_type='gbdt', class_weight=None, colsample_bytree=1.0,\n",
       "       importance_type='split', learning_rate=0.1, max_depth=-1,\n",
       "       min_child_samples=20, min_child_weight=0.001, min_split_gain=0.0,\n",
       "       n_estimators=100, n_jobs=-1, num_leaves=31, objective=None,\n",
       "       random_state=None, reg_alpha=0.0, reg_lambda=0.0, silent=True,\n",
       "       subsample=1.0, subsample_for_bin=200000, subsample_freq=0)"
      ]
     },
     "execution_count": 62,
     "metadata": {},
     "output_type": "execute_result"
    }
   ],
   "source": [
    "lg = lgb.LGBMRegressor()\n",
    "lg.fit(X_train,y_train)\n"
   ]
  },
  {
   "cell_type": "code",
   "execution_count": 63,
   "metadata": {},
   "outputs": [],
   "source": [
    "lb_pred = lg.predict(X_test)"
   ]
  },
  {
   "cell_type": "code",
   "execution_count": 64,
   "metadata": {},
   "outputs": [
    {
     "name": "stdout",
     "output_type": "stream",
     "text": [
      "RMSE: 26.56969456519251\n"
     ]
    }
   ],
   "source": [
    "print('RMSE:', np.sqrt(mean_squared_error(y_test, lb_pred)))"
   ]
  },
  {
   "cell_type": "code",
   "execution_count": 65,
   "metadata": {},
   "outputs": [],
   "source": [
    "model = xgb.XGBRegressor()"
   ]
  },
  {
   "cell_type": "code",
   "execution_count": 66,
   "metadata": {},
   "outputs": [
    {
     "name": "stderr",
     "output_type": "stream",
     "text": [
      "/home/aims/.local/lib/python3.7/site-packages/xgboost/core.py:587: FutureWarning: Series.base is deprecated and will be removed in a future version\n",
      "  if getattr(data, 'base', None) is not None and \\\n"
     ]
    },
    {
     "name": "stdout",
     "output_type": "stream",
     "text": [
      "[17:43:26] WARNING: /workspace/src/objective/regression_obj.cu:152: reg:linear is now deprecated in favor of reg:squarederror.\n"
     ]
    },
    {
     "data": {
      "text/plain": [
       "XGBRegressor(base_score=0.5, booster='gbtree', colsample_bylevel=1,\n",
       "       colsample_bynode=1, colsample_bytree=1, gamma=0,\n",
       "       importance_type='gain', learning_rate=0.1, max_delta_step=0,\n",
       "       max_depth=3, min_child_weight=1, missing=None, n_estimators=100,\n",
       "       n_jobs=1, nthread=None, objective='reg:linear', random_state=0,\n",
       "       reg_alpha=0, reg_lambda=1, scale_pos_weight=1, seed=None,\n",
       "       silent=None, subsample=1, verbosity=1)"
      ]
     },
     "execution_count": 66,
     "metadata": {},
     "output_type": "execute_result"
    }
   ],
   "source": [
    "model.fit(X_train, y_train)"
   ]
  },
  {
   "cell_type": "code",
   "execution_count": 67,
   "metadata": {},
   "outputs": [],
   "source": [
    "xgb_pred = model.predict(X_test)"
   ]
  },
  {
   "cell_type": "code",
   "execution_count": 68,
   "metadata": {},
   "outputs": [
    {
     "name": "stdout",
     "output_type": "stream",
     "text": [
      "RMSE: 27.863670651887002\n"
     ]
    }
   ],
   "source": [
    "print('RMSE:', np.sqrt(mean_squared_error(y_test, xgb_pred)))"
   ]
  },
  {
   "cell_type": "code",
   "execution_count": null,
   "metadata": {},
   "outputs": [],
   "source": []
  },
  {
   "cell_type": "code",
   "execution_count": 86,
   "metadata": {},
   "outputs": [
    {
     "data": {
      "text/plain": [
       "RidgeCV(alphas=array([ 0.1,  1. , 10. ]), cv=None, fit_intercept=True,\n",
       "    gcv_mode=None, normalize=False, scoring=None, store_cv_values=False)"
      ]
     },
     "execution_count": 86,
     "metadata": {},
     "output_type": "execute_result"
    }
   ],
   "source": [
    "#param = alphas=[1, 1e3, 1e6], store_cv_values=True\n",
    "lm = RidgeCV()\n",
    "\n",
    "lm.fit(X_train, y_train)"
   ]
  },
  {
   "cell_type": "code",
   "execution_count": 89,
   "metadata": {},
   "outputs": [],
   "source": [
    "# cv_mse = np.mean(lm.cv_values_, axis=0)\n",
    "# #print(alphas)\n",
    "# print(cv_mse)\n",
    "# print(np.sqrt(cv_mse))"
   ]
  },
  {
   "cell_type": "code",
   "execution_count": 90,
   "metadata": {},
   "outputs": [
    {
     "name": "stdout",
     "output_type": "stream",
     "text": [
      "60.06789754498621\n"
     ]
    }
   ],
   "source": [
    "print(lm.intercept_)"
   ]
  },
  {
   "cell_type": "code",
   "execution_count": 91,
   "metadata": {},
   "outputs": [
    {
     "data": {
      "text/plain": [
       "<matplotlib.collections.PathCollection at 0x7fcab0229e80>"
      ]
     },
     "execution_count": 91,
     "metadata": {},
     "output_type": "execute_result"
    },
    {
     "data": {
      "image/png": "[encoded data removed]",
      "text/plain": [
       "<Figure size 432x288 with 1 Axes>"
      ]
     },
     "metadata": {
      "needs_background": "light"
     },
     "output_type": "display_data"
    }
   ],
   "source": [
    "predictions = lm.predict(X_test)\n",
    "plt.scatter(np.log(y_test),predictions)"
   ]
  },
  {
   "cell_type": "code",
   "execution_count": 92,
   "metadata": {},
   "outputs": [
    {
     "name": "stdout",
     "output_type": "stream",
     "text": [
      "RMSE: 29.913484367330632\n"
     ]
    }
   ],
   "source": [
    "print('RMSE:', np.sqrt(mean_squared_error(y_test, predictions)))"
   ]
  },
  {
   "cell_type": "code",
   "execution_count": 93,
   "metadata": {},
   "outputs": [
    {
     "name": "stdout",
     "output_type": "stream",
     "text": [
      "Accuracy is 0.3192582055990373\n"
     ]
    }
   ],
   "source": [
    "accuracy = lm.score(X_test, y_test)\n",
    "print (\"Accuracy is {}\".format(accuracy))"
   ]
  },
  {
   "cell_type": "code",
   "execution_count": 110,
   "metadata": {},
   "outputs": [],
   "source": [
    "rf = RandomForestRegressor()"
   ]
  },
  {
   "cell_type": "code",
   "execution_count": 111,
   "metadata": {},
   "outputs": [],
   "source": [
    "rf = RandomForestRegressor(n_estimators = 1000, random_state = 42)"
   ]
  },
  {
   "cell_type": "code",
   "execution_count": null,
   "metadata": {},
   "outputs": [],
   "source": [
    "rf.fit(X_train, y_train)"
   ]
  },
  {
   "cell_type": "code",
   "execution_count": 97,
   "metadata": {},
   "outputs": [],
   "source": [
    "predicts = rf.predict(X_test)"
   ]
  },
  {
   "cell_type": "code",
   "execution_count": 98,
   "metadata": {},
   "outputs": [
    {
     "name": "stdout",
     "output_type": "stream",
     "text": [
      "(52500,) (52500,)\n"
     ]
    }
   ],
   "source": [
    "print(y_test.shape, predicts.shape)"
   ]
  },
  {
   "cell_type": "code",
   "execution_count": 99,
   "metadata": {},
   "outputs": [
    {
     "data": {
      "text/plain": [
       "<matplotlib.collections.PathCollection at 0x7fca9b7ec1d0>"
      ]
     },
     "execution_count": 99,
     "metadata": {},
     "output_type": "execute_result"
    },
    {
     "data": {
      "image/png": "[encoded data removed]",
      "text/plain": [
       "<Figure size 432x288 with 1 Axes>"
      ]
     },
     "metadata": {
      "needs_background": "light"
     },
     "output_type": "display_data"
    }
   ],
   "source": [
    "plt.scatter(y_test, predicts)"
   ]
  },
  {
   "cell_type": "code",
   "execution_count": 100,
   "metadata": {},
   "outputs": [
    {
     "name": "stdout",
     "output_type": "stream",
     "text": [
      "RMSE: 22.871993990363805\n"
     ]
    }
   ],
   "source": [
    "print('RMSE:', np.sqrt(mean_squared_error(y_test, predicts)))"
   ]
  },
  {
   "cell_type": "code",
   "execution_count": 101,
   "metadata": {},
   "outputs": [
    {
     "name": "stdout",
     "output_type": "stream",
     "text": [
      "\n"
     ]
    },
    {
     "data": {
      "image/png": "[encoded data removed]",
      "text/plain": [
       "<Figure size 1080x576 with 1 Axes>"
      ]
     },
     "metadata": {
      "needs_background": "light"
     },
     "output_type": "display_data"
    }
   ],
   "source": [
    "importance = pd.concat([pd.DataFrame(X_train.columns),pd.DataFrame(rf.feature_importances_)],axis=1)\n",
    "importance.columns = ['feature','value']\n",
    "\n",
    "plt.figure(figsize=(15,8))\n",
    "sns.barplot(x=\"feature\", y=\"value\", data=importance).set_xticklabels(rotation=90,labels=X_train.columns)\n",
    "print('')"
   ]
  },
  {
   "cell_type": "code",
   "execution_count": null,
   "metadata": {},
   "outputs": [],
   "source": []
  },
  {
   "cell_type": "code",
   "execution_count": null,
   "metadata": {},
   "outputs": [],
   "source": [
    "#print(test_data.columns.tolist())"
   ]
  },
  {
   "cell_type": "code",
   "execution_count": 102,
   "metadata": {},
   "outputs": [],
   "source": [
    "X_test_t = test_ff[cols]"
   ]
  },
  {
   "cell_type": "code",
   "execution_count": 103,
   "metadata": {},
   "outputs": [
    {
     "name": "stderr",
     "output_type": "stream",
     "text": [
      "/usr/lib/python3/dist-packages/ipykernel_launcher.py:1: SettingWithCopyWarning: \n",
      "A value is trying to be set on a copy of a slice from a DataFrame.\n",
      "Try using .loc[row_indexer,col_indexer] = value instead\n",
      "\n",
      "See the caveats in the documentation: http://pandas.pydata.org/pandas-docs/stable/indexing.html#indexing-view-versus-copy\n",
      "  \"\"\"Entry point for launching an IPython kernel.\n"
     ]
    },
    {
     "data": {
      "text/plain": [
       "175000    134.56\n",
       "175001     47.18\n",
       "175002     29.64\n",
       "175003     24.79\n",
       "175004     19.13\n",
       "175005     21.32\n",
       "175006     15.26\n",
       "175007     18.84\n",
       "175008     20.39\n",
       "175009     46.05\n",
       "Name: price, dtype: float64"
      ]
     },
     "execution_count": 103,
     "metadata": {},
     "output_type": "execute_result"
    }
   ],
   "source": [
    "test_ff['price'] = rf.predict(X_test_t)\n",
    "test_ff['price'].head(10)"
   ]
  },
  {
   "cell_type": "code",
   "execution_count": 104,
   "metadata": {},
   "outputs": [
    {
     "name": "stderr",
     "output_type": "stream",
     "text": [
      "/usr/lib/python3/dist-packages/ipykernel_launcher.py:1: SettingWithCopyWarning: \n",
      "A value is trying to be set on a copy of a slice from a DataFrame.\n",
      "Try using .loc[row_indexer,col_indexer] = value instead\n",
      "\n",
      "See the caveats in the documentation: http://pandas.pydata.org/pandas-docs/stable/indexing.html#indexing-view-versus-copy\n",
      "  \"\"\"Entry point for launching an IPython kernel.\n"
     ]
    },
    {
     "data": {
      "text/plain": [
       "175000    155.721801\n",
       "175001     41.437133\n",
       "175002     32.485047\n",
       "175003     28.200351\n",
       "175004     20.455605\n",
       "175005     19.857551\n",
       "175006     10.726411\n",
       "175007     20.006806\n",
       "175008     35.762239\n",
       "175009     40.618138\n",
       "Name: price_lm, dtype: float64"
      ]
     },
     "execution_count": 104,
     "metadata": {},
     "output_type": "execute_result"
    }
   ],
   "source": [
    "test_ff['price_lm'] = lm.predict(X_test_t)\n",
    "test_ff['price_lm'].head(10)"
   ]
  },
  {
   "cell_type": "code",
   "execution_count": 105,
   "metadata": {},
   "outputs": [
    {
     "name": "stderr",
     "output_type": "stream",
     "text": [
      "/usr/lib/python3/dist-packages/ipykernel_launcher.py:1: SettingWithCopyWarning: \n",
      "A value is trying to be set on a copy of a slice from a DataFrame.\n",
      "Try using .loc[row_indexer,col_indexer] = value instead\n",
      "\n",
      "See the caveats in the documentation: http://pandas.pydata.org/pandas-docs/stable/indexing.html#indexing-view-versus-copy\n",
      "  \"\"\"Entry point for launching an IPython kernel.\n"
     ]
    },
    {
     "data": {
      "text/plain": [
       "175000    113.745300\n",
       "175001     42.472370\n",
       "175002     33.410439\n",
       "175003     28.079285\n",
       "175004     21.310186\n",
       "175005     23.547581\n",
       "175006     16.023575\n",
       "175007     24.220209\n",
       "175008     27.125593\n",
       "175009     39.767555\n",
       "Name: price_xgb, dtype: float32"
      ]
     },
     "execution_count": 105,
     "metadata": {},
     "output_type": "execute_result"
    }
   ],
   "source": [
    "test_ff['price_xgb'] = model.predict(X_test_t)\n",
    "test_ff['price_xgb'].head(10)"
   ]
  },
  {
   "cell_type": "code",
   "execution_count": 106,
   "metadata": {},
   "outputs": [
    {
     "name": "stderr",
     "output_type": "stream",
     "text": [
      "/usr/lib/python3/dist-packages/ipykernel_launcher.py:1: SettingWithCopyWarning: \n",
      "A value is trying to be set on a copy of a slice from a DataFrame.\n",
      "Try using .loc[row_indexer,col_indexer] = value instead\n",
      "\n",
      "See the caveats in the documentation: http://pandas.pydata.org/pandas-docs/stable/indexing.html#indexing-view-versus-copy\n",
      "  \"\"\"Entry point for launching an IPython kernel.\n"
     ]
    },
    {
     "data": {
      "text/plain": [
       "175000    160.733361\n",
       "175001     43.356308\n",
       "175002     34.366435\n",
       "175003     26.903927\n",
       "175004     22.673967\n",
       "175005     19.669796\n",
       "175006     16.910149\n",
       "175007     23.753364\n",
       "175008     27.633804\n",
       "175009     41.667621\n",
       "Name: price_lg, dtype: float64"
      ]
     },
     "execution_count": 106,
     "metadata": {},
     "output_type": "execute_result"
    }
   ],
   "source": [
    "test_ff['price_lg'] = lg.predict(X_test_t)\n",
    "test_ff['price_lg'].head(10)"
   ]
  },
  {
   "cell_type": "code",
   "execution_count": null,
   "metadata": {},
   "outputs": [],
   "source": [
    "nnn"
   ]
  },
  {
   "cell_type": "code",
   "execution_count": 107,
   "metadata": {},
   "outputs": [],
   "source": [
    "test_ff[['id', 'price']].to_csv('bma_predicted_rf_rmse22_87.csv', index=False)"
   ]
  },
  {
   "cell_type": "code",
   "execution_count": null,
   "metadata": {},
   "outputs": [],
   "source": [
    "#pd.DataFrame(test_data_sss).to_csv('random_f.csv')"
   ]
  },
  {
   "cell_type": "code",
   "execution_count": 108,
   "metadata": {},
   "outputs": [],
   "source": [
    "import pickle"
   ]
  },
  {
   "cell_type": "code",
   "execution_count": 109,
   "metadata": {},
   "outputs": [],
   "source": [
    "pickle.dump(rf,open('rf_model_rmse22_87.sav','wb'))"
   ]
  },
  {
   "cell_type": "code",
   "execution_count": null,
   "metadata": {},
   "outputs": [],
   "source": []
  }
 ],
 "metadata": {
  "kernelspec": {
   "display_name": "Python 3",
   "language": "python",
   "name": "python3"
  },
  "language_info": {
   "codemirror_mode": {
    "name": "ipython",
    "version": 3
   },
   "file_extension": ".py",
   "mimetype": "text/x-python",
   "name": "python",
   "nbconvert_exporter": "python",
   "pygments_lexer": "ipython3",
   "version": "3.7.3"
  }
 },
 "nbformat": 4,
 "nbformat_minor": 2
}
