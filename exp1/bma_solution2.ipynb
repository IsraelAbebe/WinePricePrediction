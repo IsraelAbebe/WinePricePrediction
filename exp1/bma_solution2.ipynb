{
 "cells": [
  {
   "cell_type": "code",
   "execution_count": 158,
   "metadata": {},
   "outputs": [],
   "source": [
    "import pandas as pd\n",
    "import numpy as np\n",
    "import matplotlib.pyplot as plt\n",
    "import seaborn as sns\n",
    "%matplotlib inline\n",
    "\n",
    "import math\n",
    "from sklearn.model_selection import train_test_split\n",
    "from sklearn.metrics import precision_recall_curve, mean_squared_error\n",
    "from sklearn.linear_model import LogisticRegression\n",
    "from sklearn.feature_extraction.text import CountVectorizer, TfidfVectorizer\n",
    "from joblib import dump, load\n",
    "\n",
    "from nltk.tokenize import RegexpTokenizer\n",
    "from sklearn.decomposition import TruncatedSVD\n",
    "import xgboost as xgb"
   ]
  },
  {
   "cell_type": "code",
   "execution_count": 159,
   "metadata": {},
   "outputs": [
    {
     "name": "stderr",
     "output_type": "stream",
     "text": [
      "/home/aims/anaconda3/lib/python3.7/site-packages/ipykernel_launcher.py:7: FutureWarning: Sorting because non-concatenation axis is not aligned. A future version\n",
      "of pandas will change to not sort by default.\n",
      "\n",
      "To accept the future behavior, pass 'sort=False'.\n",
      "\n",
      "To retain the current behavior and silence the warning, pass 'sort=True'.\n",
      "\n",
      "  import sys\n"
     ]
    }
   ],
   "source": [
    "train = pd.read_csv('../data/train.csv')\n",
    "test = pd.read_csv('../data/test.csv')\n",
    "\n",
    "train['train_test'] = 'train'\n",
    "test['train_test'] = 'test'\n",
    "\n",
    "data = pd.concat([train, test])"
   ]
  },
  {
   "cell_type": "code",
   "execution_count": 160,
   "metadata": {},
   "outputs": [
    {
     "data": {
      "text/plain": [
       "(258210, 16)"
      ]
     },
     "execution_count": 160,
     "metadata": {},
     "output_type": "execute_result"
    }
   ],
   "source": [
    "data.shape"
   ]
  },
  {
   "cell_type": "code",
   "execution_count": 161,
   "metadata": {},
   "outputs": [
    {
     "data": {
      "text/plain": [
       "(83210, 16)"
      ]
     },
     "execution_count": 161,
     "metadata": {},
     "output_type": "execute_result"
    }
   ],
   "source": [
    "test.shape"
   ]
  },
  {
   "cell_type": "code",
   "execution_count": 162,
   "metadata": {},
   "outputs": [
    {
     "data": {
      "text/html": [
       "<div>\n",
       "<style scoped>\n",
       "    .dataframe tbody tr th:only-of-type {\n",
       "        vertical-align: middle;\n",
       "    }\n",
       "\n",
       "    .dataframe tbody tr th {\n",
       "        vertical-align: top;\n",
       "    }\n",
       "\n",
       "    .dataframe thead th {\n",
       "        text-align: right;\n",
       "    }\n",
       "</style>\n",
       "<table border=\"1\" class=\"dataframe\">\n",
       "  <thead>\n",
       "    <tr style=\"text-align: right;\">\n",
       "      <th></th>\n",
       "      <th>country</th>\n",
       "      <th>description</th>\n",
       "      <th>designation</th>\n",
       "      <th>id</th>\n",
       "      <th>index</th>\n",
       "      <th>points</th>\n",
       "      <th>price</th>\n",
       "      <th>province</th>\n",
       "      <th>region_1</th>\n",
       "      <th>region_2</th>\n",
       "      <th>taster_name</th>\n",
       "      <th>taster_twitter_handle</th>\n",
       "      <th>title</th>\n",
       "      <th>train_test</th>\n",
       "      <th>variety</th>\n",
       "      <th>winery</th>\n",
       "    </tr>\n",
       "  </thead>\n",
       "  <tbody>\n",
       "    <tr>\n",
       "      <th>0</th>\n",
       "      <td>Portugal</td>\n",
       "      <td>This is a fine rich balanced wine. It has ripe...</td>\n",
       "      <td>Vila Santa Reserva</td>\n",
       "      <td>32027</td>\n",
       "      <td>NaN</td>\n",
       "      <td>88.870874</td>\n",
       "      <td>20.0</td>\n",
       "      <td>Alentejano</td>\n",
       "      <td>NaN</td>\n",
       "      <td>NaN</td>\n",
       "      <td>NaN</td>\n",
       "      <td>NaN</td>\n",
       "      <td>NaN</td>\n",
       "      <td>train</td>\n",
       "      <td>PORTUGUESE RED</td>\n",
       "      <td>J. Portugal Ramos</td>\n",
       "    </tr>\n",
       "    <tr>\n",
       "      <th>1</th>\n",
       "      <td>France</td>\n",
       "      <td>A solid, chunky wine, with a structure that is...</td>\n",
       "      <td>NaN</td>\n",
       "      <td>71079</td>\n",
       "      <td>NaN</td>\n",
       "      <td>88.041695</td>\n",
       "      <td>28.0</td>\n",
       "      <td>Bordeaux</td>\n",
       "      <td>Lalande de Pomerol</td>\n",
       "      <td>NaN</td>\n",
       "      <td>NaN</td>\n",
       "      <td>NaN</td>\n",
       "      <td>NaN</td>\n",
       "      <td>train</td>\n",
       "      <td>BORDEAUX-STYLE RED BLEND</td>\n",
       "      <td>Château Tour Grand Colombier</td>\n",
       "    </tr>\n",
       "    <tr>\n",
       "      <th>2</th>\n",
       "      <td>France</td>\n",
       "      <td>This is powerful and concentrated, with the hi...</td>\n",
       "      <td>NaN</td>\n",
       "      <td>32440</td>\n",
       "      <td>NaN</td>\n",
       "      <td>94.085021</td>\n",
       "      <td>130.0</td>\n",
       "      <td>Bordeaux</td>\n",
       "      <td>Saint-Émilion</td>\n",
       "      <td>NaN</td>\n",
       "      <td>NaN</td>\n",
       "      <td>NaN</td>\n",
       "      <td>NaN</td>\n",
       "      <td>train</td>\n",
       "      <td>BORDEAUX-STYLE RED BLEND</td>\n",
       "      <td>Château Figeac</td>\n",
       "    </tr>\n",
       "    <tr>\n",
       "      <th>3</th>\n",
       "      <td>US</td>\n",
       "      <td>Rich, ripe and oaky, this Petite Sirah charms ...</td>\n",
       "      <td>Thompson Vineyard</td>\n",
       "      <td>124405</td>\n",
       "      <td>NaN</td>\n",
       "      <td>89.869797</td>\n",
       "      <td>34.0</td>\n",
       "      <td>California</td>\n",
       "      <td>Santa Barbara County</td>\n",
       "      <td>Central Coast</td>\n",
       "      <td>NaN</td>\n",
       "      <td>NaN</td>\n",
       "      <td>Jaffurs 2010 Thompson Vineyard Petite Sirah (S...</td>\n",
       "      <td>train</td>\n",
       "      <td>PETITE SIRAH</td>\n",
       "      <td>Jaffurs</td>\n",
       "    </tr>\n",
       "    <tr>\n",
       "      <th>4</th>\n",
       "      <td>US</td>\n",
       "      <td>This wine is a unique in the state blend and f...</td>\n",
       "      <td>McKinley Springs Vineyard</td>\n",
       "      <td>33649</td>\n",
       "      <td>NaN</td>\n",
       "      <td>89.017651</td>\n",
       "      <td>24.0</td>\n",
       "      <td>Washington</td>\n",
       "      <td>Horse Heaven Hills</td>\n",
       "      <td>Columbia Valley</td>\n",
       "      <td>Sean P. Sullivan</td>\n",
       "      <td>@wawinereport</td>\n",
       "      <td>Syncline 2016 McKinley Springs Vineyard Rosé (...</td>\n",
       "      <td>train</td>\n",
       "      <td>ROSé</td>\n",
       "      <td>Syncline</td>\n",
       "    </tr>\n",
       "  </tbody>\n",
       "</table>\n",
       "</div>"
      ],
      "text/plain": [
       "    country                                        description  \\\n",
       "0  Portugal  This is a fine rich balanced wine. It has ripe...   \n",
       "1    France  A solid, chunky wine, with a structure that is...   \n",
       "2    France  This is powerful and concentrated, with the hi...   \n",
       "3        US  Rich, ripe and oaky, this Petite Sirah charms ...   \n",
       "4        US  This wine is a unique in the state blend and f...   \n",
       "\n",
       "                 designation      id  index     points  price    province  \\\n",
       "0         Vila Santa Reserva   32027    NaN  88.870874   20.0  Alentejano   \n",
       "1                        NaN   71079    NaN  88.041695   28.0    Bordeaux   \n",
       "2                        NaN   32440    NaN  94.085021  130.0    Bordeaux   \n",
       "3          Thompson Vineyard  124405    NaN  89.869797   34.0  California   \n",
       "4  McKinley Springs Vineyard   33649    NaN  89.017651   24.0  Washington   \n",
       "\n",
       "               region_1         region_2       taster_name  \\\n",
       "0                   NaN              NaN               NaN   \n",
       "1    Lalande de Pomerol              NaN               NaN   \n",
       "2         Saint-Émilion              NaN               NaN   \n",
       "3  Santa Barbara County    Central Coast               NaN   \n",
       "4    Horse Heaven Hills  Columbia Valley  Sean P. Sullivan   \n",
       "\n",
       "  taster_twitter_handle                                              title  \\\n",
       "0                   NaN                                                NaN   \n",
       "1                   NaN                                                NaN   \n",
       "2                   NaN                                                NaN   \n",
       "3                   NaN  Jaffurs 2010 Thompson Vineyard Petite Sirah (S...   \n",
       "4         @wawinereport  Syncline 2016 McKinley Springs Vineyard Rosé (...   \n",
       "\n",
       "  train_test                   variety                        winery  \n",
       "0      train            PORTUGUESE RED             J. Portugal Ramos  \n",
       "1      train  BORDEAUX-STYLE RED BLEND  Château Tour Grand Colombier  \n",
       "2      train  BORDEAUX-STYLE RED BLEND                Château Figeac  \n",
       "3      train              PETITE SIRAH                       Jaffurs  \n",
       "4      train                      ROSé                      Syncline  "
      ]
     },
     "execution_count": 162,
     "metadata": {},
     "output_type": "execute_result"
    }
   ],
   "source": [
    "data.head()"
   ]
  },
  {
   "cell_type": "code",
   "execution_count": 163,
   "metadata": {},
   "outputs": [
    {
     "data": {
      "text/plain": [
       "array(['Gloria Ferrer NV Sonoma Brut Sparkling (Sonoma County)'],\n",
       "      dtype=object)"
      ]
     },
     "execution_count": 163,
     "metadata": {},
     "output_type": "execute_result"
    }
   ],
   "source": [
    "data['title'].mode().values\n"
   ]
  },
  {
   "cell_type": "code",
   "execution_count": 164,
   "metadata": {},
   "outputs": [],
   "source": [
    "data.variety.fillna(value='PINOT NOIR', inplace=True)"
   ]
  },
  {
   "cell_type": "code",
   "execution_count": 165,
   "metadata": {},
   "outputs": [],
   "source": [
    "data.province.fillna(value='California', inplace=True)"
   ]
  },
  {
   "cell_type": "code",
   "execution_count": null,
   "metadata": {},
   "outputs": [],
   "source": []
  },
  {
   "cell_type": "code",
   "execution_count": 166,
   "metadata": {},
   "outputs": [],
   "source": [
    "#data = data[pd.notnull(data['variety'])]\n",
    "#data = data[pd.notnull(data['province'])]"
   ]
  },
  {
   "cell_type": "code",
   "execution_count": 167,
   "metadata": {},
   "outputs": [
    {
     "name": "stdout",
     "output_type": "stream",
     "text": [
      "<class 'pandas.core.frame.DataFrame'>\n",
      "Int64Index: 258210 entries, 0 to 83209\n",
      "Data columns (total 16 columns):\n",
      "country                  258146 non-null object\n",
      "description              258210 non-null object\n",
      "designation              181120 non-null object\n",
      "id                       258210 non-null int64\n",
      "index                    83210 non-null float64\n",
      "points                   258210 non-null float64\n",
      "price                    175000 non-null float64\n",
      "province                 258210 non-null object\n",
      "region_1                 215793 non-null object\n",
      "region_2                 110996 non-null object\n",
      "taster_name              258210 non-null object\n",
      "taster_twitter_handle    91559 non-null object\n",
      "title                    120975 non-null object\n",
      "train_test               258210 non-null object\n",
      "variety                  258210 non-null object\n",
      "winery                   258210 non-null object\n",
      "dtypes: float64(3), int64(1), object(12)\n",
      "memory usage: 33.5+ MB\n"
     ]
    }
   ],
   "source": [
    "data.taster_name.fillna(value='Roger Voss', inplace=True)\n",
    "data.info()"
   ]
  },
  {
   "cell_type": "code",
   "execution_count": 168,
   "metadata": {},
   "outputs": [
    {
     "name": "stdout",
     "output_type": "stream",
     "text": [
      "<class 'pandas.core.frame.DataFrame'>\n",
      "Int64Index: 258210 entries, 0 to 83209\n",
      "Data columns (total 16 columns):\n",
      "country                  258146 non-null object\n",
      "description              258210 non-null object\n",
      "designation              181120 non-null object\n",
      "id                       258210 non-null int64\n",
      "index                    83210 non-null float64\n",
      "points                   258210 non-null float64\n",
      "price                    175000 non-null float64\n",
      "province                 258210 non-null object\n",
      "region_1                 215793 non-null object\n",
      "region_2                 110996 non-null object\n",
      "taster_name              258210 non-null object\n",
      "taster_twitter_handle    91559 non-null object\n",
      "title                    258210 non-null object\n",
      "train_test               258210 non-null object\n",
      "variety                  258210 non-null object\n",
      "winery                   258210 non-null object\n",
      "dtypes: float64(3), int64(1), object(12)\n",
      "memory usage: 33.5+ MB\n"
     ]
    }
   ],
   "source": [
    "data.title.fillna(value='Gloria Ferrer NV Sonoma Brut Sparkling (Sonoma County)', inplace=True)\n",
    "data.info()"
   ]
  },
  {
   "cell_type": "code",
   "execution_count": 169,
   "metadata": {},
   "outputs": [
    {
     "data": {
      "text/plain": [
       "110638"
      ]
     },
     "execution_count": 169,
     "metadata": {},
     "output_type": "execute_result"
    }
   ],
   "source": [
    "data.title.nunique()"
   ]
  },
  {
   "cell_type": "code",
   "execution_count": 170,
   "metadata": {},
   "outputs": [],
   "source": [
    "data['province'] = pd.Categorical(data['province'])\n",
    "proDummies = pd.get_dummies(data['province'], prefix = 'prov')\n",
    "\n",
    "data['country'] = pd.Categorical(data['country'])\n",
    "countDummies = pd.get_dummies(data['country'], prefix = 'country')\n",
    "\n",
    "data['variety'] = pd.Categorical(data['variety'])\n",
    "varDummies = pd.get_dummies(data['variety'], prefix = 'variety')\n",
    "\n",
    "data['taster_name'] = pd.Categorical(data['taster_name'])\n",
    "tastDummies = pd.get_dummies(data['taster_name'], prefix = 'taster')\n",
    "\n",
    "#data['title'] = pd.Categorical(data['title'])\n",
    "#titleDummies = pd.get_dummies(data['title'], prefix = 'title')"
   ]
  },
  {
   "cell_type": "code",
   "execution_count": 171,
   "metadata": {},
   "outputs": [],
   "source": [
    "def getQuality(points):\n",
    "    if(points <= 85):\n",
    "        return 'bad'\n",
    "    elif(points<=90 ):\n",
    "        return 'ok'\n",
    "    elif(points<=95):\n",
    "        return 'good'\n",
    "    elif(points<=102):\n",
    "        return 'great'\n",
    "    else:\n",
    "        return 'If this gets hit, we did something wrong!'"
   ]
  },
  {
   "cell_type": "code",
   "execution_count": 172,
   "metadata": {},
   "outputs": [],
   "source": [
    "data['quality'] = data['points'].apply(getQuality)\n",
    "cleanup_nums = {\"quality\":     {\"ok\": 2, \"good\": 3, \"bad\": 1, \"great\": 4},\n",
    "                \"priceRange\": {\"1-30\": 1, \"31-50\": 2, \"51-100\": 3, \"Above 100\": 4}}\n",
    "\n",
    "data.replace(cleanup_nums, inplace=True)"
   ]
  },
  {
   "cell_type": "code",
   "execution_count": 173,
   "metadata": {},
   "outputs": [
    {
     "data": {
      "text/html": [
       "<div>\n",
       "<style scoped>\n",
       "    .dataframe tbody tr th:only-of-type {\n",
       "        vertical-align: middle;\n",
       "    }\n",
       "\n",
       "    .dataframe tbody tr th {\n",
       "        vertical-align: top;\n",
       "    }\n",
       "\n",
       "    .dataframe thead th {\n",
       "        text-align: right;\n",
       "    }\n",
       "</style>\n",
       "<table border=\"1\" class=\"dataframe\">\n",
       "  <thead>\n",
       "    <tr style=\"text-align: right;\">\n",
       "      <th></th>\n",
       "      <th>country</th>\n",
       "      <th>description</th>\n",
       "      <th>designation</th>\n",
       "      <th>id</th>\n",
       "      <th>index</th>\n",
       "      <th>points</th>\n",
       "      <th>price</th>\n",
       "      <th>province</th>\n",
       "      <th>region_1</th>\n",
       "      <th>region_2</th>\n",
       "      <th>taster_name</th>\n",
       "      <th>taster_twitter_handle</th>\n",
       "      <th>title</th>\n",
       "      <th>train_test</th>\n",
       "      <th>variety</th>\n",
       "      <th>winery</th>\n",
       "      <th>quality</th>\n",
       "    </tr>\n",
       "  </thead>\n",
       "  <tbody>\n",
       "    <tr>\n",
       "      <th>0</th>\n",
       "      <td>Portugal</td>\n",
       "      <td>This is a fine rich balanced wine. It has ripe...</td>\n",
       "      <td>Vila Santa Reserva</td>\n",
       "      <td>32027</td>\n",
       "      <td>NaN</td>\n",
       "      <td>88.870874</td>\n",
       "      <td>20.0</td>\n",
       "      <td>Alentejano</td>\n",
       "      <td>NaN</td>\n",
       "      <td>NaN</td>\n",
       "      <td>Roger Voss</td>\n",
       "      <td>NaN</td>\n",
       "      <td>Gloria Ferrer NV Sonoma Brut Sparkling (Sonoma...</td>\n",
       "      <td>train</td>\n",
       "      <td>PORTUGUESE RED</td>\n",
       "      <td>J. Portugal Ramos</td>\n",
       "      <td>2</td>\n",
       "    </tr>\n",
       "    <tr>\n",
       "      <th>1</th>\n",
       "      <td>France</td>\n",
       "      <td>A solid, chunky wine, with a structure that is...</td>\n",
       "      <td>NaN</td>\n",
       "      <td>71079</td>\n",
       "      <td>NaN</td>\n",
       "      <td>88.041695</td>\n",
       "      <td>28.0</td>\n",
       "      <td>Bordeaux</td>\n",
       "      <td>Lalande de Pomerol</td>\n",
       "      <td>NaN</td>\n",
       "      <td>Roger Voss</td>\n",
       "      <td>NaN</td>\n",
       "      <td>Gloria Ferrer NV Sonoma Brut Sparkling (Sonoma...</td>\n",
       "      <td>train</td>\n",
       "      <td>BORDEAUX-STYLE RED BLEND</td>\n",
       "      <td>Château Tour Grand Colombier</td>\n",
       "      <td>2</td>\n",
       "    </tr>\n",
       "    <tr>\n",
       "      <th>2</th>\n",
       "      <td>France</td>\n",
       "      <td>This is powerful and concentrated, with the hi...</td>\n",
       "      <td>NaN</td>\n",
       "      <td>32440</td>\n",
       "      <td>NaN</td>\n",
       "      <td>94.085021</td>\n",
       "      <td>130.0</td>\n",
       "      <td>Bordeaux</td>\n",
       "      <td>Saint-Émilion</td>\n",
       "      <td>NaN</td>\n",
       "      <td>Roger Voss</td>\n",
       "      <td>NaN</td>\n",
       "      <td>Gloria Ferrer NV Sonoma Brut Sparkling (Sonoma...</td>\n",
       "      <td>train</td>\n",
       "      <td>BORDEAUX-STYLE RED BLEND</td>\n",
       "      <td>Château Figeac</td>\n",
       "      <td>3</td>\n",
       "    </tr>\n",
       "    <tr>\n",
       "      <th>3</th>\n",
       "      <td>US</td>\n",
       "      <td>Rich, ripe and oaky, this Petite Sirah charms ...</td>\n",
       "      <td>Thompson Vineyard</td>\n",
       "      <td>124405</td>\n",
       "      <td>NaN</td>\n",
       "      <td>89.869797</td>\n",
       "      <td>34.0</td>\n",
       "      <td>California</td>\n",
       "      <td>Santa Barbara County</td>\n",
       "      <td>Central Coast</td>\n",
       "      <td>Roger Voss</td>\n",
       "      <td>NaN</td>\n",
       "      <td>Jaffurs 2010 Thompson Vineyard Petite Sirah (S...</td>\n",
       "      <td>train</td>\n",
       "      <td>PETITE SIRAH</td>\n",
       "      <td>Jaffurs</td>\n",
       "      <td>2</td>\n",
       "    </tr>\n",
       "    <tr>\n",
       "      <th>4</th>\n",
       "      <td>US</td>\n",
       "      <td>This wine is a unique in the state blend and f...</td>\n",
       "      <td>McKinley Springs Vineyard</td>\n",
       "      <td>33649</td>\n",
       "      <td>NaN</td>\n",
       "      <td>89.017651</td>\n",
       "      <td>24.0</td>\n",
       "      <td>Washington</td>\n",
       "      <td>Horse Heaven Hills</td>\n",
       "      <td>Columbia Valley</td>\n",
       "      <td>Sean P. Sullivan</td>\n",
       "      <td>@wawinereport</td>\n",
       "      <td>Syncline 2016 McKinley Springs Vineyard Rosé (...</td>\n",
       "      <td>train</td>\n",
       "      <td>ROSé</td>\n",
       "      <td>Syncline</td>\n",
       "      <td>2</td>\n",
       "    </tr>\n",
       "  </tbody>\n",
       "</table>\n",
       "</div>"
      ],
      "text/plain": [
       "    country                                        description  \\\n",
       "0  Portugal  This is a fine rich balanced wine. It has ripe...   \n",
       "1    France  A solid, chunky wine, with a structure that is...   \n",
       "2    France  This is powerful and concentrated, with the hi...   \n",
       "3        US  Rich, ripe and oaky, this Petite Sirah charms ...   \n",
       "4        US  This wine is a unique in the state blend and f...   \n",
       "\n",
       "                 designation      id  index     points  price    province  \\\n",
       "0         Vila Santa Reserva   32027    NaN  88.870874   20.0  Alentejano   \n",
       "1                        NaN   71079    NaN  88.041695   28.0    Bordeaux   \n",
       "2                        NaN   32440    NaN  94.085021  130.0    Bordeaux   \n",
       "3          Thompson Vineyard  124405    NaN  89.869797   34.0  California   \n",
       "4  McKinley Springs Vineyard   33649    NaN  89.017651   24.0  Washington   \n",
       "\n",
       "               region_1         region_2       taster_name  \\\n",
       "0                   NaN              NaN        Roger Voss   \n",
       "1    Lalande de Pomerol              NaN        Roger Voss   \n",
       "2         Saint-Émilion              NaN        Roger Voss   \n",
       "3  Santa Barbara County    Central Coast        Roger Voss   \n",
       "4    Horse Heaven Hills  Columbia Valley  Sean P. Sullivan   \n",
       "\n",
       "  taster_twitter_handle                                              title  \\\n",
       "0                   NaN  Gloria Ferrer NV Sonoma Brut Sparkling (Sonoma...   \n",
       "1                   NaN  Gloria Ferrer NV Sonoma Brut Sparkling (Sonoma...   \n",
       "2                   NaN  Gloria Ferrer NV Sonoma Brut Sparkling (Sonoma...   \n",
       "3                   NaN  Jaffurs 2010 Thompson Vineyard Petite Sirah (S...   \n",
       "4         @wawinereport  Syncline 2016 McKinley Springs Vineyard Rosé (...   \n",
       "\n",
       "  train_test                   variety                        winery  quality  \n",
       "0      train            PORTUGUESE RED             J. Portugal Ramos        2  \n",
       "1      train  BORDEAUX-STYLE RED BLEND  Château Tour Grand Colombier        2  \n",
       "2      train  BORDEAUX-STYLE RED BLEND                Château Figeac        3  \n",
       "3      train              PETITE SIRAH                       Jaffurs        2  \n",
       "4      train                      ROSé                      Syncline        2  "
      ]
     },
     "execution_count": 173,
     "metadata": {},
     "output_type": "execute_result"
    }
   ],
   "source": [
    "data.head()"
   ]
  },
  {
   "cell_type": "code",
   "execution_count": 174,
   "metadata": {},
   "outputs": [],
   "source": [
    "def make_lower_case(text):\n",
    "    return text.lower()\n",
    "\n",
    "def remove_punctuation(text):\n",
    "    tokenizer = RegexpTokenizer(r'\\w+')\n",
    "    text = tokenizer.tokenize(text)\n",
    "    text = \" \".join(text)\n",
    "    return text"
   ]
  },
  {
   "cell_type": "code",
   "execution_count": 175,
   "metadata": {},
   "outputs": [],
   "source": [
    "data[\"description\"] = data[\"description\"].str.replace('\\d+', '')\n",
    "data[\"description\"] = data.description.apply(func=remove_punctuation)\n",
    "data[\"description\"] = data.description.apply(func=make_lower_case)"
   ]
  },
  {
   "cell_type": "code",
   "execution_count": 176,
   "metadata": {},
   "outputs": [],
   "source": [
    "data[\"variety\"] = data[\"variety\"].str.replace('\\d+', '')\n",
    "data[\"variety\"] = data.variety.apply(func=remove_punctuation)\n",
    "data[\"variety\"] = data.variety.apply(func=make_lower_case)"
   ]
  },
  {
   "cell_type": "code",
   "execution_count": 177,
   "metadata": {},
   "outputs": [],
   "source": [
    "data[\"title\"] = data[\"title\"].str.replace('\\d+', '')\n",
    "data[\"title\"] = data.title.apply(func=remove_punctuation)\n",
    "data[\"title\"] = data.title.apply(func=make_lower_case)"
   ]
  },
  {
   "cell_type": "code",
   "execution_count": 178,
   "metadata": {},
   "outputs": [],
   "source": [
    "tf = TfidfVectorizer(analyzer='word', \n",
    "                     min_df=10,\n",
    "                     ngram_range=(1, 2),\n",
    "                     stop_words='english')\n",
    "svd = TruncatedSVD(n_components=10)"
   ]
  },
  {
   "cell_type": "code",
   "execution_count": 179,
   "metadata": {},
   "outputs": [
    {
     "data": {
      "text/html": [
       "<div>\n",
       "<style scoped>\n",
       "    .dataframe tbody tr th:only-of-type {\n",
       "        vertical-align: middle;\n",
       "    }\n",
       "\n",
       "    .dataframe tbody tr th {\n",
       "        vertical-align: top;\n",
       "    }\n",
       "\n",
       "    .dataframe thead th {\n",
       "        text-align: right;\n",
       "    }\n",
       "</style>\n",
       "<table border=\"1\" class=\"dataframe\">\n",
       "  <thead>\n",
       "    <tr style=\"text-align: right;\">\n",
       "      <th></th>\n",
       "      <th>description_0</th>\n",
       "      <th>description_1</th>\n",
       "      <th>description_2</th>\n",
       "      <th>description_3</th>\n",
       "      <th>description_4</th>\n",
       "      <th>description_5</th>\n",
       "      <th>description_6</th>\n",
       "      <th>description_7</th>\n",
       "      <th>description_8</th>\n",
       "      <th>description_9</th>\n",
       "    </tr>\n",
       "  </thead>\n",
       "  <tbody>\n",
       "    <tr>\n",
       "      <th>0</th>\n",
       "      <td>0.115367</td>\n",
       "      <td>0.004648</td>\n",
       "      <td>0.114765</td>\n",
       "      <td>0.051769</td>\n",
       "      <td>0.006326</td>\n",
       "      <td>-0.029204</td>\n",
       "      <td>-0.024298</td>\n",
       "      <td>0.042766</td>\n",
       "      <td>-0.035276</td>\n",
       "      <td>-0.015061</td>\n",
       "    </tr>\n",
       "    <tr>\n",
       "      <th>1</th>\n",
       "      <td>0.119707</td>\n",
       "      <td>0.024681</td>\n",
       "      <td>0.072166</td>\n",
       "      <td>0.021039</td>\n",
       "      <td>-0.010886</td>\n",
       "      <td>-0.062698</td>\n",
       "      <td>-0.003105</td>\n",
       "      <td>0.031153</td>\n",
       "      <td>-0.018417</td>\n",
       "      <td>0.017819</td>\n",
       "    </tr>\n",
       "    <tr>\n",
       "      <th>2</th>\n",
       "      <td>0.129262</td>\n",
       "      <td>0.101609</td>\n",
       "      <td>0.087649</td>\n",
       "      <td>0.003941</td>\n",
       "      <td>0.131871</td>\n",
       "      <td>-0.032271</td>\n",
       "      <td>-0.016061</td>\n",
       "      <td>0.000618</td>\n",
       "      <td>-0.068737</td>\n",
       "      <td>0.000890</td>\n",
       "    </tr>\n",
       "    <tr>\n",
       "      <th>3</th>\n",
       "      <td>0.103500</td>\n",
       "      <td>0.062096</td>\n",
       "      <td>0.012579</td>\n",
       "      <td>-0.064223</td>\n",
       "      <td>-0.019414</td>\n",
       "      <td>-0.064939</td>\n",
       "      <td>-0.015431</td>\n",
       "      <td>-0.010611</td>\n",
       "      <td>-0.044503</td>\n",
       "      <td>0.052991</td>\n",
       "    </tr>\n",
       "    <tr>\n",
       "      <th>4</th>\n",
       "      <td>0.096223</td>\n",
       "      <td>-0.056806</td>\n",
       "      <td>-0.015146</td>\n",
       "      <td>-0.013501</td>\n",
       "      <td>0.023782</td>\n",
       "      <td>0.026488</td>\n",
       "      <td>0.003527</td>\n",
       "      <td>0.016375</td>\n",
       "      <td>0.029604</td>\n",
       "      <td>0.018516</td>\n",
       "    </tr>\n",
       "  </tbody>\n",
       "</table>\n",
       "</div>"
      ],
      "text/plain": [
       "   description_0  description_1  description_2  description_3  description_4  \\\n",
       "0       0.115367       0.004648       0.114765       0.051769       0.006326   \n",
       "1       0.119707       0.024681       0.072166       0.021039      -0.010886   \n",
       "2       0.129262       0.101609       0.087649       0.003941       0.131871   \n",
       "3       0.103500       0.062096       0.012579      -0.064223      -0.019414   \n",
       "4       0.096223      -0.056806      -0.015146      -0.013501       0.023782   \n",
       "\n",
       "   description_5  description_6  description_7  description_8  description_9  \n",
       "0      -0.029204      -0.024298       0.042766      -0.035276      -0.015061  \n",
       "1      -0.062698      -0.003105       0.031153      -0.018417       0.017819  \n",
       "2      -0.032271      -0.016061       0.000618      -0.068737       0.000890  \n",
       "3      -0.064939      -0.015431      -0.010611      -0.044503       0.052991  \n",
       "4       0.026488       0.003527       0.016375       0.029604       0.018516  "
      ]
     },
     "execution_count": 179,
     "metadata": {},
     "output_type": "execute_result"
    }
   ],
   "source": [
    "#Fit tfidf and svd, and transform training data\n",
    "tfidf_matrix = tf.fit_transform(data.description)\n",
    "desc_features = pd.DataFrame(svd.fit_transform(tfidf_matrix))\n",
    "collist = map(str, range(0, 10))\n",
    "collist = [\"description_\" + s for s in collist]\n",
    "desc_features.columns = collist\n",
    "desc_features.head()"
   ]
  },
  {
   "cell_type": "code",
   "execution_count": 180,
   "metadata": {},
   "outputs": [
    {
     "data": {
      "text/html": [
       "<div>\n",
       "<style scoped>\n",
       "    .dataframe tbody tr th:only-of-type {\n",
       "        vertical-align: middle;\n",
       "    }\n",
       "\n",
       "    .dataframe tbody tr th {\n",
       "        vertical-align: top;\n",
       "    }\n",
       "\n",
       "    .dataframe thead th {\n",
       "        text-align: right;\n",
       "    }\n",
       "</style>\n",
       "<table border=\"1\" class=\"dataframe\">\n",
       "  <thead>\n",
       "    <tr style=\"text-align: right;\">\n",
       "      <th></th>\n",
       "      <th>variety_0</th>\n",
       "      <th>variety_1</th>\n",
       "      <th>variety_2</th>\n",
       "      <th>variety_3</th>\n",
       "      <th>variety_4</th>\n",
       "      <th>variety_5</th>\n",
       "      <th>variety_6</th>\n",
       "      <th>variety_7</th>\n",
       "      <th>variety_8</th>\n",
       "      <th>variety_9</th>\n",
       "    </tr>\n",
       "  </thead>\n",
       "  <tbody>\n",
       "    <tr>\n",
       "      <th>0</th>\n",
       "      <td>2.043681e-06</td>\n",
       "      <td>1.389871e-05</td>\n",
       "      <td>4.913901e-02</td>\n",
       "      <td>2.476389e-01</td>\n",
       "      <td>-0.000093</td>\n",
       "      <td>0.000526</td>\n",
       "      <td>0.000098</td>\n",
       "      <td>-0.000004</td>\n",
       "      <td>0.000202</td>\n",
       "      <td>-0.182886</td>\n",
       "    </tr>\n",
       "    <tr>\n",
       "      <th>1</th>\n",
       "      <td>1.003610e-05</td>\n",
       "      <td>4.071077e-05</td>\n",
       "      <td>1.488025e-01</td>\n",
       "      <td>7.480540e-01</td>\n",
       "      <td>-0.000054</td>\n",
       "      <td>0.000804</td>\n",
       "      <td>0.000128</td>\n",
       "      <td>-0.000114</td>\n",
       "      <td>-0.000339</td>\n",
       "      <td>0.613487</td>\n",
       "    </tr>\n",
       "    <tr>\n",
       "      <th>2</th>\n",
       "      <td>1.003610e-05</td>\n",
       "      <td>4.071077e-05</td>\n",
       "      <td>1.488025e-01</td>\n",
       "      <td>7.480540e-01</td>\n",
       "      <td>-0.000054</td>\n",
       "      <td>0.000804</td>\n",
       "      <td>0.000128</td>\n",
       "      <td>-0.000114</td>\n",
       "      <td>-0.000339</td>\n",
       "      <td>0.613487</td>\n",
       "    </tr>\n",
       "    <tr>\n",
       "      <th>3</th>\n",
       "      <td>1.079418e-06</td>\n",
       "      <td>-7.506918e-07</td>\n",
       "      <td>3.932954e-07</td>\n",
       "      <td>-2.194007e-07</td>\n",
       "      <td>0.000110</td>\n",
       "      <td>-0.000197</td>\n",
       "      <td>0.000805</td>\n",
       "      <td>-0.000082</td>\n",
       "      <td>-0.000196</td>\n",
       "      <td>0.000606</td>\n",
       "    </tr>\n",
       "    <tr>\n",
       "      <th>4</th>\n",
       "      <td>2.157955e-07</td>\n",
       "      <td>-1.438726e-07</td>\n",
       "      <td>9.128785e-07</td>\n",
       "      <td>4.021449e-06</td>\n",
       "      <td>0.000020</td>\n",
       "      <td>-0.000030</td>\n",
       "      <td>-0.000013</td>\n",
       "      <td>-0.000012</td>\n",
       "      <td>-0.000283</td>\n",
       "      <td>0.000027</td>\n",
       "    </tr>\n",
       "  </tbody>\n",
       "</table>\n",
       "</div>"
      ],
      "text/plain": [
       "      variety_0     variety_1     variety_2     variety_3  variety_4  \\\n",
       "0  2.043681e-06  1.389871e-05  4.913901e-02  2.476389e-01  -0.000093   \n",
       "1  1.003610e-05  4.071077e-05  1.488025e-01  7.480540e-01  -0.000054   \n",
       "2  1.003610e-05  4.071077e-05  1.488025e-01  7.480540e-01  -0.000054   \n",
       "3  1.079418e-06 -7.506918e-07  3.932954e-07 -2.194007e-07   0.000110   \n",
       "4  2.157955e-07 -1.438726e-07  9.128785e-07  4.021449e-06   0.000020   \n",
       "\n",
       "   variety_5  variety_6  variety_7  variety_8  variety_9  \n",
       "0   0.000526   0.000098  -0.000004   0.000202  -0.182886  \n",
       "1   0.000804   0.000128  -0.000114  -0.000339   0.613487  \n",
       "2   0.000804   0.000128  -0.000114  -0.000339   0.613487  \n",
       "3  -0.000197   0.000805  -0.000082  -0.000196   0.000606  \n",
       "4  -0.000030  -0.000013  -0.000012  -0.000283   0.000027  "
      ]
     },
     "execution_count": 180,
     "metadata": {},
     "output_type": "execute_result"
    }
   ],
   "source": [
    "tfidf_matrix = tf.fit_transform(data.variety)\n",
    "var_features = pd.DataFrame(svd.fit_transform(tfidf_matrix))\n",
    "collist = map(str, range(0, 10))\n",
    "collist = [\"variety_\" + s for s in collist]\n",
    "var_features.columns = collist\n",
    "var_features.head()"
   ]
  },
  {
   "cell_type": "code",
   "execution_count": 181,
   "metadata": {},
   "outputs": [
    {
     "data": {
      "text/html": [
       "<div>\n",
       "<style scoped>\n",
       "    .dataframe tbody tr th:only-of-type {\n",
       "        vertical-align: middle;\n",
       "    }\n",
       "\n",
       "    .dataframe tbody tr th {\n",
       "        vertical-align: top;\n",
       "    }\n",
       "\n",
       "    .dataframe thead th {\n",
       "        text-align: right;\n",
       "    }\n",
       "</style>\n",
       "<table border=\"1\" class=\"dataframe\">\n",
       "  <thead>\n",
       "    <tr style=\"text-align: right;\">\n",
       "      <th></th>\n",
       "      <th>province_0</th>\n",
       "      <th>province_1</th>\n",
       "      <th>province_2</th>\n",
       "      <th>province_3</th>\n",
       "      <th>province_4</th>\n",
       "      <th>province_5</th>\n",
       "      <th>province_6</th>\n",
       "      <th>province_7</th>\n",
       "      <th>province_8</th>\n",
       "      <th>province_9</th>\n",
       "    </tr>\n",
       "  </thead>\n",
       "  <tbody>\n",
       "    <tr>\n",
       "      <th>0</th>\n",
       "      <td>-1.240581e-09</td>\n",
       "      <td>-7.569232e-07</td>\n",
       "      <td>-4.043857e-05</td>\n",
       "      <td>-6.677062e-05</td>\n",
       "      <td>2.798547e-06</td>\n",
       "      <td>1.605736e-04</td>\n",
       "      <td>5.151599e-06</td>\n",
       "      <td>4.321171e-04</td>\n",
       "      <td>1.188846e-04</td>\n",
       "      <td>2.012438e-04</td>\n",
       "    </tr>\n",
       "    <tr>\n",
       "      <th>1</th>\n",
       "      <td>-1.812014e-11</td>\n",
       "      <td>-6.921262e-08</td>\n",
       "      <td>1.256898e-06</td>\n",
       "      <td>1.973279e-06</td>\n",
       "      <td>-3.596272e-06</td>\n",
       "      <td>-4.683892e-06</td>\n",
       "      <td>9.999948e-01</td>\n",
       "      <td>-6.390981e-05</td>\n",
       "      <td>-2.491000e-05</td>\n",
       "      <td>-4.116232e-05</td>\n",
       "    </tr>\n",
       "    <tr>\n",
       "      <th>2</th>\n",
       "      <td>-1.812006e-11</td>\n",
       "      <td>-6.921247e-08</td>\n",
       "      <td>1.256896e-06</td>\n",
       "      <td>1.973275e-06</td>\n",
       "      <td>-3.596272e-06</td>\n",
       "      <td>-4.683892e-06</td>\n",
       "      <td>9.999948e-01</td>\n",
       "      <td>-6.390981e-05</td>\n",
       "      <td>-2.491000e-05</td>\n",
       "      <td>-4.116232e-05</td>\n",
       "    </tr>\n",
       "    <tr>\n",
       "      <th>3</th>\n",
       "      <td>1.000000e+00</td>\n",
       "      <td>-1.016791e-14</td>\n",
       "      <td>2.190080e-13</td>\n",
       "      <td>-7.036886e-14</td>\n",
       "      <td>-7.728732e-13</td>\n",
       "      <td>-8.916704e-14</td>\n",
       "      <td>8.126976e-14</td>\n",
       "      <td>-1.478709e-13</td>\n",
       "      <td>-4.454791e-13</td>\n",
       "      <td>-3.593600e-14</td>\n",
       "    </tr>\n",
       "    <tr>\n",
       "      <th>4</th>\n",
       "      <td>5.234100e-15</td>\n",
       "      <td>1.000000e+00</td>\n",
       "      <td>-5.615506e-09</td>\n",
       "      <td>3.459892e-09</td>\n",
       "      <td>8.554935e-09</td>\n",
       "      <td>2.634537e-09</td>\n",
       "      <td>6.856296e-09</td>\n",
       "      <td>-1.029708e-08</td>\n",
       "      <td>9.574292e-09</td>\n",
       "      <td>-2.493734e-08</td>\n",
       "    </tr>\n",
       "  </tbody>\n",
       "</table>\n",
       "</div>"
      ],
      "text/plain": [
       "     province_0    province_1    province_2    province_3    province_4  \\\n",
       "0 -1.240581e-09 -7.569232e-07 -4.043857e-05 -6.677062e-05  2.798547e-06   \n",
       "1 -1.812014e-11 -6.921262e-08  1.256898e-06  1.973279e-06 -3.596272e-06   \n",
       "2 -1.812006e-11 -6.921247e-08  1.256896e-06  1.973275e-06 -3.596272e-06   \n",
       "3  1.000000e+00 -1.016791e-14  2.190080e-13 -7.036886e-14 -7.728732e-13   \n",
       "4  5.234100e-15  1.000000e+00 -5.615506e-09  3.459892e-09  8.554935e-09   \n",
       "\n",
       "     province_5    province_6    province_7    province_8    province_9  \n",
       "0  1.605736e-04  5.151599e-06  4.321171e-04  1.188846e-04  2.012438e-04  \n",
       "1 -4.683892e-06  9.999948e-01 -6.390981e-05 -2.491000e-05 -4.116232e-05  \n",
       "2 -4.683892e-06  9.999948e-01 -6.390981e-05 -2.491000e-05 -4.116232e-05  \n",
       "3 -8.916704e-14  8.126976e-14 -1.478709e-13 -4.454791e-13 -3.593600e-14  \n",
       "4  2.634537e-09  6.856296e-09 -1.029708e-08  9.574292e-09 -2.493734e-08  "
      ]
     },
     "execution_count": 181,
     "metadata": {},
     "output_type": "execute_result"
    }
   ],
   "source": [
    "prov_features = pd.DataFrame(svd.fit_transform(proDummies.values))\n",
    "collist = map(str, range(0, 10))\n",
    "collist = [\"province_\" + s for s in collist]\n",
    "prov_features.columns = collist\n",
    "prov_features.head()"
   ]
  },
  {
   "cell_type": "code",
   "execution_count": 182,
   "metadata": {},
   "outputs": [],
   "source": [
    "#tfidf_matrix = tf.fit_transform(data.region_1)\n",
    "#reg1_features = pd.DataFrame(svd.fit_transform(tfidf_matrix))\n",
    "#collist = map(str, range(0, 10))\n",
    "#collist = [\"country_\" + s for s in collist]\n",
    "#reg1_features.columns = collist\n",
    "#reg1_features.head()"
   ]
  },
  {
   "cell_type": "code",
   "execution_count": 183,
   "metadata": {},
   "outputs": [
    {
     "data": {
      "text/html": [
       "<div>\n",
       "<style scoped>\n",
       "    .dataframe tbody tr th:only-of-type {\n",
       "        vertical-align: middle;\n",
       "    }\n",
       "\n",
       "    .dataframe tbody tr th {\n",
       "        vertical-align: top;\n",
       "    }\n",
       "\n",
       "    .dataframe thead th {\n",
       "        text-align: right;\n",
       "    }\n",
       "</style>\n",
       "<table border=\"1\" class=\"dataframe\">\n",
       "  <thead>\n",
       "    <tr style=\"text-align: right;\">\n",
       "      <th></th>\n",
       "      <th>country_0</th>\n",
       "      <th>country_1</th>\n",
       "      <th>country_2</th>\n",
       "      <th>country_3</th>\n",
       "      <th>country_4</th>\n",
       "      <th>country_5</th>\n",
       "      <th>country_6</th>\n",
       "      <th>country_7</th>\n",
       "      <th>country_8</th>\n",
       "      <th>country_9</th>\n",
       "    </tr>\n",
       "  </thead>\n",
       "  <tbody>\n",
       "    <tr>\n",
       "      <th>0</th>\n",
       "      <td>1.703659e-14</td>\n",
       "      <td>5.247350e-15</td>\n",
       "      <td>-4.840795e-15</td>\n",
       "      <td>-2.935271e-15</td>\n",
       "      <td>-2.722577e-13</td>\n",
       "      <td>1.194271e-13</td>\n",
       "      <td>1.000000e+00</td>\n",
       "      <td>3.942916e-14</td>\n",
       "      <td>6.894859e-15</td>\n",
       "      <td>-5.142976e-15</td>\n",
       "    </tr>\n",
       "    <tr>\n",
       "      <th>1</th>\n",
       "      <td>2.693305e-15</td>\n",
       "      <td>5.588192e-13</td>\n",
       "      <td>1.000000e+00</td>\n",
       "      <td>8.867006e-14</td>\n",
       "      <td>1.641141e-15</td>\n",
       "      <td>-2.405932e-15</td>\n",
       "      <td>-1.981421e-15</td>\n",
       "      <td>2.671852e-15</td>\n",
       "      <td>-6.652325e-15</td>\n",
       "      <td>3.573584e-15</td>\n",
       "    </tr>\n",
       "    <tr>\n",
       "      <th>2</th>\n",
       "      <td>1.480007e-15</td>\n",
       "      <td>2.412395e-15</td>\n",
       "      <td>1.000000e+00</td>\n",
       "      <td>-1.876503e-12</td>\n",
       "      <td>2.288156e-14</td>\n",
       "      <td>-1.451767e-14</td>\n",
       "      <td>-9.763736e-15</td>\n",
       "      <td>1.804264e-15</td>\n",
       "      <td>2.411202e-15</td>\n",
       "      <td>1.640754e-15</td>\n",
       "    </tr>\n",
       "    <tr>\n",
       "      <th>3</th>\n",
       "      <td>1.000000e+00</td>\n",
       "      <td>1.499136e-14</td>\n",
       "      <td>-1.735653e-14</td>\n",
       "      <td>-4.819702e-14</td>\n",
       "      <td>7.378959e-14</td>\n",
       "      <td>3.310796e-14</td>\n",
       "      <td>-3.049481e-13</td>\n",
       "      <td>-9.994765e-15</td>\n",
       "      <td>-7.958493e-15</td>\n",
       "      <td>-1.248188e-17</td>\n",
       "    </tr>\n",
       "    <tr>\n",
       "      <th>4</th>\n",
       "      <td>1.000000e+00</td>\n",
       "      <td>-8.076051e-16</td>\n",
       "      <td>1.632763e-15</td>\n",
       "      <td>-1.956048e-14</td>\n",
       "      <td>1.454136e-12</td>\n",
       "      <td>2.238379e-15</td>\n",
       "      <td>7.282084e-13</td>\n",
       "      <td>9.678672e-14</td>\n",
       "      <td>-3.538135e-14</td>\n",
       "      <td>-3.375404e-14</td>\n",
       "    </tr>\n",
       "  </tbody>\n",
       "</table>\n",
       "</div>"
      ],
      "text/plain": [
       "      country_0     country_1     country_2     country_3     country_4  \\\n",
       "0  1.703659e-14  5.247350e-15 -4.840795e-15 -2.935271e-15 -2.722577e-13   \n",
       "1  2.693305e-15  5.588192e-13  1.000000e+00  8.867006e-14  1.641141e-15   \n",
       "2  1.480007e-15  2.412395e-15  1.000000e+00 -1.876503e-12  2.288156e-14   \n",
       "3  1.000000e+00  1.499136e-14 -1.735653e-14 -4.819702e-14  7.378959e-14   \n",
       "4  1.000000e+00 -8.076051e-16  1.632763e-15 -1.956048e-14  1.454136e-12   \n",
       "\n",
       "      country_5     country_6     country_7     country_8     country_9  \n",
       "0  1.194271e-13  1.000000e+00  3.942916e-14  6.894859e-15 -5.142976e-15  \n",
       "1 -2.405932e-15 -1.981421e-15  2.671852e-15 -6.652325e-15  3.573584e-15  \n",
       "2 -1.451767e-14 -9.763736e-15  1.804264e-15  2.411202e-15  1.640754e-15  \n",
       "3  3.310796e-14 -3.049481e-13 -9.994765e-15 -7.958493e-15 -1.248188e-17  \n",
       "4  2.238379e-15  7.282084e-13  9.678672e-14 -3.538135e-14 -3.375404e-14  "
      ]
     },
     "execution_count": 183,
     "metadata": {},
     "output_type": "execute_result"
    }
   ],
   "source": [
    "country_features = pd.DataFrame(svd.fit_transform(countDummies.values))\n",
    "collist = map(str, range(0, 10))\n",
    "collist = [\"country_\" + s for s in collist]\n",
    "country_features.columns = collist\n",
    "country_features.head()"
   ]
  },
  {
   "cell_type": "code",
   "execution_count": 184,
   "metadata": {},
   "outputs": [
    {
     "data": {
      "text/html": [
       "<div>\n",
       "<style scoped>\n",
       "    .dataframe tbody tr th:only-of-type {\n",
       "        vertical-align: middle;\n",
       "    }\n",
       "\n",
       "    .dataframe tbody tr th {\n",
       "        vertical-align: top;\n",
       "    }\n",
       "\n",
       "    .dataframe thead th {\n",
       "        text-align: right;\n",
       "    }\n",
       "</style>\n",
       "<table border=\"1\" class=\"dataframe\">\n",
       "  <thead>\n",
       "    <tr style=\"text-align: right;\">\n",
       "      <th></th>\n",
       "      <th>title_0</th>\n",
       "      <th>title_1</th>\n",
       "      <th>title_2</th>\n",
       "      <th>title_3</th>\n",
       "      <th>title_4</th>\n",
       "      <th>title_5</th>\n",
       "      <th>title_6</th>\n",
       "      <th>title_7</th>\n",
       "      <th>title_8</th>\n",
       "      <th>title_9</th>\n",
       "    </tr>\n",
       "  </thead>\n",
       "  <tbody>\n",
       "    <tr>\n",
       "      <th>0</th>\n",
       "      <td>1.000000</td>\n",
       "      <td>-0.000244</td>\n",
       "      <td>-0.000111</td>\n",
       "      <td>0.000058</td>\n",
       "      <td>0.000060</td>\n",
       "      <td>-0.000057</td>\n",
       "      <td>0.000022</td>\n",
       "      <td>0.000004</td>\n",
       "      <td>-0.000045</td>\n",
       "      <td>-0.000059</td>\n",
       "    </tr>\n",
       "    <tr>\n",
       "      <th>1</th>\n",
       "      <td>1.000000</td>\n",
       "      <td>-0.000244</td>\n",
       "      <td>-0.000111</td>\n",
       "      <td>0.000058</td>\n",
       "      <td>0.000060</td>\n",
       "      <td>-0.000057</td>\n",
       "      <td>0.000022</td>\n",
       "      <td>0.000004</td>\n",
       "      <td>-0.000045</td>\n",
       "      <td>-0.000059</td>\n",
       "    </tr>\n",
       "    <tr>\n",
       "      <th>2</th>\n",
       "      <td>1.000000</td>\n",
       "      <td>-0.000244</td>\n",
       "      <td>-0.000111</td>\n",
       "      <td>0.000058</td>\n",
       "      <td>0.000060</td>\n",
       "      <td>-0.000057</td>\n",
       "      <td>0.000022</td>\n",
       "      <td>0.000004</td>\n",
       "      <td>-0.000045</td>\n",
       "      <td>-0.000059</td>\n",
       "    </tr>\n",
       "    <tr>\n",
       "      <th>3</th>\n",
       "      <td>0.012868</td>\n",
       "      <td>0.045712</td>\n",
       "      <td>0.028373</td>\n",
       "      <td>-0.005573</td>\n",
       "      <td>-0.008297</td>\n",
       "      <td>0.028896</td>\n",
       "      <td>0.001625</td>\n",
       "      <td>-0.007969</td>\n",
       "      <td>0.042380</td>\n",
       "      <td>0.059134</td>\n",
       "    </tr>\n",
       "    <tr>\n",
       "      <th>4</th>\n",
       "      <td>0.000022</td>\n",
       "      <td>0.040952</td>\n",
       "      <td>0.023336</td>\n",
       "      <td>-0.002309</td>\n",
       "      <td>-0.016685</td>\n",
       "      <td>0.028672</td>\n",
       "      <td>-0.013874</td>\n",
       "      <td>-0.010703</td>\n",
       "      <td>0.018635</td>\n",
       "      <td>-0.012092</td>\n",
       "    </tr>\n",
       "  </tbody>\n",
       "</table>\n",
       "</div>"
      ],
      "text/plain": [
       "    title_0   title_1   title_2   title_3   title_4   title_5   title_6  \\\n",
       "0  1.000000 -0.000244 -0.000111  0.000058  0.000060 -0.000057  0.000022   \n",
       "1  1.000000 -0.000244 -0.000111  0.000058  0.000060 -0.000057  0.000022   \n",
       "2  1.000000 -0.000244 -0.000111  0.000058  0.000060 -0.000057  0.000022   \n",
       "3  0.012868  0.045712  0.028373 -0.005573 -0.008297  0.028896  0.001625   \n",
       "4  0.000022  0.040952  0.023336 -0.002309 -0.016685  0.028672 -0.013874   \n",
       "\n",
       "    title_7   title_8   title_9  \n",
       "0  0.000004 -0.000045 -0.000059  \n",
       "1  0.000004 -0.000045 -0.000059  \n",
       "2  0.000004 -0.000045 -0.000059  \n",
       "3 -0.007969  0.042380  0.059134  \n",
       "4 -0.010703  0.018635 -0.012092  "
      ]
     },
     "execution_count": 184,
     "metadata": {},
     "output_type": "execute_result"
    }
   ],
   "source": [
    "tfidf_matrix = tf.fit_transform(data.title)\n",
    "title_features = pd.DataFrame(svd.fit_transform(tfidf_matrix))\n",
    "collist = map(str, range(0, 10))\n",
    "collist = [\"title_\" + s for s in collist]\n",
    "title_features.columns = collist\n",
    "title_features.head()"
   ]
  },
  {
   "cell_type": "code",
   "execution_count": null,
   "metadata": {},
   "outputs": [],
   "source": []
  },
  {
   "cell_type": "code",
   "execution_count": 185,
   "metadata": {},
   "outputs": [
    {
     "data": {
      "text/plain": [
       "(258210, 50)"
      ]
     },
     "execution_count": 185,
     "metadata": {},
     "output_type": "execute_result"
    }
   ],
   "source": [
    "dd = pd.concat([desc_features, var_features, prov_features, country_features,title_features], axis=1)\n",
    "dd.shape"
   ]
  },
  {
   "cell_type": "code",
   "execution_count": 186,
   "metadata": {},
   "outputs": [
    {
     "data": {
      "text/html": [
       "<div>\n",
       "<style scoped>\n",
       "    .dataframe tbody tr th:only-of-type {\n",
       "        vertical-align: middle;\n",
       "    }\n",
       "\n",
       "    .dataframe tbody tr th {\n",
       "        vertical-align: top;\n",
       "    }\n",
       "\n",
       "    .dataframe thead th {\n",
       "        text-align: right;\n",
       "    }\n",
       "</style>\n",
       "<table border=\"1\" class=\"dataframe\">\n",
       "  <thead>\n",
       "    <tr style=\"text-align: right;\">\n",
       "      <th></th>\n",
       "      <th>description_0</th>\n",
       "      <th>description_1</th>\n",
       "      <th>description_2</th>\n",
       "      <th>description_3</th>\n",
       "      <th>description_4</th>\n",
       "      <th>description_5</th>\n",
       "      <th>description_6</th>\n",
       "      <th>description_7</th>\n",
       "      <th>description_8</th>\n",
       "      <th>description_9</th>\n",
       "      <th>...</th>\n",
       "      <th>title_0</th>\n",
       "      <th>title_1</th>\n",
       "      <th>title_2</th>\n",
       "      <th>title_3</th>\n",
       "      <th>title_4</th>\n",
       "      <th>title_5</th>\n",
       "      <th>title_6</th>\n",
       "      <th>title_7</th>\n",
       "      <th>title_8</th>\n",
       "      <th>title_9</th>\n",
       "    </tr>\n",
       "  </thead>\n",
       "  <tbody>\n",
       "    <tr>\n",
       "      <th>0</th>\n",
       "      <td>0.115367</td>\n",
       "      <td>0.004648</td>\n",
       "      <td>0.114765</td>\n",
       "      <td>0.051769</td>\n",
       "      <td>0.006326</td>\n",
       "      <td>-0.029204</td>\n",
       "      <td>-0.024298</td>\n",
       "      <td>0.042766</td>\n",
       "      <td>-0.035276</td>\n",
       "      <td>-0.015061</td>\n",
       "      <td>...</td>\n",
       "      <td>1.000000</td>\n",
       "      <td>-0.000244</td>\n",
       "      <td>-0.000111</td>\n",
       "      <td>0.000058</td>\n",
       "      <td>0.000060</td>\n",
       "      <td>-0.000057</td>\n",
       "      <td>0.000022</td>\n",
       "      <td>0.000004</td>\n",
       "      <td>-0.000045</td>\n",
       "      <td>-0.000059</td>\n",
       "    </tr>\n",
       "    <tr>\n",
       "      <th>1</th>\n",
       "      <td>0.119707</td>\n",
       "      <td>0.024681</td>\n",
       "      <td>0.072166</td>\n",
       "      <td>0.021039</td>\n",
       "      <td>-0.010886</td>\n",
       "      <td>-0.062698</td>\n",
       "      <td>-0.003105</td>\n",
       "      <td>0.031153</td>\n",
       "      <td>-0.018417</td>\n",
       "      <td>0.017819</td>\n",
       "      <td>...</td>\n",
       "      <td>1.000000</td>\n",
       "      <td>-0.000244</td>\n",
       "      <td>-0.000111</td>\n",
       "      <td>0.000058</td>\n",
       "      <td>0.000060</td>\n",
       "      <td>-0.000057</td>\n",
       "      <td>0.000022</td>\n",
       "      <td>0.000004</td>\n",
       "      <td>-0.000045</td>\n",
       "      <td>-0.000059</td>\n",
       "    </tr>\n",
       "    <tr>\n",
       "      <th>2</th>\n",
       "      <td>0.129262</td>\n",
       "      <td>0.101609</td>\n",
       "      <td>0.087649</td>\n",
       "      <td>0.003941</td>\n",
       "      <td>0.131871</td>\n",
       "      <td>-0.032271</td>\n",
       "      <td>-0.016061</td>\n",
       "      <td>0.000618</td>\n",
       "      <td>-0.068737</td>\n",
       "      <td>0.000890</td>\n",
       "      <td>...</td>\n",
       "      <td>1.000000</td>\n",
       "      <td>-0.000244</td>\n",
       "      <td>-0.000111</td>\n",
       "      <td>0.000058</td>\n",
       "      <td>0.000060</td>\n",
       "      <td>-0.000057</td>\n",
       "      <td>0.000022</td>\n",
       "      <td>0.000004</td>\n",
       "      <td>-0.000045</td>\n",
       "      <td>-0.000059</td>\n",
       "    </tr>\n",
       "    <tr>\n",
       "      <th>3</th>\n",
       "      <td>0.103500</td>\n",
       "      <td>0.062096</td>\n",
       "      <td>0.012579</td>\n",
       "      <td>-0.064223</td>\n",
       "      <td>-0.019414</td>\n",
       "      <td>-0.064939</td>\n",
       "      <td>-0.015431</td>\n",
       "      <td>-0.010611</td>\n",
       "      <td>-0.044503</td>\n",
       "      <td>0.052991</td>\n",
       "      <td>...</td>\n",
       "      <td>0.012868</td>\n",
       "      <td>0.045712</td>\n",
       "      <td>0.028373</td>\n",
       "      <td>-0.005573</td>\n",
       "      <td>-0.008297</td>\n",
       "      <td>0.028896</td>\n",
       "      <td>0.001625</td>\n",
       "      <td>-0.007969</td>\n",
       "      <td>0.042380</td>\n",
       "      <td>0.059134</td>\n",
       "    </tr>\n",
       "    <tr>\n",
       "      <th>4</th>\n",
       "      <td>0.096223</td>\n",
       "      <td>-0.056806</td>\n",
       "      <td>-0.015146</td>\n",
       "      <td>-0.013501</td>\n",
       "      <td>0.023782</td>\n",
       "      <td>0.026488</td>\n",
       "      <td>0.003527</td>\n",
       "      <td>0.016375</td>\n",
       "      <td>0.029604</td>\n",
       "      <td>0.018516</td>\n",
       "      <td>...</td>\n",
       "      <td>0.000022</td>\n",
       "      <td>0.040952</td>\n",
       "      <td>0.023336</td>\n",
       "      <td>-0.002309</td>\n",
       "      <td>-0.016685</td>\n",
       "      <td>0.028672</td>\n",
       "      <td>-0.013874</td>\n",
       "      <td>-0.010703</td>\n",
       "      <td>0.018635</td>\n",
       "      <td>-0.012092</td>\n",
       "    </tr>\n",
       "  </tbody>\n",
       "</table>\n",
       "<p>5 rows × 50 columns</p>\n",
       "</div>"
      ],
      "text/plain": [
       "   description_0  description_1  description_2  description_3  description_4  \\\n",
       "0       0.115367       0.004648       0.114765       0.051769       0.006326   \n",
       "1       0.119707       0.024681       0.072166       0.021039      -0.010886   \n",
       "2       0.129262       0.101609       0.087649       0.003941       0.131871   \n",
       "3       0.103500       0.062096       0.012579      -0.064223      -0.019414   \n",
       "4       0.096223      -0.056806      -0.015146      -0.013501       0.023782   \n",
       "\n",
       "   description_5  description_6  description_7  description_8  description_9  \\\n",
       "0      -0.029204      -0.024298       0.042766      -0.035276      -0.015061   \n",
       "1      -0.062698      -0.003105       0.031153      -0.018417       0.017819   \n",
       "2      -0.032271      -0.016061       0.000618      -0.068737       0.000890   \n",
       "3      -0.064939      -0.015431      -0.010611      -0.044503       0.052991   \n",
       "4       0.026488       0.003527       0.016375       0.029604       0.018516   \n",
       "\n",
       "   ...   title_0   title_1   title_2   title_3   title_4   title_5   title_6  \\\n",
       "0  ...  1.000000 -0.000244 -0.000111  0.000058  0.000060 -0.000057  0.000022   \n",
       "1  ...  1.000000 -0.000244 -0.000111  0.000058  0.000060 -0.000057  0.000022   \n",
       "2  ...  1.000000 -0.000244 -0.000111  0.000058  0.000060 -0.000057  0.000022   \n",
       "3  ...  0.012868  0.045712  0.028373 -0.005573 -0.008297  0.028896  0.001625   \n",
       "4  ...  0.000022  0.040952  0.023336 -0.002309 -0.016685  0.028672 -0.013874   \n",
       "\n",
       "    title_7   title_8   title_9  \n",
       "0  0.000004 -0.000045 -0.000059  \n",
       "1  0.000004 -0.000045 -0.000059  \n",
       "2  0.000004 -0.000045 -0.000059  \n",
       "3 -0.007969  0.042380  0.059134  \n",
       "4 -0.010703  0.018635 -0.012092  \n",
       "\n",
       "[5 rows x 50 columns]"
      ]
     },
     "execution_count": 186,
     "metadata": {},
     "output_type": "execute_result"
    }
   ],
   "source": [
    "dd.head()"
   ]
  },
  {
   "cell_type": "code",
   "execution_count": 187,
   "metadata": {},
   "outputs": [
    {
     "data": {
      "text/plain": [
       "Index(['description_0', 'description_1', 'description_2', 'description_3',\n",
       "       'description_4', 'description_5', 'description_6', 'description_7',\n",
       "       'description_8', 'description_9', 'variety_0', 'variety_1', 'variety_2',\n",
       "       'variety_3', 'variety_4', 'variety_5', 'variety_6', 'variety_7',\n",
       "       'variety_8', 'variety_9', 'province_0', 'province_1', 'province_2',\n",
       "       'province_3', 'province_4', 'province_5', 'province_6', 'province_7',\n",
       "       'province_8', 'province_9', 'country_0', 'country_1', 'country_2',\n",
       "       'country_3', 'country_4', 'country_5', 'country_6', 'country_7',\n",
       "       'country_8', 'country_9', 'title_0', 'title_1', 'title_2', 'title_3',\n",
       "       'title_4', 'title_5', 'title_6', 'title_7', 'title_8', 'title_9'],\n",
       "      dtype='object')"
      ]
     },
     "execution_count": 187,
     "metadata": {},
     "output_type": "execute_result"
    }
   ],
   "source": [
    "dd.columns"
   ]
  },
  {
   "cell_type": "code",
   "execution_count": 188,
   "metadata": {},
   "outputs": [],
   "source": [
    "#data.drop('index', axis=1, inplace=True)"
   ]
  },
  {
   "cell_type": "code",
   "execution_count": 189,
   "metadata": {},
   "outputs": [],
   "source": [
    "dd['train_test'] = data.train_test.values"
   ]
  },
  {
   "cell_type": "code",
   "execution_count": 190,
   "metadata": {},
   "outputs": [],
   "source": [
    "dd['id'] = data.id.values"
   ]
  },
  {
   "cell_type": "code",
   "execution_count": 191,
   "metadata": {},
   "outputs": [],
   "source": [
    "dd['quality'] = data.quality.values"
   ]
  },
  {
   "cell_type": "code",
   "execution_count": 192,
   "metadata": {},
   "outputs": [],
   "source": [
    "dd['points'] = data.points.values"
   ]
  },
  {
   "cell_type": "code",
   "execution_count": 193,
   "metadata": {},
   "outputs": [],
   "source": [
    "dd['price'] = data.price.values"
   ]
  },
  {
   "cell_type": "code",
   "execution_count": 194,
   "metadata": {},
   "outputs": [
    {
     "data": {
      "text/plain": [
       "(258210, 55)"
      ]
     },
     "execution_count": 194,
     "metadata": {},
     "output_type": "execute_result"
    }
   ],
   "source": [
    "#['id', 'points', 'quality', 'price']\n",
    "final_data = dd.copy()\n",
    "final_data.shape"
   ]
  },
  {
   "cell_type": "code",
   "execution_count": 195,
   "metadata": {},
   "outputs": [],
   "source": [
    "# print(train_data.shape)\n",
    "# print(test_data.shape)"
   ]
  },
  {
   "cell_type": "code",
   "execution_count": 196,
   "metadata": {},
   "outputs": [],
   "source": [
    "final_data['sum_desc'] = final_data[['description_0', 'description_1', 'description_2', 'description_3',\n",
    "       'description_4', 'description_5', 'description_6', 'description_7',\n",
    "       'description_8', 'description_9']].sum(axis=1)"
   ]
  },
  {
   "cell_type": "code",
   "execution_count": 197,
   "metadata": {},
   "outputs": [],
   "source": [
    "final_data['sum_var'] = final_data[['variety_0', 'variety_1', 'variety_2',\n",
    "       'variety_3', 'variety_4', 'variety_5', 'variety_6', 'variety_7',\n",
    "       'variety_8', 'variety_9']].sum(axis=1)"
   ]
  },
  {
   "cell_type": "code",
   "execution_count": 198,
   "metadata": {},
   "outputs": [],
   "source": [
    "final_data['sum_prov'] = final_data[['province_0', 'province_1', 'province_2',\n",
    "       'province_3', 'province_4', 'province_5', 'province_6', 'province_7',\n",
    "       'province_8', 'province_9']].sum(axis=1)"
   ]
  },
  {
   "cell_type": "code",
   "execution_count": 351,
   "metadata": {},
   "outputs": [],
   "source": [
    "final_data['sum_country'] = final_data[['variety_0', 'variety_1', 'variety_2',\n",
    "       'variety_3', 'variety_4', 'variety_5', 'variety_6', 'variety_7',\n",
    "       'variety_8', 'variety_9']].sum(axis=1)"
   ]
  },
  {
   "cell_type": "code",
   "execution_count": 352,
   "metadata": {},
   "outputs": [
    {
     "data": {
      "text/html": [
       "<div>\n",
       "<style scoped>\n",
       "    .dataframe tbody tr th:only-of-type {\n",
       "        vertical-align: middle;\n",
       "    }\n",
       "\n",
       "    .dataframe tbody tr th {\n",
       "        vertical-align: top;\n",
       "    }\n",
       "\n",
       "    .dataframe thead th {\n",
       "        text-align: right;\n",
       "    }\n",
       "</style>\n",
       "<table border=\"1\" class=\"dataframe\">\n",
       "  <thead>\n",
       "    <tr style=\"text-align: right;\">\n",
       "      <th></th>\n",
       "      <th>description_0</th>\n",
       "      <th>description_1</th>\n",
       "      <th>description_2</th>\n",
       "      <th>description_3</th>\n",
       "      <th>description_4</th>\n",
       "      <th>description_5</th>\n",
       "      <th>description_6</th>\n",
       "      <th>description_7</th>\n",
       "      <th>description_8</th>\n",
       "      <th>description_9</th>\n",
       "      <th>...</th>\n",
       "      <th>title_9</th>\n",
       "      <th>id</th>\n",
       "      <th>quality</th>\n",
       "      <th>points</th>\n",
       "      <th>sum_desc</th>\n",
       "      <th>sum_var</th>\n",
       "      <th>sum_prov</th>\n",
       "      <th>sum_country</th>\n",
       "      <th>train_test</th>\n",
       "      <th>price</th>\n",
       "    </tr>\n",
       "  </thead>\n",
       "  <tbody>\n",
       "    <tr>\n",
       "      <th>0</th>\n",
       "      <td>0.536308</td>\n",
       "      <td>0.499766</td>\n",
       "      <td>0.694062</td>\n",
       "      <td>0.605231</td>\n",
       "      <td>0.241022</td>\n",
       "      <td>0.324518</td>\n",
       "      <td>0.393314</td>\n",
       "      <td>0.607184</td>\n",
       "      <td>0.383449</td>\n",
       "      <td>0.444087</td>\n",
       "      <td>...</td>\n",
       "      <td>0.315928</td>\n",
       "      <td>0.212199</td>\n",
       "      <td>0.333333</td>\n",
       "      <td>0.448627</td>\n",
       "      <td>0.575127</td>\n",
       "      <td>0.089270</td>\n",
       "      <td>0.012973</td>\n",
       "      <td>0.867082</td>\n",
       "      <td>train</td>\n",
       "      <td>20.0</td>\n",
       "    </tr>\n",
       "    <tr>\n",
       "      <th>1</th>\n",
       "      <td>0.556484</td>\n",
       "      <td>0.542347</td>\n",
       "      <td>0.584460</td>\n",
       "      <td>0.527681</td>\n",
       "      <td>0.215153</td>\n",
       "      <td>0.236280</td>\n",
       "      <td>0.443523</td>\n",
       "      <td>0.576730</td>\n",
       "      <td>0.430064</td>\n",
       "      <td>0.534448</td>\n",
       "      <td>...</td>\n",
       "      <td>0.315928</td>\n",
       "      <td>0.470943</td>\n",
       "      <td>0.333333</td>\n",
       "      <td>0.408345</td>\n",
       "      <td>0.546581</td>\n",
       "      <td>1.000000</td>\n",
       "      <td>0.999758</td>\n",
       "      <td>2.282451</td>\n",
       "      <td>train</td>\n",
       "      <td>28.0</td>\n",
       "    </tr>\n",
       "    <tr>\n",
       "      <th>2</th>\n",
       "      <td>0.600902</td>\n",
       "      <td>0.705857</td>\n",
       "      <td>0.624297</td>\n",
       "      <td>0.484532</td>\n",
       "      <td>0.429715</td>\n",
       "      <td>0.316438</td>\n",
       "      <td>0.412828</td>\n",
       "      <td>0.496656</td>\n",
       "      <td>0.290929</td>\n",
       "      <td>0.487923</td>\n",
       "      <td>...</td>\n",
       "      <td>0.315928</td>\n",
       "      <td>0.214935</td>\n",
       "      <td>0.666667</td>\n",
       "      <td>0.701932</td>\n",
       "      <td>0.650819</td>\n",
       "      <td>1.000000</td>\n",
       "      <td>0.999758</td>\n",
       "      <td>2.282451</td>\n",
       "      <td>train</td>\n",
       "      <td>130.0</td>\n",
       "    </tr>\n",
       "    <tr>\n",
       "      <th>3</th>\n",
       "      <td>0.481141</td>\n",
       "      <td>0.621872</td>\n",
       "      <td>0.431150</td>\n",
       "      <td>0.312513</td>\n",
       "      <td>0.202335</td>\n",
       "      <td>0.230375</td>\n",
       "      <td>0.414321</td>\n",
       "      <td>0.467209</td>\n",
       "      <td>0.357937</td>\n",
       "      <td>0.631111</td>\n",
       "      <td>...</td>\n",
       "      <td>0.372638</td>\n",
       "      <td>0.824262</td>\n",
       "      <td>0.333333</td>\n",
       "      <td>0.497155</td>\n",
       "      <td>0.419626</td>\n",
       "      <td>0.015175</td>\n",
       "      <td>0.999896</td>\n",
       "      <td>0.794170</td>\n",
       "      <td>train</td>\n",
       "      <td>34.0</td>\n",
       "    </tr>\n",
       "    <tr>\n",
       "      <th>4</th>\n",
       "      <td>0.447313</td>\n",
       "      <td>0.369146</td>\n",
       "      <td>0.359818</td>\n",
       "      <td>0.440516</td>\n",
       "      <td>0.267258</td>\n",
       "      <td>0.471236</td>\n",
       "      <td>0.459236</td>\n",
       "      <td>0.537976</td>\n",
       "      <td>0.562845</td>\n",
       "      <td>0.536365</td>\n",
       "      <td>...</td>\n",
       "      <td>0.304400</td>\n",
       "      <td>0.222946</td>\n",
       "      <td>0.333333</td>\n",
       "      <td>0.455757</td>\n",
       "      <td>0.502430</td>\n",
       "      <td>0.014306</td>\n",
       "      <td>0.999896</td>\n",
       "      <td>0.792788</td>\n",
       "      <td>train</td>\n",
       "      <td>24.0</td>\n",
       "    </tr>\n",
       "  </tbody>\n",
       "</table>\n",
       "<p>5 rows × 59 columns</p>\n",
       "</div>"
      ],
      "text/plain": [
       "   description_0  description_1  description_2  description_3  description_4  \\\n",
       "0       0.536308       0.499766       0.694062       0.605231       0.241022   \n",
       "1       0.556484       0.542347       0.584460       0.527681       0.215153   \n",
       "2       0.600902       0.705857       0.624297       0.484532       0.429715   \n",
       "3       0.481141       0.621872       0.431150       0.312513       0.202335   \n",
       "4       0.447313       0.369146       0.359818       0.440516       0.267258   \n",
       "\n",
       "   description_5  description_6  description_7  description_8  description_9  \\\n",
       "0       0.324518       0.393314       0.607184       0.383449       0.444087   \n",
       "1       0.236280       0.443523       0.576730       0.430064       0.534448   \n",
       "2       0.316438       0.412828       0.496656       0.290929       0.487923   \n",
       "3       0.230375       0.414321       0.467209       0.357937       0.631111   \n",
       "4       0.471236       0.459236       0.537976       0.562845       0.536365   \n",
       "\n",
       "   ...   title_9        id   quality    points  sum_desc   sum_var  sum_prov  \\\n",
       "0  ...  0.315928  0.212199  0.333333  0.448627  0.575127  0.089270  0.012973   \n",
       "1  ...  0.315928  0.470943  0.333333  0.408345  0.546581  1.000000  0.999758   \n",
       "2  ...  0.315928  0.214935  0.666667  0.701932  0.650819  1.000000  0.999758   \n",
       "3  ...  0.372638  0.824262  0.333333  0.497155  0.419626  0.015175  0.999896   \n",
       "4  ...  0.304400  0.222946  0.333333  0.455757  0.502430  0.014306  0.999896   \n",
       "\n",
       "   sum_country  train_test  price  \n",
       "0     0.867082       train   20.0  \n",
       "1     2.282451       train   28.0  \n",
       "2     2.282451       train  130.0  \n",
       "3     0.794170       train   34.0  \n",
       "4     0.792788       train   24.0  \n",
       "\n",
       "[5 rows x 59 columns]"
      ]
     },
     "execution_count": 352,
     "metadata": {},
     "output_type": "execute_result"
    }
   ],
   "source": [
    "final_data.head()"
   ]
  },
  {
   "cell_type": "code",
   "execution_count": 307,
   "metadata": {},
   "outputs": [],
   "source": [
    "# final_data['country3_8'] = final_data.quality*(final_data.country_1+final_data.country_3+final_data.country_4+final_data.country_5+final_data.country_6+final_data.country_7+final_data.country_8)"
   ]
  },
  {
   "cell_type": "code",
   "execution_count": null,
   "metadata": {},
   "outputs": [],
   "source": []
  },
  {
   "cell_type": "code",
   "execution_count": 314,
   "metadata": {},
   "outputs": [
    {
     "data": {
      "text/html": [
       "<div>\n",
       "<style scoped>\n",
       "    .dataframe tbody tr th:only-of-type {\n",
       "        vertical-align: middle;\n",
       "    }\n",
       "\n",
       "    .dataframe tbody tr th {\n",
       "        vertical-align: top;\n",
       "    }\n",
       "\n",
       "    .dataframe thead th {\n",
       "        text-align: right;\n",
       "    }\n",
       "</style>\n",
       "<table border=\"1\" class=\"dataframe\">\n",
       "  <thead>\n",
       "    <tr style=\"text-align: right;\">\n",
       "      <th></th>\n",
       "      <th>description_0</th>\n",
       "      <th>description_1</th>\n",
       "      <th>description_2</th>\n",
       "      <th>description_3</th>\n",
       "      <th>description_4</th>\n",
       "      <th>description_5</th>\n",
       "      <th>description_6</th>\n",
       "      <th>description_7</th>\n",
       "      <th>description_8</th>\n",
       "      <th>description_9</th>\n",
       "      <th>...</th>\n",
       "      <th>title_7</th>\n",
       "      <th>title_8</th>\n",
       "      <th>title_9</th>\n",
       "      <th>id</th>\n",
       "      <th>quality</th>\n",
       "      <th>points</th>\n",
       "      <th>sum_desc</th>\n",
       "      <th>sum_var</th>\n",
       "      <th>sum_prov</th>\n",
       "      <th>sum_country</th>\n",
       "    </tr>\n",
       "  </thead>\n",
       "  <tbody>\n",
       "    <tr>\n",
       "      <th>0</th>\n",
       "      <td>0.536308</td>\n",
       "      <td>0.499766</td>\n",
       "      <td>0.694062</td>\n",
       "      <td>0.605231</td>\n",
       "      <td>0.241022</td>\n",
       "      <td>0.324518</td>\n",
       "      <td>0.393314</td>\n",
       "      <td>0.607184</td>\n",
       "      <td>0.383449</td>\n",
       "      <td>0.444087</td>\n",
       "      <td>...</td>\n",
       "      <td>0.275691</td>\n",
       "      <td>0.290117</td>\n",
       "      <td>0.315928</td>\n",
       "      <td>0.212199</td>\n",
       "      <td>0.333333</td>\n",
       "      <td>0.448627</td>\n",
       "      <td>0.575127</td>\n",
       "      <td>0.08927</td>\n",
       "      <td>0.012973</td>\n",
       "      <td>0.08927</td>\n",
       "    </tr>\n",
       "    <tr>\n",
       "      <th>1</th>\n",
       "      <td>0.556484</td>\n",
       "      <td>0.542347</td>\n",
       "      <td>0.584460</td>\n",
       "      <td>0.527681</td>\n",
       "      <td>0.215153</td>\n",
       "      <td>0.236280</td>\n",
       "      <td>0.443523</td>\n",
       "      <td>0.576730</td>\n",
       "      <td>0.430064</td>\n",
       "      <td>0.534448</td>\n",
       "      <td>...</td>\n",
       "      <td>0.275691</td>\n",
       "      <td>0.290117</td>\n",
       "      <td>0.315928</td>\n",
       "      <td>0.470943</td>\n",
       "      <td>0.333333</td>\n",
       "      <td>0.408345</td>\n",
       "      <td>0.546581</td>\n",
       "      <td>1.00000</td>\n",
       "      <td>0.999758</td>\n",
       "      <td>1.00000</td>\n",
       "    </tr>\n",
       "  </tbody>\n",
       "</table>\n",
       "<p>2 rows × 57 columns</p>\n",
       "</div>"
      ],
      "text/plain": [
       "   description_0  description_1  description_2  description_3  description_4  \\\n",
       "0       0.536308       0.499766       0.694062       0.605231       0.241022   \n",
       "1       0.556484       0.542347       0.584460       0.527681       0.215153   \n",
       "\n",
       "   description_5  description_6  description_7  description_8  description_9  \\\n",
       "0       0.324518       0.393314       0.607184       0.383449       0.444087   \n",
       "1       0.236280       0.443523       0.576730       0.430064       0.534448   \n",
       "\n",
       "   ...   title_7   title_8   title_9        id   quality    points  sum_desc  \\\n",
       "0  ...  0.275691  0.290117  0.315928  0.212199  0.333333  0.448627  0.575127   \n",
       "1  ...  0.275691  0.290117  0.315928  0.470943  0.333333  0.408345  0.546581   \n",
       "\n",
       "   sum_var  sum_prov  sum_country  \n",
       "0  0.08927  0.012973      0.08927  \n",
       "1  1.00000  0.999758      1.00000  \n",
       "\n",
       "[2 rows x 57 columns]"
      ]
     },
     "execution_count": 314,
     "metadata": {},
     "output_type": "execute_result"
    }
   ],
   "source": [
    "from sklearn import preprocessing\n",
    "\n",
    "\n",
    "x = final_data[['description_0', 'description_1', 'description_2', 'description_3',\n",
    "       'description_4', 'description_5', 'description_6', 'description_7',\n",
    "       'description_8', 'description_9', 'variety_0', 'variety_1', 'variety_2',\n",
    "       'variety_3', 'variety_4', 'variety_5', 'variety_6', 'variety_7',\n",
    "       'variety_8', 'variety_9', 'province_0', 'province_1', 'province_2',\n",
    "       'province_3', 'province_4', 'province_5', 'province_6', 'province_7',\n",
    "       'province_8', 'province_9', 'country_0', 'country_1', 'country_2',\n",
    "       'country_3', 'country_4', 'country_5', 'country_6', 'country_7',\n",
    "       'country_8', 'country_9', 'title_0', 'title_1', 'title_2', 'title_3',\n",
    "       'title_4', 'title_5', 'title_6', 'title_7', 'title_8', 'title_9',\n",
    "        'id', 'quality', 'points', 'sum_desc', 'sum_var',\n",
    "       'sum_prov', 'sum_country']].values #returns a numpy array\n",
    "min_max_scaler = preprocessing.MinMaxScaler()\n",
    "x_scaled = min_max_scaler.fit_transform(x)\n",
    "df = pd.DataFrame(x_scaled)\n",
    "df.columns = ['description_0', 'description_1', 'description_2', 'description_3',\n",
    "       'description_4', 'description_5', 'description_6', 'description_7',\n",
    "       'description_8', 'description_9', 'variety_0', 'variety_1', 'variety_2',\n",
    "       'variety_3', 'variety_4', 'variety_5', 'variety_6', 'variety_7',\n",
    "       'variety_8', 'variety_9', 'province_0', 'province_1', 'province_2',\n",
    "       'province_3', 'province_4', 'province_5', 'province_6', 'province_7',\n",
    "       'province_8', 'province_9', 'country_0', 'country_1', 'country_2',\n",
    "       'country_3', 'country_4', 'country_5', 'country_6', 'country_7',\n",
    "       'country_8', 'country_9', 'title_0', 'title_1', 'title_2', 'title_3',\n",
    "       'title_4', 'title_5', 'title_6', 'title_7', 'title_8', 'title_9',\n",
    "        'id', 'quality', 'points', 'sum_desc', 'sum_var',\n",
    "       'sum_prov', 'sum_country']\n",
    "df.head(2)"
   ]
  },
  {
   "cell_type": "code",
   "execution_count": 316,
   "metadata": {},
   "outputs": [],
   "source": [
    "final_data = pd.concat([df,final_data['train_test'],final_data['price']],axis = 1)"
   ]
  },
  {
   "cell_type": "code",
   "execution_count": null,
   "metadata": {},
   "outputs": [],
   "source": []
  },
  {
   "cell_type": "code",
   "execution_count": null,
   "metadata": {},
   "outputs": [],
   "source": []
  },
  {
   "cell_type": "code",
   "execution_count": 317,
   "metadata": {},
   "outputs": [],
   "source": [
    "train_data = final_data[final_data['train_test'] == 'train']\n",
    "test_data = final_data[final_data['train_test'] == 'test']"
   ]
  },
  {
   "cell_type": "code",
   "execution_count": 318,
   "metadata": {},
   "outputs": [
    {
     "data": {
      "text/html": [
       "<div>\n",
       "<style scoped>\n",
       "    .dataframe tbody tr th:only-of-type {\n",
       "        vertical-align: middle;\n",
       "    }\n",
       "\n",
       "    .dataframe tbody tr th {\n",
       "        vertical-align: top;\n",
       "    }\n",
       "\n",
       "    .dataframe thead th {\n",
       "        text-align: right;\n",
       "    }\n",
       "</style>\n",
       "<table border=\"1\" class=\"dataframe\">\n",
       "  <thead>\n",
       "    <tr style=\"text-align: right;\">\n",
       "      <th></th>\n",
       "      <th>description_0</th>\n",
       "      <th>description_1</th>\n",
       "      <th>description_2</th>\n",
       "      <th>description_3</th>\n",
       "      <th>description_4</th>\n",
       "      <th>description_5</th>\n",
       "      <th>description_6</th>\n",
       "      <th>description_7</th>\n",
       "      <th>description_8</th>\n",
       "      <th>description_9</th>\n",
       "      <th>...</th>\n",
       "      <th>title_9</th>\n",
       "      <th>id</th>\n",
       "      <th>quality</th>\n",
       "      <th>points</th>\n",
       "      <th>sum_desc</th>\n",
       "      <th>sum_var</th>\n",
       "      <th>sum_prov</th>\n",
       "      <th>sum_country</th>\n",
       "      <th>train_test</th>\n",
       "      <th>price</th>\n",
       "    </tr>\n",
       "  </thead>\n",
       "  <tbody>\n",
       "    <tr>\n",
       "      <th>0</th>\n",
       "      <td>0.536308</td>\n",
       "      <td>0.499766</td>\n",
       "      <td>0.694062</td>\n",
       "      <td>0.605231</td>\n",
       "      <td>0.241022</td>\n",
       "      <td>0.324518</td>\n",
       "      <td>0.393314</td>\n",
       "      <td>0.607184</td>\n",
       "      <td>0.383449</td>\n",
       "      <td>0.444087</td>\n",
       "      <td>...</td>\n",
       "      <td>0.315928</td>\n",
       "      <td>0.212199</td>\n",
       "      <td>0.333333</td>\n",
       "      <td>0.448627</td>\n",
       "      <td>0.575127</td>\n",
       "      <td>0.08927</td>\n",
       "      <td>0.012973</td>\n",
       "      <td>0.08927</td>\n",
       "      <td>train</td>\n",
       "      <td>20.0</td>\n",
       "    </tr>\n",
       "    <tr>\n",
       "      <th>1</th>\n",
       "      <td>0.556484</td>\n",
       "      <td>0.542347</td>\n",
       "      <td>0.584460</td>\n",
       "      <td>0.527681</td>\n",
       "      <td>0.215153</td>\n",
       "      <td>0.236280</td>\n",
       "      <td>0.443523</td>\n",
       "      <td>0.576730</td>\n",
       "      <td>0.430064</td>\n",
       "      <td>0.534448</td>\n",
       "      <td>...</td>\n",
       "      <td>0.315928</td>\n",
       "      <td>0.470943</td>\n",
       "      <td>0.333333</td>\n",
       "      <td>0.408345</td>\n",
       "      <td>0.546581</td>\n",
       "      <td>1.00000</td>\n",
       "      <td>0.999758</td>\n",
       "      <td>1.00000</td>\n",
       "      <td>train</td>\n",
       "      <td>28.0</td>\n",
       "    </tr>\n",
       "  </tbody>\n",
       "</table>\n",
       "<p>2 rows × 59 columns</p>\n",
       "</div>"
      ],
      "text/plain": [
       "   description_0  description_1  description_2  description_3  description_4  \\\n",
       "0       0.536308       0.499766       0.694062       0.605231       0.241022   \n",
       "1       0.556484       0.542347       0.584460       0.527681       0.215153   \n",
       "\n",
       "   description_5  description_6  description_7  description_8  description_9  \\\n",
       "0       0.324518       0.393314       0.607184       0.383449       0.444087   \n",
       "1       0.236280       0.443523       0.576730       0.430064       0.534448   \n",
       "\n",
       "   ...   title_9        id   quality    points  sum_desc  sum_var  sum_prov  \\\n",
       "0  ...  0.315928  0.212199  0.333333  0.448627  0.575127  0.08927  0.012973   \n",
       "1  ...  0.315928  0.470943  0.333333  0.408345  0.546581  1.00000  0.999758   \n",
       "\n",
       "   sum_country  train_test  price  \n",
       "0      0.08927       train   20.0  \n",
       "1      1.00000       train   28.0  \n",
       "\n",
       "[2 rows x 59 columns]"
      ]
     },
     "execution_count": 318,
     "metadata": {},
     "output_type": "execute_result"
    }
   ],
   "source": [
    "train_data.head(2)"
   ]
  },
  {
   "cell_type": "code",
   "execution_count": null,
   "metadata": {},
   "outputs": [],
   "source": []
  },
  {
   "cell_type": "code",
   "execution_count": null,
   "metadata": {},
   "outputs": [],
   "source": []
  },
  {
   "cell_type": "code",
   "execution_count": 331,
   "metadata": {},
   "outputs": [],
   "source": [
    "X = train_data[['description_0', 'description_1', 'description_2', 'description_3',\n",
    "       'description_4', 'description_5', 'description_6', 'description_7',\n",
    "       'description_8', 'description_9', 'variety_0', 'variety_1', 'variety_2',\n",
    "       'variety_3', 'variety_4', 'variety_5', 'variety_6', 'variety_7',\n",
    "       'variety_8', 'variety_9', 'province_0', 'province_1', 'province_2',\n",
    "       'province_3', 'province_4', 'province_5', 'province_6', 'province_7',\n",
    "       'province_8', 'province_9', 'country_0', 'country_1', 'country_2',\n",
    "       'country_3', 'country_4', 'country_5', 'country_6', 'country_7',\n",
    "       'country_8', 'country_9', 'title_0', 'title_1', 'title_2', 'title_3',\n",
    "       'title_4', 'title_5', 'title_6', 'title_7', 'title_8', 'title_9',\n",
    "        'id', 'quality', 'points', 'sum_desc', 'sum_var',\n",
    "       'sum_prov', 'sum_country']]\n",
    "y = train_data[\"price\"]"
   ]
  },
  {
   "cell_type": "code",
   "execution_count": 332,
   "metadata": {},
   "outputs": [],
   "source": [
    "X_train, X_test, y_train, y_test = train_test_split(X, y, test_size=0.3)"
   ]
  },
  {
   "cell_type": "code",
   "execution_count": 333,
   "metadata": {},
   "outputs": [
    {
     "name": "stdout",
     "output_type": "stream",
     "text": [
      "(52500, 57) (52500,) (122500, 57) (122500,)\n"
     ]
    }
   ],
   "source": [
    "print(X_test.shape, y_test.shape, X_train.shape, y_train.shape)"
   ]
  },
  {
   "cell_type": "code",
   "execution_count": 334,
   "metadata": {},
   "outputs": [
    {
     "name": "stderr",
     "output_type": "stream",
     "text": [
      "/home/aims/anaconda3/lib/python3.7/site-packages/xgboost/core.py:587: FutureWarning: Series.base is deprecated and will be removed in a future version\n",
      "  if getattr(data, 'base', None) is not None and \\\n"
     ]
    }
   ],
   "source": [
    "dtrain = xgb.DMatrix(X_train, label=y_train)\n",
    "dtest = xgb.DMatrix(X_test, label=y_test)"
   ]
  },
  {
   "cell_type": "code",
   "execution_count": 339,
   "metadata": {},
   "outputs": [
    {
     "name": "stdout",
     "output_type": "stream",
     "text": [
      "[0]\ttrain-mae:14.9604\n",
      "[1]\ttrain-mae:14.5452\n",
      "[2]\ttrain-mae:14.3059\n",
      "[3]\ttrain-mae:14.1895\n",
      "[4]\ttrain-mae:14.0269\n",
      "[5]\ttrain-mae:13.9446\n",
      "[6]\ttrain-mae:13.8154\n",
      "[7]\ttrain-mae:13.7277\n",
      "[8]\ttrain-mae:13.6385\n",
      "[9]\ttrain-mae:13.595\n",
      "[10]\ttrain-mae:13.5072\n",
      "[11]\ttrain-mae:13.4785\n",
      "[12]\ttrain-mae:13.4861\n",
      "[13]\ttrain-mae:13.4751\n",
      "[14]\ttrain-mae:13.4788\n",
      "[15]\ttrain-mae:13.4924\n",
      "[16]\ttrain-mae:13.486\n",
      "[17]\ttrain-mae:13.5231\n",
      "[18]\ttrain-mae:13.4795\n",
      "[19]\ttrain-mae:13.4624\n"
     ]
    }
   ],
   "source": [
    "#Set xgboost parameters\n",
    "param = {'max_depth': 3, 'eta': 1, 'subsample':0.5, 'alpha':1}\n",
    "param['nthread'] = 6\n",
    "param['eval_metric'] = 'mae'\n",
    "param['objective'] = 'reg:linear'\n",
    "param['silent'] = 1\n",
    "evallist = [(dtrain, 'train')]\n",
    "num_round = 20\n",
    "\n",
    "#Train model\n",
    "bst = xgb.train(param, dtrain, num_round, evallist)"
   ]
  },
  {
   "cell_type": "code",
   "execution_count": 340,
   "metadata": {},
   "outputs": [],
   "source": [
    "pred = pd.DataFrame(y_test.copy())\n",
    "pred[\"prediction\"] = bst.predict(dtest, ntree_limit=bst.best_ntree_limit)"
   ]
  },
  {
   "cell_type": "code",
   "execution_count": 341,
   "metadata": {},
   "outputs": [
    {
     "name": "stdout",
     "output_type": "stream",
     "text": [
      "Mean Squared Error: 33.15 \n"
     ]
    }
   ],
   "source": [
    "rmse = np.round(np.sqrt(mean_squared_error(y_true=pred[\"price\"], y_pred=pred[\"prediction\"])), 2)\n",
    "print (\"Mean Squared Error: {} \".format(rmse))"
   ]
  },
  {
   "cell_type": "code",
   "execution_count": 342,
   "metadata": {},
   "outputs": [],
   "source": [
    "from sklearn.linear_model import LinearRegression, Ridge\n",
    "from sklearn.ensemble import RandomForestRegressor"
   ]
  },
  {
   "cell_type": "code",
   "execution_count": 343,
   "metadata": {},
   "outputs": [
    {
     "data": {
      "text/plain": [
       "Ridge(alpha=1.0, copy_X=True, fit_intercept=True, max_iter=None,\n",
       "      normalize=False, random_state=None, solver='auto', tol=0.001)"
      ]
     },
     "execution_count": 343,
     "metadata": {},
     "output_type": "execute_result"
    }
   ],
   "source": [
    "lm = Ridge()\n",
    "\n",
    "lm.fit(X_train, y_train)"
   ]
  },
  {
   "cell_type": "code",
   "execution_count": 353,
   "metadata": {},
   "outputs": [
    {
     "name": "stdout",
     "output_type": "stream",
     "text": [
      "-17.934834110697373\n"
     ]
    }
   ],
   "source": [
    "print(lm.intercept_)"
   ]
  },
  {
   "cell_type": "code",
   "execution_count": 354,
   "metadata": {},
   "outputs": [
    {
     "data": {
      "text/plain": [
       "<matplotlib.collections.PathCollection at 0x7f388fc817b8>"
      ]
     },
     "execution_count": 354,
     "metadata": {},
     "output_type": "execute_result"
    },
    {
     "data": {
      "image/png": "[encoded data removed]",
      "text/plain": [
       "<Figure size 432x288 with 1 Axes>"
      ]
     },
     "metadata": {
      "needs_background": "light"
     },
     "output_type": "display_data"
    }
   ],
   "source": [
    "predictions = lm.predict(X_test)\n",
    "plt.scatter(np.log(y_test),predictions)"
   ]
  },
  {
   "cell_type": "code",
   "execution_count": 346,
   "metadata": {},
   "outputs": [
    {
     "name": "stdout",
     "output_type": "stream",
     "text": [
      "RMSE: 33.202166559711905\n"
     ]
    }
   ],
   "source": [
    "print('RMSE:', np.sqrt(mean_squared_error(y_test, predictions)))"
   ]
  },
  {
   "cell_type": "code",
   "execution_count": 347,
   "metadata": {},
   "outputs": [],
   "source": [
    "# rf = RandomForestRegressor()"
   ]
  },
  {
   "cell_type": "code",
   "execution_count": 349,
   "metadata": {},
   "outputs": [],
   "source": [
    "rf = RandomForestRegressor(n_estimators = 1000, random_state = 42)"
   ]
  },
  {
   "cell_type": "code",
   "execution_count": 350,
   "metadata": {},
   "outputs": [
    {
     "data": {
      "text/plain": [
       "RandomForestRegressor(bootstrap=True, criterion='mse', max_depth=None,\n",
       "                      max_features='auto', max_leaf_nodes=None,\n",
       "                      min_impurity_decrease=0.0, min_impurity_split=None,\n",
       "                      min_samples_leaf=1, min_samples_split=2,\n",
       "                      min_weight_fraction_leaf=0.0, n_estimators=1000,\n",
       "                      n_jobs=None, oob_score=False, random_state=42, verbose=0,\n",
       "                      warm_start=False)"
      ]
     },
     "execution_count": 350,
     "metadata": {},
     "output_type": "execute_result"
    }
   ],
   "source": [
    "rf.fit(X_train, y_train)"
   ]
  },
  {
   "cell_type": "code",
   "execution_count": 355,
   "metadata": {},
   "outputs": [],
   "source": [
    "predicts = rf.predict(X_test)"
   ]
  },
  {
   "cell_type": "code",
   "execution_count": 356,
   "metadata": {},
   "outputs": [
    {
     "data": {
      "text/plain": [
       "<matplotlib.collections.PathCollection at 0x7f388fc45400>"
      ]
     },
     "execution_count": 356,
     "metadata": {},
     "output_type": "execute_result"
    },
    {
     "data": {
      "image/png": "[encoded data removed]",
      "text/plain": [
       "<Figure size 432x288 with 1 Axes>"
      ]
     },
     "metadata": {
      "needs_background": "light"
     },
     "output_type": "display_data"
    }
   ],
   "source": [
    "plt.scatter(y_test, predicts)"
   ]
  },
  {
   "cell_type": "code",
   "execution_count": 357,
   "metadata": {},
   "outputs": [
    {
     "name": "stdout",
     "output_type": "stream",
     "text": [
      "RMSE: 27.097881576082834\n"
     ]
    }
   ],
   "source": [
    "print('RMSE:', np.sqrt(mean_squared_error(y_test, predicts)))"
   ]
  },
  {
   "cell_type": "code",
   "execution_count": 78,
   "metadata": {},
   "outputs": [],
   "source": [
    "#features_label = X.columns[:]\n",
    "#importances = rf.feature_importances_\n",
    "#indices = np. argsort(importances)[::-1]\n",
    "#for i in range(X.shape[1]):\n",
    "    #print (\"%2d) %-*s %f\" % (i + 1, 30, features_label[i],importances[indices[i]]))"
   ]
  },
  {
   "cell_type": "markdown",
   "metadata": {},
   "source": [
    "## XGB"
   ]
  },
  {
   "cell_type": "code",
   "execution_count": 238,
   "metadata": {},
   "outputs": [
    {
     "name": "stderr",
     "output_type": "stream",
     "text": [
      "/home/aims/anaconda3/lib/python3.7/site-packages/xgboost/core.py:587: FutureWarning: Series.base is deprecated and will be removed in a future version\n",
      "  if getattr(data, 'base', None) is not None and \\\n"
     ]
    },
    {
     "name": "stdout",
     "output_type": "stream",
     "text": [
      "[15:03:27] WARNING: /workspace/src/objective/regression_obj.cu:152: reg:linear is now deprecated in favor of reg:squarederror.\n"
     ]
    },
    {
     "data": {
      "text/plain": [
       "XGBRegressor(base_score=0.5, booster='gbtree', colsample_bylevel=1,\n",
       "             colsample_bynode=1, colsample_bytree=1, gamma=0,\n",
       "             importance_type='gain', learning_rate=0.1, max_delta_step=0,\n",
       "             max_depth=3, min_child_weight=1, missing=None, n_estimators=100,\n",
       "             n_jobs=1, nthread=None, objective='reg:linear', random_state=42,\n",
       "             reg_alpha=0, reg_lambda=1, scale_pos_weight=1, seed=None,\n",
       "             silent=None, subsample=1, verbosity=1)"
      ]
     },
     "execution_count": 238,
     "metadata": {},
     "output_type": "execute_result"
    }
   ],
   "source": [
    "xgb_model = xgb.XGBRegressor(objective=\"reg:linear\", random_state=42)\n",
    "\n",
    "xgb_model.fit(X_train,y_train)"
   ]
  },
  {
   "cell_type": "code",
   "execution_count": 240,
   "metadata": {},
   "outputs": [
    {
     "name": "stdout",
     "output_type": "stream",
     "text": [
      "xjb RMSE: 25.569298053294116\n"
     ]
    }
   ],
   "source": [
    "xgby_pred = xgb_model.predict(X_test)\n",
    "print('xjb RMSE:', np.sqrt(mean_squared_error(y_test, xgby_pred)))\n"
   ]
  },
  {
   "cell_type": "code",
   "execution_count": null,
   "metadata": {},
   "outputs": [],
   "source": []
  },
  {
   "cell_type": "code",
   "execution_count": null,
   "metadata": {},
   "outputs": [],
   "source": []
  },
  {
   "cell_type": "code",
   "execution_count": 79,
   "metadata": {},
   "outputs": [],
   "source": [
    "#print(test_data.columns.tolist())"
   ]
  },
  {
   "cell_type": "code",
   "execution_count": 241,
   "metadata": {},
   "outputs": [],
   "source": [
    "X_test = test_data[['description_0', 'description_1', 'description_2', 'description_3',\n",
    "       'description_4', 'description_5', 'description_6', 'description_7',\n",
    "       'description_8', 'description_9', 'variety_0', 'variety_1', 'variety_2',\n",
    "       'variety_3', 'variety_4', 'variety_5', 'variety_6', 'variety_7',\n",
    "       'variety_8', 'variety_9', 'province_0', 'province_1', 'province_2',\n",
    "       'province_3', 'province_4', 'province_5', 'province_6', 'province_7',\n",
    "       'province_8', 'province_9', 'country_0', 'country_1', 'country_2',\n",
    "       'country_3', 'country_4', 'country_5', 'country_6', 'country_7',\n",
    "       'country_8', 'country_9', 'title_0', 'title_1', 'title_2', 'title_3',\n",
    "       'title_4', 'title_5', 'title_6', 'title_7', 'title_8', 'title_9',\n",
    "                'id', 'quality', 'points', 'sum_desc', 'sum_var',\n",
    "       'sum_prov', 'sum_country']]"
   ]
  },
  {
   "cell_type": "code",
   "execution_count": 242,
   "metadata": {},
   "outputs": [
    {
     "name": "stderr",
     "output_type": "stream",
     "text": [
      "/home/aims/anaconda3/lib/python3.7/site-packages/ipykernel_launcher.py:1: SettingWithCopyWarning: \n",
      "A value is trying to be set on a copy of a slice from a DataFrame.\n",
      "Try using .loc[row_indexer,col_indexer] = value instead\n",
      "\n",
      "See the caveats in the documentation: http://pandas.pydata.org/pandas-docs/stable/indexing.html#indexing-view-versus-copy\n",
      "  \"\"\"Entry point for launching an IPython kernel.\n"
     ]
    },
    {
     "data": {
      "text/plain": [
       "175000    194.783\n",
       "175001     61.637\n",
       "175002     45.389\n",
       "175003     38.451\n",
       "175004     16.789\n",
       "Name: price, dtype: float64"
      ]
     },
     "execution_count": 242,
     "metadata": {},
     "output_type": "execute_result"
    }
   ],
   "source": [
    "test_data['price'] = rf.predict(X_test)\n",
    "test_data['price'].head()"
   ]
  },
  {
   "cell_type": "code",
   "execution_count": 243,
   "metadata": {},
   "outputs": [
    {
     "data": {
      "text/plain": [
       "[Text(0, 0, 'description_0'),\n",
       " Text(0, 0, 'description_1'),\n",
       " Text(0, 0, 'description_2'),\n",
       " Text(0, 0, 'description_3'),\n",
       " Text(0, 0, 'description_4'),\n",
       " Text(0, 0, 'description_5'),\n",
       " Text(0, 0, 'description_6'),\n",
       " Text(0, 0, 'description_7'),\n",
       " Text(0, 0, 'description_8'),\n",
       " Text(0, 0, 'description_9'),\n",
       " Text(0, 0, 'variety_0'),\n",
       " Text(0, 0, 'variety_1'),\n",
       " Text(0, 0, 'variety_2'),\n",
       " Text(0, 0, 'variety_3'),\n",
       " Text(0, 0, 'variety_4'),\n",
       " Text(0, 0, 'variety_5'),\n",
       " Text(0, 0, 'variety_6'),\n",
       " Text(0, 0, 'variety_7'),\n",
       " Text(0, 0, 'variety_8'),\n",
       " Text(0, 0, 'variety_9'),\n",
       " Text(0, 0, 'province_0'),\n",
       " Text(0, 0, 'province_1'),\n",
       " Text(0, 0, 'province_2'),\n",
       " Text(0, 0, 'province_3'),\n",
       " Text(0, 0, 'province_4'),\n",
       " Text(0, 0, 'province_5'),\n",
       " Text(0, 0, 'province_6'),\n",
       " Text(0, 0, 'province_7'),\n",
       " Text(0, 0, 'province_8'),\n",
       " Text(0, 0, 'province_9'),\n",
       " Text(0, 0, 'country_0'),\n",
       " Text(0, 0, 'country_1'),\n",
       " Text(0, 0, 'country_2'),\n",
       " Text(0, 0, 'country_3'),\n",
       " Text(0, 0, 'country_4'),\n",
       " Text(0, 0, 'country_5'),\n",
       " Text(0, 0, 'country_6'),\n",
       " Text(0, 0, 'country_7'),\n",
       " Text(0, 0, 'country_8'),\n",
       " Text(0, 0, 'country_9'),\n",
       " Text(0, 0, 'title_0'),\n",
       " Text(0, 0, 'title_1'),\n",
       " Text(0, 0, 'title_2'),\n",
       " Text(0, 0, 'title_3'),\n",
       " Text(0, 0, 'title_4'),\n",
       " Text(0, 0, 'title_5'),\n",
       " Text(0, 0, 'title_6'),\n",
       " Text(0, 0, 'title_7'),\n",
       " Text(0, 0, 'title_8'),\n",
       " Text(0, 0, 'title_9'),\n",
       " Text(0, 0, 'id'),\n",
       " Text(0, 0, 'quality'),\n",
       " Text(0, 0, 'points'),\n",
       " Text(0, 0, 'sum_desc'),\n",
       " Text(0, 0, 'sum_var'),\n",
       " Text(0, 0, 'sum_prov'),\n",
       " Text(0, 0, 'sum_country')]"
      ]
     },
     "execution_count": 243,
     "metadata": {},
     "output_type": "execute_result"
    },
    {
     "data": {
      "image/png": "[encoded data removed]",
      "text/plain": [
       "<Figure size 1080x576 with 1 Axes>"
      ]
     },
     "metadata": {
      "needs_background": "light"
     },
     "output_type": "display_data"
    }
   ],
   "source": [
    "importance = pd.concat([pd.DataFrame(X_train.columns),pd.DataFrame(rf.feature_importances_)],axis=1)\n",
    "importance.columns = ['feature','value']\n",
    "\n",
    "plt.figure(figsize=(15,8))\n",
    "sns.barplot(x=\"feature\", y=\"value\", data=importance).set_xticklabels(rotation=90,labels=X_train.columns)"
   ]
  },
  {
   "cell_type": "code",
   "execution_count": 244,
   "metadata": {},
   "outputs": [],
   "source": [
    "test_data[['id', 'price']].to_csv('bma_price_predicted22.csv', index=False)"
   ]
  },
  {
   "cell_type": "code",
   "execution_count": 86,
   "metadata": {},
   "outputs": [],
   "source": [
    "#pd.DataFrame(test_data_sss).to_csv('random_f.csv')"
   ]
  },
  {
   "cell_type": "code",
   "execution_count": 245,
   "metadata": {},
   "outputs": [],
   "source": [
    "import pickle"
   ]
  },
  {
   "cell_type": "code",
   "execution_count": 246,
   "metadata": {},
   "outputs": [],
   "source": [
    "pickle.dump(rf,open('rf_model22.sav','wb'))"
   ]
  },
  {
   "cell_type": "code",
   "execution_count": null,
   "metadata": {},
   "outputs": [],
   "source": []
  }
 ],
 "metadata": {
  "kernelspec": {
   "display_name": "Python 3",
   "language": "python",
   "name": "python3"
  },
  "language_info": {
   "codemirror_mode": {
    "name": "ipython",
    "version": 3
   },
   "file_extension": ".py",
   "mimetype": "text/x-python",
   "name": "python",
   "nbconvert_exporter": "python",
   "pygments_lexer": "ipython3",
   "version": "3.7.3"
  }
 },
 "nbformat": 4,
 "nbformat_minor": 2
}
