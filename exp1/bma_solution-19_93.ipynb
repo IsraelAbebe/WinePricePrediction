{
 "cells": [
  {
   "cell_type": "code",
   "execution_count": 7,
   "metadata": {},
   "outputs": [],
   "source": [
    "import pandas as pd\n",
    "import numpy as np\n",
    "import matplotlib.pyplot as plt\n",
    "import seaborn as sns\n",
    "\n",
    "import math\n",
    "from sklearn.model_selection import train_test_split\n",
    "from sklearn.metrics import precision_recall_curve, mean_squared_error\n",
    "from sklearn.linear_model import LogisticRegression\n",
    "from sklearn.feature_extraction.text import CountVectorizer, TfidfVectorizer\n",
    "from joblib import dump, load\n",
    "\n",
    "from nltk.tokenize import RegexpTokenizer\n",
    "from sklearn.decomposition import TruncatedSVD\n",
    "import xgboost as xgb\n",
    "from util import  *\n",
    "\n",
    "\n",
    "%matplotlib inline"
   ]
  },
  {
   "cell_type": "code",
   "execution_count": 8,
   "metadata": {},
   "outputs": [
    {
     "name": "stderr",
     "output_type": "stream",
     "text": [
      "/home/aims/anaconda3/lib/python3.7/site-packages/ipykernel_launcher.py:7: FutureWarning: Sorting because non-concatenation axis is not aligned. A future version\n",
      "of pandas will change to not sort by default.\n",
      "\n",
      "To accept the future behavior, pass 'sort=False'.\n",
      "\n",
      "To retain the current behavior and silence the warning, pass 'sort=True'.\n",
      "\n",
      "  import sys\n"
     ]
    }
   ],
   "source": [
    "train = pd.read_csv('../data/train.csv')\n",
    "test = pd.read_csv('../data/test.csv')\n",
    "\n",
    "train['train_test'] = 'train'\n",
    "test['train_test'] = 'test'\n",
    "\n",
    "data = pd.concat([train, test])"
   ]
  },
  {
   "cell_type": "code",
   "execution_count": 9,
   "metadata": {},
   "outputs": [],
   "source": [
    "data['sentiment'] = data['description'].apply(lambda x : sentiment_analyzer_scores(x,'compound'))"
   ]
  },
  {
   "cell_type": "code",
   "execution_count": 10,
   "metadata": {},
   "outputs": [
    {
     "data": {
      "text/plain": [
       "(258210, 17)"
      ]
     },
     "execution_count": 10,
     "metadata": {},
     "output_type": "execute_result"
    }
   ],
   "source": [
    "data.shape"
   ]
  },
  {
   "cell_type": "code",
   "execution_count": 11,
   "metadata": {},
   "outputs": [
    {
     "data": {
      "text/plain": [
       "(83210, 16)"
      ]
     },
     "execution_count": 11,
     "metadata": {},
     "output_type": "execute_result"
    }
   ],
   "source": [
    "test.shape"
   ]
  },
  {
   "cell_type": "code",
   "execution_count": 14,
   "metadata": {},
   "outputs": [
    {
     "data": {
      "text/html": [
       "<div>\n",
       "<style scoped>\n",
       "    .dataframe tbody tr th:only-of-type {\n",
       "        vertical-align: middle;\n",
       "    }\n",
       "\n",
       "    .dataframe tbody tr th {\n",
       "        vertical-align: top;\n",
       "    }\n",
       "\n",
       "    .dataframe thead th {\n",
       "        text-align: right;\n",
       "    }\n",
       "</style>\n",
       "<table border=\"1\" class=\"dataframe\">\n",
       "  <thead>\n",
       "    <tr style=\"text-align: right;\">\n",
       "      <th></th>\n",
       "      <th>country</th>\n",
       "      <th>description</th>\n",
       "      <th>designation</th>\n",
       "      <th>id</th>\n",
       "      <th>index</th>\n",
       "      <th>points</th>\n",
       "      <th>price</th>\n",
       "      <th>province</th>\n",
       "      <th>region_1</th>\n",
       "      <th>region_2</th>\n",
       "      <th>taster_name</th>\n",
       "      <th>taster_twitter_handle</th>\n",
       "      <th>title</th>\n",
       "      <th>train_test</th>\n",
       "      <th>variety</th>\n",
       "      <th>winery</th>\n",
       "      <th>sentiment</th>\n",
       "    </tr>\n",
       "  </thead>\n",
       "  <tbody>\n",
       "    <tr>\n",
       "      <th>0</th>\n",
       "      <td>Portugal</td>\n",
       "      <td>This is a fine rich balanced wine. It has ripe...</td>\n",
       "      <td>Vila Santa Reserva</td>\n",
       "      <td>32027</td>\n",
       "      <td>NaN</td>\n",
       "      <td>88.870874</td>\n",
       "      <td>20.0</td>\n",
       "      <td>Alentejano</td>\n",
       "      <td>NaN</td>\n",
       "      <td>NaN</td>\n",
       "      <td>NaN</td>\n",
       "      <td>NaN</td>\n",
       "      <td>NaN</td>\n",
       "      <td>train</td>\n",
       "      <td>PORTUGUESE RED</td>\n",
       "      <td>J. Portugal Ramos</td>\n",
       "      <td>3</td>\n",
       "    </tr>\n",
       "    <tr>\n",
       "      <th>1</th>\n",
       "      <td>France</td>\n",
       "      <td>A solid, chunky wine, with a structure that is...</td>\n",
       "      <td>NaN</td>\n",
       "      <td>71079</td>\n",
       "      <td>NaN</td>\n",
       "      <td>88.041695</td>\n",
       "      <td>28.0</td>\n",
       "      <td>Bordeaux</td>\n",
       "      <td>Lalande de Pomerol</td>\n",
       "      <td>NaN</td>\n",
       "      <td>NaN</td>\n",
       "      <td>NaN</td>\n",
       "      <td>NaN</td>\n",
       "      <td>train</td>\n",
       "      <td>BORDEAUX-STYLE RED BLEND</td>\n",
       "      <td>Château Tour Grand Colombier</td>\n",
       "      <td>3</td>\n",
       "    </tr>\n",
       "    <tr>\n",
       "      <th>2</th>\n",
       "      <td>France</td>\n",
       "      <td>This is powerful and concentrated, with the hi...</td>\n",
       "      <td>NaN</td>\n",
       "      <td>32440</td>\n",
       "      <td>NaN</td>\n",
       "      <td>94.085021</td>\n",
       "      <td>130.0</td>\n",
       "      <td>Bordeaux</td>\n",
       "      <td>Saint-Émilion</td>\n",
       "      <td>NaN</td>\n",
       "      <td>NaN</td>\n",
       "      <td>NaN</td>\n",
       "      <td>NaN</td>\n",
       "      <td>train</td>\n",
       "      <td>BORDEAUX-STYLE RED BLEND</td>\n",
       "      <td>Château Figeac</td>\n",
       "      <td>3</td>\n",
       "    </tr>\n",
       "    <tr>\n",
       "      <th>3</th>\n",
       "      <td>US</td>\n",
       "      <td>Rich, ripe and oaky, this Petite Sirah charms ...</td>\n",
       "      <td>Thompson Vineyard</td>\n",
       "      <td>124405</td>\n",
       "      <td>NaN</td>\n",
       "      <td>89.869797</td>\n",
       "      <td>34.0</td>\n",
       "      <td>California</td>\n",
       "      <td>Santa Barbara County</td>\n",
       "      <td>Central Coast</td>\n",
       "      <td>NaN</td>\n",
       "      <td>NaN</td>\n",
       "      <td>Jaffurs 2010 Thompson Vineyard Petite Sirah (S...</td>\n",
       "      <td>train</td>\n",
       "      <td>PETITE SIRAH</td>\n",
       "      <td>Jaffurs</td>\n",
       "      <td>3</td>\n",
       "    </tr>\n",
       "    <tr>\n",
       "      <th>4</th>\n",
       "      <td>US</td>\n",
       "      <td>This wine is a unique in the state blend and f...</td>\n",
       "      <td>McKinley Springs Vineyard</td>\n",
       "      <td>33649</td>\n",
       "      <td>NaN</td>\n",
       "      <td>89.017651</td>\n",
       "      <td>24.0</td>\n",
       "      <td>Washington</td>\n",
       "      <td>Horse Heaven Hills</td>\n",
       "      <td>Columbia Valley</td>\n",
       "      <td>Sean P. Sullivan</td>\n",
       "      <td>@wawinereport</td>\n",
       "      <td>Syncline 2016 McKinley Springs Vineyard Rosé (...</td>\n",
       "      <td>train</td>\n",
       "      <td>ROSé</td>\n",
       "      <td>Syncline</td>\n",
       "      <td>3</td>\n",
       "    </tr>\n",
       "  </tbody>\n",
       "</table>\n",
       "</div>"
      ],
      "text/plain": [
       "    country                                        description  \\\n",
       "0  Portugal  This is a fine rich balanced wine. It has ripe...   \n",
       "1    France  A solid, chunky wine, with a structure that is...   \n",
       "2    France  This is powerful and concentrated, with the hi...   \n",
       "3        US  Rich, ripe and oaky, this Petite Sirah charms ...   \n",
       "4        US  This wine is a unique in the state blend and f...   \n",
       "\n",
       "                 designation      id  index     points  price    province  \\\n",
       "0         Vila Santa Reserva   32027    NaN  88.870874   20.0  Alentejano   \n",
       "1                        NaN   71079    NaN  88.041695   28.0    Bordeaux   \n",
       "2                        NaN   32440    NaN  94.085021  130.0    Bordeaux   \n",
       "3          Thompson Vineyard  124405    NaN  89.869797   34.0  California   \n",
       "4  McKinley Springs Vineyard   33649    NaN  89.017651   24.0  Washington   \n",
       "\n",
       "               region_1         region_2       taster_name  \\\n",
       "0                   NaN              NaN               NaN   \n",
       "1    Lalande de Pomerol              NaN               NaN   \n",
       "2         Saint-Émilion              NaN               NaN   \n",
       "3  Santa Barbara County    Central Coast               NaN   \n",
       "4    Horse Heaven Hills  Columbia Valley  Sean P. Sullivan   \n",
       "\n",
       "  taster_twitter_handle                                              title  \\\n",
       "0                   NaN                                                NaN   \n",
       "1                   NaN                                                NaN   \n",
       "2                   NaN                                                NaN   \n",
       "3                   NaN  Jaffurs 2010 Thompson Vineyard Petite Sirah (S...   \n",
       "4         @wawinereport  Syncline 2016 McKinley Springs Vineyard Rosé (...   \n",
       "\n",
       "  train_test                   variety                        winery  \\\n",
       "0      train            PORTUGUESE RED             J. Portugal Ramos   \n",
       "1      train  BORDEAUX-STYLE RED BLEND  Château Tour Grand Colombier   \n",
       "2      train  BORDEAUX-STYLE RED BLEND                Château Figeac   \n",
       "3      train              PETITE SIRAH                       Jaffurs   \n",
       "4      train                      ROSé                      Syncline   \n",
       "\n",
       "   sentiment  \n",
       "0          3  \n",
       "1          3  \n",
       "2          3  \n",
       "3          3  \n",
       "4          3  "
      ]
     },
     "execution_count": 14,
     "metadata": {},
     "output_type": "execute_result"
    }
   ],
   "source": [
    "data.head()"
   ]
  },
  {
   "cell_type": "code",
   "execution_count": null,
   "metadata": {},
   "outputs": [],
   "source": []
  },
  {
   "cell_type": "code",
   "execution_count": 15,
   "metadata": {},
   "outputs": [
    {
     "data": {
      "text/plain": [
       "array(['Gloria Ferrer NV Sonoma Brut Sparkling (Sonoma County)'],\n",
       "      dtype=object)"
      ]
     },
     "execution_count": 15,
     "metadata": {},
     "output_type": "execute_result"
    }
   ],
   "source": [
    "data['title'].mode().values\n"
   ]
  },
  {
   "cell_type": "code",
   "execution_count": 16,
   "metadata": {},
   "outputs": [],
   "source": [
    "data.region_1.fillna(value='Napa Valley',inplace=True)"
   ]
  },
  {
   "cell_type": "code",
   "execution_count": 17,
   "metadata": {},
   "outputs": [],
   "source": [
    "data.variety.fillna(value='PINOT NOIR', inplace=True)"
   ]
  },
  {
   "cell_type": "code",
   "execution_count": 18,
   "metadata": {},
   "outputs": [],
   "source": [
    "data.province.fillna(value='California', inplace=True)"
   ]
  },
  {
   "cell_type": "code",
   "execution_count": null,
   "metadata": {},
   "outputs": [],
   "source": []
  },
  {
   "cell_type": "code",
   "execution_count": 19,
   "metadata": {},
   "outputs": [],
   "source": [
    "data = data[pd.notnull(data['region_1'])]\n",
    "data = data[pd.notnull(data['variety'])]\n",
    "data = data[pd.notnull(data['province'])]"
   ]
  },
  {
   "cell_type": "code",
   "execution_count": 20,
   "metadata": {},
   "outputs": [
    {
     "name": "stdout",
     "output_type": "stream",
     "text": [
      "<class 'pandas.core.frame.DataFrame'>\n",
      "Int64Index: 258210 entries, 0 to 83209\n",
      "Data columns (total 17 columns):\n",
      "country                  258146 non-null object\n",
      "description              258210 non-null object\n",
      "designation              181120 non-null object\n",
      "id                       258210 non-null int64\n",
      "index                    83210 non-null float64\n",
      "points                   258210 non-null float64\n",
      "price                    175000 non-null float64\n",
      "province                 258210 non-null object\n",
      "region_1                 258210 non-null object\n",
      "region_2                 110996 non-null object\n",
      "taster_name              258210 non-null object\n",
      "taster_twitter_handle    91559 non-null object\n",
      "title                    120975 non-null object\n",
      "train_test               258210 non-null object\n",
      "variety                  258210 non-null object\n",
      "winery                   258210 non-null object\n",
      "sentiment                258210 non-null int64\n",
      "dtypes: float64(3), int64(2), object(12)\n",
      "memory usage: 35.5+ MB\n"
     ]
    }
   ],
   "source": [
    "data.taster_name.fillna(value='Roger Voss', inplace=True)\n",
    "data.info()"
   ]
  },
  {
   "cell_type": "code",
   "execution_count": 21,
   "metadata": {},
   "outputs": [
    {
     "name": "stdout",
     "output_type": "stream",
     "text": [
      "<class 'pandas.core.frame.DataFrame'>\n",
      "Int64Index: 258210 entries, 0 to 83209\n",
      "Data columns (total 17 columns):\n",
      "country                  258146 non-null object\n",
      "description              258210 non-null object\n",
      "designation              181120 non-null object\n",
      "id                       258210 non-null int64\n",
      "index                    83210 non-null float64\n",
      "points                   258210 non-null float64\n",
      "price                    175000 non-null float64\n",
      "province                 258210 non-null object\n",
      "region_1                 258210 non-null object\n",
      "region_2                 110996 non-null object\n",
      "taster_name              258210 non-null object\n",
      "taster_twitter_handle    91559 non-null object\n",
      "title                    258210 non-null object\n",
      "train_test               258210 non-null object\n",
      "variety                  258210 non-null object\n",
      "winery                   258210 non-null object\n",
      "sentiment                258210 non-null int64\n",
      "dtypes: float64(3), int64(2), object(12)\n",
      "memory usage: 35.5+ MB\n"
     ]
    }
   ],
   "source": [
    "data.title.fillna(value='Gloria Ferrer NV Sonoma Brut Sparkling (Sonoma County)', inplace=True)\n",
    "data.info()"
   ]
  },
  {
   "cell_type": "code",
   "execution_count": 22,
   "metadata": {},
   "outputs": [
    {
     "data": {
      "text/plain": [
       "110638"
      ]
     },
     "execution_count": 22,
     "metadata": {},
     "output_type": "execute_result"
    }
   ],
   "source": [
    "data.title.nunique()"
   ]
  },
  {
   "cell_type": "code",
   "execution_count": 23,
   "metadata": {},
   "outputs": [],
   "source": [
    "data['sentiment'] = pd.Categorical(data['sentiment'])\n",
    "sentiDummies = pd.get_dummies(data['sentiment'], prefix = 'sentiment')\n",
    "\n",
    "data['province'] = pd.Categorical(data['province'])\n",
    "proDummies = pd.get_dummies(data['province'], prefix = 'prov')\n",
    "\n",
    "data['country'] = pd.Categorical(data['country'])\n",
    "countDummies = pd.get_dummies(data['country'], prefix = 'country')\n",
    "\n",
    "data['variety'] = pd.Categorical(data['variety'])\n",
    "varDummies = pd.get_dummies(data['variety'], prefix = 'variety')\n",
    "\n",
    "data['taster_name'] = pd.Categorical(data['taster_name'])\n",
    "tastDummies = pd.get_dummies(data['taster_name'], prefix = 'taster')\n",
    "\n",
    "\n",
    "data['region_1'] = pd.Categorical(data['region_1'])\n",
    "regionDummies = pd.get_dummies(data['region_1'],prefix='region_1')\n",
    "\n",
    "#data['title'] = pd.Categorical(data['title'])\n",
    "#titleDummies = pd.get_dummies(data['title'], prefix = 'title')"
   ]
  },
  {
   "cell_type": "code",
   "execution_count": 24,
   "metadata": {},
   "outputs": [],
   "source": [
    "def getQuality(points):\n",
    "    if(points <= 85):\n",
    "        return 'bad'\n",
    "    elif(points<=90 ):\n",
    "        return 'ok'\n",
    "    elif(points<=95):\n",
    "        return 'good'\n",
    "    elif(points<=102):\n",
    "        return 'great'\n",
    "    else:\n",
    "        return 'If this gets hit, we did something wrong!'"
   ]
  },
  {
   "cell_type": "code",
   "execution_count": 25,
   "metadata": {},
   "outputs": [],
   "source": [
    "data['quality'] = data['points'].apply(getQuality)\n",
    "cleanup_nums = {\"quality\":     {\"ok\": 2, \"good\": 3, \"bad\": 1, \"great\": 4},\n",
    "                \"priceRange\": {\"1-30\": 1, \"31-50\": 2, \"51-100\": 3, \"Above 100\": 4}}\n",
    "\n",
    "data.replace(cleanup_nums, inplace=True)"
   ]
  },
  {
   "cell_type": "code",
   "execution_count": 26,
   "metadata": {},
   "outputs": [
    {
     "data": {
      "text/html": [
       "<div>\n",
       "<style scoped>\n",
       "    .dataframe tbody tr th:only-of-type {\n",
       "        vertical-align: middle;\n",
       "    }\n",
       "\n",
       "    .dataframe tbody tr th {\n",
       "        vertical-align: top;\n",
       "    }\n",
       "\n",
       "    .dataframe thead th {\n",
       "        text-align: right;\n",
       "    }\n",
       "</style>\n",
       "<table border=\"1\" class=\"dataframe\">\n",
       "  <thead>\n",
       "    <tr style=\"text-align: right;\">\n",
       "      <th></th>\n",
       "      <th>country</th>\n",
       "      <th>description</th>\n",
       "      <th>designation</th>\n",
       "      <th>id</th>\n",
       "      <th>index</th>\n",
       "      <th>points</th>\n",
       "      <th>price</th>\n",
       "      <th>province</th>\n",
       "      <th>region_1</th>\n",
       "      <th>region_2</th>\n",
       "      <th>taster_name</th>\n",
       "      <th>taster_twitter_handle</th>\n",
       "      <th>title</th>\n",
       "      <th>train_test</th>\n",
       "      <th>variety</th>\n",
       "      <th>winery</th>\n",
       "      <th>sentiment</th>\n",
       "      <th>quality</th>\n",
       "    </tr>\n",
       "  </thead>\n",
       "  <tbody>\n",
       "    <tr>\n",
       "      <th>0</th>\n",
       "      <td>Portugal</td>\n",
       "      <td>This is a fine rich balanced wine. It has ripe...</td>\n",
       "      <td>Vila Santa Reserva</td>\n",
       "      <td>32027</td>\n",
       "      <td>NaN</td>\n",
       "      <td>88.870874</td>\n",
       "      <td>20.0</td>\n",
       "      <td>Alentejano</td>\n",
       "      <td>Napa Valley</td>\n",
       "      <td>NaN</td>\n",
       "      <td>Roger Voss</td>\n",
       "      <td>NaN</td>\n",
       "      <td>Gloria Ferrer NV Sonoma Brut Sparkling (Sonoma...</td>\n",
       "      <td>train</td>\n",
       "      <td>PORTUGUESE RED</td>\n",
       "      <td>J. Portugal Ramos</td>\n",
       "      <td>3</td>\n",
       "      <td>2</td>\n",
       "    </tr>\n",
       "    <tr>\n",
       "      <th>1</th>\n",
       "      <td>France</td>\n",
       "      <td>A solid, chunky wine, with a structure that is...</td>\n",
       "      <td>NaN</td>\n",
       "      <td>71079</td>\n",
       "      <td>NaN</td>\n",
       "      <td>88.041695</td>\n",
       "      <td>28.0</td>\n",
       "      <td>Bordeaux</td>\n",
       "      <td>Lalande de Pomerol</td>\n",
       "      <td>NaN</td>\n",
       "      <td>Roger Voss</td>\n",
       "      <td>NaN</td>\n",
       "      <td>Gloria Ferrer NV Sonoma Brut Sparkling (Sonoma...</td>\n",
       "      <td>train</td>\n",
       "      <td>BORDEAUX-STYLE RED BLEND</td>\n",
       "      <td>Château Tour Grand Colombier</td>\n",
       "      <td>3</td>\n",
       "      <td>2</td>\n",
       "    </tr>\n",
       "    <tr>\n",
       "      <th>2</th>\n",
       "      <td>France</td>\n",
       "      <td>This is powerful and concentrated, with the hi...</td>\n",
       "      <td>NaN</td>\n",
       "      <td>32440</td>\n",
       "      <td>NaN</td>\n",
       "      <td>94.085021</td>\n",
       "      <td>130.0</td>\n",
       "      <td>Bordeaux</td>\n",
       "      <td>Saint-Émilion</td>\n",
       "      <td>NaN</td>\n",
       "      <td>Roger Voss</td>\n",
       "      <td>NaN</td>\n",
       "      <td>Gloria Ferrer NV Sonoma Brut Sparkling (Sonoma...</td>\n",
       "      <td>train</td>\n",
       "      <td>BORDEAUX-STYLE RED BLEND</td>\n",
       "      <td>Château Figeac</td>\n",
       "      <td>3</td>\n",
       "      <td>3</td>\n",
       "    </tr>\n",
       "    <tr>\n",
       "      <th>3</th>\n",
       "      <td>US</td>\n",
       "      <td>Rich, ripe and oaky, this Petite Sirah charms ...</td>\n",
       "      <td>Thompson Vineyard</td>\n",
       "      <td>124405</td>\n",
       "      <td>NaN</td>\n",
       "      <td>89.869797</td>\n",
       "      <td>34.0</td>\n",
       "      <td>California</td>\n",
       "      <td>Santa Barbara County</td>\n",
       "      <td>Central Coast</td>\n",
       "      <td>Roger Voss</td>\n",
       "      <td>NaN</td>\n",
       "      <td>Jaffurs 2010 Thompson Vineyard Petite Sirah (S...</td>\n",
       "      <td>train</td>\n",
       "      <td>PETITE SIRAH</td>\n",
       "      <td>Jaffurs</td>\n",
       "      <td>3</td>\n",
       "      <td>2</td>\n",
       "    </tr>\n",
       "    <tr>\n",
       "      <th>4</th>\n",
       "      <td>US</td>\n",
       "      <td>This wine is a unique in the state blend and f...</td>\n",
       "      <td>McKinley Springs Vineyard</td>\n",
       "      <td>33649</td>\n",
       "      <td>NaN</td>\n",
       "      <td>89.017651</td>\n",
       "      <td>24.0</td>\n",
       "      <td>Washington</td>\n",
       "      <td>Horse Heaven Hills</td>\n",
       "      <td>Columbia Valley</td>\n",
       "      <td>Sean P. Sullivan</td>\n",
       "      <td>@wawinereport</td>\n",
       "      <td>Syncline 2016 McKinley Springs Vineyard Rosé (...</td>\n",
       "      <td>train</td>\n",
       "      <td>ROSé</td>\n",
       "      <td>Syncline</td>\n",
       "      <td>3</td>\n",
       "      <td>2</td>\n",
       "    </tr>\n",
       "  </tbody>\n",
       "</table>\n",
       "</div>"
      ],
      "text/plain": [
       "    country                                        description  \\\n",
       "0  Portugal  This is a fine rich balanced wine. It has ripe...   \n",
       "1    France  A solid, chunky wine, with a structure that is...   \n",
       "2    France  This is powerful and concentrated, with the hi...   \n",
       "3        US  Rich, ripe and oaky, this Petite Sirah charms ...   \n",
       "4        US  This wine is a unique in the state blend and f...   \n",
       "\n",
       "                 designation      id  index     points  price    province  \\\n",
       "0         Vila Santa Reserva   32027    NaN  88.870874   20.0  Alentejano   \n",
       "1                        NaN   71079    NaN  88.041695   28.0    Bordeaux   \n",
       "2                        NaN   32440    NaN  94.085021  130.0    Bordeaux   \n",
       "3          Thompson Vineyard  124405    NaN  89.869797   34.0  California   \n",
       "4  McKinley Springs Vineyard   33649    NaN  89.017651   24.0  Washington   \n",
       "\n",
       "               region_1         region_2       taster_name  \\\n",
       "0           Napa Valley              NaN        Roger Voss   \n",
       "1    Lalande de Pomerol              NaN        Roger Voss   \n",
       "2         Saint-Émilion              NaN        Roger Voss   \n",
       "3  Santa Barbara County    Central Coast        Roger Voss   \n",
       "4    Horse Heaven Hills  Columbia Valley  Sean P. Sullivan   \n",
       "\n",
       "  taster_twitter_handle                                              title  \\\n",
       "0                   NaN  Gloria Ferrer NV Sonoma Brut Sparkling (Sonoma...   \n",
       "1                   NaN  Gloria Ferrer NV Sonoma Brut Sparkling (Sonoma...   \n",
       "2                   NaN  Gloria Ferrer NV Sonoma Brut Sparkling (Sonoma...   \n",
       "3                   NaN  Jaffurs 2010 Thompson Vineyard Petite Sirah (S...   \n",
       "4         @wawinereport  Syncline 2016 McKinley Springs Vineyard Rosé (...   \n",
       "\n",
       "  train_test                   variety                        winery  \\\n",
       "0      train            PORTUGUESE RED             J. Portugal Ramos   \n",
       "1      train  BORDEAUX-STYLE RED BLEND  Château Tour Grand Colombier   \n",
       "2      train  BORDEAUX-STYLE RED BLEND                Château Figeac   \n",
       "3      train              PETITE SIRAH                       Jaffurs   \n",
       "4      train                      ROSé                      Syncline   \n",
       "\n",
       "  sentiment  quality  \n",
       "0         3        2  \n",
       "1         3        2  \n",
       "2         3        3  \n",
       "3         3        2  \n",
       "4         3        2  "
      ]
     },
     "execution_count": 26,
     "metadata": {},
     "output_type": "execute_result"
    }
   ],
   "source": [
    "data.head()"
   ]
  },
  {
   "cell_type": "code",
   "execution_count": 27,
   "metadata": {},
   "outputs": [],
   "source": [
    "def make_lower_case(text):\n",
    "    return text.lower()\n",
    "\n",
    "def remove_punctuation(text):\n",
    "    tokenizer = RegexpTokenizer(r'\\w+')\n",
    "    text = tokenizer.tokenize(text)\n",
    "    text = \" \".join(text)\n",
    "    return text"
   ]
  },
  {
   "cell_type": "code",
   "execution_count": 28,
   "metadata": {},
   "outputs": [],
   "source": [
    "data['region_1'] = data['region_1'].str.replace('\\d+','')\n",
    "data['region_1'] = data.region_1.apply(func=remove_punctuation)\n",
    "data['region_1'] = data.region_1.apply(func=make_lower_case)"
   ]
  },
  {
   "cell_type": "code",
   "execution_count": 29,
   "metadata": {},
   "outputs": [],
   "source": [
    "data[\"winery\"] = data[\"winery\"].str.replace('\\d+', '')\n",
    "data[\"winery\"] = data.winery.apply(func=remove_punctuation)\n",
    "data[\"winery\"] = data.winery.apply(func=make_lower_case)"
   ]
  },
  {
   "cell_type": "code",
   "execution_count": 30,
   "metadata": {},
   "outputs": [],
   "source": [
    "data[\"description\"] = data[\"description\"].str.replace('\\d+', '')\n",
    "data[\"description\"] = data.description.apply(func=remove_punctuation)\n",
    "data[\"description\"] = data.description.apply(func=make_lower_case)"
   ]
  },
  {
   "cell_type": "code",
   "execution_count": 31,
   "metadata": {},
   "outputs": [],
   "source": [
    "data[\"variety\"] = data[\"variety\"].str.replace('\\d+', '')\n",
    "data[\"variety\"] = data.variety.apply(func=remove_punctuation)\n",
    "data[\"variety\"] = data.variety.apply(func=make_lower_case)"
   ]
  },
  {
   "cell_type": "code",
   "execution_count": 32,
   "metadata": {},
   "outputs": [],
   "source": [
    "data[\"title\"] = data[\"title\"].str.replace('\\d+', '')\n",
    "data[\"title\"] = data.title.apply(func=remove_punctuation)\n",
    "data[\"title\"] = data.title.apply(func=make_lower_case)"
   ]
  },
  {
   "cell_type": "code",
   "execution_count": 33,
   "metadata": {},
   "outputs": [],
   "source": [
    "tf = TfidfVectorizer(analyzer='word', \n",
    "                     min_df=10,\n",
    "                     ngram_range=(1, 2),\n",
    "                     stop_words='english')\n",
    "svd = TruncatedSVD(n_components=10)"
   ]
  },
  {
   "cell_type": "code",
   "execution_count": null,
   "metadata": {},
   "outputs": [],
   "source": []
  },
  {
   "cell_type": "code",
   "execution_count": 34,
   "metadata": {},
   "outputs": [],
   "source": [
    "data['desc_count'] = data['description'].apply(lambda x:len(str(x)))"
   ]
  },
  {
   "cell_type": "code",
   "execution_count": 36,
   "metadata": {},
   "outputs": [
    {
     "data": {
      "text/plain": [
       "<matplotlib.axes._subplots.AxesSubplot at 0x7f3707948358>"
      ]
     },
     "execution_count": 36,
     "metadata": {},
     "output_type": "execute_result"
    },
    {
     "data": {
      "image/png": "[encoded data removed]",
      "text/plain": [
       "<Figure size 432x288 with 1 Axes>"
      ]
     },
     "metadata": {
      "needs_background": "light"
     },
     "output_type": "display_data"
    }
   ],
   "source": [
    "sns.barplot(x='desc_count',y='price',data=data.sample(3000))"
   ]
  },
  {
   "cell_type": "code",
   "execution_count": null,
   "metadata": {},
   "outputs": [],
   "source": []
  },
  {
   "cell_type": "code",
   "execution_count": 37,
   "metadata": {},
   "outputs": [
    {
     "data": {
      "text/html": [
       "<div>\n",
       "<style scoped>\n",
       "    .dataframe tbody tr th:only-of-type {\n",
       "        vertical-align: middle;\n",
       "    }\n",
       "\n",
       "    .dataframe tbody tr th {\n",
       "        vertical-align: top;\n",
       "    }\n",
       "\n",
       "    .dataframe thead th {\n",
       "        text-align: right;\n",
       "    }\n",
       "</style>\n",
       "<table border=\"1\" class=\"dataframe\">\n",
       "  <thead>\n",
       "    <tr style=\"text-align: right;\">\n",
       "      <th></th>\n",
       "      <th>winery_0</th>\n",
       "      <th>winery_1</th>\n",
       "      <th>winery_2</th>\n",
       "      <th>winery_3</th>\n",
       "      <th>winery_4</th>\n",
       "      <th>winery_5</th>\n",
       "      <th>winery_6</th>\n",
       "      <th>winery_7</th>\n",
       "      <th>winery_8</th>\n",
       "      <th>winery_9</th>\n",
       "    </tr>\n",
       "  </thead>\n",
       "  <tbody>\n",
       "    <tr>\n",
       "      <th>0</th>\n",
       "      <td>-1.118029e-06</td>\n",
       "      <td>-4.108786e-06</td>\n",
       "      <td>0.000091</td>\n",
       "      <td>0.000088</td>\n",
       "      <td>0.000150</td>\n",
       "      <td>0.001905</td>\n",
       "      <td>-0.002878</td>\n",
       "      <td>0.005086</td>\n",
       "      <td>0.029046</td>\n",
       "      <td>0.001170</td>\n",
       "    </tr>\n",
       "    <tr>\n",
       "      <th>1</th>\n",
       "      <td>2.217665e-01</td>\n",
       "      <td>7.029981e-04</td>\n",
       "      <td>0.000038</td>\n",
       "      <td>-0.011386</td>\n",
       "      <td>0.000083</td>\n",
       "      <td>0.000819</td>\n",
       "      <td>-0.000175</td>\n",
       "      <td>-0.000028</td>\n",
       "      <td>-0.000324</td>\n",
       "      <td>0.000182</td>\n",
       "    </tr>\n",
       "    <tr>\n",
       "      <th>2</th>\n",
       "      <td>3.952938e-01</td>\n",
       "      <td>-6.586275e-03</td>\n",
       "      <td>-0.000049</td>\n",
       "      <td>-0.027108</td>\n",
       "      <td>0.000051</td>\n",
       "      <td>-0.000691</td>\n",
       "      <td>0.000210</td>\n",
       "      <td>-0.000714</td>\n",
       "      <td>0.000549</td>\n",
       "      <td>-0.000078</td>\n",
       "    </tr>\n",
       "    <tr>\n",
       "      <th>3</th>\n",
       "      <td>2.458258e-08</td>\n",
       "      <td>-4.796603e-07</td>\n",
       "      <td>-0.000003</td>\n",
       "      <td>-0.000003</td>\n",
       "      <td>-0.000013</td>\n",
       "      <td>0.000032</td>\n",
       "      <td>0.000036</td>\n",
       "      <td>0.000068</td>\n",
       "      <td>0.000065</td>\n",
       "      <td>0.000006</td>\n",
       "    </tr>\n",
       "    <tr>\n",
       "      <th>4</th>\n",
       "      <td>1.121917e-08</td>\n",
       "      <td>-2.947081e-06</td>\n",
       "      <td>0.000004</td>\n",
       "      <td>-0.000020</td>\n",
       "      <td>-0.000039</td>\n",
       "      <td>0.000106</td>\n",
       "      <td>0.000253</td>\n",
       "      <td>0.000379</td>\n",
       "      <td>0.000301</td>\n",
       "      <td>-0.000011</td>\n",
       "    </tr>\n",
       "  </tbody>\n",
       "</table>\n",
       "</div>"
      ],
      "text/plain": [
       "       winery_0      winery_1  winery_2  winery_3  winery_4  winery_5  \\\n",
       "0 -1.118029e-06 -4.108786e-06  0.000091  0.000088  0.000150  0.001905   \n",
       "1  2.217665e-01  7.029981e-04  0.000038 -0.011386  0.000083  0.000819   \n",
       "2  3.952938e-01 -6.586275e-03 -0.000049 -0.027108  0.000051 -0.000691   \n",
       "3  2.458258e-08 -4.796603e-07 -0.000003 -0.000003 -0.000013  0.000032   \n",
       "4  1.121917e-08 -2.947081e-06  0.000004 -0.000020 -0.000039  0.000106   \n",
       "\n",
       "   winery_6  winery_7  winery_8  winery_9  \n",
       "0 -0.002878  0.005086  0.029046  0.001170  \n",
       "1 -0.000175 -0.000028 -0.000324  0.000182  \n",
       "2  0.000210 -0.000714  0.000549 -0.000078  \n",
       "3  0.000036  0.000068  0.000065  0.000006  \n",
       "4  0.000253  0.000379  0.000301 -0.000011  "
      ]
     },
     "execution_count": 37,
     "metadata": {},
     "output_type": "execute_result"
    }
   ],
   "source": [
    "#Fit tfidf and svd, and transform training data\n",
    "tfidf_matrix = tf.fit_transform(data.winery)\n",
    "winery_features = pd.DataFrame(svd.fit_transform(tfidf_matrix))\n",
    "collist = map(str, range(0, 10))\n",
    "collist = [\"winery_\" + s for s in collist]\n",
    "winery_features.columns = collist\n",
    "winery_features.head()"
   ]
  },
  {
   "cell_type": "code",
   "execution_count": 38,
   "metadata": {},
   "outputs": [
    {
     "data": {
      "text/html": [
       "<div>\n",
       "<style scoped>\n",
       "    .dataframe tbody tr th:only-of-type {\n",
       "        vertical-align: middle;\n",
       "    }\n",
       "\n",
       "    .dataframe tbody tr th {\n",
       "        vertical-align: top;\n",
       "    }\n",
       "\n",
       "    .dataframe thead th {\n",
       "        text-align: right;\n",
       "    }\n",
       "</style>\n",
       "<table border=\"1\" class=\"dataframe\">\n",
       "  <thead>\n",
       "    <tr style=\"text-align: right;\">\n",
       "      <th></th>\n",
       "      <th>description_0</th>\n",
       "      <th>description_1</th>\n",
       "      <th>description_2</th>\n",
       "      <th>description_3</th>\n",
       "      <th>description_4</th>\n",
       "      <th>description_5</th>\n",
       "      <th>description_6</th>\n",
       "      <th>description_7</th>\n",
       "      <th>description_8</th>\n",
       "      <th>description_9</th>\n",
       "    </tr>\n",
       "  </thead>\n",
       "  <tbody>\n",
       "    <tr>\n",
       "      <th>0</th>\n",
       "      <td>0.115367</td>\n",
       "      <td>0.004840</td>\n",
       "      <td>0.114661</td>\n",
       "      <td>0.050377</td>\n",
       "      <td>0.006808</td>\n",
       "      <td>-0.029133</td>\n",
       "      <td>-0.025117</td>\n",
       "      <td>0.051007</td>\n",
       "      <td>0.004268</td>\n",
       "      <td>-0.012613</td>\n",
       "    </tr>\n",
       "    <tr>\n",
       "      <th>1</th>\n",
       "      <td>0.119707</td>\n",
       "      <td>0.024667</td>\n",
       "      <td>0.072517</td>\n",
       "      <td>0.022312</td>\n",
       "      <td>-0.013160</td>\n",
       "      <td>-0.064644</td>\n",
       "      <td>-0.003263</td>\n",
       "      <td>0.027463</td>\n",
       "      <td>-0.004231</td>\n",
       "      <td>0.005966</td>\n",
       "    </tr>\n",
       "    <tr>\n",
       "      <th>2</th>\n",
       "      <td>0.129262</td>\n",
       "      <td>0.101725</td>\n",
       "      <td>0.087982</td>\n",
       "      <td>0.004308</td>\n",
       "      <td>0.130393</td>\n",
       "      <td>-0.034107</td>\n",
       "      <td>-0.014267</td>\n",
       "      <td>0.040808</td>\n",
       "      <td>0.055634</td>\n",
       "      <td>-0.009202</td>\n",
       "    </tr>\n",
       "    <tr>\n",
       "      <th>3</th>\n",
       "      <td>0.103500</td>\n",
       "      <td>0.062217</td>\n",
       "      <td>0.011668</td>\n",
       "      <td>-0.065489</td>\n",
       "      <td>-0.019584</td>\n",
       "      <td>-0.064958</td>\n",
       "      <td>-0.006608</td>\n",
       "      <td>0.011069</td>\n",
       "      <td>0.063368</td>\n",
       "      <td>0.027147</td>\n",
       "    </tr>\n",
       "    <tr>\n",
       "      <th>4</th>\n",
       "      <td>0.096223</td>\n",
       "      <td>-0.057049</td>\n",
       "      <td>-0.015558</td>\n",
       "      <td>-0.011770</td>\n",
       "      <td>0.024920</td>\n",
       "      <td>0.029818</td>\n",
       "      <td>0.006138</td>\n",
       "      <td>-0.003928</td>\n",
       "      <td>-0.032095</td>\n",
       "      <td>0.037746</td>\n",
       "    </tr>\n",
       "  </tbody>\n",
       "</table>\n",
       "</div>"
      ],
      "text/plain": [
       "   description_0  description_1  description_2  description_3  description_4  \\\n",
       "0       0.115367       0.004840       0.114661       0.050377       0.006808   \n",
       "1       0.119707       0.024667       0.072517       0.022312      -0.013160   \n",
       "2       0.129262       0.101725       0.087982       0.004308       0.130393   \n",
       "3       0.103500       0.062217       0.011668      -0.065489      -0.019584   \n",
       "4       0.096223      -0.057049      -0.015558      -0.011770       0.024920   \n",
       "\n",
       "   description_5  description_6  description_7  description_8  description_9  \n",
       "0      -0.029133      -0.025117       0.051007       0.004268      -0.012613  \n",
       "1      -0.064644      -0.003263       0.027463      -0.004231       0.005966  \n",
       "2      -0.034107      -0.014267       0.040808       0.055634      -0.009202  \n",
       "3      -0.064958      -0.006608       0.011069       0.063368       0.027147  \n",
       "4       0.029818       0.006138      -0.003928      -0.032095       0.037746  "
      ]
     },
     "execution_count": 38,
     "metadata": {},
     "output_type": "execute_result"
    }
   ],
   "source": [
    "#Fit tfidf and svd, and transform training data\n",
    "tfidf_matrix = tf.fit_transform(data.description)\n",
    "desc_features = pd.DataFrame(svd.fit_transform(tfidf_matrix))\n",
    "collist = map(str, range(0, 10))\n",
    "collist = [\"description_\" + s for s in collist]\n",
    "desc_features.columns = collist\n",
    "desc_features.head()"
   ]
  },
  {
   "cell_type": "code",
   "execution_count": 39,
   "metadata": {},
   "outputs": [
    {
     "data": {
      "text/html": [
       "<div>\n",
       "<style scoped>\n",
       "    .dataframe tbody tr th:only-of-type {\n",
       "        vertical-align: middle;\n",
       "    }\n",
       "\n",
       "    .dataframe tbody tr th {\n",
       "        vertical-align: top;\n",
       "    }\n",
       "\n",
       "    .dataframe thead th {\n",
       "        text-align: right;\n",
       "    }\n",
       "</style>\n",
       "<table border=\"1\" class=\"dataframe\">\n",
       "  <thead>\n",
       "    <tr style=\"text-align: right;\">\n",
       "      <th></th>\n",
       "      <th>variety_0</th>\n",
       "      <th>variety_1</th>\n",
       "      <th>variety_2</th>\n",
       "      <th>variety_3</th>\n",
       "      <th>variety_4</th>\n",
       "      <th>variety_5</th>\n",
       "      <th>variety_6</th>\n",
       "      <th>variety_7</th>\n",
       "      <th>variety_8</th>\n",
       "      <th>variety_9</th>\n",
       "    </tr>\n",
       "  </thead>\n",
       "  <tbody>\n",
       "    <tr>\n",
       "      <th>0</th>\n",
       "      <td>3.179084e-06</td>\n",
       "      <td>1.304745e-05</td>\n",
       "      <td>4.913912e-02</td>\n",
       "      <td>2.476378e-01</td>\n",
       "      <td>-0.000036</td>\n",
       "      <td>4.353693e-04</td>\n",
       "      <td>0.000033</td>\n",
       "      <td>0.000074</td>\n",
       "      <td>0.000059</td>\n",
       "      <td>-0.182527</td>\n",
       "    </tr>\n",
       "    <tr>\n",
       "      <th>1</th>\n",
       "      <td>1.026852e-05</td>\n",
       "      <td>4.066264e-05</td>\n",
       "      <td>1.488019e-01</td>\n",
       "      <td>7.480541e-01</td>\n",
       "      <td>-0.000136</td>\n",
       "      <td>8.564388e-04</td>\n",
       "      <td>0.000100</td>\n",
       "      <td>-0.000155</td>\n",
       "      <td>-0.000344</td>\n",
       "      <td>0.613686</td>\n",
       "    </tr>\n",
       "    <tr>\n",
       "      <th>2</th>\n",
       "      <td>1.026852e-05</td>\n",
       "      <td>4.066264e-05</td>\n",
       "      <td>1.488019e-01</td>\n",
       "      <td>7.480541e-01</td>\n",
       "      <td>-0.000136</td>\n",
       "      <td>8.564388e-04</td>\n",
       "      <td>0.000100</td>\n",
       "      <td>-0.000155</td>\n",
       "      <td>-0.000344</td>\n",
       "      <td>0.613686</td>\n",
       "    </tr>\n",
       "    <tr>\n",
       "      <th>3</th>\n",
       "      <td>1.601717e-08</td>\n",
       "      <td>1.380437e-06</td>\n",
       "      <td>2.276778e-06</td>\n",
       "      <td>6.575477e-07</td>\n",
       "      <td>-0.000205</td>\n",
       "      <td>-3.688356e-05</td>\n",
       "      <td>0.000706</td>\n",
       "      <td>0.000194</td>\n",
       "      <td>0.001465</td>\n",
       "      <td>0.000101</td>\n",
       "    </tr>\n",
       "    <tr>\n",
       "      <th>4</th>\n",
       "      <td>-1.348023e-08</td>\n",
       "      <td>2.475735e-09</td>\n",
       "      <td>8.840960e-07</td>\n",
       "      <td>4.236564e-06</td>\n",
       "      <td>-0.000002</td>\n",
       "      <td>6.202651e-07</td>\n",
       "      <td>-0.000003</td>\n",
       "      <td>0.000025</td>\n",
       "      <td>0.000160</td>\n",
       "      <td>-0.000461</td>\n",
       "    </tr>\n",
       "  </tbody>\n",
       "</table>\n",
       "</div>"
      ],
      "text/plain": [
       "      variety_0     variety_1     variety_2     variety_3  variety_4  \\\n",
       "0  3.179084e-06  1.304745e-05  4.913912e-02  2.476378e-01  -0.000036   \n",
       "1  1.026852e-05  4.066264e-05  1.488019e-01  7.480541e-01  -0.000136   \n",
       "2  1.026852e-05  4.066264e-05  1.488019e-01  7.480541e-01  -0.000136   \n",
       "3  1.601717e-08  1.380437e-06  2.276778e-06  6.575477e-07  -0.000205   \n",
       "4 -1.348023e-08  2.475735e-09  8.840960e-07  4.236564e-06  -0.000002   \n",
       "\n",
       "      variety_5  variety_6  variety_7  variety_8  variety_9  \n",
       "0  4.353693e-04   0.000033   0.000074   0.000059  -0.182527  \n",
       "1  8.564388e-04   0.000100  -0.000155  -0.000344   0.613686  \n",
       "2  8.564388e-04   0.000100  -0.000155  -0.000344   0.613686  \n",
       "3 -3.688356e-05   0.000706   0.000194   0.001465   0.000101  \n",
       "4  6.202651e-07  -0.000003   0.000025   0.000160  -0.000461  "
      ]
     },
     "execution_count": 39,
     "metadata": {},
     "output_type": "execute_result"
    }
   ],
   "source": [
    "tfidf_matrix = tf.fit_transform(data.variety)\n",
    "var_features = pd.DataFrame(svd.fit_transform(tfidf_matrix))\n",
    "collist = map(str, range(0, 10))\n",
    "collist = [\"variety_\" + s for s in collist]\n",
    "var_features.columns = collist\n",
    "var_features.head()"
   ]
  },
  {
   "cell_type": "code",
   "execution_count": 40,
   "metadata": {},
   "outputs": [
    {
     "data": {
      "text/html": [
       "<div>\n",
       "<style scoped>\n",
       "    .dataframe tbody tr th:only-of-type {\n",
       "        vertical-align: middle;\n",
       "    }\n",
       "\n",
       "    .dataframe tbody tr th {\n",
       "        vertical-align: top;\n",
       "    }\n",
       "\n",
       "    .dataframe thead th {\n",
       "        text-align: right;\n",
       "    }\n",
       "</style>\n",
       "<table border=\"1\" class=\"dataframe\">\n",
       "  <thead>\n",
       "    <tr style=\"text-align: right;\">\n",
       "      <th></th>\n",
       "      <th>province_0</th>\n",
       "      <th>province_1</th>\n",
       "      <th>province_2</th>\n",
       "      <th>province_3</th>\n",
       "      <th>province_4</th>\n",
       "      <th>province_5</th>\n",
       "      <th>province_6</th>\n",
       "      <th>province_7</th>\n",
       "      <th>province_8</th>\n",
       "      <th>province_9</th>\n",
       "    </tr>\n",
       "  </thead>\n",
       "  <tbody>\n",
       "    <tr>\n",
       "      <th>0</th>\n",
       "      <td>-2.287521e-09</td>\n",
       "      <td>2.503442e-06</td>\n",
       "      <td>2.585424e-05</td>\n",
       "      <td>-1.179089e-05</td>\n",
       "      <td>1.812190e-04</td>\n",
       "      <td>1.703123e-04</td>\n",
       "      <td>2.594640e-04</td>\n",
       "      <td>-9.829243e-04</td>\n",
       "      <td>1.758758e-04</td>\n",
       "      <td>6.281015e-04</td>\n",
       "    </tr>\n",
       "    <tr>\n",
       "      <th>1</th>\n",
       "      <td>4.994717e-11</td>\n",
       "      <td>-9.847032e-08</td>\n",
       "      <td>-7.111118e-07</td>\n",
       "      <td>1.740919e-06</td>\n",
       "      <td>-1.006593e-05</td>\n",
       "      <td>-1.304094e-06</td>\n",
       "      <td>9.999921e-01</td>\n",
       "      <td>-3.399563e-04</td>\n",
       "      <td>-5.166334e-06</td>\n",
       "      <td>-9.860271e-05</td>\n",
       "    </tr>\n",
       "    <tr>\n",
       "      <th>2</th>\n",
       "      <td>4.994664e-11</td>\n",
       "      <td>-9.846788e-08</td>\n",
       "      <td>-7.111094e-07</td>\n",
       "      <td>1.740919e-06</td>\n",
       "      <td>-1.006593e-05</td>\n",
       "      <td>-1.304094e-06</td>\n",
       "      <td>9.999921e-01</td>\n",
       "      <td>-3.399563e-04</td>\n",
       "      <td>-5.166334e-06</td>\n",
       "      <td>-9.860271e-05</td>\n",
       "    </tr>\n",
       "    <tr>\n",
       "      <th>3</th>\n",
       "      <td>1.000000e+00</td>\n",
       "      <td>5.113118e-13</td>\n",
       "      <td>1.309771e-12</td>\n",
       "      <td>1.297031e-12</td>\n",
       "      <td>-1.481777e-12</td>\n",
       "      <td>-1.894030e-13</td>\n",
       "      <td>3.798588e-13</td>\n",
       "      <td>4.697151e-13</td>\n",
       "      <td>-1.405493e-13</td>\n",
       "      <td>6.143500e-13</td>\n",
       "    </tr>\n",
       "    <tr>\n",
       "      <th>4</th>\n",
       "      <td>1.941717e-13</td>\n",
       "      <td>1.000000e+00</td>\n",
       "      <td>1.610412e-09</td>\n",
       "      <td>-4.014086e-09</td>\n",
       "      <td>7.651314e-09</td>\n",
       "      <td>-1.065696e-09</td>\n",
       "      <td>9.220154e-09</td>\n",
       "      <td>-2.789378e-08</td>\n",
       "      <td>7.557188e-10</td>\n",
       "      <td>-3.457782e-08</td>\n",
       "    </tr>\n",
       "  </tbody>\n",
       "</table>\n",
       "</div>"
      ],
      "text/plain": [
       "     province_0    province_1    province_2    province_3    province_4  \\\n",
       "0 -2.287521e-09  2.503442e-06  2.585424e-05 -1.179089e-05  1.812190e-04   \n",
       "1  4.994717e-11 -9.847032e-08 -7.111118e-07  1.740919e-06 -1.006593e-05   \n",
       "2  4.994664e-11 -9.846788e-08 -7.111094e-07  1.740919e-06 -1.006593e-05   \n",
       "3  1.000000e+00  5.113118e-13  1.309771e-12  1.297031e-12 -1.481777e-12   \n",
       "4  1.941717e-13  1.000000e+00  1.610412e-09 -4.014086e-09  7.651314e-09   \n",
       "\n",
       "     province_5    province_6    province_7    province_8    province_9  \n",
       "0  1.703123e-04  2.594640e-04 -9.829243e-04  1.758758e-04  6.281015e-04  \n",
       "1 -1.304094e-06  9.999921e-01 -3.399563e-04 -5.166334e-06 -9.860271e-05  \n",
       "2 -1.304094e-06  9.999921e-01 -3.399563e-04 -5.166334e-06 -9.860271e-05  \n",
       "3 -1.894030e-13  3.798588e-13  4.697151e-13 -1.405493e-13  6.143500e-13  \n",
       "4 -1.065696e-09  9.220154e-09 -2.789378e-08  7.557188e-10 -3.457782e-08  "
      ]
     },
     "execution_count": 40,
     "metadata": {},
     "output_type": "execute_result"
    }
   ],
   "source": [
    "prov_features = pd.DataFrame(svd.fit_transform(proDummies.values))\n",
    "collist = map(str, range(0, 10))\n",
    "collist = [\"province_\" + s for s in collist]\n",
    "prov_features.columns = collist\n",
    "prov_features.head()"
   ]
  },
  {
   "cell_type": "code",
   "execution_count": 41,
   "metadata": {},
   "outputs": [],
   "source": [
    "#tfidf_matrix = tf.fit_transform(data.region_1)\n",
    "#reg1_features = pd.DataFrame(svd.fit_transform(tfidf_matrix))\n",
    "#collist = map(str, range(0, 10))\n",
    "#collist = [\"country_\" + s for s in collist]\n",
    "#reg1_features.columns = collist\n",
    "#reg1_features.head()"
   ]
  },
  {
   "cell_type": "code",
   "execution_count": 42,
   "metadata": {},
   "outputs": [
    {
     "data": {
      "text/html": [
       "<div>\n",
       "<style scoped>\n",
       "    .dataframe tbody tr th:only-of-type {\n",
       "        vertical-align: middle;\n",
       "    }\n",
       "\n",
       "    .dataframe tbody tr th {\n",
       "        vertical-align: top;\n",
       "    }\n",
       "\n",
       "    .dataframe thead th {\n",
       "        text-align: right;\n",
       "    }\n",
       "</style>\n",
       "<table border=\"1\" class=\"dataframe\">\n",
       "  <thead>\n",
       "    <tr style=\"text-align: right;\">\n",
       "      <th></th>\n",
       "      <th>country_0</th>\n",
       "      <th>country_1</th>\n",
       "      <th>country_2</th>\n",
       "      <th>country_3</th>\n",
       "      <th>country_4</th>\n",
       "      <th>country_5</th>\n",
       "      <th>country_6</th>\n",
       "      <th>country_7</th>\n",
       "      <th>country_8</th>\n",
       "      <th>country_9</th>\n",
       "    </tr>\n",
       "  </thead>\n",
       "  <tbody>\n",
       "    <tr>\n",
       "      <th>0</th>\n",
       "      <td>-3.014886e-14</td>\n",
       "      <td>-1.054783e-14</td>\n",
       "      <td>-2.380983e-14</td>\n",
       "      <td>1.001205e-13</td>\n",
       "      <td>-7.495550e-14</td>\n",
       "      <td>4.996221e-13</td>\n",
       "      <td>1.000000e+00</td>\n",
       "      <td>5.197856e-14</td>\n",
       "      <td>7.537770e-14</td>\n",
       "      <td>2.023980e-14</td>\n",
       "    </tr>\n",
       "    <tr>\n",
       "      <th>1</th>\n",
       "      <td>8.325301e-15</td>\n",
       "      <td>-3.042336e-12</td>\n",
       "      <td>1.000000e+00</td>\n",
       "      <td>3.635610e-14</td>\n",
       "      <td>6.582138e-15</td>\n",
       "      <td>2.757675e-15</td>\n",
       "      <td>6.564498e-15</td>\n",
       "      <td>-4.805927e-15</td>\n",
       "      <td>1.050499e-15</td>\n",
       "      <td>1.247343e-16</td>\n",
       "    </tr>\n",
       "    <tr>\n",
       "      <th>2</th>\n",
       "      <td>-7.797836e-16</td>\n",
       "      <td>5.667334e-15</td>\n",
       "      <td>1.000000e+00</td>\n",
       "      <td>6.678430e-13</td>\n",
       "      <td>-2.536657e-13</td>\n",
       "      <td>3.618135e-14</td>\n",
       "      <td>1.067377e-13</td>\n",
       "      <td>-2.671549e-14</td>\n",
       "      <td>-8.739045e-15</td>\n",
       "      <td>-2.803495e-15</td>\n",
       "    </tr>\n",
       "    <tr>\n",
       "      <th>3</th>\n",
       "      <td>1.000000e+00</td>\n",
       "      <td>-3.068442e-15</td>\n",
       "      <td>4.101507e-16</td>\n",
       "      <td>9.672184e-14</td>\n",
       "      <td>-3.329062e-13</td>\n",
       "      <td>-3.657993e-13</td>\n",
       "      <td>-8.657740e-13</td>\n",
       "      <td>7.875887e-13</td>\n",
       "      <td>1.083217e-15</td>\n",
       "      <td>-9.690639e-17</td>\n",
       "    </tr>\n",
       "    <tr>\n",
       "      <th>4</th>\n",
       "      <td>1.000000e+00</td>\n",
       "      <td>-4.048356e-15</td>\n",
       "      <td>5.466012e-16</td>\n",
       "      <td>8.288400e-14</td>\n",
       "      <td>-1.774554e-13</td>\n",
       "      <td>-7.420329e-13</td>\n",
       "      <td>-3.539708e-13</td>\n",
       "      <td>-3.934867e-13</td>\n",
       "      <td>5.770249e-14</td>\n",
       "      <td>-3.760549e-15</td>\n",
       "    </tr>\n",
       "  </tbody>\n",
       "</table>\n",
       "</div>"
      ],
      "text/plain": [
       "      country_0     country_1     country_2     country_3     country_4  \\\n",
       "0 -3.014886e-14 -1.054783e-14 -2.380983e-14  1.001205e-13 -7.495550e-14   \n",
       "1  8.325301e-15 -3.042336e-12  1.000000e+00  3.635610e-14  6.582138e-15   \n",
       "2 -7.797836e-16  5.667334e-15  1.000000e+00  6.678430e-13 -2.536657e-13   \n",
       "3  1.000000e+00 -3.068442e-15  4.101507e-16  9.672184e-14 -3.329062e-13   \n",
       "4  1.000000e+00 -4.048356e-15  5.466012e-16  8.288400e-14 -1.774554e-13   \n",
       "\n",
       "      country_5     country_6     country_7     country_8     country_9  \n",
       "0  4.996221e-13  1.000000e+00  5.197856e-14  7.537770e-14  2.023980e-14  \n",
       "1  2.757675e-15  6.564498e-15 -4.805927e-15  1.050499e-15  1.247343e-16  \n",
       "2  3.618135e-14  1.067377e-13 -2.671549e-14 -8.739045e-15 -2.803495e-15  \n",
       "3 -3.657993e-13 -8.657740e-13  7.875887e-13  1.083217e-15 -9.690639e-17  \n",
       "4 -7.420329e-13 -3.539708e-13 -3.934867e-13  5.770249e-14 -3.760549e-15  "
      ]
     },
     "execution_count": 42,
     "metadata": {},
     "output_type": "execute_result"
    }
   ],
   "source": [
    "country_features = pd.DataFrame(svd.fit_transform(countDummies.values))\n",
    "collist = map(str, range(0, 10))\n",
    "collist = [\"country_\" + s for s in collist]\n",
    "country_features.columns = collist\n",
    "country_features.head()"
   ]
  },
  {
   "cell_type": "code",
   "execution_count": 43,
   "metadata": {},
   "outputs": [
    {
     "data": {
      "text/html": [
       "<div>\n",
       "<style scoped>\n",
       "    .dataframe tbody tr th:only-of-type {\n",
       "        vertical-align: middle;\n",
       "    }\n",
       "\n",
       "    .dataframe tbody tr th {\n",
       "        vertical-align: top;\n",
       "    }\n",
       "\n",
       "    .dataframe thead th {\n",
       "        text-align: right;\n",
       "    }\n",
       "</style>\n",
       "<table border=\"1\" class=\"dataframe\">\n",
       "  <thead>\n",
       "    <tr style=\"text-align: right;\">\n",
       "      <th></th>\n",
       "      <th>title_0</th>\n",
       "      <th>title_1</th>\n",
       "      <th>title_2</th>\n",
       "      <th>title_3</th>\n",
       "      <th>title_4</th>\n",
       "      <th>title_5</th>\n",
       "      <th>title_6</th>\n",
       "      <th>title_7</th>\n",
       "      <th>title_8</th>\n",
       "      <th>title_9</th>\n",
       "    </tr>\n",
       "  </thead>\n",
       "  <tbody>\n",
       "    <tr>\n",
       "      <th>0</th>\n",
       "      <td>1.000000</td>\n",
       "      <td>-0.000243</td>\n",
       "      <td>-0.000111</td>\n",
       "      <td>0.000058</td>\n",
       "      <td>0.000062</td>\n",
       "      <td>-0.000062</td>\n",
       "      <td>0.000029</td>\n",
       "      <td>0.000010</td>\n",
       "      <td>-0.000048</td>\n",
       "      <td>-0.000073</td>\n",
       "    </tr>\n",
       "    <tr>\n",
       "      <th>1</th>\n",
       "      <td>1.000000</td>\n",
       "      <td>-0.000243</td>\n",
       "      <td>-0.000111</td>\n",
       "      <td>0.000058</td>\n",
       "      <td>0.000062</td>\n",
       "      <td>-0.000062</td>\n",
       "      <td>0.000029</td>\n",
       "      <td>0.000010</td>\n",
       "      <td>-0.000048</td>\n",
       "      <td>-0.000073</td>\n",
       "    </tr>\n",
       "    <tr>\n",
       "      <th>2</th>\n",
       "      <td>1.000000</td>\n",
       "      <td>-0.000243</td>\n",
       "      <td>-0.000111</td>\n",
       "      <td>0.000058</td>\n",
       "      <td>0.000062</td>\n",
       "      <td>-0.000062</td>\n",
       "      <td>0.000029</td>\n",
       "      <td>0.000010</td>\n",
       "      <td>-0.000048</td>\n",
       "      <td>-0.000073</td>\n",
       "    </tr>\n",
       "    <tr>\n",
       "      <th>3</th>\n",
       "      <td>0.012868</td>\n",
       "      <td>0.045686</td>\n",
       "      <td>0.028480</td>\n",
       "      <td>-0.005411</td>\n",
       "      <td>-0.009370</td>\n",
       "      <td>0.028989</td>\n",
       "      <td>0.003882</td>\n",
       "      <td>-0.007480</td>\n",
       "      <td>0.039841</td>\n",
       "      <td>0.068615</td>\n",
       "    </tr>\n",
       "    <tr>\n",
       "      <th>4</th>\n",
       "      <td>0.000022</td>\n",
       "      <td>0.040986</td>\n",
       "      <td>0.023380</td>\n",
       "      <td>-0.003096</td>\n",
       "      <td>-0.019196</td>\n",
       "      <td>0.026920</td>\n",
       "      <td>-0.020015</td>\n",
       "      <td>-0.012876</td>\n",
       "      <td>0.024001</td>\n",
       "      <td>0.005286</td>\n",
       "    </tr>\n",
       "  </tbody>\n",
       "</table>\n",
       "</div>"
      ],
      "text/plain": [
       "    title_0   title_1   title_2   title_3   title_4   title_5   title_6  \\\n",
       "0  1.000000 -0.000243 -0.000111  0.000058  0.000062 -0.000062  0.000029   \n",
       "1  1.000000 -0.000243 -0.000111  0.000058  0.000062 -0.000062  0.000029   \n",
       "2  1.000000 -0.000243 -0.000111  0.000058  0.000062 -0.000062  0.000029   \n",
       "3  0.012868  0.045686  0.028480 -0.005411 -0.009370  0.028989  0.003882   \n",
       "4  0.000022  0.040986  0.023380 -0.003096 -0.019196  0.026920 -0.020015   \n",
       "\n",
       "    title_7   title_8   title_9  \n",
       "0  0.000010 -0.000048 -0.000073  \n",
       "1  0.000010 -0.000048 -0.000073  \n",
       "2  0.000010 -0.000048 -0.000073  \n",
       "3 -0.007480  0.039841  0.068615  \n",
       "4 -0.012876  0.024001  0.005286  "
      ]
     },
     "execution_count": 43,
     "metadata": {},
     "output_type": "execute_result"
    }
   ],
   "source": [
    "tfidf_matrix = tf.fit_transform(data.title)\n",
    "title_features = pd.DataFrame(svd.fit_transform(tfidf_matrix))\n",
    "collist = map(str, range(0, 10))\n",
    "collist = [\"title_\" + s for s in collist]\n",
    "title_features.columns = collist\n",
    "title_features.head()"
   ]
  },
  {
   "cell_type": "code",
   "execution_count": 44,
   "metadata": {},
   "outputs": [
    {
     "data": {
      "text/html": [
       "<div>\n",
       "<style scoped>\n",
       "    .dataframe tbody tr th:only-of-type {\n",
       "        vertical-align: middle;\n",
       "    }\n",
       "\n",
       "    .dataframe tbody tr th {\n",
       "        vertical-align: top;\n",
       "    }\n",
       "\n",
       "    .dataframe thead th {\n",
       "        text-align: right;\n",
       "    }\n",
       "</style>\n",
       "<table border=\"1\" class=\"dataframe\">\n",
       "  <thead>\n",
       "    <tr style=\"text-align: right;\">\n",
       "      <th></th>\n",
       "      <th>region_0</th>\n",
       "      <th>region_1</th>\n",
       "      <th>region_2</th>\n",
       "      <th>region_3</th>\n",
       "      <th>region_4</th>\n",
       "      <th>region_5</th>\n",
       "      <th>region_6</th>\n",
       "      <th>region_7</th>\n",
       "      <th>region_8</th>\n",
       "      <th>region_9</th>\n",
       "    </tr>\n",
       "  </thead>\n",
       "  <tbody>\n",
       "    <tr>\n",
       "      <th>0</th>\n",
       "      <td>1.000000e+00</td>\n",
       "      <td>-7.093388e-14</td>\n",
       "      <td>2.602919e-13</td>\n",
       "      <td>-1.702879e-12</td>\n",
       "      <td>-1.153284e-12</td>\n",
       "      <td>9.099072e-13</td>\n",
       "      <td>1.675471e-12</td>\n",
       "      <td>2.846350e-12</td>\n",
       "      <td>4.507266e-12</td>\n",
       "      <td>-3.710469e-13</td>\n",
       "    </tr>\n",
       "    <tr>\n",
       "      <th>1</th>\n",
       "      <td>-1.081295e-14</td>\n",
       "      <td>-1.471105e-10</td>\n",
       "      <td>2.661615e-10</td>\n",
       "      <td>-2.362321e-10</td>\n",
       "      <td>1.228193e-09</td>\n",
       "      <td>-2.496795e-09</td>\n",
       "      <td>-4.460173e-09</td>\n",
       "      <td>7.192196e-09</td>\n",
       "      <td>-1.397510e-09</td>\n",
       "      <td>-6.589575e-09</td>\n",
       "    </tr>\n",
       "    <tr>\n",
       "      <th>2</th>\n",
       "      <td>-1.930396e-11</td>\n",
       "      <td>-8.912161e-08</td>\n",
       "      <td>-4.732932e-07</td>\n",
       "      <td>-1.887182e-06</td>\n",
       "      <td>2.811062e-06</td>\n",
       "      <td>-2.747183e-06</td>\n",
       "      <td>1.856295e-06</td>\n",
       "      <td>-3.129642e-05</td>\n",
       "      <td>4.234141e-05</td>\n",
       "      <td>1.474388e-05</td>\n",
       "    </tr>\n",
       "    <tr>\n",
       "      <th>3</th>\n",
       "      <td>-9.120942e-09</td>\n",
       "      <td>1.309061e-04</td>\n",
       "      <td>2.736317e-04</td>\n",
       "      <td>6.536927e-04</td>\n",
       "      <td>1.428320e-03</td>\n",
       "      <td>1.692044e-03</td>\n",
       "      <td>4.862020e-03</td>\n",
       "      <td>-2.615796e-02</td>\n",
       "      <td>3.023780e-02</td>\n",
       "      <td>-2.039632e-02</td>\n",
       "    </tr>\n",
       "    <tr>\n",
       "      <th>4</th>\n",
       "      <td>-4.626275e-09</td>\n",
       "      <td>-8.357904e-06</td>\n",
       "      <td>6.977798e-05</td>\n",
       "      <td>5.366450e-05</td>\n",
       "      <td>4.781378e-05</td>\n",
       "      <td>-1.814801e-04</td>\n",
       "      <td>-6.656464e-04</td>\n",
       "      <td>4.586520e-04</td>\n",
       "      <td>-5.093619e-03</td>\n",
       "      <td>-1.439749e-03</td>\n",
       "    </tr>\n",
       "  </tbody>\n",
       "</table>\n",
       "</div>"
      ],
      "text/plain": [
       "       region_0      region_1      region_2      region_3      region_4  \\\n",
       "0  1.000000e+00 -7.093388e-14  2.602919e-13 -1.702879e-12 -1.153284e-12   \n",
       "1 -1.081295e-14 -1.471105e-10  2.661615e-10 -2.362321e-10  1.228193e-09   \n",
       "2 -1.930396e-11 -8.912161e-08 -4.732932e-07 -1.887182e-06  2.811062e-06   \n",
       "3 -9.120942e-09  1.309061e-04  2.736317e-04  6.536927e-04  1.428320e-03   \n",
       "4 -4.626275e-09 -8.357904e-06  6.977798e-05  5.366450e-05  4.781378e-05   \n",
       "\n",
       "       region_5      region_6      region_7      region_8      region_9  \n",
       "0  9.099072e-13  1.675471e-12  2.846350e-12  4.507266e-12 -3.710469e-13  \n",
       "1 -2.496795e-09 -4.460173e-09  7.192196e-09 -1.397510e-09 -6.589575e-09  \n",
       "2 -2.747183e-06  1.856295e-06 -3.129642e-05  4.234141e-05  1.474388e-05  \n",
       "3  1.692044e-03  4.862020e-03 -2.615796e-02  3.023780e-02 -2.039632e-02  \n",
       "4 -1.814801e-04 -6.656464e-04  4.586520e-04 -5.093619e-03 -1.439749e-03  "
      ]
     },
     "execution_count": 44,
     "metadata": {},
     "output_type": "execute_result"
    }
   ],
   "source": [
    "region_features = pd.DataFrame(svd.fit_transform(regionDummies.values))\n",
    "collist = map(str, range(0, 10))\n",
    "collist = [\"region_\" + s for s in collist]\n",
    "region_features.columns = collist\n",
    "region_features.head()"
   ]
  },
  {
   "cell_type": "code",
   "execution_count": 46,
   "metadata": {},
   "outputs": [
    {
     "data": {
      "text/plain": [
       "((258210, 10), (258210,))"
      ]
     },
     "execution_count": 46,
     "metadata": {},
     "output_type": "execute_result"
    }
   ],
   "source": [
    "region_features.shape,data['desc_count'].shape"
   ]
  },
  {
   "cell_type": "code",
   "execution_count": 51,
   "metadata": {},
   "outputs": [
    {
     "data": {
      "text/plain": [
       "Index(['region_0', 'region_1', 'region_2', 'region_3', 'region_4', 'region_5',\n",
       "       'region_6', 'region_7', 'region_8', 'region_9', 'title_0', 'title_1',\n",
       "       'title_2', 'title_3', 'title_4', 'title_5', 'title_6', 'title_7',\n",
       "       'title_8', 'title_9', 'winery_0', 'winery_1', 'winery_2', 'winery_3',\n",
       "       'winery_4', 'winery_5', 'winery_6', 'winery_7', 'winery_8', 'winery_9',\n",
       "       'description_0', 'description_1', 'description_2', 'description_3',\n",
       "       'description_4', 'description_5', 'description_6', 'description_7',\n",
       "       'description_8', 'description_9', 'variety_0', 'variety_1', 'variety_2',\n",
       "       'variety_3', 'variety_4', 'variety_5', 'variety_6', 'variety_7',\n",
       "       'variety_8', 'variety_9', 'province_0', 'province_1', 'province_2',\n",
       "       'province_3', 'province_4', 'province_5', 'province_6', 'province_7',\n",
       "       'province_8', 'province_9', 'country_0', 'country_1', 'country_2',\n",
       "       'country_3', 'country_4', 'country_5', 'country_6', 'country_7',\n",
       "       'country_8', 'country_9', 'desc_count'],\n",
       "      dtype='object')"
      ]
     },
     "execution_count": 51,
     "metadata": {},
     "output_type": "execute_result"
    }
   ],
   "source": [
    "dd = pd.concat([region_features,title_features,winery_features,desc_features, var_features, prov_features, country_features,pd.DataFrame(data['desc_count'].values)], axis=1)\n",
    "dd.columns = [     'region_0',      'region_1',      'region_2',      'region_3',\n",
    "            'region_4',      'region_5',      'region_6',      'region_7',\n",
    "            'region_8',      'region_9',       'title_0',       'title_1',\n",
    "             'title_2',       'title_3',       'title_4',       'title_5',\n",
    "             'title_6',       'title_7',       'title_8',       'title_9',\n",
    "            'winery_0',      'winery_1',      'winery_2',      'winery_3',\n",
    "            'winery_4',      'winery_5',      'winery_6',      'winery_7',\n",
    "            'winery_8',      'winery_9', 'description_0', 'description_1',\n",
    "       'description_2', 'description_3', 'description_4', 'description_5',\n",
    "       'description_6', 'description_7', 'description_8', 'description_9',\n",
    "           'variety_0',     'variety_1',     'variety_2',     'variety_3',\n",
    "           'variety_4',     'variety_5',     'variety_6',     'variety_7',\n",
    "           'variety_8',     'variety_9',    'province_0',    'province_1',\n",
    "          'province_2',    'province_3',    'province_4',    'province_5',\n",
    "          'province_6',    'province_7',    'province_8',    'province_9',\n",
    "           'country_0',     'country_1',     'country_2',     'country_3',\n",
    "           'country_4',     'country_5',     'country_6',     'country_7',\n",
    "           'country_8',     'country_9', 'desc_count']\n",
    "dd.columns"
   ]
  },
  {
   "cell_type": "code",
   "execution_count": 52,
   "metadata": {},
   "outputs": [],
   "source": [
    "xy = pd.concat([pd.DataFrame(sentiDummies.values),dd],axis=1)\n",
    "xy.columns = ['sentiment_1', 'sentiment_2', 'sentiment_3',\n",
    "              'region_0', 'region_1', 'region_2', 'region_3', 'region_4', 'region_5',\n",
    "       'region_6', 'region_7', 'region_8', 'region_9', 'title_0', 'title_1',\n",
    "       'title_2', 'title_3', 'title_4', 'title_5', 'title_6', 'title_7',\n",
    "       'title_8', 'title_9', 'winery_0', 'winery_1', 'winery_2', 'winery_3',\n",
    "       'winery_4', 'winery_5', 'winery_6', 'winery_7', 'winery_8', 'winery_9',\n",
    "       'description_0', 'description_1', 'description_2', 'description_3',\n",
    "       'description_4', 'description_5', 'description_6', 'description_7',\n",
    "       'description_8', 'description_9', 'variety_0', 'variety_1', 'variety_2',\n",
    "       'variety_3', 'variety_4', 'variety_5', 'variety_6', 'variety_7',\n",
    "       'variety_8', 'variety_9', 'province_0', 'province_1', 'province_2',\n",
    "       'province_3', 'province_4', 'province_5', 'province_6', 'province_7',\n",
    "       'province_8', 'province_9', 'country_0', 'country_1', 'country_2',\n",
    "       'country_3', 'country_4', 'country_5', 'country_6', 'country_7',\n",
    "       'country_8', 'country_9', 'desc_count']\n",
    "dd = xy "
   ]
  },
  {
   "cell_type": "code",
   "execution_count": 53,
   "metadata": {},
   "outputs": [
    {
     "data": {
      "text/html": [
       "<div>\n",
       "<style scoped>\n",
       "    .dataframe tbody tr th:only-of-type {\n",
       "        vertical-align: middle;\n",
       "    }\n",
       "\n",
       "    .dataframe tbody tr th {\n",
       "        vertical-align: top;\n",
       "    }\n",
       "\n",
       "    .dataframe thead th {\n",
       "        text-align: right;\n",
       "    }\n",
       "</style>\n",
       "<table border=\"1\" class=\"dataframe\">\n",
       "  <thead>\n",
       "    <tr style=\"text-align: right;\">\n",
       "      <th></th>\n",
       "      <th>sentiment_1</th>\n",
       "      <th>sentiment_2</th>\n",
       "      <th>sentiment_3</th>\n",
       "      <th>region_0</th>\n",
       "      <th>region_1</th>\n",
       "      <th>region_2</th>\n",
       "      <th>region_3</th>\n",
       "      <th>region_4</th>\n",
       "      <th>region_5</th>\n",
       "      <th>region_6</th>\n",
       "      <th>...</th>\n",
       "      <th>country_1</th>\n",
       "      <th>country_2</th>\n",
       "      <th>country_3</th>\n",
       "      <th>country_4</th>\n",
       "      <th>country_5</th>\n",
       "      <th>country_6</th>\n",
       "      <th>country_7</th>\n",
       "      <th>country_8</th>\n",
       "      <th>country_9</th>\n",
       "      <th>desc_count</th>\n",
       "    </tr>\n",
       "  </thead>\n",
       "  <tbody>\n",
       "    <tr>\n",
       "      <th>0</th>\n",
       "      <td>0</td>\n",
       "      <td>0</td>\n",
       "      <td>1</td>\n",
       "      <td>1.000000e+00</td>\n",
       "      <td>-7.093388e-14</td>\n",
       "      <td>2.602919e-13</td>\n",
       "      <td>-1.702879e-12</td>\n",
       "      <td>-1.153284e-12</td>\n",
       "      <td>9.099072e-13</td>\n",
       "      <td>1.675471e-12</td>\n",
       "      <td>...</td>\n",
       "      <td>-1.054783e-14</td>\n",
       "      <td>-2.380983e-14</td>\n",
       "      <td>1.001205e-13</td>\n",
       "      <td>-7.495550e-14</td>\n",
       "      <td>4.996221e-13</td>\n",
       "      <td>1.000000e+00</td>\n",
       "      <td>5.197856e-14</td>\n",
       "      <td>7.537770e-14</td>\n",
       "      <td>2.023980e-14</td>\n",
       "      <td>258</td>\n",
       "    </tr>\n",
       "    <tr>\n",
       "      <th>1</th>\n",
       "      <td>0</td>\n",
       "      <td>0</td>\n",
       "      <td>1</td>\n",
       "      <td>-1.081295e-14</td>\n",
       "      <td>-1.471105e-10</td>\n",
       "      <td>2.661615e-10</td>\n",
       "      <td>-2.362321e-10</td>\n",
       "      <td>1.228193e-09</td>\n",
       "      <td>-2.496795e-09</td>\n",
       "      <td>-4.460173e-09</td>\n",
       "      <td>...</td>\n",
       "      <td>-3.042336e-12</td>\n",
       "      <td>1.000000e+00</td>\n",
       "      <td>3.635610e-14</td>\n",
       "      <td>6.582138e-15</td>\n",
       "      <td>2.757675e-15</td>\n",
       "      <td>6.564498e-15</td>\n",
       "      <td>-4.805927e-15</td>\n",
       "      <td>1.050499e-15</td>\n",
       "      <td>1.247343e-16</td>\n",
       "      <td>217</td>\n",
       "    </tr>\n",
       "    <tr>\n",
       "      <th>2</th>\n",
       "      <td>0</td>\n",
       "      <td>0</td>\n",
       "      <td>1</td>\n",
       "      <td>-1.930396e-11</td>\n",
       "      <td>-8.912161e-08</td>\n",
       "      <td>-4.732932e-07</td>\n",
       "      <td>-1.887182e-06</td>\n",
       "      <td>2.811062e-06</td>\n",
       "      <td>-2.747183e-06</td>\n",
       "      <td>1.856295e-06</td>\n",
       "      <td>...</td>\n",
       "      <td>5.667334e-15</td>\n",
       "      <td>1.000000e+00</td>\n",
       "      <td>6.678430e-13</td>\n",
       "      <td>-2.536657e-13</td>\n",
       "      <td>3.618135e-14</td>\n",
       "      <td>1.067377e-13</td>\n",
       "      <td>-2.671549e-14</td>\n",
       "      <td>-8.739045e-15</td>\n",
       "      <td>-2.803495e-15</td>\n",
       "      <td>188</td>\n",
       "    </tr>\n",
       "    <tr>\n",
       "      <th>3</th>\n",
       "      <td>0</td>\n",
       "      <td>0</td>\n",
       "      <td>1</td>\n",
       "      <td>-9.120942e-09</td>\n",
       "      <td>1.309061e-04</td>\n",
       "      <td>2.736317e-04</td>\n",
       "      <td>6.536927e-04</td>\n",
       "      <td>1.428320e-03</td>\n",
       "      <td>1.692044e-03</td>\n",
       "      <td>4.862020e-03</td>\n",
       "      <td>...</td>\n",
       "      <td>-3.068442e-15</td>\n",
       "      <td>4.101507e-16</td>\n",
       "      <td>9.672184e-14</td>\n",
       "      <td>-3.329062e-13</td>\n",
       "      <td>-3.657993e-13</td>\n",
       "      <td>-8.657740e-13</td>\n",
       "      <td>7.875887e-13</td>\n",
       "      <td>1.083217e-15</td>\n",
       "      <td>-9.690639e-17</td>\n",
       "      <td>182</td>\n",
       "    </tr>\n",
       "    <tr>\n",
       "      <th>4</th>\n",
       "      <td>0</td>\n",
       "      <td>0</td>\n",
       "      <td>1</td>\n",
       "      <td>-4.626275e-09</td>\n",
       "      <td>-8.357904e-06</td>\n",
       "      <td>6.977798e-05</td>\n",
       "      <td>5.366450e-05</td>\n",
       "      <td>4.781378e-05</td>\n",
       "      <td>-1.814801e-04</td>\n",
       "      <td>-6.656464e-04</td>\n",
       "      <td>...</td>\n",
       "      <td>-4.048356e-15</td>\n",
       "      <td>5.466012e-16</td>\n",
       "      <td>8.288400e-14</td>\n",
       "      <td>-1.774554e-13</td>\n",
       "      <td>-7.420329e-13</td>\n",
       "      <td>-3.539708e-13</td>\n",
       "      <td>-3.934867e-13</td>\n",
       "      <td>5.770249e-14</td>\n",
       "      <td>-3.760549e-15</td>\n",
       "      <td>269</td>\n",
       "    </tr>\n",
       "  </tbody>\n",
       "</table>\n",
       "<p>5 rows × 74 columns</p>\n",
       "</div>"
      ],
      "text/plain": [
       "   sentiment_1  sentiment_2  sentiment_3      region_0      region_1  \\\n",
       "0            0            0            1  1.000000e+00 -7.093388e-14   \n",
       "1            0            0            1 -1.081295e-14 -1.471105e-10   \n",
       "2            0            0            1 -1.930396e-11 -8.912161e-08   \n",
       "3            0            0            1 -9.120942e-09  1.309061e-04   \n",
       "4            0            0            1 -4.626275e-09 -8.357904e-06   \n",
       "\n",
       "       region_2      region_3      region_4      region_5      region_6  ...  \\\n",
       "0  2.602919e-13 -1.702879e-12 -1.153284e-12  9.099072e-13  1.675471e-12  ...   \n",
       "1  2.661615e-10 -2.362321e-10  1.228193e-09 -2.496795e-09 -4.460173e-09  ...   \n",
       "2 -4.732932e-07 -1.887182e-06  2.811062e-06 -2.747183e-06  1.856295e-06  ...   \n",
       "3  2.736317e-04  6.536927e-04  1.428320e-03  1.692044e-03  4.862020e-03  ...   \n",
       "4  6.977798e-05  5.366450e-05  4.781378e-05 -1.814801e-04 -6.656464e-04  ...   \n",
       "\n",
       "      country_1     country_2     country_3     country_4     country_5  \\\n",
       "0 -1.054783e-14 -2.380983e-14  1.001205e-13 -7.495550e-14  4.996221e-13   \n",
       "1 -3.042336e-12  1.000000e+00  3.635610e-14  6.582138e-15  2.757675e-15   \n",
       "2  5.667334e-15  1.000000e+00  6.678430e-13 -2.536657e-13  3.618135e-14   \n",
       "3 -3.068442e-15  4.101507e-16  9.672184e-14 -3.329062e-13 -3.657993e-13   \n",
       "4 -4.048356e-15  5.466012e-16  8.288400e-14 -1.774554e-13 -7.420329e-13   \n",
       "\n",
       "      country_6     country_7     country_8     country_9  desc_count  \n",
       "0  1.000000e+00  5.197856e-14  7.537770e-14  2.023980e-14         258  \n",
       "1  6.564498e-15 -4.805927e-15  1.050499e-15  1.247343e-16         217  \n",
       "2  1.067377e-13 -2.671549e-14 -8.739045e-15 -2.803495e-15         188  \n",
       "3 -8.657740e-13  7.875887e-13  1.083217e-15 -9.690639e-17         182  \n",
       "4 -3.539708e-13 -3.934867e-13  5.770249e-14 -3.760549e-15         269  \n",
       "\n",
       "[5 rows x 74 columns]"
      ]
     },
     "execution_count": 53,
     "metadata": {},
     "output_type": "execute_result"
    }
   ],
   "source": [
    "dd.head()"
   ]
  },
  {
   "cell_type": "code",
   "execution_count": 54,
   "metadata": {},
   "outputs": [
    {
     "data": {
      "text/plain": [
       "Index(['sentiment_1', 'sentiment_2', 'sentiment_3', 'region_0', 'region_1',\n",
       "       'region_2', 'region_3', 'region_4', 'region_5', 'region_6', 'region_7',\n",
       "       'region_8', 'region_9', 'title_0', 'title_1', 'title_2', 'title_3',\n",
       "       'title_4', 'title_5', 'title_6', 'title_7', 'title_8', 'title_9',\n",
       "       'winery_0', 'winery_1', 'winery_2', 'winery_3', 'winery_4', 'winery_5',\n",
       "       'winery_6', 'winery_7', 'winery_8', 'winery_9', 'description_0',\n",
       "       'description_1', 'description_2', 'description_3', 'description_4',\n",
       "       'description_5', 'description_6', 'description_7', 'description_8',\n",
       "       'description_9', 'variety_0', 'variety_1', 'variety_2', 'variety_3',\n",
       "       'variety_4', 'variety_5', 'variety_6', 'variety_7', 'variety_8',\n",
       "       'variety_9', 'province_0', 'province_1', 'province_2', 'province_3',\n",
       "       'province_4', 'province_5', 'province_6', 'province_7', 'province_8',\n",
       "       'province_9', 'country_0', 'country_1', 'country_2', 'country_3',\n",
       "       'country_4', 'country_5', 'country_6', 'country_7', 'country_8',\n",
       "       'country_9', 'desc_count'],\n",
       "      dtype='object')"
      ]
     },
     "execution_count": 54,
     "metadata": {},
     "output_type": "execute_result"
    }
   ],
   "source": [
    "dd.columns"
   ]
  },
  {
   "cell_type": "code",
   "execution_count": 55,
   "metadata": {},
   "outputs": [],
   "source": [
    "#data.drop('index', axis=1, inplace=True)"
   ]
  },
  {
   "cell_type": "code",
   "execution_count": 56,
   "metadata": {},
   "outputs": [],
   "source": [
    "dd['train_test'] = data.train_test.values"
   ]
  },
  {
   "cell_type": "code",
   "execution_count": 57,
   "metadata": {},
   "outputs": [],
   "source": [
    "dd['id'] = data.id.values"
   ]
  },
  {
   "cell_type": "code",
   "execution_count": 58,
   "metadata": {},
   "outputs": [],
   "source": [
    "dd['quality'] = data.quality.values"
   ]
  },
  {
   "cell_type": "code",
   "execution_count": 59,
   "metadata": {},
   "outputs": [],
   "source": [
    "dd['points'] = data.points.values"
   ]
  },
  {
   "cell_type": "code",
   "execution_count": 60,
   "metadata": {},
   "outputs": [],
   "source": [
    "dd['price'] = data.price.values"
   ]
  },
  {
   "cell_type": "code",
   "execution_count": 61,
   "metadata": {},
   "outputs": [
    {
     "data": {
      "text/plain": [
       "(258210, 79)"
      ]
     },
     "execution_count": 61,
     "metadata": {},
     "output_type": "execute_result"
    }
   ],
   "source": [
    "#['id', 'points', 'quality', 'price']\n",
    "final_data = dd.copy()\n",
    "final_data.shape"
   ]
  },
  {
   "cell_type": "code",
   "execution_count": 62,
   "metadata": {},
   "outputs": [],
   "source": [
    "# print(train_data.shape)\n",
    "# print(test_data.shape)"
   ]
  },
  {
   "cell_type": "code",
   "execution_count": 63,
   "metadata": {},
   "outputs": [],
   "source": [
    "final_data['sum_desc'] = final_data[['description_0', 'description_1', 'description_2', 'description_3',\n",
    "       'description_4', 'description_5', 'description_6', 'description_7',\n",
    "       'description_8', 'description_9']].sum(axis=1)"
   ]
  },
  {
   "cell_type": "code",
   "execution_count": 64,
   "metadata": {},
   "outputs": [],
   "source": [
    "final_data['sum_var'] = final_data[['variety_0', 'variety_1', 'variety_2',\n",
    "       'variety_3', 'variety_4', 'variety_5', 'variety_6', 'variety_7',\n",
    "       'variety_8', 'variety_9']].sum(axis=1)"
   ]
  },
  {
   "cell_type": "code",
   "execution_count": 65,
   "metadata": {},
   "outputs": [],
   "source": [
    "final_data['sum_prov'] = final_data[['province_0', 'province_1', 'province_2',\n",
    "       'province_3', 'province_4', 'province_5', 'province_6', 'province_7',\n",
    "       'province_8', 'province_9']].sum(axis=1)"
   ]
  },
  {
   "cell_type": "code",
   "execution_count": 66,
   "metadata": {},
   "outputs": [],
   "source": [
    "final_data['sum_country'] = final_data[['variety_0', 'variety_1', 'variety_2',\n",
    "       'variety_3', 'variety_4', 'variety_5', 'variety_6', 'variety_7',\n",
    "       'variety_8', 'variety_9']].sum(axis=1)"
   ]
  },
  {
   "cell_type": "code",
   "execution_count": 67,
   "metadata": {},
   "outputs": [
    {
     "data": {
      "text/html": [
       "<div>\n",
       "<style scoped>\n",
       "    .dataframe tbody tr th:only-of-type {\n",
       "        vertical-align: middle;\n",
       "    }\n",
       "\n",
       "    .dataframe tbody tr th {\n",
       "        vertical-align: top;\n",
       "    }\n",
       "\n",
       "    .dataframe thead th {\n",
       "        text-align: right;\n",
       "    }\n",
       "</style>\n",
       "<table border=\"1\" class=\"dataframe\">\n",
       "  <thead>\n",
       "    <tr style=\"text-align: right;\">\n",
       "      <th></th>\n",
       "      <th>sentiment_1</th>\n",
       "      <th>sentiment_2</th>\n",
       "      <th>sentiment_3</th>\n",
       "      <th>region_0</th>\n",
       "      <th>region_1</th>\n",
       "      <th>region_2</th>\n",
       "      <th>region_3</th>\n",
       "      <th>region_4</th>\n",
       "      <th>region_5</th>\n",
       "      <th>region_6</th>\n",
       "      <th>...</th>\n",
       "      <th>desc_count</th>\n",
       "      <th>train_test</th>\n",
       "      <th>id</th>\n",
       "      <th>quality</th>\n",
       "      <th>points</th>\n",
       "      <th>price</th>\n",
       "      <th>sum_desc</th>\n",
       "      <th>sum_var</th>\n",
       "      <th>sum_prov</th>\n",
       "      <th>sum_country</th>\n",
       "    </tr>\n",
       "  </thead>\n",
       "  <tbody>\n",
       "    <tr>\n",
       "      <th>0</th>\n",
       "      <td>0</td>\n",
       "      <td>0</td>\n",
       "      <td>1</td>\n",
       "      <td>1.000000e+00</td>\n",
       "      <td>-7.093388e-14</td>\n",
       "      <td>2.602919e-13</td>\n",
       "      <td>-1.702879e-12</td>\n",
       "      <td>-1.153284e-12</td>\n",
       "      <td>9.099072e-13</td>\n",
       "      <td>1.675471e-12</td>\n",
       "      <td>...</td>\n",
       "      <td>258</td>\n",
       "      <td>train</td>\n",
       "      <td>32027</td>\n",
       "      <td>2</td>\n",
       "      <td>88.870874</td>\n",
       "      <td>20.0</td>\n",
       "      <td>0.280464</td>\n",
       "      <td>0.114832</td>\n",
       "      <td>0.000449</td>\n",
       "      <td>0.114832</td>\n",
       "    </tr>\n",
       "    <tr>\n",
       "      <th>1</th>\n",
       "      <td>0</td>\n",
       "      <td>0</td>\n",
       "      <td>1</td>\n",
       "      <td>-1.081295e-14</td>\n",
       "      <td>-1.471105e-10</td>\n",
       "      <td>2.661615e-10</td>\n",
       "      <td>-2.362321e-10</td>\n",
       "      <td>1.228193e-09</td>\n",
       "      <td>-2.496795e-09</td>\n",
       "      <td>-4.460173e-09</td>\n",
       "      <td>...</td>\n",
       "      <td>217</td>\n",
       "      <td>train</td>\n",
       "      <td>71079</td>\n",
       "      <td>2</td>\n",
       "      <td>88.041695</td>\n",
       "      <td>28.0</td>\n",
       "      <td>0.187335</td>\n",
       "      <td>1.510915</td>\n",
       "      <td>0.999538</td>\n",
       "      <td>1.510915</td>\n",
       "    </tr>\n",
       "    <tr>\n",
       "      <th>2</th>\n",
       "      <td>0</td>\n",
       "      <td>0</td>\n",
       "      <td>1</td>\n",
       "      <td>-1.930396e-11</td>\n",
       "      <td>-8.912161e-08</td>\n",
       "      <td>-4.732932e-07</td>\n",
       "      <td>-1.887182e-06</td>\n",
       "      <td>2.811062e-06</td>\n",
       "      <td>-2.747183e-06</td>\n",
       "      <td>1.856295e-06</td>\n",
       "      <td>...</td>\n",
       "      <td>188</td>\n",
       "      <td>train</td>\n",
       "      <td>32440</td>\n",
       "      <td>3</td>\n",
       "      <td>94.085021</td>\n",
       "      <td>130.0</td>\n",
       "      <td>0.492536</td>\n",
       "      <td>1.510915</td>\n",
       "      <td>0.999538</td>\n",
       "      <td>1.510915</td>\n",
       "    </tr>\n",
       "    <tr>\n",
       "      <th>3</th>\n",
       "      <td>0</td>\n",
       "      <td>0</td>\n",
       "      <td>1</td>\n",
       "      <td>-9.120942e-09</td>\n",
       "      <td>1.309061e-04</td>\n",
       "      <td>2.736317e-04</td>\n",
       "      <td>6.536927e-04</td>\n",
       "      <td>1.428320e-03</td>\n",
       "      <td>1.692044e-03</td>\n",
       "      <td>4.862020e-03</td>\n",
       "      <td>...</td>\n",
       "      <td>182</td>\n",
       "      <td>train</td>\n",
       "      <td>124405</td>\n",
       "      <td>2</td>\n",
       "      <td>89.869797</td>\n",
       "      <td>34.0</td>\n",
       "      <td>0.122330</td>\n",
       "      <td>0.002228</td>\n",
       "      <td>1.000000</td>\n",
       "      <td>0.002228</td>\n",
       "    </tr>\n",
       "    <tr>\n",
       "      <th>4</th>\n",
       "      <td>0</td>\n",
       "      <td>0</td>\n",
       "      <td>1</td>\n",
       "      <td>-4.626275e-09</td>\n",
       "      <td>-8.357904e-06</td>\n",
       "      <td>6.977798e-05</td>\n",
       "      <td>5.366450e-05</td>\n",
       "      <td>4.781378e-05</td>\n",
       "      <td>-1.814801e-04</td>\n",
       "      <td>-6.656464e-04</td>\n",
       "      <td>...</td>\n",
       "      <td>269</td>\n",
       "      <td>train</td>\n",
       "      <td>33649</td>\n",
       "      <td>2</td>\n",
       "      <td>89.017651</td>\n",
       "      <td>24.0</td>\n",
       "      <td>0.074447</td>\n",
       "      <td>-0.000275</td>\n",
       "      <td>1.000000</td>\n",
       "      <td>-0.000275</td>\n",
       "    </tr>\n",
       "  </tbody>\n",
       "</table>\n",
       "<p>5 rows × 83 columns</p>\n",
       "</div>"
      ],
      "text/plain": [
       "   sentiment_1  sentiment_2  sentiment_3      region_0      region_1  \\\n",
       "0            0            0            1  1.000000e+00 -7.093388e-14   \n",
       "1            0            0            1 -1.081295e-14 -1.471105e-10   \n",
       "2            0            0            1 -1.930396e-11 -8.912161e-08   \n",
       "3            0            0            1 -9.120942e-09  1.309061e-04   \n",
       "4            0            0            1 -4.626275e-09 -8.357904e-06   \n",
       "\n",
       "       region_2      region_3      region_4      region_5      region_6  ...  \\\n",
       "0  2.602919e-13 -1.702879e-12 -1.153284e-12  9.099072e-13  1.675471e-12  ...   \n",
       "1  2.661615e-10 -2.362321e-10  1.228193e-09 -2.496795e-09 -4.460173e-09  ...   \n",
       "2 -4.732932e-07 -1.887182e-06  2.811062e-06 -2.747183e-06  1.856295e-06  ...   \n",
       "3  2.736317e-04  6.536927e-04  1.428320e-03  1.692044e-03  4.862020e-03  ...   \n",
       "4  6.977798e-05  5.366450e-05  4.781378e-05 -1.814801e-04 -6.656464e-04  ...   \n",
       "\n",
       "   desc_count  train_test      id  quality     points  price  sum_desc  \\\n",
       "0         258       train   32027        2  88.870874   20.0  0.280464   \n",
       "1         217       train   71079        2  88.041695   28.0  0.187335   \n",
       "2         188       train   32440        3  94.085021  130.0  0.492536   \n",
       "3         182       train  124405        2  89.869797   34.0  0.122330   \n",
       "4         269       train   33649        2  89.017651   24.0  0.074447   \n",
       "\n",
       "    sum_var  sum_prov  sum_country  \n",
       "0  0.114832  0.000449     0.114832  \n",
       "1  1.510915  0.999538     1.510915  \n",
       "2  1.510915  0.999538     1.510915  \n",
       "3  0.002228  1.000000     0.002228  \n",
       "4 -0.000275  1.000000    -0.000275  \n",
       "\n",
       "[5 rows x 83 columns]"
      ]
     },
     "execution_count": 67,
     "metadata": {},
     "output_type": "execute_result"
    }
   ],
   "source": [
    "final_data.head()"
   ]
  },
  {
   "cell_type": "code",
   "execution_count": 68,
   "metadata": {},
   "outputs": [],
   "source": [
    "# final_data['country3_8'] = final_data.quality*(final_data.country_1+final_data.country_3+final_data.country_4+final_data.country_5+final_data.country_6+final_data.country_7+final_data.country_8)"
   ]
  },
  {
   "cell_type": "code",
   "execution_count": 70,
   "metadata": {},
   "outputs": [
    {
     "data": {
      "text/plain": [
       "Index(['sentiment_1', 'sentiment_2', 'sentiment_3', 'region_0', 'region_1',\n",
       "       'region_2', 'region_3', 'region_4', 'region_5', 'region_6', 'region_7',\n",
       "       'region_8', 'region_9', 'title_0', 'title_1', 'title_2', 'title_3',\n",
       "       'title_4', 'title_5', 'title_6', 'title_7', 'title_8', 'title_9',\n",
       "       'winery_0', 'winery_1', 'winery_2', 'winery_3', 'winery_4', 'winery_5',\n",
       "       'winery_6', 'winery_7', 'winery_8', 'winery_9', 'description_0',\n",
       "       'description_1', 'description_2', 'description_3', 'description_4',\n",
       "       'description_5', 'description_6', 'description_7', 'description_8',\n",
       "       'description_9', 'variety_0', 'variety_1', 'variety_2', 'variety_3',\n",
       "       'variety_4', 'variety_5', 'variety_6', 'variety_7', 'variety_8',\n",
       "       'variety_9', 'province_0', 'province_1', 'province_2', 'province_3',\n",
       "       'province_4', 'province_5', 'province_6', 'province_7', 'province_8',\n",
       "       'province_9', 'country_0', 'country_1', 'country_2', 'country_3',\n",
       "       'country_4', 'country_5', 'country_6', 'country_7', 'country_8',\n",
       "       'country_9', 'desc_count', 'train_test', 'id', 'quality', 'points',\n",
       "       'price', 'sum_desc', 'sum_var', 'sum_prov', 'sum_country'],\n",
       "      dtype='object')"
      ]
     },
     "execution_count": 70,
     "metadata": {},
     "output_type": "execute_result"
    }
   ],
   "source": [
    "final_data.columns"
   ]
  },
  {
   "cell_type": "code",
   "execution_count": 71,
   "metadata": {},
   "outputs": [
    {
     "data": {
      "text/html": [
       "<div>\n",
       "<style scoped>\n",
       "    .dataframe tbody tr th:only-of-type {\n",
       "        vertical-align: middle;\n",
       "    }\n",
       "\n",
       "    .dataframe tbody tr th {\n",
       "        vertical-align: top;\n",
       "    }\n",
       "\n",
       "    .dataframe thead th {\n",
       "        text-align: right;\n",
       "    }\n",
       "</style>\n",
       "<table border=\"1\" class=\"dataframe\">\n",
       "  <thead>\n",
       "    <tr style=\"text-align: right;\">\n",
       "      <th></th>\n",
       "      <th>sentiment_1</th>\n",
       "      <th>sentiment_2</th>\n",
       "      <th>sentiment_3</th>\n",
       "      <th>region_0</th>\n",
       "      <th>region_1</th>\n",
       "      <th>region_2</th>\n",
       "      <th>region_3</th>\n",
       "      <th>region_4</th>\n",
       "      <th>region_5</th>\n",
       "      <th>region_6</th>\n",
       "      <th>...</th>\n",
       "      <th>country_8</th>\n",
       "      <th>country_9</th>\n",
       "      <th>desc_count</th>\n",
       "      <th>id</th>\n",
       "      <th>quality</th>\n",
       "      <th>points</th>\n",
       "      <th>sum_desc</th>\n",
       "      <th>sum_var</th>\n",
       "      <th>sum_prov</th>\n",
       "      <th>sum_country</th>\n",
       "    </tr>\n",
       "  </thead>\n",
       "  <tbody>\n",
       "    <tr>\n",
       "      <th>0</th>\n",
       "      <td>0.0</td>\n",
       "      <td>0.0</td>\n",
       "      <td>1.0</td>\n",
       "      <td>1.000000e+00</td>\n",
       "      <td>0.000221</td>\n",
       "      <td>0.000902</td>\n",
       "      <td>0.003388</td>\n",
       "      <td>0.002188</td>\n",
       "      <td>0.005109</td>\n",
       "      <td>0.006187</td>\n",
       "      <td>...</td>\n",
       "      <td>2.332081e-08</td>\n",
       "      <td>2.365764e-08</td>\n",
       "      <td>0.312661</td>\n",
       "      <td>0.212199</td>\n",
       "      <td>0.333333</td>\n",
       "      <td>0.448627</td>\n",
       "      <td>0.449004</td>\n",
       "      <td>0.088945</td>\n",
       "      <td>0.018865</td>\n",
       "      <td>0.088945</td>\n",
       "    </tr>\n",
       "    <tr>\n",
       "      <th>1</th>\n",
       "      <td>0.0</td>\n",
       "      <td>0.0</td>\n",
       "      <td>1.0</td>\n",
       "      <td>4.409194e-08</td>\n",
       "      <td>0.000221</td>\n",
       "      <td>0.000902</td>\n",
       "      <td>0.003388</td>\n",
       "      <td>0.002188</td>\n",
       "      <td>0.005109</td>\n",
       "      <td>0.006187</td>\n",
       "      <td>...</td>\n",
       "      <td>2.332073e-08</td>\n",
       "      <td>2.365762e-08</td>\n",
       "      <td>0.259690</td>\n",
       "      <td>0.470943</td>\n",
       "      <td>0.333333</td>\n",
       "      <td>0.408345</td>\n",
       "      <td>0.384574</td>\n",
       "      <td>1.000000</td>\n",
       "      <td>0.998917</td>\n",
       "      <td>1.000000</td>\n",
       "    </tr>\n",
       "  </tbody>\n",
       "</table>\n",
       "<p>2 rows × 81 columns</p>\n",
       "</div>"
      ],
      "text/plain": [
       "   sentiment_1  sentiment_2  sentiment_3      region_0  region_1  region_2  \\\n",
       "0          0.0          0.0          1.0  1.000000e+00  0.000221  0.000902   \n",
       "1          0.0          0.0          1.0  4.409194e-08  0.000221  0.000902   \n",
       "\n",
       "   region_3  region_4  region_5  region_6  ...     country_8     country_9  \\\n",
       "0  0.003388  0.002188  0.005109  0.006187  ...  2.332081e-08  2.365764e-08   \n",
       "1  0.003388  0.002188  0.005109  0.006187  ...  2.332073e-08  2.365762e-08   \n",
       "\n",
       "   desc_count        id   quality    points  sum_desc   sum_var  sum_prov  \\\n",
       "0    0.312661  0.212199  0.333333  0.448627  0.449004  0.088945  0.018865   \n",
       "1    0.259690  0.470943  0.333333  0.408345  0.384574  1.000000  0.998917   \n",
       "\n",
       "   sum_country  \n",
       "0     0.088945  \n",
       "1     1.000000  \n",
       "\n",
       "[2 rows x 81 columns]"
      ]
     },
     "execution_count": 71,
     "metadata": {},
     "output_type": "execute_result"
    }
   ],
   "source": [
    "from sklearn import preprocessing\n",
    "\n",
    "\n",
    "x = final_data[['sentiment_1', 'sentiment_2', 'sentiment_3', 'region_0', 'region_1',\n",
    "       'region_2', 'region_3', 'region_4', 'region_5', 'region_6', 'region_7',\n",
    "       'region_8', 'region_9', 'title_0', 'title_1', 'title_2', 'title_3',\n",
    "       'title_4', 'title_5', 'title_6', 'title_7', 'title_8', 'title_9',\n",
    "       'winery_0', 'winery_1', 'winery_2', 'winery_3', 'winery_4', 'winery_5',\n",
    "       'winery_6', 'winery_7', 'winery_8', 'winery_9', 'description_0',\n",
    "       'description_1', 'description_2', 'description_3', 'description_4',\n",
    "       'description_5', 'description_6', 'description_7', 'description_8',\n",
    "       'description_9', 'variety_0', 'variety_1', 'variety_2', 'variety_3',\n",
    "       'variety_4', 'variety_5', 'variety_6', 'variety_7', 'variety_8',\n",
    "       'variety_9', 'province_0', 'province_1', 'province_2', 'province_3',\n",
    "       'province_4', 'province_5', 'province_6', 'province_7', 'province_8',\n",
    "       'province_9', 'country_0', 'country_1', 'country_2', 'country_3',\n",
    "       'country_4', 'country_5', 'country_6', 'country_7', 'country_8',\n",
    "       'country_9', 'desc_count', 'id', 'quality', 'points', \n",
    "                'sum_desc', 'sum_var', 'sum_prov', 'sum_country']].values #returns a numpy array\n",
    "min_max_scaler = preprocessing.MinMaxScaler()\n",
    "x_scaled = min_max_scaler.fit_transform(x)\n",
    "df = pd.DataFrame(x_scaled)\n",
    "df.columns = ['sentiment_1', 'sentiment_2', 'sentiment_3', 'region_0', 'region_1',\n",
    "       'region_2', 'region_3', 'region_4', 'region_5', 'region_6', 'region_7',\n",
    "       'region_8', 'region_9', 'title_0', 'title_1', 'title_2', 'title_3',\n",
    "       'title_4', 'title_5', 'title_6', 'title_7', 'title_8', 'title_9',\n",
    "       'winery_0', 'winery_1', 'winery_2', 'winery_3', 'winery_4', 'winery_5',\n",
    "       'winery_6', 'winery_7', 'winery_8', 'winery_9', 'description_0',\n",
    "       'description_1', 'description_2', 'description_3', 'description_4',\n",
    "       'description_5', 'description_6', 'description_7', 'description_8',\n",
    "       'description_9', 'variety_0', 'variety_1', 'variety_2', 'variety_3',\n",
    "       'variety_4', 'variety_5', 'variety_6', 'variety_7', 'variety_8',\n",
    "       'variety_9', 'province_0', 'province_1', 'province_2', 'province_3',\n",
    "       'province_4', 'province_5', 'province_6', 'province_7', 'province_8',\n",
    "       'province_9', 'country_0', 'country_1', 'country_2', 'country_3',\n",
    "       'country_4', 'country_5', 'country_6', 'country_7', 'country_8',\n",
    "       'country_9', 'desc_count', 'id', 'quality', 'points', \n",
    "                'sum_desc', 'sum_var', 'sum_prov', 'sum_country']\n",
    "df.head(2)"
   ]
  },
  {
   "cell_type": "code",
   "execution_count": 72,
   "metadata": {},
   "outputs": [],
   "source": [
    "final_data = pd.concat([df,final_data['train_test'],final_data['price']],axis = 1)"
   ]
  },
  {
   "cell_type": "code",
   "execution_count": null,
   "metadata": {},
   "outputs": [],
   "source": []
  },
  {
   "cell_type": "code",
   "execution_count": null,
   "metadata": {},
   "outputs": [],
   "source": []
  },
  {
   "cell_type": "code",
   "execution_count": 73,
   "metadata": {},
   "outputs": [],
   "source": [
    "train_data = final_data[final_data['train_test'] == 'train']\n",
    "test_data = final_data[final_data['train_test'] == 'test']"
   ]
  },
  {
   "cell_type": "code",
   "execution_count": 74,
   "metadata": {},
   "outputs": [
    {
     "data": {
      "text/html": [
       "<div>\n",
       "<style scoped>\n",
       "    .dataframe tbody tr th:only-of-type {\n",
       "        vertical-align: middle;\n",
       "    }\n",
       "\n",
       "    .dataframe tbody tr th {\n",
       "        vertical-align: top;\n",
       "    }\n",
       "\n",
       "    .dataframe thead th {\n",
       "        text-align: right;\n",
       "    }\n",
       "</style>\n",
       "<table border=\"1\" class=\"dataframe\">\n",
       "  <thead>\n",
       "    <tr style=\"text-align: right;\">\n",
       "      <th></th>\n",
       "      <th>sentiment_1</th>\n",
       "      <th>sentiment_2</th>\n",
       "      <th>sentiment_3</th>\n",
       "      <th>region_0</th>\n",
       "      <th>region_1</th>\n",
       "      <th>region_2</th>\n",
       "      <th>region_3</th>\n",
       "      <th>region_4</th>\n",
       "      <th>region_5</th>\n",
       "      <th>region_6</th>\n",
       "      <th>...</th>\n",
       "      <th>desc_count</th>\n",
       "      <th>id</th>\n",
       "      <th>quality</th>\n",
       "      <th>points</th>\n",
       "      <th>sum_desc</th>\n",
       "      <th>sum_var</th>\n",
       "      <th>sum_prov</th>\n",
       "      <th>sum_country</th>\n",
       "      <th>train_test</th>\n",
       "      <th>price</th>\n",
       "    </tr>\n",
       "  </thead>\n",
       "  <tbody>\n",
       "    <tr>\n",
       "      <th>0</th>\n",
       "      <td>0.0</td>\n",
       "      <td>0.0</td>\n",
       "      <td>1.0</td>\n",
       "      <td>1.000000e+00</td>\n",
       "      <td>0.000221</td>\n",
       "      <td>0.000902</td>\n",
       "      <td>0.003388</td>\n",
       "      <td>0.002188</td>\n",
       "      <td>0.005109</td>\n",
       "      <td>0.006187</td>\n",
       "      <td>...</td>\n",
       "      <td>0.312661</td>\n",
       "      <td>0.212199</td>\n",
       "      <td>0.333333</td>\n",
       "      <td>0.448627</td>\n",
       "      <td>0.449004</td>\n",
       "      <td>0.088945</td>\n",
       "      <td>0.018865</td>\n",
       "      <td>0.088945</td>\n",
       "      <td>train</td>\n",
       "      <td>20.0</td>\n",
       "    </tr>\n",
       "    <tr>\n",
       "      <th>1</th>\n",
       "      <td>0.0</td>\n",
       "      <td>0.0</td>\n",
       "      <td>1.0</td>\n",
       "      <td>4.409194e-08</td>\n",
       "      <td>0.000221</td>\n",
       "      <td>0.000902</td>\n",
       "      <td>0.003388</td>\n",
       "      <td>0.002188</td>\n",
       "      <td>0.005109</td>\n",
       "      <td>0.006187</td>\n",
       "      <td>...</td>\n",
       "      <td>0.259690</td>\n",
       "      <td>0.470943</td>\n",
       "      <td>0.333333</td>\n",
       "      <td>0.408345</td>\n",
       "      <td>0.384574</td>\n",
       "      <td>1.000000</td>\n",
       "      <td>0.998917</td>\n",
       "      <td>1.000000</td>\n",
       "      <td>train</td>\n",
       "      <td>28.0</td>\n",
       "    </tr>\n",
       "  </tbody>\n",
       "</table>\n",
       "<p>2 rows × 83 columns</p>\n",
       "</div>"
      ],
      "text/plain": [
       "   sentiment_1  sentiment_2  sentiment_3      region_0  region_1  region_2  \\\n",
       "0          0.0          0.0          1.0  1.000000e+00  0.000221  0.000902   \n",
       "1          0.0          0.0          1.0  4.409194e-08  0.000221  0.000902   \n",
       "\n",
       "   region_3  region_4  region_5  region_6  ...  desc_count        id  \\\n",
       "0  0.003388  0.002188  0.005109  0.006187  ...    0.312661  0.212199   \n",
       "1  0.003388  0.002188  0.005109  0.006187  ...    0.259690  0.470943   \n",
       "\n",
       "    quality    points  sum_desc   sum_var  sum_prov  sum_country  train_test  \\\n",
       "0  0.333333  0.448627  0.449004  0.088945  0.018865     0.088945       train   \n",
       "1  0.333333  0.408345  0.384574  1.000000  0.998917     1.000000       train   \n",
       "\n",
       "   price  \n",
       "0   20.0  \n",
       "1   28.0  \n",
       "\n",
       "[2 rows x 83 columns]"
      ]
     },
     "execution_count": 74,
     "metadata": {},
     "output_type": "execute_result"
    }
   ],
   "source": [
    "train_data.head(2)"
   ]
  },
  {
   "cell_type": "code",
   "execution_count": null,
   "metadata": {},
   "outputs": [],
   "source": []
  },
  {
   "cell_type": "code",
   "execution_count": null,
   "metadata": {},
   "outputs": [],
   "source": []
  },
  {
   "cell_type": "code",
   "execution_count": 76,
   "metadata": {},
   "outputs": [],
   "source": [
    "X = train_data[['sentiment_1', 'sentiment_2', 'sentiment_3', 'region_0', 'region_1',\n",
    "       'region_2', 'region_3', 'region_4', 'region_5', 'region_6', 'region_7',\n",
    "       'region_8', 'region_9', 'title_0', 'title_1', 'title_2', 'title_3',\n",
    "       'title_4', 'title_5', 'title_6', 'title_7', 'title_8', 'title_9',\n",
    "       'winery_0', 'winery_1', 'winery_2', 'winery_3', 'winery_4', 'winery_5',\n",
    "       'winery_6', 'winery_7', 'winery_8', 'winery_9', 'description_0',\n",
    "       'description_1', 'description_2', 'description_3', 'description_4',\n",
    "       'description_5', 'description_6', 'description_7', 'description_8',\n",
    "       'description_9', 'variety_0', 'variety_1', 'variety_2', 'variety_3',\n",
    "       'variety_4', 'variety_5', 'variety_6', 'variety_7', 'variety_8',\n",
    "       'variety_9', 'province_0', 'province_1', 'province_2', 'province_3',\n",
    "       'province_4', 'province_5', 'province_6', 'province_7', 'province_8',\n",
    "       'province_9', 'country_0', 'country_1', 'country_2', 'country_3',\n",
    "       'country_4', 'country_5', 'country_6', 'country_7', 'country_8',\n",
    "       'country_9', 'desc_count', 'id', 'quality', 'points', \n",
    "                'sum_desc', 'sum_var', 'sum_prov', 'sum_country']]\n",
    "y = train_data[\"price\"]"
   ]
  },
  {
   "cell_type": "code",
   "execution_count": 147,
   "metadata": {},
   "outputs": [],
   "source": [
    "X_train, X_test, y_train, y_test = train_test_split(X, y, test_size=0.3)"
   ]
  },
  {
   "cell_type": "code",
   "execution_count": 148,
   "metadata": {},
   "outputs": [
    {
     "name": "stdout",
     "output_type": "stream",
     "text": [
      "(52500, 81) (52500,) (122500, 81) (122500,)\n"
     ]
    }
   ],
   "source": [
    "print(X_test.shape, y_test.shape, X_train.shape, y_train.shape)"
   ]
  },
  {
   "cell_type": "code",
   "execution_count": 79,
   "metadata": {},
   "outputs": [
    {
     "name": "stderr",
     "output_type": "stream",
     "text": [
      "/home/aims/anaconda3/lib/python3.7/site-packages/xgboost/core.py:587: FutureWarning: Series.base is deprecated and will be removed in a future version\n",
      "  if getattr(data, 'base', None) is not None and \\\n"
     ]
    }
   ],
   "source": [
    "dtrain = xgb.DMatrix(X_train, label=y_train)\n",
    "dtest = xgb.DMatrix(X_test, label=y_test)"
   ]
  },
  {
   "cell_type": "code",
   "execution_count": 80,
   "metadata": {},
   "outputs": [
    {
     "name": "stdout",
     "output_type": "stream",
     "text": [
      "[0]\ttrain-mae:15.2297\n",
      "[1]\ttrain-mae:14.5251\n",
      "[2]\ttrain-mae:14.4008\n",
      "[3]\ttrain-mae:14.0803\n",
      "[4]\ttrain-mae:13.9457\n",
      "[5]\ttrain-mae:13.9318\n",
      "[6]\ttrain-mae:13.7879\n",
      "[7]\ttrain-mae:13.6212\n",
      "[8]\ttrain-mae:13.6249\n",
      "[9]\ttrain-mae:13.6368\n",
      "[10]\ttrain-mae:13.4989\n",
      "[11]\ttrain-mae:13.5038\n",
      "[12]\ttrain-mae:13.5269\n",
      "[13]\ttrain-mae:13.5091\n",
      "[14]\ttrain-mae:13.4895\n",
      "[15]\ttrain-mae:13.5105\n",
      "[16]\ttrain-mae:13.464\n",
      "[17]\ttrain-mae:13.4113\n",
      "[18]\ttrain-mae:13.3889\n",
      "[19]\ttrain-mae:13.4015\n"
     ]
    }
   ],
   "source": [
    "#Set xgboost parameters\n",
    "param = {'max_depth': 3, 'eta': 1, 'subsample':0.5, 'alpha':1}\n",
    "param['nthread'] = 6\n",
    "param['eval_metric'] = 'mae'\n",
    "param['objective'] = 'reg:linear'\n",
    "param['silent'] = 1\n",
    "evallist = [(dtrain, 'train')]\n",
    "num_round = 20\n",
    "\n",
    "#Train model\n",
    "bst = xgb.train(param, dtrain, num_round, evallist)"
   ]
  },
  {
   "cell_type": "code",
   "execution_count": 81,
   "metadata": {},
   "outputs": [],
   "source": [
    "pred = pd.DataFrame(y_test.copy())\n",
    "pred[\"prediction\"] = bst.predict(dtest, ntree_limit=bst.best_ntree_limit)"
   ]
  },
  {
   "cell_type": "code",
   "execution_count": 82,
   "metadata": {},
   "outputs": [
    {
     "name": "stdout",
     "output_type": "stream",
     "text": [
      "Mean Squared Error: 29.53 \n"
     ]
    }
   ],
   "source": [
    "rmse = np.round(np.sqrt(mean_squared_error(y_true=pred[\"price\"], y_pred=pred[\"prediction\"])), 2)\n",
    "print (\"Mean Squared Error: {} \".format(rmse))"
   ]
  },
  {
   "cell_type": "code",
   "execution_count": 83,
   "metadata": {},
   "outputs": [],
   "source": [
    "from sklearn.linear_model import LinearRegression, Ridge\n",
    "from sklearn.ensemble import RandomForestRegressor"
   ]
  },
  {
   "cell_type": "code",
   "execution_count": 84,
   "metadata": {},
   "outputs": [
    {
     "data": {
      "text/plain": [
       "Ridge(alpha=1.0, copy_X=True, fit_intercept=True, max_iter=None,\n",
       "      normalize=False, random_state=None, solver='auto', tol=0.001)"
      ]
     },
     "execution_count": 84,
     "metadata": {},
     "output_type": "execute_result"
    }
   ],
   "source": [
    "lm = Ridge()\n",
    "\n",
    "lm.fit(X_train, y_train)"
   ]
  },
  {
   "cell_type": "code",
   "execution_count": 85,
   "metadata": {},
   "outputs": [
    {
     "name": "stdout",
     "output_type": "stream",
     "text": [
      "-25.485999027584697\n"
     ]
    }
   ],
   "source": [
    "print(lm.intercept_)"
   ]
  },
  {
   "cell_type": "code",
   "execution_count": 96,
   "metadata": {},
   "outputs": [
    {
     "data": {
      "text/plain": [
       "<matplotlib.collections.PathCollection at 0x7f37093e6400>"
      ]
     },
     "execution_count": 96,
     "metadata": {},
     "output_type": "execute_result"
    },
    {
     "data": {
      "image/png": "[encoded data removed]",
      "text/plain": [
       "<Figure size 432x288 with 1 Axes>"
      ]
     },
     "metadata": {
      "needs_background": "light"
     },
     "output_type": "display_data"
    }
   ],
   "source": [
    "predictions = lm.predict(X_test)\n",
    "plt.scatter(y_test,predictions)"
   ]
  },
  {
   "cell_type": "code",
   "execution_count": 87,
   "metadata": {},
   "outputs": [
    {
     "name": "stdout",
     "output_type": "stream",
     "text": [
      "RMSE: 30.546881522628738\n"
     ]
    }
   ],
   "source": [
    "print('RMSE:', np.sqrt(mean_squared_error(y_test, predictions)))"
   ]
  },
  {
   "cell_type": "code",
   "execution_count": 88,
   "metadata": {},
   "outputs": [],
   "source": [
    "# rf = RandomForestRegressor()"
   ]
  },
  {
   "cell_type": "code",
   "execution_count": 140,
   "metadata": {},
   "outputs": [],
   "source": [
    "rf = RandomForestRegressor(n_estimators = 1000, random_state = 42,max_depth=12)"
   ]
  },
  {
   "cell_type": "code",
   "execution_count": 141,
   "metadata": {},
   "outputs": [
    {
     "data": {
      "text/plain": [
       "RandomForestRegressor(bootstrap=True, criterion='mse', max_depth=12,\n",
       "                      max_features='auto', max_leaf_nodes=None,\n",
       "                      min_impurity_decrease=0.0, min_impurity_split=None,\n",
       "                      min_samples_leaf=1, min_samples_split=2,\n",
       "                      min_weight_fraction_leaf=0.0, n_estimators=1000,\n",
       "                      n_jobs=None, oob_score=False, random_state=42, verbose=0,\n",
       "                      warm_start=False)"
      ]
     },
     "execution_count": 141,
     "metadata": {},
     "output_type": "execute_result"
    }
   ],
   "source": [
    "rf.fit(X_train, y_train)"
   ]
  },
  {
   "cell_type": "code",
   "execution_count": 150,
   "metadata": {},
   "outputs": [],
   "source": [
    "predicts = rf.predict(X_test)"
   ]
  },
  {
   "cell_type": "code",
   "execution_count": 151,
   "metadata": {},
   "outputs": [
    {
     "data": {
      "text/plain": [
       "((52500, 81), (52500,))"
      ]
     },
     "execution_count": 151,
     "metadata": {},
     "output_type": "execute_result"
    }
   ],
   "source": [
    "X_test.shape,y_test.shape"
   ]
  },
  {
   "cell_type": "code",
   "execution_count": 152,
   "metadata": {},
   "outputs": [
    {
     "data": {
      "text/plain": [
       "<matplotlib.collections.PathCollection at 0x7f3704c9b160>"
      ]
     },
     "execution_count": 152,
     "metadata": {},
     "output_type": "execute_result"
    },
    {
     "data": {
      "image/png": "[encoded data removed]",
      "text/plain": [
       "<Figure size 432x288 with 1 Axes>"
      ]
     },
     "metadata": {
      "needs_background": "light"
     },
     "output_type": "display_data"
    }
   ],
   "source": [
    "plt.scatter(y_test, predicts)"
   ]
  },
  {
   "cell_type": "code",
   "execution_count": 153,
   "metadata": {},
   "outputs": [
    {
     "name": "stdout",
     "output_type": "stream",
     "text": [
      "RMSE: 19.938686401873404\n"
     ]
    }
   ],
   "source": [
    "print('RMSE:', np.sqrt(mean_squared_error(y_test, predicts)))"
   ]
  },
  {
   "cell_type": "code",
   "execution_count": 78,
   "metadata": {},
   "outputs": [],
   "source": [
    "#features_label = X.columns[:]\n",
    "#importances = rf.feature_importances_\n",
    "#indices = np. argsort(importances)[::-1]\n",
    "#for i in range(X.shape[1]):\n",
    "    #print (\"%2d) %-*s %f\" % (i + 1, 30, features_label[i],importances[indices[i]]))"
   ]
  },
  {
   "cell_type": "markdown",
   "metadata": {},
   "source": [
    "## XGB"
   ]
  },
  {
   "cell_type": "code",
   "execution_count": 97,
   "metadata": {},
   "outputs": [
    {
     "name": "stderr",
     "output_type": "stream",
     "text": [
      "/home/aims/anaconda3/lib/python3.7/site-packages/xgboost/core.py:587: FutureWarning: Series.base is deprecated and will be removed in a future version\n",
      "  if getattr(data, 'base', None) is not None and \\\n"
     ]
    },
    {
     "name": "stdout",
     "output_type": "stream",
     "text": [
      "[21:15:38] WARNING: /workspace/src/objective/regression_obj.cu:152: reg:linear is now deprecated in favor of reg:squarederror.\n"
     ]
    },
    {
     "data": {
      "text/plain": [
       "XGBRegressor(base_score=0.5, booster='gbtree', colsample_bylevel=1,\n",
       "             colsample_bynode=1, colsample_bytree=1, gamma=0,\n",
       "             importance_type='gain', learning_rate=0.1, max_delta_step=0,\n",
       "             max_depth=3, min_child_weight=1, missing=None, n_estimators=100,\n",
       "             n_jobs=1, nthread=None, objective='reg:linear', random_state=42,\n",
       "             reg_alpha=0, reg_lambda=1, scale_pos_weight=1, seed=None,\n",
       "             silent=None, subsample=1, verbosity=1)"
      ]
     },
     "execution_count": 97,
     "metadata": {},
     "output_type": "execute_result"
    }
   ],
   "source": [
    "xgb_model = xgb.XGBRegressor(objective=\"reg:linear\", random_state=42)\n",
    "\n",
    "xgb_model.fit(X_train,y_train)"
   ]
  },
  {
   "cell_type": "code",
   "execution_count": 98,
   "metadata": {},
   "outputs": [
    {
     "name": "stdout",
     "output_type": "stream",
     "text": [
      "xjb RMSE: 26.989892524384803\n"
     ]
    }
   ],
   "source": [
    "xgby_pred = xgb_model.predict(X_test)\n",
    "print('xjb RMSE:', np.sqrt(mean_squared_error(y_test, xgby_pred)))\n"
   ]
  },
  {
   "cell_type": "code",
   "execution_count": null,
   "metadata": {},
   "outputs": [],
   "source": []
  },
  {
   "cell_type": "code",
   "execution_count": null,
   "metadata": {},
   "outputs": [],
   "source": []
  },
  {
   "cell_type": "code",
   "execution_count": 79,
   "metadata": {},
   "outputs": [],
   "source": [
    "#print(test_data.columns.tolist())"
   ]
  },
  {
   "cell_type": "code",
   "execution_count": 154,
   "metadata": {},
   "outputs": [],
   "source": [
    "X_test = test_data[['sentiment_1', 'sentiment_2', 'sentiment_3', 'region_0', 'region_1',\n",
    "       'region_2', 'region_3', 'region_4', 'region_5', 'region_6', 'region_7',\n",
    "       'region_8', 'region_9', 'title_0', 'title_1', 'title_2', 'title_3',\n",
    "       'title_4', 'title_5', 'title_6', 'title_7', 'title_8', 'title_9',\n",
    "       'winery_0', 'winery_1', 'winery_2', 'winery_3', 'winery_4', 'winery_5',\n",
    "       'winery_6', 'winery_7', 'winery_8', 'winery_9', 'description_0',\n",
    "       'description_1', 'description_2', 'description_3', 'description_4',\n",
    "       'description_5', 'description_6', 'description_7', 'description_8',\n",
    "       'description_9', 'variety_0', 'variety_1', 'variety_2', 'variety_3',\n",
    "       'variety_4', 'variety_5', 'variety_6', 'variety_7', 'variety_8',\n",
    "       'variety_9', 'province_0', 'province_1', 'province_2', 'province_3',\n",
    "       'province_4', 'province_5', 'province_6', 'province_7', 'province_8',\n",
    "       'province_9', 'country_0', 'country_1', 'country_2', 'country_3',\n",
    "       'country_4', 'country_5', 'country_6', 'country_7', 'country_8',\n",
    "       'country_9', 'desc_count', 'id', 'quality', 'points', \n",
    "                'sum_desc', 'sum_var', 'sum_prov', 'sum_country']]"
   ]
  },
  {
   "cell_type": "code",
   "execution_count": null,
   "metadata": {},
   "outputs": [],
   "source": []
  },
  {
   "cell_type": "code",
   "execution_count": 155,
   "metadata": {},
   "outputs": [
    {
     "data": {
      "text/plain": [
       "175000    159\n",
       "175001     66\n",
       "175002     39\n",
       "175003     35\n",
       "175004     13\n",
       "Name: price, dtype: int32"
      ]
     },
     "execution_count": 155,
     "metadata": {},
     "output_type": "execute_result"
    }
   ],
   "source": [
    "# test_data['price'] = rf.predict(X_test)\n",
    "test_data['price'].head()"
   ]
  },
  {
   "cell_type": "code",
   "execution_count": 156,
   "metadata": {},
   "outputs": [
    {
     "data": {
      "text/plain": [
       "[Text(0, 0, 'sentiment_1'),\n",
       " Text(0, 0, 'sentiment_2'),\n",
       " Text(0, 0, 'sentiment_3'),\n",
       " Text(0, 0, 'region_0'),\n",
       " Text(0, 0, 'region_1'),\n",
       " Text(0, 0, 'region_2'),\n",
       " Text(0, 0, 'region_3'),\n",
       " Text(0, 0, 'region_4'),\n",
       " Text(0, 0, 'region_5'),\n",
       " Text(0, 0, 'region_6'),\n",
       " Text(0, 0, 'region_7'),\n",
       " Text(0, 0, 'region_8'),\n",
       " Text(0, 0, 'region_9'),\n",
       " Text(0, 0, 'title_0'),\n",
       " Text(0, 0, 'title_1'),\n",
       " Text(0, 0, 'title_2'),\n",
       " Text(0, 0, 'title_3'),\n",
       " Text(0, 0, 'title_4'),\n",
       " Text(0, 0, 'title_5'),\n",
       " Text(0, 0, 'title_6'),\n",
       " Text(0, 0, 'title_7'),\n",
       " Text(0, 0, 'title_8'),\n",
       " Text(0, 0, 'title_9'),\n",
       " Text(0, 0, 'winery_0'),\n",
       " Text(0, 0, 'winery_1'),\n",
       " Text(0, 0, 'winery_2'),\n",
       " Text(0, 0, 'winery_3'),\n",
       " Text(0, 0, 'winery_4'),\n",
       " Text(0, 0, 'winery_5'),\n",
       " Text(0, 0, 'winery_6'),\n",
       " Text(0, 0, 'winery_7'),\n",
       " Text(0, 0, 'winery_8'),\n",
       " Text(0, 0, 'winery_9'),\n",
       " Text(0, 0, 'description_0'),\n",
       " Text(0, 0, 'description_1'),\n",
       " Text(0, 0, 'description_2'),\n",
       " Text(0, 0, 'description_3'),\n",
       " Text(0, 0, 'description_4'),\n",
       " Text(0, 0, 'description_5'),\n",
       " Text(0, 0, 'description_6'),\n",
       " Text(0, 0, 'description_7'),\n",
       " Text(0, 0, 'description_8'),\n",
       " Text(0, 0, 'description_9'),\n",
       " Text(0, 0, 'variety_0'),\n",
       " Text(0, 0, 'variety_1'),\n",
       " Text(0, 0, 'variety_2'),\n",
       " Text(0, 0, 'variety_3'),\n",
       " Text(0, 0, 'variety_4'),\n",
       " Text(0, 0, 'variety_5'),\n",
       " Text(0, 0, 'variety_6'),\n",
       " Text(0, 0, 'variety_7'),\n",
       " Text(0, 0, 'variety_8'),\n",
       " Text(0, 0, 'variety_9'),\n",
       " Text(0, 0, 'province_0'),\n",
       " Text(0, 0, 'province_1'),\n",
       " Text(0, 0, 'province_2'),\n",
       " Text(0, 0, 'province_3'),\n",
       " Text(0, 0, 'province_4'),\n",
       " Text(0, 0, 'province_5'),\n",
       " Text(0, 0, 'province_6'),\n",
       " Text(0, 0, 'province_7'),\n",
       " Text(0, 0, 'province_8'),\n",
       " Text(0, 0, 'province_9'),\n",
       " Text(0, 0, 'country_0'),\n",
       " Text(0, 0, 'country_1'),\n",
       " Text(0, 0, 'country_2'),\n",
       " Text(0, 0, 'country_3'),\n",
       " Text(0, 0, 'country_4'),\n",
       " Text(0, 0, 'country_5'),\n",
       " Text(0, 0, 'country_6'),\n",
       " Text(0, 0, 'country_7'),\n",
       " Text(0, 0, 'country_8'),\n",
       " Text(0, 0, 'country_9'),\n",
       " Text(0, 0, 'desc_count'),\n",
       " Text(0, 0, 'id'),\n",
       " Text(0, 0, 'quality'),\n",
       " Text(0, 0, 'points'),\n",
       " Text(0, 0, 'sum_desc'),\n",
       " Text(0, 0, 'sum_var'),\n",
       " Text(0, 0, 'sum_prov'),\n",
       " Text(0, 0, 'sum_country')]"
      ]
     },
     "execution_count": 156,
     "metadata": {},
     "output_type": "execute_result"
    },
    {
     "data": {
      "image/png": "[encoded data removed]",
      "text/plain": [
       "<Figure size 1080x576 with 1 Axes>"
      ]
     },
     "metadata": {
      "needs_background": "light"
     },
     "output_type": "display_data"
    }
   ],
   "source": [
    "importance = pd.concat([pd.DataFrame(X_train.columns),pd.DataFrame(rf.feature_importances_)],axis=1)\n",
    "importance.columns = ['feature','value']\n",
    "\n",
    "plt.figure(figsize=(15,8))\n",
    "sns.barplot(x=\"feature\", y=\"value\", data=importance).set_xticklabels(rotation=90,labels=X_train.columns)"
   ]
  },
  {
   "cell_type": "code",
   "execution_count": 157,
   "metadata": {},
   "outputs": [],
   "source": [
    "test_data[['id', 'price']].to_csv('rf_price_predicted19_93.csv', index=False)"
   ]
  },
  {
   "cell_type": "code",
   "execution_count": 158,
   "metadata": {},
   "outputs": [],
   "source": [
    "#pd.DataFrame(test_data_sss).to_csv('random_f.csv')"
   ]
  },
  {
   "cell_type": "code",
   "execution_count": 104,
   "metadata": {},
   "outputs": [],
   "source": [
    "import pickle"
   ]
  },
  {
   "cell_type": "code",
   "execution_count": 159,
   "metadata": {},
   "outputs": [],
   "source": [
    "pickle.dump(rf,open('rf_model19_93.sav','wb'))"
   ]
  },
  {
   "cell_type": "code",
   "execution_count": 160,
   "metadata": {},
   "outputs": [
    {
     "data": {
      "text/plain": [
       "dtype('int32')"
      ]
     },
     "execution_count": 160,
     "metadata": {},
     "output_type": "execute_result"
    }
   ],
   "source": [
    "test_data.price.dtype\n"
   ]
  },
  {
   "cell_type": "code",
   "execution_count": 116,
   "metadata": {},
   "outputs": [
    {
     "name": "stderr",
     "output_type": "stream",
     "text": [
      "/home/aims/anaconda3/lib/python3.7/site-packages/ipykernel_launcher.py:1: SettingWithCopyWarning: \n",
      "A value is trying to be set on a copy of a slice from a DataFrame.\n",
      "Try using .loc[row_indexer,col_indexer] = value instead\n",
      "\n",
      "See the caveats in the documentation: http://pandas.pydata.org/pandas-docs/stable/indexing.html#indexing-view-versus-copy\n",
      "  \"\"\"Entry point for launching an IPython kernel.\n"
     ]
    }
   ],
   "source": [
    "test_data['id'] = test_data['id'].astype('int32')"
   ]
  },
  {
   "cell_type": "code",
   "execution_count": 161,
   "metadata": {},
   "outputs": [
    {
     "data": {
      "text/plain": [
       "dtype('int32')"
      ]
     },
     "execution_count": 161,
     "metadata": {},
     "output_type": "execute_result"
    }
   ],
   "source": [
    "test_data.id.dtype"
   ]
  },
  {
   "cell_type": "code",
   "execution_count": 139,
   "metadata": {},
   "outputs": [],
   "source": [
    "test_data[['id', 'price']].to_csv('rf_price_predicted20_60.csv', index=False)"
   ]
  },
  {
   "cell_type": "code",
   "execution_count": null,
   "metadata": {},
   "outputs": [],
   "source": []
  }
 ],
 "metadata": {
  "kernelspec": {
   "display_name": "Python 3",
   "language": "python",
   "name": "python3"
  },
  "language_info": {
   "codemirror_mode": {
    "name": "ipython",
    "version": 3
   },
   "file_extension": ".py",
   "mimetype": "text/x-python",
   "name": "python",
   "nbconvert_exporter": "python",
   "pygments_lexer": "ipython3",
   "version": "3.7.3"
  }
 },
 "nbformat": 4,
 "nbformat_minor": 2
}
