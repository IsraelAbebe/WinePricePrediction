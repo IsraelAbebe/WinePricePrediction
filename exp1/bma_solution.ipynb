{
 "cells": [
  {
   "cell_type": "code",
   "execution_count": 1,
   "metadata": {},
   "outputs": [],
   "source": [
    "import pandas as pd\n",
    "import numpy as np\n",
    "import matplotlib.pyplot as plt\n",
    "import seaborn as sns\n",
    "\n",
    "\n",
    "import math\n",
    "from sklearn.model_selection import train_test_split\n",
    "from sklearn.metrics import precision_recall_curve, mean_squared_error\n",
    "from sklearn.linear_model import LogisticRegression\n",
    "from sklearn.feature_extraction.text import CountVectorizer, TfidfVectorizer\n",
    "from joblib import dump, load\n",
    "\n",
    "from nltk.tokenize import RegexpTokenizer\n",
    "from sklearn.decomposition import TruncatedSVD\n",
    "import xgboost as xgb\n",
    "\n",
    "from util import *\n",
    "%matplotlib inline\n"
   ]
  },
  {
   "cell_type": "code",
   "execution_count": 2,
   "metadata": {},
   "outputs": [
    {
     "name": "stderr",
     "output_type": "stream",
     "text": [
      "/home/aims/anaconda3/lib/python3.7/site-packages/ipykernel_launcher.py:7: FutureWarning: Sorting because non-concatenation axis is not aligned. A future version\n",
      "of pandas will change to not sort by default.\n",
      "\n",
      "To accept the future behavior, pass 'sort=False'.\n",
      "\n",
      "To retain the current behavior and silence the warning, pass 'sort=True'.\n",
      "\n",
      "  import sys\n"
     ]
    }
   ],
   "source": [
    "train = pd.read_csv('../data/train.csv')\n",
    "test = pd.read_csv('../data/test.csv')\n",
    "\n",
    "train['train_test'] = 'train'\n",
    "test['train_test'] = 'test'\n",
    "\n",
    "data = pd.concat([train, test])"
   ]
  },
  {
   "cell_type": "code",
   "execution_count": 3,
   "metadata": {},
   "outputs": [],
   "source": [
    "data['sentiment'] = data['description'].apply(lambda x : sentiment_analyzer_scores(x,'compound'))"
   ]
  },
  {
   "cell_type": "code",
   "execution_count": 4,
   "metadata": {},
   "outputs": [
    {
     "data": {
      "text/plain": [
       "count    258210.000000\n",
       "mean          2.568456\n",
       "std           0.585724\n",
       "min           1.000000\n",
       "25%           2.000000\n",
       "50%           3.000000\n",
       "75%           3.000000\n",
       "max           3.000000\n",
       "Name: sentiment, dtype: float64"
      ]
     },
     "execution_count": 4,
     "metadata": {},
     "output_type": "execute_result"
    }
   ],
   "source": [
    "data.sentiment.describe()"
   ]
  },
  {
   "cell_type": "code",
   "execution_count": 5,
   "metadata": {},
   "outputs": [
    {
     "data": {
      "text/plain": [
       "(258210, 17)"
      ]
     },
     "execution_count": 5,
     "metadata": {},
     "output_type": "execute_result"
    }
   ],
   "source": [
    "data.shape"
   ]
  },
  {
   "cell_type": "code",
   "execution_count": 6,
   "metadata": {},
   "outputs": [
    {
     "data": {
      "text/plain": [
       "(83210, 16)"
      ]
     },
     "execution_count": 6,
     "metadata": {},
     "output_type": "execute_result"
    }
   ],
   "source": [
    "test.shape"
   ]
  },
  {
   "cell_type": "code",
   "execution_count": 7,
   "metadata": {},
   "outputs": [
    {
     "data": {
      "text/html": [
       "<div>\n",
       "<style scoped>\n",
       "    .dataframe tbody tr th:only-of-type {\n",
       "        vertical-align: middle;\n",
       "    }\n",
       "\n",
       "    .dataframe tbody tr th {\n",
       "        vertical-align: top;\n",
       "    }\n",
       "\n",
       "    .dataframe thead th {\n",
       "        text-align: right;\n",
       "    }\n",
       "</style>\n",
       "<table border=\"1\" class=\"dataframe\">\n",
       "  <thead>\n",
       "    <tr style=\"text-align: right;\">\n",
       "      <th></th>\n",
       "      <th>country</th>\n",
       "      <th>description</th>\n",
       "      <th>designation</th>\n",
       "      <th>id</th>\n",
       "      <th>index</th>\n",
       "      <th>points</th>\n",
       "      <th>price</th>\n",
       "      <th>province</th>\n",
       "      <th>region_1</th>\n",
       "      <th>region_2</th>\n",
       "      <th>taster_name</th>\n",
       "      <th>taster_twitter_handle</th>\n",
       "      <th>title</th>\n",
       "      <th>train_test</th>\n",
       "      <th>variety</th>\n",
       "      <th>winery</th>\n",
       "      <th>sentiment</th>\n",
       "    </tr>\n",
       "  </thead>\n",
       "  <tbody>\n",
       "    <tr>\n",
       "      <th>0</th>\n",
       "      <td>Portugal</td>\n",
       "      <td>This is a fine rich balanced wine. It has ripe...</td>\n",
       "      <td>Vila Santa Reserva</td>\n",
       "      <td>32027</td>\n",
       "      <td>NaN</td>\n",
       "      <td>88.870874</td>\n",
       "      <td>20.0</td>\n",
       "      <td>Alentejano</td>\n",
       "      <td>NaN</td>\n",
       "      <td>NaN</td>\n",
       "      <td>NaN</td>\n",
       "      <td>NaN</td>\n",
       "      <td>NaN</td>\n",
       "      <td>train</td>\n",
       "      <td>PORTUGUESE RED</td>\n",
       "      <td>J. Portugal Ramos</td>\n",
       "      <td>3</td>\n",
       "    </tr>\n",
       "    <tr>\n",
       "      <th>1</th>\n",
       "      <td>France</td>\n",
       "      <td>A solid, chunky wine, with a structure that is...</td>\n",
       "      <td>NaN</td>\n",
       "      <td>71079</td>\n",
       "      <td>NaN</td>\n",
       "      <td>88.041695</td>\n",
       "      <td>28.0</td>\n",
       "      <td>Bordeaux</td>\n",
       "      <td>Lalande de Pomerol</td>\n",
       "      <td>NaN</td>\n",
       "      <td>NaN</td>\n",
       "      <td>NaN</td>\n",
       "      <td>NaN</td>\n",
       "      <td>train</td>\n",
       "      <td>BORDEAUX-STYLE RED BLEND</td>\n",
       "      <td>Château Tour Grand Colombier</td>\n",
       "      <td>3</td>\n",
       "    </tr>\n",
       "  </tbody>\n",
       "</table>\n",
       "</div>"
      ],
      "text/plain": [
       "    country                                        description  \\\n",
       "0  Portugal  This is a fine rich balanced wine. It has ripe...   \n",
       "1    France  A solid, chunky wine, with a structure that is...   \n",
       "\n",
       "          designation     id  index     points  price    province  \\\n",
       "0  Vila Santa Reserva  32027    NaN  88.870874   20.0  Alentejano   \n",
       "1                 NaN  71079    NaN  88.041695   28.0    Bordeaux   \n",
       "\n",
       "             region_1 region_2 taster_name taster_twitter_handle title  \\\n",
       "0                 NaN      NaN         NaN                   NaN   NaN   \n",
       "1  Lalande de Pomerol      NaN         NaN                   NaN   NaN   \n",
       "\n",
       "  train_test                   variety                        winery  \\\n",
       "0      train            PORTUGUESE RED             J. Portugal Ramos   \n",
       "1      train  BORDEAUX-STYLE RED BLEND  Château Tour Grand Colombier   \n",
       "\n",
       "   sentiment  \n",
       "0          3  \n",
       "1          3  "
      ]
     },
     "execution_count": 7,
     "metadata": {},
     "output_type": "execute_result"
    }
   ],
   "source": [
    "data.head(2)"
   ]
  },
  {
   "cell_type": "code",
   "execution_count": 8,
   "metadata": {},
   "outputs": [
    {
     "data": {
      "text/plain": [
       "0    PINOT NOIR\n",
       "dtype: object"
      ]
     },
     "execution_count": 8,
     "metadata": {},
     "output_type": "execute_result"
    }
   ],
   "source": [
    "data['variety'].mode()"
   ]
  },
  {
   "cell_type": "code",
   "execution_count": 9,
   "metadata": {},
   "outputs": [],
   "source": [
    "data.variety.fillna(value='PINOT NOIR', inplace=True)"
   ]
  },
  {
   "cell_type": "code",
   "execution_count": 10,
   "metadata": {},
   "outputs": [],
   "source": [
    "data.province.fillna(value='California', inplace=True)"
   ]
  },
  {
   "cell_type": "code",
   "execution_count": 11,
   "metadata": {},
   "outputs": [],
   "source": [
    "data = data[pd.notnull(data['variety'])]\n",
    "data = data[pd.notnull(data['province'])]"
   ]
  },
  {
   "cell_type": "code",
   "execution_count": 12,
   "metadata": {},
   "outputs": [
    {
     "name": "stdout",
     "output_type": "stream",
     "text": [
      "<class 'pandas.core.frame.DataFrame'>\n",
      "Int64Index: 258210 entries, 0 to 83209\n",
      "Data columns (total 17 columns):\n",
      "country                  258146 non-null object\n",
      "description              258210 non-null object\n",
      "designation              181120 non-null object\n",
      "id                       258210 non-null int64\n",
      "index                    83210 non-null float64\n",
      "points                   258210 non-null float64\n",
      "price                    175000 non-null float64\n",
      "province                 258210 non-null object\n",
      "region_1                 215793 non-null object\n",
      "region_2                 110996 non-null object\n",
      "taster_name              258210 non-null object\n",
      "taster_twitter_handle    91559 non-null object\n",
      "title                    120975 non-null object\n",
      "train_test               258210 non-null object\n",
      "variety                  258210 non-null object\n",
      "winery                   258210 non-null object\n",
      "sentiment                258210 non-null int64\n",
      "dtypes: float64(3), int64(2), object(12)\n",
      "memory usage: 35.5+ MB\n"
     ]
    }
   ],
   "source": [
    "data.taster_name.fillna(value='Roger Voss', inplace=True)\n",
    "data.info()"
   ]
  },
  {
   "cell_type": "code",
   "execution_count": 13,
   "metadata": {},
   "outputs": [
    {
     "name": "stdout",
     "output_type": "stream",
     "text": [
      "<class 'pandas.core.frame.DataFrame'>\n",
      "Int64Index: 258210 entries, 0 to 83209\n",
      "Data columns (total 17 columns):\n",
      "country                  258146 non-null object\n",
      "description              258210 non-null object\n",
      "designation              181120 non-null object\n",
      "id                       258210 non-null int64\n",
      "index                    83210 non-null float64\n",
      "points                   258210 non-null float64\n",
      "price                    175000 non-null float64\n",
      "province                 258210 non-null object\n",
      "region_1                 215793 non-null object\n",
      "region_2                 110996 non-null object\n",
      "taster_name              258210 non-null object\n",
      "taster_twitter_handle    91559 non-null object\n",
      "title                    258210 non-null object\n",
      "train_test               258210 non-null object\n",
      "variety                  258210 non-null object\n",
      "winery                   258210 non-null object\n",
      "sentiment                258210 non-null int64\n",
      "dtypes: float64(3), int64(2), object(12)\n",
      "memory usage: 35.5+ MB\n"
     ]
    }
   ],
   "source": [
    "data.title.fillna(value='Gloria Ferrer NV Sonoma Brut Sparkling (Sonoma County)', inplace=True)\n",
    "data.info()"
   ]
  },
  {
   "cell_type": "code",
   "execution_count": 14,
   "metadata": {},
   "outputs": [],
   "source": [
    "data['province'] = pd.Categorical(data['province'])\n",
    "proDummies = pd.get_dummies(data['province'], prefix = 'prov')\n",
    "\n",
    "data['country'] = pd.Categorical(data['country'])\n",
    "countDummies = pd.get_dummies(data['country'], prefix = 'country')\n",
    "\n",
    "data['variety'] = pd.Categorical(data['variety'])\n",
    "varDummies = pd.get_dummies(data['variety'], prefix = 'variety')\n",
    "\n",
    "data['taster_name'] = pd.Categorical(data['taster_name'])\n",
    "tastDummies = pd.get_dummies(data['taster_name'], prefix = 'taster')\n",
    "\n",
    "data['sentiment'] = pd.Categorical(data['sentiment'])\n",
    "sentiDummies = pd.get_dummies(data['sentiment'], prefix = 'sentiment')\n",
    "\n",
    "#data['title'] = pd.Categorical(data['title'])\n",
    "#titleDummies = pd.get_dummies(data['title'], prefix = 'title')"
   ]
  },
  {
   "cell_type": "code",
   "execution_count": 15,
   "metadata": {},
   "outputs": [],
   "source": [
    "def getQuality(points):\n",
    "    if points >= 95:\n",
    "        return 'great'\n",
    "    elif points >= 90:\n",
    "        return 'good'\n",
    "    elif points >=80:\n",
    "        return 'ok'\n",
    "    else:\n",
    "        return 'bad'\n",
    "    "
   ]
  },
  {
   "cell_type": "code",
   "execution_count": 16,
   "metadata": {},
   "outputs": [],
   "source": [
    "data['quality'] = data['points'].apply(getQuality)\n",
    "cleanup_nums = {\"quality\":     {\"ok\": 2, \"good\": 3, \"bad\": 1, \"great\": 4},\n",
    "                \"priceRange\": {\"1-30\": 1, \"31-50\": 2, \"51-100\": 3, \"Above 100\": 4}}\n",
    "\n",
    "data.replace(cleanup_nums, inplace=True)"
   ]
  },
  {
   "cell_type": "code",
   "execution_count": 17,
   "metadata": {},
   "outputs": [],
   "source": [
    "data['sentiment'] = data['description'].apply(lambda x: sentiment_analyzer_scores(x,'compound'))"
   ]
  },
  {
   "cell_type": "code",
   "execution_count": 18,
   "metadata": {},
   "outputs": [
    {
     "name": "stdout",
     "output_type": "stream",
     "text": [
      "<class 'pandas.core.frame.DataFrame'>\n",
      "Int64Index: 258210 entries, 0 to 83209\n",
      "Data columns (total 18 columns):\n",
      "country                  258146 non-null category\n",
      "description              258210 non-null object\n",
      "designation              181120 non-null object\n",
      "id                       258210 non-null int64\n",
      "index                    83210 non-null float64\n",
      "points                   258210 non-null float64\n",
      "price                    175000 non-null float64\n",
      "province                 258210 non-null category\n",
      "region_1                 215793 non-null object\n",
      "region_2                 110996 non-null object\n",
      "taster_name              258210 non-null category\n",
      "taster_twitter_handle    91559 non-null object\n",
      "title                    258210 non-null object\n",
      "train_test               258210 non-null object\n",
      "variety                  258210 non-null category\n",
      "winery                   258210 non-null object\n",
      "sentiment                258210 non-null int64\n",
      "quality                  258210 non-null int64\n",
      "dtypes: category(4), float64(3), int64(3), object(8)\n",
      "memory usage: 31.1+ MB\n"
     ]
    }
   ],
   "source": [
    "data.info()"
   ]
  },
  {
   "cell_type": "code",
   "execution_count": 19,
   "metadata": {},
   "outputs": [
    {
     "data": {
      "text/html": [
       "<div>\n",
       "<style scoped>\n",
       "    .dataframe tbody tr th:only-of-type {\n",
       "        vertical-align: middle;\n",
       "    }\n",
       "\n",
       "    .dataframe tbody tr th {\n",
       "        vertical-align: top;\n",
       "    }\n",
       "\n",
       "    .dataframe thead th {\n",
       "        text-align: right;\n",
       "    }\n",
       "</style>\n",
       "<table border=\"1\" class=\"dataframe\">\n",
       "  <thead>\n",
       "    <tr style=\"text-align: right;\">\n",
       "      <th></th>\n",
       "      <th>country</th>\n",
       "      <th>description</th>\n",
       "      <th>designation</th>\n",
       "      <th>id</th>\n",
       "      <th>index</th>\n",
       "      <th>points</th>\n",
       "      <th>price</th>\n",
       "      <th>province</th>\n",
       "      <th>region_1</th>\n",
       "      <th>region_2</th>\n",
       "      <th>taster_name</th>\n",
       "      <th>taster_twitter_handle</th>\n",
       "      <th>title</th>\n",
       "      <th>train_test</th>\n",
       "      <th>variety</th>\n",
       "      <th>winery</th>\n",
       "      <th>sentiment</th>\n",
       "      <th>quality</th>\n",
       "    </tr>\n",
       "  </thead>\n",
       "  <tbody>\n",
       "    <tr>\n",
       "      <th>0</th>\n",
       "      <td>Portugal</td>\n",
       "      <td>This is a fine rich balanced wine. It has ripe...</td>\n",
       "      <td>Vila Santa Reserva</td>\n",
       "      <td>32027</td>\n",
       "      <td>NaN</td>\n",
       "      <td>88.870874</td>\n",
       "      <td>20.0</td>\n",
       "      <td>Alentejano</td>\n",
       "      <td>NaN</td>\n",
       "      <td>NaN</td>\n",
       "      <td>Roger Voss</td>\n",
       "      <td>NaN</td>\n",
       "      <td>Gloria Ferrer NV Sonoma Brut Sparkling (Sonoma...</td>\n",
       "      <td>train</td>\n",
       "      <td>PORTUGUESE RED</td>\n",
       "      <td>J. Portugal Ramos</td>\n",
       "      <td>3</td>\n",
       "      <td>2</td>\n",
       "    </tr>\n",
       "    <tr>\n",
       "      <th>1</th>\n",
       "      <td>France</td>\n",
       "      <td>A solid, chunky wine, with a structure that is...</td>\n",
       "      <td>NaN</td>\n",
       "      <td>71079</td>\n",
       "      <td>NaN</td>\n",
       "      <td>88.041695</td>\n",
       "      <td>28.0</td>\n",
       "      <td>Bordeaux</td>\n",
       "      <td>Lalande de Pomerol</td>\n",
       "      <td>NaN</td>\n",
       "      <td>Roger Voss</td>\n",
       "      <td>NaN</td>\n",
       "      <td>Gloria Ferrer NV Sonoma Brut Sparkling (Sonoma...</td>\n",
       "      <td>train</td>\n",
       "      <td>BORDEAUX-STYLE RED BLEND</td>\n",
       "      <td>Château Tour Grand Colombier</td>\n",
       "      <td>3</td>\n",
       "      <td>2</td>\n",
       "    </tr>\n",
       "  </tbody>\n",
       "</table>\n",
       "</div>"
      ],
      "text/plain": [
       "    country                                        description  \\\n",
       "0  Portugal  This is a fine rich balanced wine. It has ripe...   \n",
       "1    France  A solid, chunky wine, with a structure that is...   \n",
       "\n",
       "          designation     id  index     points  price    province  \\\n",
       "0  Vila Santa Reserva  32027    NaN  88.870874   20.0  Alentejano   \n",
       "1                 NaN  71079    NaN  88.041695   28.0    Bordeaux   \n",
       "\n",
       "             region_1 region_2 taster_name taster_twitter_handle  \\\n",
       "0                 NaN      NaN  Roger Voss                   NaN   \n",
       "1  Lalande de Pomerol      NaN  Roger Voss                   NaN   \n",
       "\n",
       "                                               title train_test  \\\n",
       "0  Gloria Ferrer NV Sonoma Brut Sparkling (Sonoma...      train   \n",
       "1  Gloria Ferrer NV Sonoma Brut Sparkling (Sonoma...      train   \n",
       "\n",
       "                    variety                        winery  sentiment  quality  \n",
       "0            PORTUGUESE RED             J. Portugal Ramos          3        2  \n",
       "1  BORDEAUX-STYLE RED BLEND  Château Tour Grand Colombier          3        2  "
      ]
     },
     "execution_count": 19,
     "metadata": {},
     "output_type": "execute_result"
    }
   ],
   "source": [
    "data.head(2)"
   ]
  },
  {
   "cell_type": "code",
   "execution_count": null,
   "metadata": {},
   "outputs": [],
   "source": []
  },
  {
   "cell_type": "code",
   "execution_count": 20,
   "metadata": {},
   "outputs": [],
   "source": [
    "def make_lower_case(text):\n",
    "    return text.lower()\n",
    "\n",
    "def remove_punctuation(text):\n",
    "    tokenizer = RegexpTokenizer(r'\\w+')\n",
    "    text = tokenizer.tokenize(text)\n",
    "    text = \" \".join(text)\n",
    "    return text"
   ]
  },
  {
   "cell_type": "code",
   "execution_count": 21,
   "metadata": {},
   "outputs": [],
   "source": [
    "data[\"winery\"] = data[\"winery\"].str.replace('\\d+', '')\n",
    "data[\"winery\"] = data.winery.apply(func=remove_punctuation)\n",
    "data[\"winery\"] = data.winery.apply(func=make_lower_case)"
   ]
  },
  {
   "cell_type": "code",
   "execution_count": 22,
   "metadata": {},
   "outputs": [],
   "source": [
    "data[\"description\"] = data[\"description\"].str.replace('\\d+', '')\n",
    "data[\"description\"] = data.description.apply(func=remove_punctuation)\n",
    "data[\"description\"] = data.description.apply(func=make_lower_case)"
   ]
  },
  {
   "cell_type": "code",
   "execution_count": 23,
   "metadata": {},
   "outputs": [],
   "source": [
    "data[\"variety\"] = data[\"variety\"].str.replace('\\d+', '')\n",
    "data[\"variety\"] = data.variety.apply(func=remove_punctuation)\n",
    "data[\"variety\"] = data.variety.apply(func=make_lower_case)"
   ]
  },
  {
   "cell_type": "code",
   "execution_count": 24,
   "metadata": {},
   "outputs": [],
   "source": [
    "data[\"title\"] = data[\"title\"].str.replace('\\d+', '')\n",
    "data[\"title\"] = data.title.apply(func=remove_punctuation)\n",
    "data[\"title\"] = data.title.apply(func=make_lower_case)"
   ]
  },
  {
   "cell_type": "code",
   "execution_count": 25,
   "metadata": {},
   "outputs": [],
   "source": [
    "tf = TfidfVectorizer(analyzer='word', \n",
    "                     min_df=10,\n",
    "                     ngram_range=(1, 2),\n",
    "                     stop_words='english')\n",
    "svd = TruncatedSVD(n_components=10)"
   ]
  },
  {
   "cell_type": "code",
   "execution_count": null,
   "metadata": {},
   "outputs": [],
   "source": []
  },
  {
   "cell_type": "code",
   "execution_count": 26,
   "metadata": {},
   "outputs": [
    {
     "ename": "ValueError",
     "evalue": "Length mismatch: Expected axis has 10 elements, new values have 5 elements",
     "output_type": "error",
     "traceback": [
      "\u001b[0;31m---------------------------------------------------------------------------\u001b[0m",
      "\u001b[0;31mValueError\u001b[0m                                Traceback (most recent call last)",
      "\u001b[0;32m<ipython-input-26-b378d3cd2343>\u001b[0m in \u001b[0;36m<module>\u001b[0;34m\u001b[0m\n\u001b[1;32m      4\u001b[0m \u001b[0mcollist\u001b[0m \u001b[0;34m=\u001b[0m \u001b[0mmap\u001b[0m\u001b[0;34m(\u001b[0m\u001b[0mstr\u001b[0m\u001b[0;34m,\u001b[0m \u001b[0mrange\u001b[0m\u001b[0;34m(\u001b[0m\u001b[0;36m0\u001b[0m\u001b[0;34m,\u001b[0m \u001b[0;36m5\u001b[0m\u001b[0;34m)\u001b[0m\u001b[0;34m)\u001b[0m\u001b[0;34m\u001b[0m\u001b[0;34m\u001b[0m\u001b[0m\n\u001b[1;32m      5\u001b[0m \u001b[0mcollist\u001b[0m \u001b[0;34m=\u001b[0m \u001b[0;34m[\u001b[0m\u001b[0;34m\"description_\"\u001b[0m \u001b[0;34m+\u001b[0m \u001b[0ms\u001b[0m \u001b[0;32mfor\u001b[0m \u001b[0ms\u001b[0m \u001b[0;32min\u001b[0m \u001b[0mcollist\u001b[0m\u001b[0;34m]\u001b[0m\u001b[0;34m\u001b[0m\u001b[0;34m\u001b[0m\u001b[0m\n\u001b[0;32m----> 6\u001b[0;31m \u001b[0mdesc_features\u001b[0m\u001b[0;34m.\u001b[0m\u001b[0mcolumns\u001b[0m \u001b[0;34m=\u001b[0m \u001b[0mcollist\u001b[0m\u001b[0;34m\u001b[0m\u001b[0;34m\u001b[0m\u001b[0m\n\u001b[0m\u001b[1;32m      7\u001b[0m \u001b[0mdesc_features\u001b[0m\u001b[0;34m.\u001b[0m\u001b[0mshape\u001b[0m\u001b[0;34m\u001b[0m\u001b[0;34m\u001b[0m\u001b[0m\n",
      "\u001b[0;32m~/anaconda3/lib/python3.7/site-packages/pandas/core/generic.py\u001b[0m in \u001b[0;36m__setattr__\u001b[0;34m(self, name, value)\u001b[0m\n\u001b[1;32m   5078\u001b[0m         \u001b[0;32mtry\u001b[0m\u001b[0;34m:\u001b[0m\u001b[0;34m\u001b[0m\u001b[0;34m\u001b[0m\u001b[0m\n\u001b[1;32m   5079\u001b[0m             \u001b[0mobject\u001b[0m\u001b[0;34m.\u001b[0m\u001b[0m__getattribute__\u001b[0m\u001b[0;34m(\u001b[0m\u001b[0mself\u001b[0m\u001b[0;34m,\u001b[0m \u001b[0mname\u001b[0m\u001b[0;34m)\u001b[0m\u001b[0;34m\u001b[0m\u001b[0;34m\u001b[0m\u001b[0m\n\u001b[0;32m-> 5080\u001b[0;31m             \u001b[0;32mreturn\u001b[0m \u001b[0mobject\u001b[0m\u001b[0;34m.\u001b[0m\u001b[0m__setattr__\u001b[0m\u001b[0;34m(\u001b[0m\u001b[0mself\u001b[0m\u001b[0;34m,\u001b[0m \u001b[0mname\u001b[0m\u001b[0;34m,\u001b[0m \u001b[0mvalue\u001b[0m\u001b[0;34m)\u001b[0m\u001b[0;34m\u001b[0m\u001b[0;34m\u001b[0m\u001b[0m\n\u001b[0m\u001b[1;32m   5081\u001b[0m         \u001b[0;32mexcept\u001b[0m \u001b[0mAttributeError\u001b[0m\u001b[0;34m:\u001b[0m\u001b[0;34m\u001b[0m\u001b[0;34m\u001b[0m\u001b[0m\n\u001b[1;32m   5082\u001b[0m             \u001b[0;32mpass\u001b[0m\u001b[0;34m\u001b[0m\u001b[0;34m\u001b[0m\u001b[0m\n",
      "\u001b[0;32mpandas/_libs/properties.pyx\u001b[0m in \u001b[0;36mpandas._libs.properties.AxisProperty.__set__\u001b[0;34m()\u001b[0m\n",
      "\u001b[0;32m~/anaconda3/lib/python3.7/site-packages/pandas/core/generic.py\u001b[0m in \u001b[0;36m_set_axis\u001b[0;34m(self, axis, labels)\u001b[0m\n\u001b[1;32m    636\u001b[0m \u001b[0;34m\u001b[0m\u001b[0m\n\u001b[1;32m    637\u001b[0m     \u001b[0;32mdef\u001b[0m \u001b[0m_set_axis\u001b[0m\u001b[0;34m(\u001b[0m\u001b[0mself\u001b[0m\u001b[0;34m,\u001b[0m \u001b[0maxis\u001b[0m\u001b[0;34m,\u001b[0m \u001b[0mlabels\u001b[0m\u001b[0;34m)\u001b[0m\u001b[0;34m:\u001b[0m\u001b[0;34m\u001b[0m\u001b[0;34m\u001b[0m\u001b[0m\n\u001b[0;32m--> 638\u001b[0;31m         \u001b[0mself\u001b[0m\u001b[0;34m.\u001b[0m\u001b[0m_data\u001b[0m\u001b[0;34m.\u001b[0m\u001b[0mset_axis\u001b[0m\u001b[0;34m(\u001b[0m\u001b[0maxis\u001b[0m\u001b[0;34m,\u001b[0m \u001b[0mlabels\u001b[0m\u001b[0;34m)\u001b[0m\u001b[0;34m\u001b[0m\u001b[0;34m\u001b[0m\u001b[0m\n\u001b[0m\u001b[1;32m    639\u001b[0m         \u001b[0mself\u001b[0m\u001b[0;34m.\u001b[0m\u001b[0m_clear_item_cache\u001b[0m\u001b[0;34m(\u001b[0m\u001b[0;34m)\u001b[0m\u001b[0;34m\u001b[0m\u001b[0;34m\u001b[0m\u001b[0m\n\u001b[1;32m    640\u001b[0m \u001b[0;34m\u001b[0m\u001b[0m\n",
      "\u001b[0;32m~/anaconda3/lib/python3.7/site-packages/pandas/core/internals/managers.py\u001b[0m in \u001b[0;36mset_axis\u001b[0;34m(self, axis, new_labels)\u001b[0m\n\u001b[1;32m    153\u001b[0m             raise ValueError(\n\u001b[1;32m    154\u001b[0m                 \u001b[0;34m'Length mismatch: Expected axis has {old} elements, new '\u001b[0m\u001b[0;34m\u001b[0m\u001b[0;34m\u001b[0m\u001b[0m\n\u001b[0;32m--> 155\u001b[0;31m                 'values have {new} elements'.format(old=old_len, new=new_len))\n\u001b[0m\u001b[1;32m    156\u001b[0m \u001b[0;34m\u001b[0m\u001b[0m\n\u001b[1;32m    157\u001b[0m         \u001b[0mself\u001b[0m\u001b[0;34m.\u001b[0m\u001b[0maxes\u001b[0m\u001b[0;34m[\u001b[0m\u001b[0maxis\u001b[0m\u001b[0;34m]\u001b[0m \u001b[0;34m=\u001b[0m \u001b[0mnew_labels\u001b[0m\u001b[0;34m\u001b[0m\u001b[0;34m\u001b[0m\u001b[0m\n",
      "\u001b[0;31mValueError\u001b[0m: Length mismatch: Expected axis has 10 elements, new values have 5 elements"
     ]
    }
   ],
   "source": [
    "#Fit tfidf and svd, and transform training data\n",
    "tfidf_matrix = tf.fit_transform(data.description)\n",
    "desc_features = pd.DataFrame(svd.fit_transform(tfidf_matrix))\n",
    "collist = map(str, range(0, 5))\n",
    "collist = [\"description_\" + s for s in collist]\n",
    "desc_features.columns = collist\n",
    "desc_features.shape"
   ]
  },
  {
   "cell_type": "code",
   "execution_count": null,
   "metadata": {},
   "outputs": [],
   "source": [
    "#Fit tfidf and svd, and transform training data\n",
    "tfidf_matrix = tf.fit_transform(data.winery)\n",
    "winery_features = pd.DataFrame(svd.fit_transform(tfidf_matrix))\n",
    "collist = map(str, range(0, 5))\n",
    "collist = [\"winery_\" + s for s in collist]\n",
    "winery_features.columns = collist\n",
    "winery_features.head()"
   ]
  },
  {
   "cell_type": "code",
   "execution_count": null,
   "metadata": {},
   "outputs": [],
   "source": [
    "tfidf_matrix = tf.fit_transform(data.variety)\n",
    "var_features = pd.DataFrame(svd.fit_transform(tfidf_matrix))\n",
    "collist = map(str, range(0, 5))\n",
    "collist = [\"variety_\" + s for s in collist]\n",
    "var_features.columns = collist\n",
    "var_features.head()"
   ]
  },
  {
   "cell_type": "code",
   "execution_count": null,
   "metadata": {},
   "outputs": [],
   "source": [
    "prov_features = pd.DataFrame(svd.fit_transform(proDummies.values))\n",
    "collist = map(str, range(0, 5))\n",
    "collist = [\"province_\" + s for s in collist]\n",
    "prov_features.columns = collist\n",
    "prov_features.head()"
   ]
  },
  {
   "cell_type": "code",
   "execution_count": 70,
   "metadata": {},
   "outputs": [],
   "source": [
    "#tfidf_matrix = tf.fit_transform(data.region_1)\n",
    "#reg1_features = pd.DataFrame(svd.fit_transform(tfidf_matrix))\n",
    "#collist = map(str, range(0, 10))\n",
    "#collist = [\"country_\" + s for s in collist]\n",
    "#reg1_features.columns = collist\n",
    "#reg1_features.head()"
   ]
  },
  {
   "cell_type": "code",
   "execution_count": null,
   "metadata": {},
   "outputs": [],
   "source": [
    "country_features = pd.DataFrame(svd.fit_transform(countDummies.values))\n",
    "collist = map(str, range(0, 5))\n",
    "collist = [\"country_\" + s for s in collist]\n",
    "country_features.columns = collist\n",
    "country_features.head()"
   ]
  },
  {
   "cell_type": "code",
   "execution_count": null,
   "metadata": {},
   "outputs": [],
   "source": [
    "sentiDummies.head(2)"
   ]
  },
  {
   "cell_type": "code",
   "execution_count": 82,
   "metadata": {},
   "outputs": [],
   "source": [
    "# "
   ]
  },
  {
   "cell_type": "code",
   "execution_count": null,
   "metadata": {},
   "outputs": [],
   "source": []
  },
  {
   "cell_type": "code",
   "execution_count": 89,
   "metadata": {},
   "outputs": [
    {
     "data": {
      "text/plain": [
       "Index(['winery_0', 'winery_1', 'winery_2', 'winery_3', 'winery_4', 'winery_5',\n",
       "       'winery_6', 'winery_7', 'winery_8', 'winery_9', 'description_0',\n",
       "       'description_1', 'description_2', 'description_3', 'description_4',\n",
       "       'description_5', 'description_6', 'description_7', 'description_8',\n",
       "       'description_9', 'variety_0', 'variety_1', 'variety_2', 'variety_3',\n",
       "       'variety_4', 'variety_5', 'variety_6', 'variety_7', 'variety_8',\n",
       "       'variety_9', 'province_0', 'province_1', 'province_2', 'province_3',\n",
       "       'province_4', 'province_5', 'province_6', 'province_7', 'province_8',\n",
       "       'province_9', 'country_0', 'country_1', 'country_2', 'country_3',\n",
       "       'country_4', 'country_5', 'country_6', 'country_7', 'country_8',\n",
       "       'country_9'],\n",
       "      dtype='object')"
      ]
     },
     "execution_count": 89,
     "metadata": {},
     "output_type": "execute_result"
    }
   ],
   "source": [
    "dd = pd.concat([winery_features,desc_features, var_features, prov_features, country_features], axis=1)\n",
    "dd.columns"
   ]
  },
  {
   "cell_type": "code",
   "execution_count": 91,
   "metadata": {},
   "outputs": [],
   "source": [
    "xy = pd.concat([pd.DataFrame(sentiDummies.values),dd],axis=1)\n",
    "xy.columns = ['sentiment_1', 'sentiment_2', 'sentiment_3','winery_0',\n",
    "              'winery_1', 'winery_2', 'winery_3', 'winery_4', 'winery_5',\n",
    "       'winery_6', 'winery_7', 'winery_8', 'winery_9', 'description_0',\n",
    "       'description_1', 'description_2', 'description_3', 'description_4',\n",
    "       'description_5', 'description_6', 'description_7', 'description_8',\n",
    "       'description_9', 'variety_0', 'variety_1', 'variety_2', 'variety_3',\n",
    "       'variety_4', 'variety_5', 'variety_6', 'variety_7', 'variety_8',\n",
    "       'variety_9', 'province_0', 'province_1', 'province_2', 'province_3',\n",
    "       'province_4', 'province_5', 'province_6', 'province_7', 'province_8',\n",
    "       'province_9', 'country_0', 'country_1', 'country_2', 'country_3',\n",
    "       'country_4', 'country_5', 'country_6', 'country_7', 'country_8',\n",
    "       'country_9']\n",
    "dd = xy "
   ]
  },
  {
   "cell_type": "code",
   "execution_count": 92,
   "metadata": {},
   "outputs": [
    {
     "data": {
      "text/html": [
       "<div>\n",
       "<style scoped>\n",
       "    .dataframe tbody tr th:only-of-type {\n",
       "        vertical-align: middle;\n",
       "    }\n",
       "\n",
       "    .dataframe tbody tr th {\n",
       "        vertical-align: top;\n",
       "    }\n",
       "\n",
       "    .dataframe thead th {\n",
       "        text-align: right;\n",
       "    }\n",
       "</style>\n",
       "<table border=\"1\" class=\"dataframe\">\n",
       "  <thead>\n",
       "    <tr style=\"text-align: right;\">\n",
       "      <th></th>\n",
       "      <th>sentiment_1</th>\n",
       "      <th>sentiment_2</th>\n",
       "      <th>sentiment_3</th>\n",
       "      <th>winery_0</th>\n",
       "      <th>winery_1</th>\n",
       "      <th>winery_2</th>\n",
       "      <th>winery_3</th>\n",
       "      <th>winery_4</th>\n",
       "      <th>winery_5</th>\n",
       "      <th>winery_6</th>\n",
       "      <th>...</th>\n",
       "      <th>country_0</th>\n",
       "      <th>country_1</th>\n",
       "      <th>country_2</th>\n",
       "      <th>country_3</th>\n",
       "      <th>country_4</th>\n",
       "      <th>country_5</th>\n",
       "      <th>country_6</th>\n",
       "      <th>country_7</th>\n",
       "      <th>country_8</th>\n",
       "      <th>country_9</th>\n",
       "    </tr>\n",
       "  </thead>\n",
       "  <tbody>\n",
       "    <tr>\n",
       "      <th>0</th>\n",
       "      <td>0</td>\n",
       "      <td>0</td>\n",
       "      <td>1</td>\n",
       "      <td>1.396879e-06</td>\n",
       "      <td>6.014913e-05</td>\n",
       "      <td>-0.000142</td>\n",
       "      <td>0.000048</td>\n",
       "      <td>0.000254</td>\n",
       "      <td>-0.000514</td>\n",
       "      <td>-0.000934</td>\n",
       "      <td>...</td>\n",
       "      <td>-2.214680e-14</td>\n",
       "      <td>-6.480396e-16</td>\n",
       "      <td>-2.634621e-15</td>\n",
       "      <td>-1.370848e-15</td>\n",
       "      <td>3.202515e-14</td>\n",
       "      <td>2.207685e-13</td>\n",
       "      <td>1.000000e+00</td>\n",
       "      <td>3.746864e-14</td>\n",
       "      <td>-9.407742e-15</td>\n",
       "      <td>-1.255319e-15</td>\n",
       "    </tr>\n",
       "    <tr>\n",
       "      <th>1</th>\n",
       "      <td>0</td>\n",
       "      <td>0</td>\n",
       "      <td>1</td>\n",
       "      <td>2.217662e-01</td>\n",
       "      <td>7.063462e-04</td>\n",
       "      <td>0.000023</td>\n",
       "      <td>-0.011420</td>\n",
       "      <td>0.000160</td>\n",
       "      <td>0.000025</td>\n",
       "      <td>0.000616</td>\n",
       "      <td>...</td>\n",
       "      <td>-1.056852e-15</td>\n",
       "      <td>-7.801746e-14</td>\n",
       "      <td>1.000000e+00</td>\n",
       "      <td>4.390168e-15</td>\n",
       "      <td>5.861919e-15</td>\n",
       "      <td>8.420627e-15</td>\n",
       "      <td>-1.103276e-14</td>\n",
       "      <td>1.334503e-14</td>\n",
       "      <td>-3.033251e-15</td>\n",
       "      <td>-1.015318e-15</td>\n",
       "    </tr>\n",
       "    <tr>\n",
       "      <th>2</th>\n",
       "      <td>0</td>\n",
       "      <td>0</td>\n",
       "      <td>1</td>\n",
       "      <td>3.952937e-01</td>\n",
       "      <td>-6.582475e-03</td>\n",
       "      <td>-0.000033</td>\n",
       "      <td>-0.027042</td>\n",
       "      <td>0.000011</td>\n",
       "      <td>-0.000037</td>\n",
       "      <td>-0.000259</td>\n",
       "      <td>...</td>\n",
       "      <td>-1.305884e-15</td>\n",
       "      <td>1.076039e-13</td>\n",
       "      <td>1.000000e+00</td>\n",
       "      <td>1.756086e-14</td>\n",
       "      <td>-4.998415e-15</td>\n",
       "      <td>5.699346e-16</td>\n",
       "      <td>-2.583509e-14</td>\n",
       "      <td>2.709801e-14</td>\n",
       "      <td>-3.032173e-15</td>\n",
       "      <td>1.902934e-17</td>\n",
       "    </tr>\n",
       "    <tr>\n",
       "      <th>3</th>\n",
       "      <td>0</td>\n",
       "      <td>0</td>\n",
       "      <td>1</td>\n",
       "      <td>7.519720e-08</td>\n",
       "      <td>-4.898959e-07</td>\n",
       "      <td>0.000003</td>\n",
       "      <td>-0.000028</td>\n",
       "      <td>0.000046</td>\n",
       "      <td>0.000078</td>\n",
       "      <td>-0.000074</td>\n",
       "      <td>...</td>\n",
       "      <td>1.000000e+00</td>\n",
       "      <td>-1.998427e-15</td>\n",
       "      <td>-2.225403e-15</td>\n",
       "      <td>-1.371955e-13</td>\n",
       "      <td>-1.492671e-12</td>\n",
       "      <td>-9.268169e-13</td>\n",
       "      <td>-5.849374e-14</td>\n",
       "      <td>1.282502e-14</td>\n",
       "      <td>-5.033407e-15</td>\n",
       "      <td>1.356875e-14</td>\n",
       "    </tr>\n",
       "    <tr>\n",
       "      <th>4</th>\n",
       "      <td>0</td>\n",
       "      <td>0</td>\n",
       "      <td>1</td>\n",
       "      <td>2.067867e-07</td>\n",
       "      <td>6.090775e-06</td>\n",
       "      <td>-0.000004</td>\n",
       "      <td>-0.000038</td>\n",
       "      <td>-0.000027</td>\n",
       "      <td>0.000098</td>\n",
       "      <td>0.000515</td>\n",
       "      <td>...</td>\n",
       "      <td>1.000000e+00</td>\n",
       "      <td>9.530094e-15</td>\n",
       "      <td>4.928098e-15</td>\n",
       "      <td>2.079018e-13</td>\n",
       "      <td>2.577457e-12</td>\n",
       "      <td>1.658353e-12</td>\n",
       "      <td>1.680214e-13</td>\n",
       "      <td>2.078228e-14</td>\n",
       "      <td>5.588656e-14</td>\n",
       "      <td>-2.476003e-14</td>\n",
       "    </tr>\n",
       "  </tbody>\n",
       "</table>\n",
       "<p>5 rows × 53 columns</p>\n",
       "</div>"
      ],
      "text/plain": [
       "   sentiment_1  sentiment_2  sentiment_3      winery_0      winery_1  \\\n",
       "0            0            0            1  1.396879e-06  6.014913e-05   \n",
       "1            0            0            1  2.217662e-01  7.063462e-04   \n",
       "2            0            0            1  3.952937e-01 -6.582475e-03   \n",
       "3            0            0            1  7.519720e-08 -4.898959e-07   \n",
       "4            0            0            1  2.067867e-07  6.090775e-06   \n",
       "\n",
       "   winery_2  winery_3  winery_4  winery_5  winery_6  ...     country_0  \\\n",
       "0 -0.000142  0.000048  0.000254 -0.000514 -0.000934  ... -2.214680e-14   \n",
       "1  0.000023 -0.011420  0.000160  0.000025  0.000616  ... -1.056852e-15   \n",
       "2 -0.000033 -0.027042  0.000011 -0.000037 -0.000259  ... -1.305884e-15   \n",
       "3  0.000003 -0.000028  0.000046  0.000078 -0.000074  ...  1.000000e+00   \n",
       "4 -0.000004 -0.000038 -0.000027  0.000098  0.000515  ...  1.000000e+00   \n",
       "\n",
       "      country_1     country_2     country_3     country_4     country_5  \\\n",
       "0 -6.480396e-16 -2.634621e-15 -1.370848e-15  3.202515e-14  2.207685e-13   \n",
       "1 -7.801746e-14  1.000000e+00  4.390168e-15  5.861919e-15  8.420627e-15   \n",
       "2  1.076039e-13  1.000000e+00  1.756086e-14 -4.998415e-15  5.699346e-16   \n",
       "3 -1.998427e-15 -2.225403e-15 -1.371955e-13 -1.492671e-12 -9.268169e-13   \n",
       "4  9.530094e-15  4.928098e-15  2.079018e-13  2.577457e-12  1.658353e-12   \n",
       "\n",
       "      country_6     country_7     country_8     country_9  \n",
       "0  1.000000e+00  3.746864e-14 -9.407742e-15 -1.255319e-15  \n",
       "1 -1.103276e-14  1.334503e-14 -3.033251e-15 -1.015318e-15  \n",
       "2 -2.583509e-14  2.709801e-14 -3.032173e-15  1.902934e-17  \n",
       "3 -5.849374e-14  1.282502e-14 -5.033407e-15  1.356875e-14  \n",
       "4  1.680214e-13  2.078228e-14  5.588656e-14 -2.476003e-14  \n",
       "\n",
       "[5 rows x 53 columns]"
      ]
     },
     "execution_count": 92,
     "metadata": {},
     "output_type": "execute_result"
    }
   ],
   "source": [
    "dd.head()"
   ]
  },
  {
   "cell_type": "code",
   "execution_count": 95,
   "metadata": {},
   "outputs": [
    {
     "data": {
      "text/plain": [
       "(258210, 53)"
      ]
     },
     "execution_count": 95,
     "metadata": {},
     "output_type": "execute_result"
    }
   ],
   "source": [
    "dd.shape"
   ]
  },
  {
   "cell_type": "code",
   "execution_count": 96,
   "metadata": {},
   "outputs": [],
   "source": [
    "#data.drop('index', axis=1, inplace=True)"
   ]
  },
  {
   "cell_type": "code",
   "execution_count": 97,
   "metadata": {},
   "outputs": [],
   "source": [
    "dd['train_test'] = data.train_test.values"
   ]
  },
  {
   "cell_type": "code",
   "execution_count": 98,
   "metadata": {},
   "outputs": [],
   "source": [
    "dd['id'] = data.id.values"
   ]
  },
  {
   "cell_type": "code",
   "execution_count": 99,
   "metadata": {},
   "outputs": [],
   "source": [
    "dd['quality'] = data.quality.values"
   ]
  },
  {
   "cell_type": "code",
   "execution_count": 100,
   "metadata": {},
   "outputs": [],
   "source": [
    "dd['points'] = data.points.values"
   ]
  },
  {
   "cell_type": "code",
   "execution_count": 101,
   "metadata": {},
   "outputs": [],
   "source": [
    "dd['price'] = data.price.values"
   ]
  },
  {
   "cell_type": "code",
   "execution_count": 102,
   "metadata": {},
   "outputs": [
    {
     "data": {
      "text/plain": [
       "(258210, 58)"
      ]
     },
     "execution_count": 102,
     "metadata": {},
     "output_type": "execute_result"
    }
   ],
   "source": [
    "#['id', 'points', 'quality', 'price']\n",
    "final_data = dd.copy()\n",
    "final_data.shape"
   ]
  },
  {
   "cell_type": "code",
   "execution_count": 103,
   "metadata": {},
   "outputs": [],
   "source": [
    "final_data['div_points'] = final_data['points'].values / 2"
   ]
  },
  {
   "cell_type": "code",
   "execution_count": 104,
   "metadata": {},
   "outputs": [],
   "source": [
    "final_data['sum_desc'] = final_data[['description_0', 'description_1', 'description_2', 'description_3',\n",
    "       'description_4', 'description_5', 'description_6', 'description_7',\n",
    "       'description_8', 'description_9']].sum(axis=1)\n",
    "final_data['sum_var'] = final_data[['variety_0', 'variety_1', 'variety_2',\n",
    "       'variety_3', 'variety_4', 'variety_5', 'variety_6', 'variety_7',\n",
    "       'variety_8', 'variety_9']].sum(axis=1)\n",
    "final_data['sum_prov'] = final_data[['province_0', 'province_1', 'province_2',\n",
    "       'province_3', 'province_4', 'province_5', 'province_6', 'province_7',\n",
    "       'province_8', 'province_9']].sum(axis=1)\n",
    "final_data['sum_country'] = final_data[['variety_0', 'variety_1', 'variety_2',\n",
    "       'variety_3', 'variety_4', 'variety_5', 'variety_6', 'variety_7',\n",
    "       'variety_8', 'variety_9']].sum(axis=1)\n",
    "final_data['sum_winery'] = final_data[['winery_0', 'winery_1', 'winery_2', 'winery_3', 'winery_4', 'winery_5',\n",
    "       'winery_6', 'winery_7', 'winery_8', 'winery_9']].sum(axis=1)"
   ]
  },
  {
   "cell_type": "code",
   "execution_count": 105,
   "metadata": {},
   "outputs": [
    {
     "data": {
      "text/plain": [
       "Index(['sentiment_1', 'sentiment_2', 'sentiment_3', 'winery_0', 'winery_1',\n",
       "       'winery_2', 'winery_3', 'winery_4', 'winery_5', 'winery_6', 'winery_7',\n",
       "       'winery_8', 'winery_9', 'description_0', 'description_1',\n",
       "       'description_2', 'description_3', 'description_4', 'description_5',\n",
       "       'description_6', 'description_7', 'description_8', 'description_9',\n",
       "       'variety_0', 'variety_1', 'variety_2', 'variety_3', 'variety_4',\n",
       "       'variety_5', 'variety_6', 'variety_7', 'variety_8', 'variety_9',\n",
       "       'province_0', 'province_1', 'province_2', 'province_3', 'province_4',\n",
       "       'province_5', 'province_6', 'province_7', 'province_8', 'province_9',\n",
       "       'country_0', 'country_1', 'country_2', 'country_3', 'country_4',\n",
       "       'country_5', 'country_6', 'country_7', 'country_8', 'country_9',\n",
       "       'train_test', 'id', 'quality', 'points', 'price', 'div_points',\n",
       "       'sum_desc', 'sum_var', 'sum_prov', 'sum_country', 'sum_winery'],\n",
       "      dtype='object')"
      ]
     },
     "execution_count": 105,
     "metadata": {},
     "output_type": "execute_result"
    }
   ],
   "source": [
    "final_data.columns"
   ]
  },
  {
   "cell_type": "code",
   "execution_count": 106,
   "metadata": {},
   "outputs": [],
   "source": [
    "final_data = final_data[['sentiment_1', 'sentiment_2', 'sentiment_3', 'winery_0', 'winery_1',\n",
    "       'winery_2', 'winery_3', 'winery_4', 'winery_5', 'winery_6', 'winery_7',\n",
    "       'winery_8', 'winery_9', 'description_0', 'description_1',\n",
    "       'description_2', 'description_3', 'description_4', 'description_5',\n",
    "       'description_6', 'description_7', 'description_8', 'description_9',\n",
    "       'variety_0', 'variety_1', 'variety_2', 'variety_3', 'variety_4',\n",
    "       'variety_5', 'variety_6', 'variety_7', 'variety_8', 'variety_9',\n",
    "       'province_0', 'province_1', 'province_2', 'province_3', 'province_4',\n",
    "       'province_5', 'province_6', 'province_7', 'province_8', 'province_9',\n",
    "       'country_0', 'country_1', 'country_2', 'country_3', 'country_4',\n",
    "       'country_5', 'country_6', 'country_7', 'country_8', 'country_9',\n",
    "       'train_test', 'id', 'quality', 'points', 'price', 'div_points',\n",
    "       'sum_desc', 'sum_var', 'sum_prov', 'sum_country', 'sum_winery']]"
   ]
  },
  {
   "cell_type": "code",
   "execution_count": 107,
   "metadata": {},
   "outputs": [
    {
     "data": {
      "text/html": [
       "<div>\n",
       "<style scoped>\n",
       "    .dataframe tbody tr th:only-of-type {\n",
       "        vertical-align: middle;\n",
       "    }\n",
       "\n",
       "    .dataframe tbody tr th {\n",
       "        vertical-align: top;\n",
       "    }\n",
       "\n",
       "    .dataframe thead th {\n",
       "        text-align: right;\n",
       "    }\n",
       "</style>\n",
       "<table border=\"1\" class=\"dataframe\">\n",
       "  <thead>\n",
       "    <tr style=\"text-align: right;\">\n",
       "      <th></th>\n",
       "      <th>sentiment_1</th>\n",
       "      <th>sentiment_2</th>\n",
       "      <th>sentiment_3</th>\n",
       "      <th>winery_0</th>\n",
       "      <th>winery_1</th>\n",
       "      <th>winery_2</th>\n",
       "      <th>winery_3</th>\n",
       "      <th>winery_4</th>\n",
       "      <th>winery_5</th>\n",
       "      <th>winery_6</th>\n",
       "      <th>...</th>\n",
       "      <th>id</th>\n",
       "      <th>quality</th>\n",
       "      <th>points</th>\n",
       "      <th>price</th>\n",
       "      <th>div_points</th>\n",
       "      <th>sum_desc</th>\n",
       "      <th>sum_var</th>\n",
       "      <th>sum_prov</th>\n",
       "      <th>sum_country</th>\n",
       "      <th>sum_winery</th>\n",
       "    </tr>\n",
       "  </thead>\n",
       "  <tbody>\n",
       "    <tr>\n",
       "      <th>0</th>\n",
       "      <td>0</td>\n",
       "      <td>0</td>\n",
       "      <td>1</td>\n",
       "      <td>1.396879e-06</td>\n",
       "      <td>6.014913e-05</td>\n",
       "      <td>-0.000142</td>\n",
       "      <td>0.000048</td>\n",
       "      <td>0.000254</td>\n",
       "      <td>-0.000514</td>\n",
       "      <td>-0.000934</td>\n",
       "      <td>...</td>\n",
       "      <td>32027</td>\n",
       "      <td>2</td>\n",
       "      <td>88.870874</td>\n",
       "      <td>20.0</td>\n",
       "      <td>44.435437</td>\n",
       "      <td>0.303753</td>\n",
       "      <td>0.116315</td>\n",
       "      <td>-0.000224</td>\n",
       "      <td>0.116315</td>\n",
       "      <td>0.031230</td>\n",
       "    </tr>\n",
       "    <tr>\n",
       "      <th>1</th>\n",
       "      <td>0</td>\n",
       "      <td>0</td>\n",
       "      <td>1</td>\n",
       "      <td>2.217662e-01</td>\n",
       "      <td>7.063462e-04</td>\n",
       "      <td>0.000023</td>\n",
       "      <td>-0.011420</td>\n",
       "      <td>0.000160</td>\n",
       "      <td>0.000025</td>\n",
       "      <td>0.000616</td>\n",
       "      <td>...</td>\n",
       "      <td>71079</td>\n",
       "      <td>2</td>\n",
       "      <td>88.041695</td>\n",
       "      <td>28.0</td>\n",
       "      <td>44.020848</td>\n",
       "      <td>0.217408</td>\n",
       "      <td>1.512758</td>\n",
       "      <td>0.999976</td>\n",
       "      <td>1.512758</td>\n",
       "      <td>0.211526</td>\n",
       "    </tr>\n",
       "    <tr>\n",
       "      <th>2</th>\n",
       "      <td>0</td>\n",
       "      <td>0</td>\n",
       "      <td>1</td>\n",
       "      <td>3.952937e-01</td>\n",
       "      <td>-6.582475e-03</td>\n",
       "      <td>-0.000033</td>\n",
       "      <td>-0.027042</td>\n",
       "      <td>0.000011</td>\n",
       "      <td>-0.000037</td>\n",
       "      <td>-0.000259</td>\n",
       "      <td>...</td>\n",
       "      <td>32440</td>\n",
       "      <td>3</td>\n",
       "      <td>94.085021</td>\n",
       "      <td>130.0</td>\n",
       "      <td>47.042511</td>\n",
       "      <td>0.470301</td>\n",
       "      <td>1.512758</td>\n",
       "      <td>0.999976</td>\n",
       "      <td>1.512758</td>\n",
       "      <td>0.361301</td>\n",
       "    </tr>\n",
       "    <tr>\n",
       "      <th>3</th>\n",
       "      <td>0</td>\n",
       "      <td>0</td>\n",
       "      <td>1</td>\n",
       "      <td>7.519720e-08</td>\n",
       "      <td>-4.898959e-07</td>\n",
       "      <td>0.000003</td>\n",
       "      <td>-0.000028</td>\n",
       "      <td>0.000046</td>\n",
       "      <td>0.000078</td>\n",
       "      <td>-0.000074</td>\n",
       "      <td>...</td>\n",
       "      <td>124405</td>\n",
       "      <td>2</td>\n",
       "      <td>89.869797</td>\n",
       "      <td>34.0</td>\n",
       "      <td>44.934899</td>\n",
       "      <td>0.068327</td>\n",
       "      <td>-0.004150</td>\n",
       "      <td>1.000000</td>\n",
       "      <td>-0.004150</td>\n",
       "      <td>0.000059</td>\n",
       "    </tr>\n",
       "    <tr>\n",
       "      <th>4</th>\n",
       "      <td>0</td>\n",
       "      <td>0</td>\n",
       "      <td>1</td>\n",
       "      <td>2.067867e-07</td>\n",
       "      <td>6.090775e-06</td>\n",
       "      <td>-0.000004</td>\n",
       "      <td>-0.000038</td>\n",
       "      <td>-0.000027</td>\n",
       "      <td>0.000098</td>\n",
       "      <td>0.000515</td>\n",
       "      <td>...</td>\n",
       "      <td>33649</td>\n",
       "      <td>2</td>\n",
       "      <td>89.017651</td>\n",
       "      <td>24.0</td>\n",
       "      <td>44.508825</td>\n",
       "      <td>0.092488</td>\n",
       "      <td>0.001318</td>\n",
       "      <td>1.000000</td>\n",
       "      <td>0.001318</td>\n",
       "      <td>0.000366</td>\n",
       "    </tr>\n",
       "  </tbody>\n",
       "</table>\n",
       "<p>5 rows × 64 columns</p>\n",
       "</div>"
      ],
      "text/plain": [
       "   sentiment_1  sentiment_2  sentiment_3      winery_0      winery_1  \\\n",
       "0            0            0            1  1.396879e-06  6.014913e-05   \n",
       "1            0            0            1  2.217662e-01  7.063462e-04   \n",
       "2            0            0            1  3.952937e-01 -6.582475e-03   \n",
       "3            0            0            1  7.519720e-08 -4.898959e-07   \n",
       "4            0            0            1  2.067867e-07  6.090775e-06   \n",
       "\n",
       "   winery_2  winery_3  winery_4  winery_5  winery_6  ...      id  quality  \\\n",
       "0 -0.000142  0.000048  0.000254 -0.000514 -0.000934  ...   32027        2   \n",
       "1  0.000023 -0.011420  0.000160  0.000025  0.000616  ...   71079        2   \n",
       "2 -0.000033 -0.027042  0.000011 -0.000037 -0.000259  ...   32440        3   \n",
       "3  0.000003 -0.000028  0.000046  0.000078 -0.000074  ...  124405        2   \n",
       "4 -0.000004 -0.000038 -0.000027  0.000098  0.000515  ...   33649        2   \n",
       "\n",
       "      points  price  div_points  sum_desc   sum_var  sum_prov  sum_country  \\\n",
       "0  88.870874   20.0   44.435437  0.303753  0.116315 -0.000224     0.116315   \n",
       "1  88.041695   28.0   44.020848  0.217408  1.512758  0.999976     1.512758   \n",
       "2  94.085021  130.0   47.042511  0.470301  1.512758  0.999976     1.512758   \n",
       "3  89.869797   34.0   44.934899  0.068327 -0.004150  1.000000    -0.004150   \n",
       "4  89.017651   24.0   44.508825  0.092488  0.001318  1.000000     0.001318   \n",
       "\n",
       "   sum_winery  \n",
       "0    0.031230  \n",
       "1    0.211526  \n",
       "2    0.361301  \n",
       "3    0.000059  \n",
       "4    0.000366  \n",
       "\n",
       "[5 rows x 64 columns]"
      ]
     },
     "execution_count": 107,
     "metadata": {},
     "output_type": "execute_result"
    }
   ],
   "source": [
    "#final_data['div_points'].head(10)\n",
    "final_data.head()"
   ]
  },
  {
   "cell_type": "code",
   "execution_count": 145,
   "metadata": {},
   "outputs": [],
   "source": [
    "train_data = final_data[final_data['train_test'] == 'train']\n",
    "test_data = final_data[final_data['train_test'] == 'test']"
   ]
  },
  {
   "cell_type": "code",
   "execution_count": 146,
   "metadata": {},
   "outputs": [
    {
     "name": "stdout",
     "output_type": "stream",
     "text": [
      "(175000, 63)\n",
      "(83210, 63)\n"
     ]
    }
   ],
   "source": [
    "print(train_data.shape)\n",
    "print(test_data.shape)"
   ]
  },
  {
   "cell_type": "code",
   "execution_count": 147,
   "metadata": {},
   "outputs": [
    {
     "data": {
      "text/plain": [
       "<matplotlib.axes._subplots.AxesSubplot at 0x7f4201176cc0>"
      ]
     },
     "execution_count": 147,
     "metadata": {},
     "output_type": "execute_result"
    },
    {
     "data": {
      "image/png": "[encoded data removed]",
      "text/plain": [
       "<Figure size 1080x576 with 2 Axes>"
      ]
     },
     "metadata": {
      "needs_background": "light"
     },
     "output_type": "display_data"
    }
   ],
   "source": [
    "plt.figure(figsize=(15,8))\n",
    "sns.heatmap(test_data.corr())"
   ]
  },
  {
   "cell_type": "code",
   "execution_count": 148,
   "metadata": {},
   "outputs": [
    {
     "data": {
      "text/plain": [
       "Index(['sentiment_1', 'sentiment_2', 'sentiment_3', 'winery_0', 'winery_1',\n",
       "       'winery_2', 'winery_3', 'winery_4', 'winery_5', 'winery_6', 'winery_7',\n",
       "       'winery_8', 'winery_9', 'description_0', 'description_1',\n",
       "       'description_2', 'description_3', 'description_4', 'description_5',\n",
       "       'description_6', 'description_7', 'description_8', 'description_9',\n",
       "       'variety_0', 'variety_1', 'variety_2', 'variety_3', 'variety_4',\n",
       "       'variety_5', 'variety_6', 'variety_7', 'variety_8', 'variety_9',\n",
       "       'province_0', 'province_1', 'province_2', 'province_3', 'province_4',\n",
       "       'province_5', 'province_6', 'province_7', 'province_8', 'province_9',\n",
       "       'country_0', 'country_1', 'country_2', 'country_3', 'country_4',\n",
       "       'country_5', 'country_6', 'country_7', 'country_8', 'country_9', 'id',\n",
       "       'quality', 'points', 'div_points', 'sum_desc', 'sum_var', 'sum_prov',\n",
       "       'sum_winery', 'train_test', 'price'],\n",
       "      dtype='object')"
      ]
     },
     "execution_count": 148,
     "metadata": {},
     "output_type": "execute_result"
    }
   ],
   "source": [
    "train_data.columns"
   ]
  },
  {
   "cell_type": "code",
   "execution_count": 149,
   "metadata": {},
   "outputs": [],
   "source": [
    "# train_data.head(2)"
   ]
  },
  {
   "cell_type": "code",
   "execution_count": 129,
   "metadata": {},
   "outputs": [
    {
     "data": {
      "text/html": [
       "<div>\n",
       "<style scoped>\n",
       "    .dataframe tbody tr th:only-of-type {\n",
       "        vertical-align: middle;\n",
       "    }\n",
       "\n",
       "    .dataframe tbody tr th {\n",
       "        vertical-align: top;\n",
       "    }\n",
       "\n",
       "    .dataframe thead th {\n",
       "        text-align: right;\n",
       "    }\n",
       "</style>\n",
       "<table border=\"1\" class=\"dataframe\">\n",
       "  <thead>\n",
       "    <tr style=\"text-align: right;\">\n",
       "      <th></th>\n",
       "      <th>sentiment_1</th>\n",
       "      <th>sentiment_2</th>\n",
       "      <th>sentiment_3</th>\n",
       "      <th>winery_0</th>\n",
       "      <th>winery_1</th>\n",
       "      <th>winery_2</th>\n",
       "      <th>winery_3</th>\n",
       "      <th>winery_4</th>\n",
       "      <th>winery_5</th>\n",
       "      <th>winery_6</th>\n",
       "      <th>...</th>\n",
       "      <th>country_8</th>\n",
       "      <th>country_9</th>\n",
       "      <th>id</th>\n",
       "      <th>quality</th>\n",
       "      <th>points</th>\n",
       "      <th>div_points</th>\n",
       "      <th>sum_desc</th>\n",
       "      <th>sum_var</th>\n",
       "      <th>sum_prov</th>\n",
       "      <th>sum_winery</th>\n",
       "    </tr>\n",
       "  </thead>\n",
       "  <tbody>\n",
       "    <tr>\n",
       "      <th>0</th>\n",
       "      <td>0.0</td>\n",
       "      <td>0.0</td>\n",
       "      <td>1.0</td>\n",
       "      <td>0.000046</td>\n",
       "      <td>0.016694</td>\n",
       "      <td>0.002545</td>\n",
       "      <td>0.125785</td>\n",
       "      <td>0.017291</td>\n",
       "      <td>0.076775</td>\n",
       "      <td>0.087207</td>\n",
       "      <td>...</td>\n",
       "      <td>1.308231e-09</td>\n",
       "      <td>3.867931e-08</td>\n",
       "      <td>0.212199</td>\n",
       "      <td>0.333333</td>\n",
       "      <td>0.448627</td>\n",
       "      <td>0.448627</td>\n",
       "      <td>0.510014</td>\n",
       "      <td>0.090488</td>\n",
       "      <td>0.005039</td>\n",
       "      <td>0.048921</td>\n",
       "    </tr>\n",
       "    <tr>\n",
       "      <th>1</th>\n",
       "      <td>0.0</td>\n",
       "      <td>0.0</td>\n",
       "      <td>1.0</td>\n",
       "      <td>0.223172</td>\n",
       "      <td>0.017345</td>\n",
       "      <td>0.002711</td>\n",
       "      <td>0.115214</td>\n",
       "      <td>0.017190</td>\n",
       "      <td>0.077300</td>\n",
       "      <td>0.088673</td>\n",
       "      <td>...</td>\n",
       "      <td>1.308237e-09</td>\n",
       "      <td>3.867931e-08</td>\n",
       "      <td>0.470943</td>\n",
       "      <td>0.333333</td>\n",
       "      <td>0.408345</td>\n",
       "      <td>0.408345</td>\n",
       "      <td>0.450321</td>\n",
       "      <td>1.000000</td>\n",
       "      <td>0.999887</td>\n",
       "      <td>0.169951</td>\n",
       "    </tr>\n",
       "  </tbody>\n",
       "</table>\n",
       "<p>2 rows × 61 columns</p>\n",
       "</div>"
      ],
      "text/plain": [
       "   sentiment_1  sentiment_2  sentiment_3  winery_0  winery_1  winery_2  \\\n",
       "0          0.0          0.0          1.0  0.000046  0.016694  0.002545   \n",
       "1          0.0          0.0          1.0  0.223172  0.017345  0.002711   \n",
       "\n",
       "   winery_3  winery_4  winery_5  winery_6  ...     country_8     country_9  \\\n",
       "0  0.125785  0.017291  0.076775  0.087207  ...  1.308231e-09  3.867931e-08   \n",
       "1  0.115214  0.017190  0.077300  0.088673  ...  1.308237e-09  3.867931e-08   \n",
       "\n",
       "         id   quality    points  div_points  sum_desc   sum_var  sum_prov  \\\n",
       "0  0.212199  0.333333  0.448627    0.448627  0.510014  0.090488  0.005039   \n",
       "1  0.470943  0.333333  0.408345    0.408345  0.450321  1.000000  0.999887   \n",
       "\n",
       "   sum_winery  \n",
       "0    0.048921  \n",
       "1    0.169951  \n",
       "\n",
       "[2 rows x 61 columns]"
      ]
     },
     "execution_count": 129,
     "metadata": {},
     "output_type": "execute_result"
    }
   ],
   "source": [
    "from sklearn import preprocessing\n",
    "\n",
    "\n",
    "x = final_data[['sentiment_1', 'sentiment_2', 'sentiment_3', 'winery_0', 'winery_1',\n",
    "       'winery_2', 'winery_3', 'winery_4', 'winery_5', 'winery_6', 'winery_7',\n",
    "       'winery_8', 'winery_9', 'description_0', 'description_1',\n",
    "       'description_2', 'description_3', 'description_4', 'description_5',\n",
    "       'description_6', 'description_7', 'description_8', 'description_9',\n",
    "       'variety_0', 'variety_1', 'variety_2', 'variety_3', 'variety_4',\n",
    "       'variety_5', 'variety_6', 'variety_7', 'variety_8', 'variety_9',\n",
    "       'province_0', 'province_1', 'province_2', 'province_3', 'province_4',\n",
    "       'province_5', 'province_6', 'province_7', 'province_8', 'province_9',\n",
    "       'country_0', 'country_1', 'country_2', 'country_3', 'country_4',\n",
    "       'country_5', 'country_6', 'country_7', 'country_8', 'country_9'\n",
    "                , 'id', 'quality', 'points', 'div_points',\n",
    "       'sum_desc', 'sum_var', 'sum_prov', 'sum_winery']].values #returns a numpy array\n",
    "min_max_scaler = preprocessing.MinMaxScaler()\n",
    "x_scaled = min_max_scaler.fit_transform(x)\n",
    "df = pd.DataFrame(x_scaled)\n",
    "df.columns = ['sentiment_1', 'sentiment_2', 'sentiment_3', 'winery_0', 'winery_1',\n",
    "       'winery_2', 'winery_3', 'winery_4', 'winery_5', 'winery_6', 'winery_7',\n",
    "       'winery_8', 'winery_9', 'description_0', 'description_1',\n",
    "       'description_2', 'description_3', 'description_4', 'description_5',\n",
    "       'description_6', 'description_7', 'description_8', 'description_9',\n",
    "       'variety_0', 'variety_1', 'variety_2', 'variety_3', 'variety_4',\n",
    "       'variety_5', 'variety_6', 'variety_7', 'variety_8', 'variety_9',\n",
    "       'province_0', 'province_1', 'province_2', 'province_3', 'province_4',\n",
    "       'province_5', 'province_6', 'province_7', 'province_8', 'province_9',\n",
    "       'country_0', 'country_1', 'country_2', 'country_3', 'country_4',\n",
    "       'country_5', 'country_6', 'country_7', 'country_8', 'country_9'\n",
    "                , 'id', 'quality', 'points', 'div_points',\n",
    "       'sum_desc', 'sum_var', 'sum_prov', 'sum_winery']\n",
    "df.head(2)"
   ]
  },
  {
   "cell_type": "code",
   "execution_count": 130,
   "metadata": {},
   "outputs": [],
   "source": [
    "final_data = pd.concat([df,final_data['train_test'],final_data['price']],axis = 1)"
   ]
  },
  {
   "cell_type": "code",
   "execution_count": 131,
   "metadata": {},
   "outputs": [
    {
     "data": {
      "text/plain": [
       "Index(['sentiment_1', 'sentiment_2', 'sentiment_3', 'winery_0', 'winery_1',\n",
       "       'winery_2', 'winery_3', 'winery_4', 'winery_5', 'winery_6', 'winery_7',\n",
       "       'winery_8', 'winery_9', 'description_0', 'description_1',\n",
       "       'description_2', 'description_3', 'description_4', 'description_5',\n",
       "       'description_6', 'description_7', 'description_8', 'description_9',\n",
       "       'variety_0', 'variety_1', 'variety_2', 'variety_3', 'variety_4',\n",
       "       'variety_5', 'variety_6', 'variety_7', 'variety_8', 'variety_9',\n",
       "       'province_0', 'province_1', 'province_2', 'province_3', 'province_4',\n",
       "       'province_5', 'province_6', 'province_7', 'province_8', 'province_9',\n",
       "       'country_0', 'country_1', 'country_2', 'country_3', 'country_4',\n",
       "       'country_5', 'country_6', 'country_7', 'country_8', 'country_9', 'id',\n",
       "       'quality', 'points', 'div_points', 'sum_desc', 'sum_var', 'sum_prov',\n",
       "       'sum_winery', 'train_test', 'price'],\n",
       "      dtype='object')"
      ]
     },
     "execution_count": 131,
     "metadata": {},
     "output_type": "execute_result"
    }
   ],
   "source": [
    "final_data.columns"
   ]
  },
  {
   "cell_type": "code",
   "execution_count": null,
   "metadata": {},
   "outputs": [],
   "source": []
  },
  {
   "cell_type": "code",
   "execution_count": 152,
   "metadata": {},
   "outputs": [],
   "source": [
    "X = train_data[[ 'winery_0', 'winery_1',\n",
    "       'winery_2', 'winery_3', 'winery_4', 'winery_5', 'winery_6', 'winery_7',\n",
    "       'winery_8', 'winery_9', 'description_0', 'description_1',\n",
    "       'description_2', 'description_3', 'description_4', 'description_5',\n",
    "       'description_6', 'description_7', 'description_8', 'description_9',\n",
    "       'variety_0', 'variety_1', 'variety_2', 'variety_3', 'variety_4',\n",
    "       'variety_5', 'variety_6', 'variety_7', 'variety_8', 'variety_9',\n",
    "       'province_0', 'province_1', 'province_2', 'province_3', 'province_4',\n",
    "       'province_5', 'province_6', 'province_7', 'province_8', 'province_9','id'\n",
    "                , 'points', 'div_points', 'sum_desc', 'sum_var', 'sum_prov',\n",
    "       'sum_winery']]\n",
    "y = train_data[\"price\"]"
   ]
  },
  {
   "cell_type": "code",
   "execution_count": 153,
   "metadata": {},
   "outputs": [
    {
     "data": {
      "text/plain": [
       "(175000, 47)"
      ]
     },
     "execution_count": 153,
     "metadata": {},
     "output_type": "execute_result"
    }
   ],
   "source": [
    "X.shape"
   ]
  },
  {
   "cell_type": "code",
   "execution_count": 154,
   "metadata": {},
   "outputs": [],
   "source": [
    "X_train, X_test, y_train, y_test = train_test_split(X, y, test_size=0.3)"
   ]
  },
  {
   "cell_type": "code",
   "execution_count": 155,
   "metadata": {},
   "outputs": [
    {
     "name": "stdout",
     "output_type": "stream",
     "text": [
      "(122500, 47) (52500, 47) (122500,) (52500,)\n"
     ]
    }
   ],
   "source": [
    "print(X_train.shape, X_test.shape, y_train.shape, y_test.shape)"
   ]
  },
  {
   "cell_type": "code",
   "execution_count": 156,
   "metadata": {},
   "outputs": [
    {
     "name": "stderr",
     "output_type": "stream",
     "text": [
      "/home/aims/anaconda3/lib/python3.7/site-packages/xgboost/core.py:587: FutureWarning: Series.base is deprecated and will be removed in a future version\n",
      "  if getattr(data, 'base', None) is not None and \\\n"
     ]
    }
   ],
   "source": [
    "dtrain = xgb.DMatrix(X_train, label=y_train)\n",
    "dtest = xgb.DMatrix(X_test, label=y_test)"
   ]
  },
  {
   "cell_type": "code",
   "execution_count": 157,
   "metadata": {},
   "outputs": [
    {
     "name": "stdout",
     "output_type": "stream",
     "text": [
      "[0]\ttrain-mae:15.1082\n",
      "Will train until train-mae hasn't improved in 10 rounds.\n",
      "[1]\ttrain-mae:14.5547\n",
      "[2]\ttrain-mae:14.4914\n",
      "[3]\ttrain-mae:14.2082\n",
      "[4]\ttrain-mae:13.8548\n",
      "[5]\ttrain-mae:13.8533\n",
      "[6]\ttrain-mae:13.8224\n",
      "[7]\ttrain-mae:13.7984\n",
      "[8]\ttrain-mae:13.7721\n",
      "[9]\ttrain-mae:13.7182\n",
      "[10]\ttrain-mae:13.6729\n",
      "[11]\ttrain-mae:13.6371\n",
      "[12]\ttrain-mae:13.5517\n",
      "[13]\ttrain-mae:13.5383\n",
      "[14]\ttrain-mae:13.5589\n"
     ]
    }
   ],
   "source": [
    "#Set xgboost parameters\n",
    "param = {'max_depth': 3, 'eta': 1, 'subsample':0.5, 'alpha':1}\n",
    "param['nthread'] = 4\n",
    "param['eval_metric'] = 'mae'\n",
    "param['objective'] = 'reg:linear'\n",
    "param['silent'] = 1\n",
    "evallist = [(dtrain, 'train')]\n",
    "num_round = 15\n",
    "\n",
    "#Train model\n",
    "bst = xgb.train(param, dtrain, num_round, evallist, early_stopping_rounds=10)"
   ]
  },
  {
   "cell_type": "code",
   "execution_count": 158,
   "metadata": {},
   "outputs": [],
   "source": [
    "pred = pd.DataFrame(y_test.copy())\n",
    "pred[\"prediction\"] = bst.predict(dtest, ntree_limit=bst.best_ntree_limit)"
   ]
  },
  {
   "cell_type": "code",
   "execution_count": 159,
   "metadata": {},
   "outputs": [
    {
     "name": "stdout",
     "output_type": "stream",
     "text": [
      "Mean Squared Error: 30.44 \n"
     ]
    }
   ],
   "source": [
    "rmse = np.round(np.sqrt(mean_squared_error(y_true=pred[\"price\"], y_pred=pred[\"prediction\"])), 2)\n",
    "print (\"Mean Squared Error: {} \".format(rmse))"
   ]
  },
  {
   "cell_type": "code",
   "execution_count": 160,
   "metadata": {},
   "outputs": [],
   "source": [
    "from sklearn.linear_model import LinearRegression, Ridge\n",
    "from sklearn.ensemble import RandomForestRegressor"
   ]
  },
  {
   "cell_type": "code",
   "execution_count": 161,
   "metadata": {},
   "outputs": [
    {
     "data": {
      "text/plain": [
       "Ridge(alpha=1.0, copy_X=True, fit_intercept=True, max_iter=None,\n",
       "      normalize=False, random_state=None, solver='auto', tol=0.001)"
      ]
     },
     "execution_count": 161,
     "metadata": {},
     "output_type": "execute_result"
    }
   ],
   "source": [
    "lm = Ridge()\n",
    "\n",
    "lm.fit(X_train, y_train)"
   ]
  },
  {
   "cell_type": "code",
   "execution_count": 162,
   "metadata": {},
   "outputs": [
    {
     "name": "stdout",
     "output_type": "stream",
     "text": [
      "-0.8945117201006312\n"
     ]
    }
   ],
   "source": [
    "print(lm.intercept_)"
   ]
  },
  {
   "cell_type": "code",
   "execution_count": 163,
   "metadata": {},
   "outputs": [
    {
     "data": {
      "text/plain": [
       "<matplotlib.collections.PathCollection at 0x7f42010eb4e0>"
      ]
     },
     "execution_count": 163,
     "metadata": {},
     "output_type": "execute_result"
    },
    {
     "data": {
      "image/png": "[encoded data removed]",
      "text/plain": [
       "<Figure size 432x288 with 1 Axes>"
      ]
     },
     "metadata": {
      "needs_background": "light"
     },
     "output_type": "display_data"
    }
   ],
   "source": [
    "predictions = lm.predict(X_test)\n",
    "plt.scatter(np.log(y_test),predictions)"
   ]
  },
  {
   "cell_type": "code",
   "execution_count": 164,
   "metadata": {},
   "outputs": [
    {
     "name": "stdout",
     "output_type": "stream",
     "text": [
      "RMSE: 34.16247829146815\n"
     ]
    }
   ],
   "source": [
    "print('RMSE:', np.sqrt(mean_squared_error(y_test, predictions)))"
   ]
  },
  {
   "cell_type": "code",
   "execution_count": 165,
   "metadata": {},
   "outputs": [],
   "source": [
    "rf = RandomForestRegressor()"
   ]
  },
  {
   "cell_type": "code",
   "execution_count": 166,
   "metadata": {},
   "outputs": [],
   "source": [
    "rf = RandomForestRegressor(n_estimators = 1000, random_state = 42)"
   ]
  },
  {
   "cell_type": "code",
   "execution_count": 167,
   "metadata": {},
   "outputs": [
    {
     "data": {
      "text/plain": [
       "RandomForestRegressor(bootstrap=True, criterion='mse', max_depth=None,\n",
       "                      max_features='auto', max_leaf_nodes=None,\n",
       "                      min_impurity_decrease=0.0, min_impurity_split=None,\n",
       "                      min_samples_leaf=1, min_samples_split=2,\n",
       "                      min_weight_fraction_leaf=0.0, n_estimators=1000,\n",
       "                      n_jobs=None, oob_score=False, random_state=42, verbose=0,\n",
       "                      warm_start=False)"
      ]
     },
     "execution_count": 167,
     "metadata": {},
     "output_type": "execute_result"
    }
   ],
   "source": [
    "rf.fit(X_train, y_train)"
   ]
  },
  {
   "cell_type": "code",
   "execution_count": 168,
   "metadata": {},
   "outputs": [],
   "source": [
    "predicts = rf.predict(X_test)"
   ]
  },
  {
   "cell_type": "code",
   "execution_count": 169,
   "metadata": {},
   "outputs": [
    {
     "name": "stdout",
     "output_type": "stream",
     "text": [
      "(52500,) (52500,)\n"
     ]
    }
   ],
   "source": [
    "print(y_test.shape, predicts.shape)"
   ]
  },
  {
   "cell_type": "code",
   "execution_count": 170,
   "metadata": {},
   "outputs": [
    {
     "data": {
      "text/plain": [
       "<matplotlib.collections.PathCollection at 0x7f42001dbf98>"
      ]
     },
     "execution_count": 170,
     "metadata": {},
     "output_type": "execute_result"
    },
    {
     "data": {
      "image/png": "[encoded data removed]",
      "text/plain": [
       "<Figure size 432x288 with 1 Axes>"
      ]
     },
     "metadata": {
      "needs_background": "light"
     },
     "output_type": "display_data"
    }
   ],
   "source": [
    "plt.scatter(y_test, predicts)"
   ]
  },
  {
   "cell_type": "code",
   "execution_count": 171,
   "metadata": {},
   "outputs": [
    {
     "name": "stdout",
     "output_type": "stream",
     "text": [
      "RMSE: 24.858854481647267\n"
     ]
    }
   ],
   "source": [
    "print('RMSE:', np.sqrt(mean_squared_error(y_test, predicts)))"
   ]
  },
  {
   "cell_type": "code",
   "execution_count": 172,
   "metadata": {},
   "outputs": [
    {
     "ename": "TypeError",
     "evalue": "'<' not supported between instances of 'NoneType' and 'NoneType'",
     "output_type": "error",
     "traceback": [
      "\u001b[0;31m---------------------------------------------------------------------------\u001b[0m",
      "\u001b[0;31mTypeError\u001b[0m                                 Traceback (most recent call last)",
      "\u001b[0;32m<ipython-input-172-2e566532056f>\u001b[0m in \u001b[0;36m<module>\u001b[0;34m\u001b[0m\n\u001b[1;32m      3\u001b[0m \u001b[0;34m\u001b[0m\u001b[0m\n\u001b[1;32m      4\u001b[0m \u001b[0mplt\u001b[0m\u001b[0;34m.\u001b[0m\u001b[0mfigure\u001b[0m\u001b[0;34m(\u001b[0m\u001b[0mfigsize\u001b[0m\u001b[0;34m=\u001b[0m\u001b[0;34m(\u001b[0m\u001b[0;36m15\u001b[0m\u001b[0;34m,\u001b[0m\u001b[0;36m8\u001b[0m\u001b[0;34m)\u001b[0m\u001b[0;34m)\u001b[0m\u001b[0;34m\u001b[0m\u001b[0;34m\u001b[0m\u001b[0m\n\u001b[0;32m----> 5\u001b[0;31m \u001b[0msns\u001b[0m\u001b[0;34m.\u001b[0m\u001b[0mbarplot\u001b[0m\u001b[0;34m(\u001b[0m\u001b[0mx\u001b[0m\u001b[0;34m=\u001b[0m\u001b[0;34m\"feature\"\u001b[0m\u001b[0;34m,\u001b[0m \u001b[0my\u001b[0m\u001b[0;34m=\u001b[0m\u001b[0;34m\"value\"\u001b[0m\u001b[0;34m,\u001b[0m \u001b[0mdata\u001b[0m\u001b[0;34m=\u001b[0m\u001b[0mimportance\u001b[0m\u001b[0;34m)\u001b[0m\u001b[0;34m.\u001b[0m\u001b[0mset_xticklabels\u001b[0m\u001b[0;34m(\u001b[0m\u001b[0mrotation\u001b[0m\u001b[0;34m=\u001b[0m\u001b[0;36m90\u001b[0m\u001b[0;34m,\u001b[0m\u001b[0mlabels\u001b[0m\u001b[0;34m=\u001b[0m\u001b[0mX_train\u001b[0m\u001b[0;34m.\u001b[0m\u001b[0mcolumns\u001b[0m\u001b[0;34m)\u001b[0m\u001b[0;34m\u001b[0m\u001b[0;34m\u001b[0m\u001b[0m\n\u001b[0m",
      "\u001b[0;32m~/anaconda3/lib/python3.7/site-packages/seaborn/categorical.py\u001b[0m in \u001b[0;36mbarplot\u001b[0;34m(x, y, hue, data, order, hue_order, estimator, ci, n_boot, units, orient, color, palette, saturation, errcolor, errwidth, capsize, dodge, ax, **kwargs)\u001b[0m\n\u001b[1;32m   3147\u001b[0m                           \u001b[0mestimator\u001b[0m\u001b[0;34m,\u001b[0m \u001b[0mci\u001b[0m\u001b[0;34m,\u001b[0m \u001b[0mn_boot\u001b[0m\u001b[0;34m,\u001b[0m \u001b[0munits\u001b[0m\u001b[0;34m,\u001b[0m\u001b[0;34m\u001b[0m\u001b[0;34m\u001b[0m\u001b[0m\n\u001b[1;32m   3148\u001b[0m                           \u001b[0morient\u001b[0m\u001b[0;34m,\u001b[0m \u001b[0mcolor\u001b[0m\u001b[0;34m,\u001b[0m \u001b[0mpalette\u001b[0m\u001b[0;34m,\u001b[0m \u001b[0msaturation\u001b[0m\u001b[0;34m,\u001b[0m\u001b[0;34m\u001b[0m\u001b[0;34m\u001b[0m\u001b[0m\n\u001b[0;32m-> 3149\u001b[0;31m                           errcolor, errwidth, capsize, dodge)\n\u001b[0m\u001b[1;32m   3150\u001b[0m \u001b[0;34m\u001b[0m\u001b[0m\n\u001b[1;32m   3151\u001b[0m     \u001b[0;32mif\u001b[0m \u001b[0max\u001b[0m \u001b[0;32mis\u001b[0m \u001b[0;32mNone\u001b[0m\u001b[0;34m:\u001b[0m\u001b[0;34m\u001b[0m\u001b[0;34m\u001b[0m\u001b[0m\n",
      "\u001b[0;32m~/anaconda3/lib/python3.7/site-packages/seaborn/categorical.py\u001b[0m in \u001b[0;36m__init__\u001b[0;34m(self, x, y, hue, data, order, hue_order, estimator, ci, n_boot, units, orient, color, palette, saturation, errcolor, errwidth, capsize, dodge)\u001b[0m\n\u001b[1;32m   1605\u001b[0m         \u001b[0;34m\"\"\"Initialize the plotter.\"\"\"\u001b[0m\u001b[0;34m\u001b[0m\u001b[0;34m\u001b[0m\u001b[0m\n\u001b[1;32m   1606\u001b[0m         self.establish_variables(x, y, hue, data, orient,\n\u001b[0;32m-> 1607\u001b[0;31m                                  order, hue_order, units)\n\u001b[0m\u001b[1;32m   1608\u001b[0m         \u001b[0mself\u001b[0m\u001b[0;34m.\u001b[0m\u001b[0mestablish_colors\u001b[0m\u001b[0;34m(\u001b[0m\u001b[0mcolor\u001b[0m\u001b[0;34m,\u001b[0m \u001b[0mpalette\u001b[0m\u001b[0;34m,\u001b[0m \u001b[0msaturation\u001b[0m\u001b[0;34m)\u001b[0m\u001b[0;34m\u001b[0m\u001b[0;34m\u001b[0m\u001b[0m\n\u001b[1;32m   1609\u001b[0m         \u001b[0mself\u001b[0m\u001b[0;34m.\u001b[0m\u001b[0mestimate_statistic\u001b[0m\u001b[0;34m(\u001b[0m\u001b[0mestimator\u001b[0m\u001b[0;34m,\u001b[0m \u001b[0mci\u001b[0m\u001b[0;34m,\u001b[0m \u001b[0mn_boot\u001b[0m\u001b[0;34m)\u001b[0m\u001b[0;34m\u001b[0m\u001b[0;34m\u001b[0m\u001b[0m\n",
      "\u001b[0;32m~/anaconda3/lib/python3.7/site-packages/seaborn/categorical.py\u001b[0m in \u001b[0;36mestablish_variables\u001b[0;34m(self, x, y, hue, data, orient, order, hue_order, units)\u001b[0m\n\u001b[1;32m    146\u001b[0m                 \u001b[0mx\u001b[0m \u001b[0;34m=\u001b[0m \u001b[0mdata\u001b[0m\u001b[0;34m.\u001b[0m\u001b[0mget\u001b[0m\u001b[0;34m(\u001b[0m\u001b[0mx\u001b[0m\u001b[0;34m,\u001b[0m \u001b[0mx\u001b[0m\u001b[0;34m)\u001b[0m\u001b[0;34m\u001b[0m\u001b[0;34m\u001b[0m\u001b[0m\n\u001b[1;32m    147\u001b[0m                 \u001b[0my\u001b[0m \u001b[0;34m=\u001b[0m \u001b[0mdata\u001b[0m\u001b[0;34m.\u001b[0m\u001b[0mget\u001b[0m\u001b[0;34m(\u001b[0m\u001b[0my\u001b[0m\u001b[0;34m,\u001b[0m \u001b[0my\u001b[0m\u001b[0;34m)\u001b[0m\u001b[0;34m\u001b[0m\u001b[0;34m\u001b[0m\u001b[0m\n\u001b[0;32m--> 148\u001b[0;31m                 \u001b[0mhue\u001b[0m \u001b[0;34m=\u001b[0m \u001b[0mdata\u001b[0m\u001b[0;34m.\u001b[0m\u001b[0mget\u001b[0m\u001b[0;34m(\u001b[0m\u001b[0mhue\u001b[0m\u001b[0;34m,\u001b[0m \u001b[0mhue\u001b[0m\u001b[0;34m)\u001b[0m\u001b[0;34m\u001b[0m\u001b[0;34m\u001b[0m\u001b[0m\n\u001b[0m\u001b[1;32m    149\u001b[0m                 \u001b[0munits\u001b[0m \u001b[0;34m=\u001b[0m \u001b[0mdata\u001b[0m\u001b[0;34m.\u001b[0m\u001b[0mget\u001b[0m\u001b[0;34m(\u001b[0m\u001b[0munits\u001b[0m\u001b[0;34m,\u001b[0m \u001b[0munits\u001b[0m\u001b[0;34m)\u001b[0m\u001b[0;34m\u001b[0m\u001b[0;34m\u001b[0m\u001b[0m\n\u001b[1;32m    150\u001b[0m \u001b[0;34m\u001b[0m\u001b[0m\n",
      "\u001b[0;32m~/anaconda3/lib/python3.7/site-packages/pandas/core/generic.py\u001b[0m in \u001b[0;36mget\u001b[0;34m(self, key, default)\u001b[0m\n\u001b[1;32m   3047\u001b[0m         \"\"\"\n\u001b[1;32m   3048\u001b[0m         \u001b[0;32mtry\u001b[0m\u001b[0;34m:\u001b[0m\u001b[0;34m\u001b[0m\u001b[0;34m\u001b[0m\u001b[0m\n\u001b[0;32m-> 3049\u001b[0;31m             \u001b[0;32mreturn\u001b[0m \u001b[0mself\u001b[0m\u001b[0;34m[\u001b[0m\u001b[0mkey\u001b[0m\u001b[0;34m]\u001b[0m\u001b[0;34m\u001b[0m\u001b[0;34m\u001b[0m\u001b[0m\n\u001b[0m\u001b[1;32m   3050\u001b[0m         \u001b[0;32mexcept\u001b[0m \u001b[0;34m(\u001b[0m\u001b[0mKeyError\u001b[0m\u001b[0;34m,\u001b[0m \u001b[0mValueError\u001b[0m\u001b[0;34m,\u001b[0m \u001b[0mIndexError\u001b[0m\u001b[0;34m)\u001b[0m\u001b[0;34m:\u001b[0m\u001b[0;34m\u001b[0m\u001b[0;34m\u001b[0m\u001b[0m\n\u001b[1;32m   3051\u001b[0m             \u001b[0;32mreturn\u001b[0m \u001b[0mdefault\u001b[0m\u001b[0;34m\u001b[0m\u001b[0;34m\u001b[0m\u001b[0m\n",
      "\u001b[0;32m~/anaconda3/lib/python3.7/site-packages/pandas/core/frame.py\u001b[0m in \u001b[0;36m__getitem__\u001b[0;34m(self, key)\u001b[0m\n\u001b[1;32m   2925\u001b[0m             \u001b[0;32mif\u001b[0m \u001b[0mself\u001b[0m\u001b[0;34m.\u001b[0m\u001b[0mcolumns\u001b[0m\u001b[0;34m.\u001b[0m\u001b[0mnlevels\u001b[0m \u001b[0;34m>\u001b[0m \u001b[0;36m1\u001b[0m\u001b[0;34m:\u001b[0m\u001b[0;34m\u001b[0m\u001b[0;34m\u001b[0m\u001b[0m\n\u001b[1;32m   2926\u001b[0m                 \u001b[0;32mreturn\u001b[0m \u001b[0mself\u001b[0m\u001b[0;34m.\u001b[0m\u001b[0m_getitem_multilevel\u001b[0m\u001b[0;34m(\u001b[0m\u001b[0mkey\u001b[0m\u001b[0;34m)\u001b[0m\u001b[0;34m\u001b[0m\u001b[0;34m\u001b[0m\u001b[0m\n\u001b[0;32m-> 2927\u001b[0;31m             \u001b[0mindexer\u001b[0m \u001b[0;34m=\u001b[0m \u001b[0mself\u001b[0m\u001b[0;34m.\u001b[0m\u001b[0mcolumns\u001b[0m\u001b[0;34m.\u001b[0m\u001b[0mget_loc\u001b[0m\u001b[0;34m(\u001b[0m\u001b[0mkey\u001b[0m\u001b[0;34m)\u001b[0m\u001b[0;34m\u001b[0m\u001b[0;34m\u001b[0m\u001b[0m\n\u001b[0m\u001b[1;32m   2928\u001b[0m             \u001b[0;32mif\u001b[0m \u001b[0mis_integer\u001b[0m\u001b[0;34m(\u001b[0m\u001b[0mindexer\u001b[0m\u001b[0;34m)\u001b[0m\u001b[0;34m:\u001b[0m\u001b[0;34m\u001b[0m\u001b[0;34m\u001b[0m\u001b[0m\n\u001b[1;32m   2929\u001b[0m                 \u001b[0mindexer\u001b[0m \u001b[0;34m=\u001b[0m \u001b[0;34m[\u001b[0m\u001b[0mindexer\u001b[0m\u001b[0;34m]\u001b[0m\u001b[0;34m\u001b[0m\u001b[0;34m\u001b[0m\u001b[0m\n",
      "\u001b[0;32m~/anaconda3/lib/python3.7/site-packages/pandas/core/indexes/base.py\u001b[0m in \u001b[0;36mget_loc\u001b[0;34m(self, key, method, tolerance)\u001b[0m\n\u001b[1;32m   2655\u001b[0m                                  'backfill or nearest lookups')\n\u001b[1;32m   2656\u001b[0m             \u001b[0;32mtry\u001b[0m\u001b[0;34m:\u001b[0m\u001b[0;34m\u001b[0m\u001b[0;34m\u001b[0m\u001b[0m\n\u001b[0;32m-> 2657\u001b[0;31m                 \u001b[0;32mreturn\u001b[0m \u001b[0mself\u001b[0m\u001b[0;34m.\u001b[0m\u001b[0m_engine\u001b[0m\u001b[0;34m.\u001b[0m\u001b[0mget_loc\u001b[0m\u001b[0;34m(\u001b[0m\u001b[0mkey\u001b[0m\u001b[0;34m)\u001b[0m\u001b[0;34m\u001b[0m\u001b[0;34m\u001b[0m\u001b[0m\n\u001b[0m\u001b[1;32m   2658\u001b[0m             \u001b[0;32mexcept\u001b[0m \u001b[0mKeyError\u001b[0m\u001b[0;34m:\u001b[0m\u001b[0;34m\u001b[0m\u001b[0;34m\u001b[0m\u001b[0m\n\u001b[1;32m   2659\u001b[0m                 \u001b[0;32mreturn\u001b[0m \u001b[0mself\u001b[0m\u001b[0;34m.\u001b[0m\u001b[0m_engine\u001b[0m\u001b[0;34m.\u001b[0m\u001b[0mget_loc\u001b[0m\u001b[0;34m(\u001b[0m\u001b[0mself\u001b[0m\u001b[0;34m.\u001b[0m\u001b[0m_maybe_cast_indexer\u001b[0m\u001b[0;34m(\u001b[0m\u001b[0mkey\u001b[0m\u001b[0;34m)\u001b[0m\u001b[0;34m)\u001b[0m\u001b[0;34m\u001b[0m\u001b[0;34m\u001b[0m\u001b[0m\n",
      "\u001b[0;32mpandas/_libs/index.pyx\u001b[0m in \u001b[0;36mpandas._libs.index.IndexEngine.get_loc\u001b[0;34m()\u001b[0m\n",
      "\u001b[0;32mpandas/_libs/index.pyx\u001b[0m in \u001b[0;36mpandas._libs.index.IndexEngine.get_loc\u001b[0;34m()\u001b[0m\n",
      "\u001b[0;32mpandas/_libs/index.pyx\u001b[0m in \u001b[0;36mpandas._libs.index.IndexEngine._get_loc_duplicates\u001b[0;34m()\u001b[0m\n",
      "\u001b[0;31mTypeError\u001b[0m: '<' not supported between instances of 'NoneType' and 'NoneType'"
     ]
    },
    {
     "data": {
      "text/plain": [
       "<Figure size 1080x576 with 0 Axes>"
      ]
     },
     "metadata": {},
     "output_type": "display_data"
    }
   ],
   "source": [
    "importance = pd.concat([pd.DataFrame(X_train.columns),pd.DataFrame(rf.feature_importances_)],axis=1)\n",
    "# importance.columns = ['feature','value']\n",
    "\n",
    "plt.figure(figsize=(15,8))\n",
    "sns.barplot(x=\"feature\", y=\"value\", data=importance).set_xticklabels(rotation=90,labels=X_train.columns)"
   ]
  },
  {
   "cell_type": "code",
   "execution_count": 173,
   "metadata": {},
   "outputs": [
    {
     "data": {
      "text/plain": [
       "Index(['sentiment_1', 'sentiment_2', 'sentiment_3', 'winery_0', 'winery_1',\n",
       "       'winery_2', 'winery_3', 'winery_4', 'winery_5', 'winery_6', 'winery_7',\n",
       "       'winery_8', 'winery_9', 'description_0', 'description_1',\n",
       "       'description_2', 'description_3', 'description_4', 'description_5',\n",
       "       'description_6', 'description_7', 'description_8', 'description_9',\n",
       "       'variety_0', 'variety_1', 'variety_2', 'variety_3', 'variety_4',\n",
       "       'variety_5', 'variety_6', 'variety_7', 'variety_8', 'variety_9',\n",
       "       'province_0', 'province_1', 'province_2', 'province_3', 'province_4',\n",
       "       'province_5', 'province_6', 'province_7', 'province_8', 'province_9',\n",
       "       'country_0', 'country_1', 'country_2', 'country_3', 'country_4',\n",
       "       'country_5', 'country_6', 'country_7', 'country_8', 'country_9', 'id',\n",
       "       'quality', 'points', 'div_points', 'sum_desc', 'sum_var', 'sum_prov',\n",
       "       'sum_winery', 'train_test', 'price'],\n",
       "      dtype='object')"
      ]
     },
     "execution_count": 173,
     "metadata": {},
     "output_type": "execute_result"
    }
   ],
   "source": [
    "test_data.columns"
   ]
  },
  {
   "cell_type": "code",
   "execution_count": 187,
   "metadata": {},
   "outputs": [],
   "source": [
    "test_data['countries3_8']=test_data.country_3*test_data.country_4*test_data.country_5*test_data.country_6*test_data.country_7*test_data.country_8"
   ]
  },
  {
   "cell_type": "code",
   "execution_count": null,
   "metadata": {},
   "outputs": [],
   "source": []
  },
  {
   "cell_type": "code",
   "execution_count": 191,
   "metadata": {},
   "outputs": [],
   "source": [
    "X_test_t = test_data[['sentiment_1', 'sentiment_2', 'sentiment_3', 'winery_0', 'winery_1',\n",
    "       'winery_2', 'winery_3', 'winery_4', 'winery_5', 'winery_6', 'winery_7',\n",
    "       'winery_8', 'winery_9', 'description_0', 'description_1',\n",
    "       'description_2', 'description_3', 'description_4', 'description_5',\n",
    "       'description_6', 'description_7', 'description_8', 'description_9',\n",
    "       'variety_0', 'variety_1', 'variety_2', 'variety_3', 'variety_4',\n",
    "       'variety_5', 'variety_6', 'variety_7', 'variety_8', 'variety_9',\n",
    "       'province_0', 'province_1', 'province_2', 'province_3', 'province_4',\n",
    "       'province_5', 'province_6', 'province_7', 'province_8', 'province_9',\n",
    "       'country_0', 'country_1', 'country_2', 'country_3', 'country_4',\n",
    "       'country_5', 'country_6', 'country_7', 'country_8', 'country_9', 'id',\n",
    "       'quality', 'points', 'div_points', 'sum_desc', 'sum_var', 'sum_prov',\n",
    "       'sum_country', 'sum_winery']]"
   ]
  },
  {
   "cell_type": "code",
   "execution_count": 193,
   "metadata": {},
   "outputs": [
    {
     "data": {
      "text/plain": [
       "175000    180.504\n",
       "175001     66.637\n",
       "175002     48.521\n",
       "175003     35.568\n",
       "175004     14.241\n",
       "Name: price, dtype: float64"
      ]
     },
     "execution_count": 193,
     "metadata": {},
     "output_type": "execute_result"
    }
   ],
   "source": [
    "test_data['price'] = rf.predict(X_test_t)\n",
    "test_data['price'].head()"
   ]
  },
  {
   "cell_type": "code",
   "execution_count": 194,
   "metadata": {},
   "outputs": [],
   "source": [
    "test_data[['id', 'price']].to_csv('bma_price_predicted_rmse22.30.csv', index=False)"
   ]
  },
  {
   "cell_type": "code",
   "execution_count": 195,
   "metadata": {},
   "outputs": [],
   "source": [
    "#pd.DataFrame(test_data_sss).to_csv('random_f.csv')"
   ]
  },
  {
   "cell_type": "code",
   "execution_count": 196,
   "metadata": {},
   "outputs": [],
   "source": [
    "import pickle"
   ]
  },
  {
   "cell_type": "code",
   "execution_count": 197,
   "metadata": {},
   "outputs": [],
   "source": [
    "pickle.dump(rf,open('rf_model_rmse14_22.sav','wb'))"
   ]
  },
  {
   "cell_type": "code",
   "execution_count": null,
   "metadata": {},
   "outputs": [],
   "source": []
  }
 ],
 "metadata": {
  "kernelspec": {
   "display_name": "Python 3",
   "language": "python",
   "name": "python3"
  },
  "language_info": {
   "codemirror_mode": {
    "name": "ipython",
    "version": 3
   },
   "file_extension": ".py",
   "mimetype": "text/x-python",
   "name": "python",
   "nbconvert_exporter": "python",
   "pygments_lexer": "ipython3",
   "version": "3.7.3"
  }
 },
 "nbformat": 4,
 "nbformat_minor": 2
}
