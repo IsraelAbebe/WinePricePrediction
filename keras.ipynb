{
 "cells": [
  {
   "cell_type": "code",
   "execution_count": 22,
   "metadata": {},
   "outputs": [],
   "source": [
    "from keras.models import Sequential\n",
    "from keras.layers import Dense\n",
    "from keras.optimizers import Adam, SGD\n",
    "import numpy as np\n",
    "import pandas as pd\n",
    "import matplotlib.pyplot as plt\n",
    "from sklearn.model_selection import train_test_split\n",
    "from keras.layers import Dropout\n",
    "import seaborn as sns\n",
    "from util import *\n",
    "import keras\n",
    "%matplotlib inline"
   ]
  },
  {
   "cell_type": "code",
   "execution_count": 23,
   "metadata": {},
   "outputs": [
    {
     "data": {
      "text/html": [
       "<div>\n",
       "<style scoped>\n",
       "    .dataframe tbody tr th:only-of-type {\n",
       "        vertical-align: middle;\n",
       "    }\n",
       "\n",
       "    .dataframe tbody tr th {\n",
       "        vertical-align: top;\n",
       "    }\n",
       "\n",
       "    .dataframe thead th {\n",
       "        text-align: right;\n",
       "    }\n",
       "</style>\n",
       "<table border=\"1\" class=\"dataframe\">\n",
       "  <thead>\n",
       "    <tr style=\"text-align: right;\">\n",
       "      <th></th>\n",
       "      <th>Unnamed: 0</th>\n",
       "      <th>points</th>\n",
       "      <th>price</th>\n",
       "      <th>num_description</th>\n",
       "      <th>num_variety</th>\n",
       "      <th>year_code</th>\n",
       "      <th>cat_country</th>\n",
       "      <th>pos_sentiment</th>\n",
       "      <th>neg_sentiment</th>\n",
       "      <th>country_code</th>\n",
       "      <th>province_code</th>\n",
       "      <th>designation_code</th>\n",
       "      <th>point_cat</th>\n",
       "    </tr>\n",
       "  </thead>\n",
       "  <tbody>\n",
       "    <tr>\n",
       "      <td>0</td>\n",
       "      <td>0</td>\n",
       "      <td>88.870874</td>\n",
       "      <td>20.0</td>\n",
       "      <td>0.002999</td>\n",
       "      <td>0.000015</td>\n",
       "      <td>2011.0</td>\n",
       "      <td>1</td>\n",
       "      <td>0.175</td>\n",
       "      <td>0.0</td>\n",
       "      <td>0</td>\n",
       "      <td>0</td>\n",
       "      <td>0</td>\n",
       "      <td>3</td>\n",
       "    </tr>\n",
       "    <tr>\n",
       "      <td>1</td>\n",
       "      <td>1</td>\n",
       "      <td>88.041695</td>\n",
       "      <td>28.0</td>\n",
       "      <td>0.003312</td>\n",
       "      <td>0.000030</td>\n",
       "      <td>2011.0</td>\n",
       "      <td>2</td>\n",
       "      <td>0.236</td>\n",
       "      <td>0.0</td>\n",
       "      <td>1</td>\n",
       "      <td>1</td>\n",
       "      <td>1</td>\n",
       "      <td>3</td>\n",
       "    </tr>\n",
       "  </tbody>\n",
       "</table>\n",
       "</div>"
      ],
      "text/plain": [
       "   Unnamed: 0     points  price  num_description  num_variety  year_code  \\\n",
       "0           0  88.870874   20.0         0.002999     0.000015     2011.0   \n",
       "1           1  88.041695   28.0         0.003312     0.000030     2011.0   \n",
       "\n",
       "   cat_country  pos_sentiment  neg_sentiment  country_code  province_code  \\\n",
       "0            1          0.175            0.0             0              0   \n",
       "1            2          0.236            0.0             1              1   \n",
       "\n",
       "   designation_code  point_cat  \n",
       "0                 0          3  \n",
       "1                 1          3  "
      ]
     },
     "execution_count": 23,
     "metadata": {},
     "output_type": "execute_result"
    }
   ],
   "source": [
    "\n",
    "filtered_data = pd.read_csv('import.csv')\n",
    "filtered_data.head(2)"
   ]
  },
  {
   "cell_type": "code",
   "execution_count": 24,
   "metadata": {},
   "outputs": [
    {
     "data": {
      "text/plain": [
       "Index(['Unnamed: 0', 'points', 'price', 'num_description', 'num_variety',\n",
       "       'year_code', 'cat_country', 'pos_sentiment', 'neg_sentiment',\n",
       "       'country_code', 'province_code', 'designation_code', 'point_cat'],\n",
       "      dtype='object')"
      ]
     },
     "execution_count": 24,
     "metadata": {},
     "output_type": "execute_result"
    }
   ],
   "source": [
    "filtered_data.columns"
   ]
  },
  {
   "cell_type": "code",
   "execution_count": 25,
   "metadata": {},
   "outputs": [
    {
     "data": {
      "text/html": [
       "<div>\n",
       "<style scoped>\n",
       "    .dataframe tbody tr th:only-of-type {\n",
       "        vertical-align: middle;\n",
       "    }\n",
       "\n",
       "    .dataframe tbody tr th {\n",
       "        vertical-align: top;\n",
       "    }\n",
       "\n",
       "    .dataframe thead th {\n",
       "        text-align: right;\n",
       "    }\n",
       "</style>\n",
       "<table border=\"1\" class=\"dataframe\">\n",
       "  <thead>\n",
       "    <tr style=\"text-align: right;\">\n",
       "      <th></th>\n",
       "      <th>points</th>\n",
       "      <th>price</th>\n",
       "      <th>num_description</th>\n",
       "      <th>num_variety</th>\n",
       "      <th>cat_country</th>\n",
       "      <th>pos_sentiment</th>\n",
       "      <th>neg_sentiment</th>\n",
       "      <th>country_code</th>\n",
       "      <th>province_code</th>\n",
       "      <th>designation_code</th>\n",
       "      <th>point_cat</th>\n",
       "    </tr>\n",
       "  </thead>\n",
       "  <tbody>\n",
       "    <tr>\n",
       "      <td>0</td>\n",
       "      <td>88.870874</td>\n",
       "      <td>20.0</td>\n",
       "      <td>0.002999</td>\n",
       "      <td>0.000015</td>\n",
       "      <td>1</td>\n",
       "      <td>0.175</td>\n",
       "      <td>0.0</td>\n",
       "      <td>0</td>\n",
       "      <td>0</td>\n",
       "      <td>0</td>\n",
       "      <td>3</td>\n",
       "    </tr>\n",
       "    <tr>\n",
       "      <td>1</td>\n",
       "      <td>88.041695</td>\n",
       "      <td>28.0</td>\n",
       "      <td>0.003312</td>\n",
       "      <td>0.000030</td>\n",
       "      <td>2</td>\n",
       "      <td>0.236</td>\n",
       "      <td>0.0</td>\n",
       "      <td>1</td>\n",
       "      <td>1</td>\n",
       "      <td>1</td>\n",
       "      <td>3</td>\n",
       "    </tr>\n",
       "  </tbody>\n",
       "</table>\n",
       "</div>"
      ],
      "text/plain": [
       "      points  price  num_description  num_variety  cat_country  pos_sentiment  \\\n",
       "0  88.870874   20.0         0.002999     0.000015            1          0.175   \n",
       "1  88.041695   28.0         0.003312     0.000030            2          0.236   \n",
       "\n",
       "   neg_sentiment  country_code  province_code  designation_code  point_cat  \n",
       "0            0.0             0              0                 0          3  \n",
       "1            0.0             1              1                 1          3  "
      ]
     },
     "execution_count": 25,
     "metadata": {},
     "output_type": "execute_result"
    }
   ],
   "source": [
    "filtered_data = filtered_data[[ 'points', 'price', 'num_description', 'num_variety', 'cat_country', 'pos_sentiment', 'neg_sentiment',\n",
    "       'country_code', 'province_code', 'designation_code', 'point_cat']]\n",
    "filtered_data.head(2)"
   ]
  },
  {
   "cell_type": "code",
   "execution_count": 26,
   "metadata": {},
   "outputs": [],
   "source": [
    "# pos_sentiment = doPCA(filtered_data[[ 'country_code','province_code', 'designation_code']],1,['pC1'])\n",
    "\n",
    "# finalDf = pd.concat([pos_sentiment, filtered_data], axis = 1)\n",
    "# finalDf.head(3)\n",
    "# sns.pairplot(finalDf)"
   ]
  },
  {
   "cell_type": "code",
   "execution_count": 27,
   "metadata": {},
   "outputs": [],
   "source": [
    "X = filtered_data[['points', 'num_description', 'num_variety', 'cat_country', 'pos_sentiment', 'neg_sentiment',\n",
    "       'country_code', 'province_code', 'designation_code', 'point_cat']].values\n",
    "y = filtered_data['price'].values\n"
   ]
  },
  {
   "cell_type": "code",
   "execution_count": 28,
   "metadata": {},
   "outputs": [
    {
     "data": {
      "text/plain": [
       "False"
      ]
     },
     "execution_count": 28,
     "metadata": {},
     "output_type": "execute_result"
    }
   ],
   "source": [
    "X_train, X_test, y_train, y_test = train_test_split(X, y, test_size=0.60, random_state=101)\n",
    "\n",
    "np.any(np.isnan(y_test))"
   ]
  },
  {
   "cell_type": "code",
   "execution_count": 29,
   "metadata": {},
   "outputs": [
    {
     "name": "stdout",
     "output_type": "stream",
     "text": [
      "Model: \"sequential_3\"\n",
      "_________________________________________________________________\n",
      "Layer (type)                 Output Shape              Param #   \n",
      "=================================================================\n",
      "dense_3 (Dense)              (None, 1)                 11        \n",
      "=================================================================\n",
      "Total params: 11\n",
      "Trainable params: 11\n",
      "Non-trainable params: 0\n",
      "_________________________________________________________________\n"
     ]
    }
   ],
   "source": [
    "model = Sequential()\n",
    "model.add(Dense(1, input_dim=len(X_train[0]),kernel_regularizer=keras.regularizers.l1_l2(l1=0.1, l2=0.01)))\n",
    "model.summary()"
   ]
  },
  {
   "cell_type": "code",
   "execution_count": 31,
   "metadata": {},
   "outputs": [
    {
     "name": "stdout",
     "output_type": "stream",
     "text": [
      "Epoch 1/50\n",
      "69999/69999 [==============================] - 1s 15us/step - loss: 1482.3614\n",
      "Epoch 2/50\n",
      "69999/69999 [==============================] - 1s 12us/step - loss: 1430.2100\n",
      "Epoch 3/50\n",
      "69999/69999 [==============================] - 1s 11us/step - loss: 1446.0015\n",
      "Epoch 4/50\n",
      "69999/69999 [==============================] - 1s 12us/step - loss: 1461.4107\n",
      "Epoch 5/50\n",
      "69999/69999 [==============================] - 1s 12us/step - loss: 1430.0304\n",
      "Epoch 6/50\n",
      "69999/69999 [==============================] - 1s 11us/step - loss: 1416.5730\n",
      "Epoch 7/50\n",
      "69999/69999 [==============================] - 1s 11us/step - loss: 1415.2235\n",
      "Epoch 8/50\n",
      "69999/69999 [==============================] - 1s 11us/step - loss: 1488.3990\n",
      "Epoch 9/50\n",
      "69999/69999 [==============================] - 1s 11us/step - loss: 1414.6867\n",
      "Epoch 10/50\n",
      "69999/69999 [==============================] - 1s 11us/step - loss: 1425.3205\n",
      "Epoch 11/50\n",
      "69999/69999 [==============================] - 1s 11us/step - loss: 1434.2514\n",
      "Epoch 12/50\n",
      "69999/69999 [==============================] - 1s 12us/step - loss: 1428.7673\n",
      "Epoch 13/50\n",
      "69999/69999 [==============================] - 1s 11us/step - loss: 1453.4230\n",
      "Epoch 14/50\n",
      "69999/69999 [==============================] - 1s 11us/step - loss: 1452.2929\n",
      "Epoch 15/50\n",
      "69999/69999 [==============================] - 1s 13us/step - loss: 1434.9321\n",
      "Epoch 16/50\n",
      "69999/69999 [==============================] - 1s 11us/step - loss: 1452.2011\n",
      "Epoch 17/50\n",
      "69999/69999 [==============================] - 1s 11us/step - loss: 1435.3304\n",
      "Epoch 18/50\n",
      "69999/69999 [==============================] - 1s 11us/step - loss: 1399.6289\n",
      "Epoch 19/50\n",
      "69999/69999 [==============================] - 1s 14us/step - loss: 1472.5296\n",
      "Epoch 20/50\n",
      "69999/69999 [==============================] - 1s 15us/step - loss: 1433.7651\n",
      "Epoch 21/50\n",
      "69999/69999 [==============================] - 1s 13us/step - loss: 1436.6647\n",
      "Epoch 22/50\n",
      "69999/69999 [==============================] - 1s 12us/step - loss: 1489.7260\n",
      "Epoch 23/50\n",
      "69999/69999 [==============================] - 1s 14us/step - loss: 1435.1469\n",
      "Epoch 24/50\n",
      "69999/69999 [==============================] - 1s 10us/step - loss: 1428.8990\n",
      "Epoch 25/50\n",
      "69999/69999 [==============================] - 1s 12us/step - loss: 1484.0275\n",
      "Epoch 26/50\n",
      "69999/69999 [==============================] - 1s 11us/step - loss: 1438.6729 0s - loss: 1445.37\n",
      "Epoch 27/50\n",
      "69999/69999 [==============================] - 1s 11us/step - loss: 1481.9771\n",
      "Epoch 28/50\n",
      "69999/69999 [==============================] - 1s 12us/step - loss: 1470.7436\n",
      "Epoch 29/50\n",
      "69999/69999 [==============================] - 1s 11us/step - loss: 1414.1519\n",
      "Epoch 30/50\n",
      "69999/69999 [==============================] - 1s 11us/step - loss: 1442.5843\n",
      "Epoch 31/50\n",
      "69999/69999 [==============================] - 1s 14us/step - loss: 1441.7734\n",
      "Epoch 32/50\n",
      "69999/69999 [==============================] - 1s 11us/step - loss: 1460.2877\n",
      "Epoch 33/50\n",
      "69999/69999 [==============================] - 1s 11us/step - loss: 1454.2923\n",
      "Epoch 34/50\n",
      "69999/69999 [==============================] - 1s 11us/step - loss: 1463.3643\n",
      "Epoch 35/50\n",
      "69999/69999 [==============================] - 1s 11us/step - loss: 1428.1852\n",
      "Epoch 36/50\n",
      "69999/69999 [==============================] - 1s 11us/step - loss: 1455.8796\n",
      "Epoch 37/50\n",
      "69999/69999 [==============================] - 1s 15us/step - loss: 1460.3739\n",
      "Epoch 38/50\n",
      "69999/69999 [==============================] - 1s 13us/step - loss: 1423.5620\n",
      "Epoch 39/50\n",
      "69999/69999 [==============================] - 1s 12us/step - loss: 1408.3878\n",
      "Epoch 40/50\n",
      "69999/69999 [==============================] - 1s 13us/step - loss: 1436.3864\n",
      "Epoch 41/50\n",
      "69999/69999 [==============================] - 1s 11us/step - loss: 1440.2624\n",
      "Epoch 42/50\n",
      "69999/69999 [==============================] - 1s 13us/step - loss: 1464.7078\n",
      "Epoch 43/50\n",
      "69999/69999 [==============================] - 1s 12us/step - loss: 1407.4364\n",
      "Epoch 44/50\n",
      "69999/69999 [==============================] - 1s 11us/step - loss: 1453.1666\n",
      "Epoch 45/50\n",
      "69999/69999 [==============================] - 1s 14us/step - loss: 1427.4251\n",
      "Epoch 46/50\n",
      "69999/69999 [==============================] - 1s 14us/step - loss: 1451.4171\n",
      "Epoch 47/50\n",
      "69999/69999 [==============================] - 1s 12us/step - loss: 1423.3131\n",
      "Epoch 48/50\n",
      "69999/69999 [==============================] - 1s 13us/step - loss: 1441.5438\n",
      "Epoch 49/50\n",
      "69999/69999 [==============================] - 1s 13us/step - loss: 1450.5118\n",
      "Epoch 50/50\n",
      "69999/69999 [==============================] - 1s 12us/step - loss: 1414.9002\n"
     ]
    },
    {
     "data": {
      "text/plain": [
       "<keras.callbacks.callbacks.History at 0x7fb1a8f47da0>"
      ]
     },
     "execution_count": 31,
     "metadata": {},
     "output_type": "execute_result"
    }
   ],
   "source": [
    "model.compile(Adam(lr=0.01), 'mean_squared_error')\n",
    "model.fit(X_train, y_train, epochs=50,batch_size=64)"
   ]
  },
  {
   "cell_type": "code",
   "execution_count": 33,
   "metadata": {},
   "outputs": [],
   "source": [
    "predict = model.predict(X_test)"
   ]
  },
  {
   "cell_type": "code",
   "execution_count": 34,
   "metadata": {},
   "outputs": [
    {
     "name": "stdout",
     "output_type": "stream",
     "text": [
      "MAE: 19.445421847225372\n",
      "MSE: 1363.3350655309555\n",
      "RMSE: 36.92336747279364\n"
     ]
    }
   ],
   "source": [
    "from sklearn import metrics\n",
    "\n",
    "print('MAE:', metrics.mean_absolute_error(y_test, predict))\n",
    "print('MSE:', metrics.mean_squared_error(y_test, predict))\n",
    "print('RMSE:', np.sqrt(metrics.mean_squared_error(y_test, predict)))"
   ]
  },
  {
   "cell_type": "code",
   "execution_count": 13,
   "metadata": {},
   "outputs": [
    {
     "data": {
      "text/plain": [
       "Index(['points', 'price', 'num_description', 'num_variety', 'year_code',\n",
       "       'cat_country', 'pos_sentiment', 'neg_sentiment', 'country_code',\n",
       "       'province_code', 'designation_code', 'point_cat'],\n",
       "      dtype='object')"
      ]
     },
     "execution_count": 13,
     "metadata": {},
     "output_type": "execute_result"
    }
   ],
   "source": [
    "filtered_data.columns"
   ]
  },
  {
   "cell_type": "code",
   "execution_count": 21,
   "metadata": {},
   "outputs": [
    {
     "data": {
      "text/plain": [
       "[<matplotlib.lines.Line2D at 0x7f9c23ea5cf8>,\n",
       " <matplotlib.lines.Line2D at 0x7f9c23ea5ba8>,\n",
       " <matplotlib.lines.Line2D at 0x7f9c23e294e0>,\n",
       " <matplotlib.lines.Line2D at 0x7f9c23e29550>,\n",
       " <matplotlib.lines.Line2D at 0x7f9c23e1d630>]"
      ]
     },
     "execution_count": 21,
     "metadata": {},
     "output_type": "execute_result"
    },
    {
     "data": {
      "image/png": "[encoded data removed]",
      "text/plain": [
       "<Figure size 432x288 with 1 Axes>"
      ]
     },
     "metadata": {
      "needs_background": "light"
     },
     "output_type": "display_data"
    }
   ],
   "source": [
    "\n",
    "\n",
    "\n",
    "filtered_data.plot(kind='scatter',\n",
    "          x = 'num_description',\n",
    "          y = 'price',\n",
    "          title='Brain Weight and Body Weight Regression Plot')\n",
    "\n",
    "plt.plot(X_test, predict, color='red', linewidth=3)"
   ]
  },
  {
   "cell_type": "code",
   "execution_count": 25,
   "metadata": {},
   "outputs": [
    {
     "data": {
      "text/plain": [
       "<matplotlib.collections.PathCollection at 0x7fc724cb66a0>"
      ]
     },
     "execution_count": 25,
     "metadata": {},
     "output_type": "execute_result"
    },
    {
     "data": {
      "image/png": "[encoded data removed]",
      "text/plain": [
       "<Figure size 432x288 with 1 Axes>"
      ]
     },
     "metadata": {
      "needs_background": "light"
     },
     "output_type": "display_data"
    }
   ],
   "source": [
    "plt.scatter(y_test,predict)"
   ]
  },
  {
   "cell_type": "code",
   "execution_count": 23,
   "metadata": {},
   "outputs": [],
   "source": [
    "# sns.distplot((y_test-predict),bins=50);"
   ]
  },
  {
   "cell_type": "code",
   "execution_count": 24,
   "metadata": {},
   "outputs": [
    {
     "name": "stdout",
     "output_type": "stream",
     "text": [
      "MAE: 16.091600396319798\n",
      "MSE: 1276.7048811775855\n",
      "RMSE: 35.731007279078845\n"
     ]
    }
   ],
   "source": []
  },
  {
   "cell_type": "code",
   "execution_count": null,
   "metadata": {},
   "outputs": [],
   "source": []
  }
 ],
 "metadata": {
  "kernelspec": {
   "display_name": "Python [conda env:keras] *",
   "language": "python",
   "name": "conda-env-keras-py"
  }
 },
 "nbformat": 4,
 "nbformat_minor": 2
}
